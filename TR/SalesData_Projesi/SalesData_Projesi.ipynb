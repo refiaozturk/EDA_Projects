{
 "cells": [
  {
   "cell_type": "markdown",
   "metadata": {},
   "source": [
    "# <p style=\"background-color:lightblue;font-family:newtimeroman;font-size:180%;color:black;text-align:center;border-radius:20px 20px;\"><b>EDA Projesi - Sales Data </b></p>"
   ]
  },
  {
   "cell_type": "markdown",
   "metadata": {},
   "source": [
    "**<b>İçindekiler:</b>**\n",
    "<ul>\n",
    "<li><a href=\"#import-library\">Kütüphanelerin Yüklenmesi</a></li>\n",
    "<li><a href=\"#loading-dataset\">Veri Setinin Yüklenmesi</a></li>\n",
    "<li><a href=\"#understanding-dataset\">Veri Setini Anlama</a></li>\n",
    "<li><a href=\"#organizing-columns\">Sütunları Düzenleme</a></li>\n",
    "<li><a href=\"#nan-values\">NaN Değerler</a></li>\n",
    "<li><a href=\"#create-graphs\">Grafik Çizimi</a></li>\n",
    "</ul>"
   ]
  },
  {
   "cell_type": "markdown",
   "metadata": {},
   "source": [
    "<a id='import-library'></a>\n",
    "# <font color='navy'> <b>Kütüphanelerin Yüklenmesi</b><font color='black'> "
   ]
  },
  {
   "cell_type": "code",
   "execution_count": 4,
   "metadata": {},
   "outputs": [],
   "source": [
    "import numpy as np\n",
    "import pandas as pd\n",
    "import matplotlib.pyplot as plt\n",
    "import seaborn as sns\n",
    "\n",
    "import missingno as msno\n",
    "import plotly.express as px\n",
    "\n",
    "from skimpy import skim\n",
    "\n",
    "import warnings\n",
    "warnings.filterwarnings(\"ignore\")\n",
    "\n",
    "pd.set_option('display.max_columns', None)\n",
    "pd.set_option('display.max_rows', None)"
   ]
  },
  {
   "cell_type": "markdown",
   "metadata": {},
   "source": [
    "<a id='loading-dataset'></a>\n",
    "# <font color='navy'> <b>Veri Setinin Yüklenmesi</b><font color='black'> \n",
    "İlk olarak orijinal veriyi df0 olarak tanımlaması, sonrasında analizde kullanmak için copy() fonksiyonu ile df değişkenini tanımlamalıyız."
   ]
  },
  {
   "cell_type": "code",
   "execution_count": 6,
   "metadata": {},
   "outputs": [],
   "source": [
    "df0 = pd.read_csv(\"sales_data.csv\")\n",
    "df = df0.copy()"
   ]
  },
  {
   "cell_type": "code",
   "execution_count": 7,
   "metadata": {},
   "outputs": [
    {
     "data": {
      "text/html": [
       "<div>\n",
       "<style scoped>\n",
       "    .dataframe tbody tr th:only-of-type {\n",
       "        vertical-align: middle;\n",
       "    }\n",
       "\n",
       "    .dataframe tbody tr th {\n",
       "        vertical-align: top;\n",
       "    }\n",
       "\n",
       "    .dataframe thead th {\n",
       "        text-align: right;\n",
       "    }\n",
       "</style>\n",
       "<table border=\"1\" class=\"dataframe\">\n",
       "  <thead>\n",
       "    <tr style=\"text-align: right;\">\n",
       "      <th></th>\n",
       "      <th>OrderID</th>\n",
       "      <th>ProductID</th>\n",
       "      <th>ProductName</th>\n",
       "      <th>UnitPrice</th>\n",
       "      <th>Quantity</th>\n",
       "      <th>Discount</th>\n",
       "      <th>CustomerID</th>\n",
       "      <th>SaleDate</th>\n",
       "      <th>Salesperson</th>\n",
       "      <th>Region</th>\n",
       "    </tr>\n",
       "  </thead>\n",
       "  <tbody>\n",
       "    <tr>\n",
       "      <th>0</th>\n",
       "      <td>ORD00076</td>\n",
       "      <td>PRD991</td>\n",
       "      <td>Smartwatch, Camera, Headphones</td>\n",
       "      <td>154.88971109205679</td>\n",
       "      <td>8</td>\n",
       "      <td>0.15</td>\n",
       "      <td>CUST7975</td>\n",
       "      <td>2022-03-31 00:00:00</td>\n",
       "      <td>NaN</td>\n",
       "      <td>North</td>\n",
       "    </tr>\n",
       "    <tr>\n",
       "      <th>1</th>\n",
       "      <td>ORD00491</td>\n",
       "      <td>PRD400</td>\n",
       "      <td>Laptop</td>\n",
       "      <td>free</td>\n",
       "      <td>19</td>\n",
       "      <td>0.20</td>\n",
       "      <td>CUST6889</td>\n",
       "      <td>2021-01-06 00:00:00</td>\n",
       "      <td>Charlie</td>\n",
       "      <td>North</td>\n",
       "    </tr>\n",
       "    <tr>\n",
       "      <th>2</th>\n",
       "      <td>ORD00369</td>\n",
       "      <td>PRD957</td>\n",
       "      <td>Camera</td>\n",
       "      <td>770.6350827794904</td>\n",
       "      <td>16</td>\n",
       "      <td>0.05</td>\n",
       "      <td>CUST4092</td>\n",
       "      <td>Unknown</td>\n",
       "      <td>Alice</td>\n",
       "      <td>West</td>\n",
       "    </tr>\n",
       "    <tr>\n",
       "      <th>3</th>\n",
       "      <td>ORD00490</td>\n",
       "      <td>PRD232</td>\n",
       "      <td>NaN</td>\n",
       "      <td>82.95197721398569</td>\n",
       "      <td>1</td>\n",
       "      <td>0.15</td>\n",
       "      <td>CUST2238</td>\n",
       "      <td>2023-08-14 00:00:00</td>\n",
       "      <td>Charlie</td>\n",
       "      <td>North</td>\n",
       "    </tr>\n",
       "    <tr>\n",
       "      <th>4</th>\n",
       "      <td>ORD00228</td>\n",
       "      <td>PRD123</td>\n",
       "      <td>Laptop</td>\n",
       "      <td>250.42946041877397</td>\n",
       "      <td>11</td>\n",
       "      <td>0.20</td>\n",
       "      <td>CUST8442</td>\n",
       "      <td>2020-08-15 00:00:00</td>\n",
       "      <td>Evan</td>\n",
       "      <td>North</td>\n",
       "    </tr>\n",
       "  </tbody>\n",
       "</table>\n",
       "</div>"
      ],
      "text/plain": [
       "    OrderID ProductID                     ProductName           UnitPrice  \\\n",
       "0  ORD00076    PRD991  Smartwatch, Camera, Headphones  154.88971109205679   \n",
       "1  ORD00491    PRD400                          Laptop                free   \n",
       "2  ORD00369    PRD957                          Camera   770.6350827794904   \n",
       "3  ORD00490    PRD232                             NaN   82.95197721398569   \n",
       "4  ORD00228    PRD123                          Laptop  250.42946041877397   \n",
       "\n",
       "   Quantity  Discount CustomerID             SaleDate Salesperson Region  \n",
       "0         8      0.15   CUST7975  2022-03-31 00:00:00         NaN  North  \n",
       "1        19      0.20   CUST6889  2021-01-06 00:00:00     Charlie  North  \n",
       "2        16      0.05   CUST4092              Unknown       Alice   West  \n",
       "3         1      0.15   CUST2238  2023-08-14 00:00:00     Charlie  North  \n",
       "4        11      0.20   CUST8442  2020-08-15 00:00:00        Evan  North  "
      ]
     },
     "execution_count": 7,
     "metadata": {},
     "output_type": "execute_result"
    }
   ],
   "source": [
    "df.head()"
   ]
  },
  {
   "cell_type": "markdown",
   "metadata": {},
   "source": [
    "**OrderID:** Her satış için benzersiz bir satış numarası.\\\n",
    "**ProductID:** Her ürün için benzersiz bir ürün numarası.\\\n",
    "**ProductName:** Ürün ismi.\\\n",
    "**UnitPrice:** Ürün birim fiyatı.\\\n",
    "**Quantity:** Satılan ürün miktarı.\\\n",
    "**Discount:** İndirim miktarı.\\\n",
    "**CustomerID:** Her müşteri için benzersiz bir müşteri numarası.\\\n",
    "**SaleDate:** Satışın yapıldığı tarih.\\\n",
    "**Salesperson:** Satıştan sorumlu personelin ismi.\\\n",
    "**Region:** Satışın yapıldığı coğrafik yer/bölge."
   ]
  },
  {
   "cell_type": "markdown",
   "metadata": {},
   "source": [
    "<a id='understanding-dataset'></a>\n",
    "# <font color='navy'> <b>Veri Setini Anlama</b><font color='black'> "
   ]
  },
  {
   "cell_type": "code",
   "execution_count": 10,
   "metadata": {},
   "outputs": [
    {
     "data": {
      "text/plain": [
       "15"
      ]
     },
     "execution_count": 10,
     "metadata": {},
     "output_type": "execute_result"
    }
   ],
   "source": [
    "df.duplicated().sum()"
   ]
  },
  {
   "cell_type": "code",
   "execution_count": 11,
   "metadata": {},
   "outputs": [],
   "source": [
    "df = df.drop_duplicates()"
   ]
  },
  {
   "cell_type": "code",
   "execution_count": 12,
   "metadata": {},
   "outputs": [
    {
     "name": "stdout",
     "output_type": "stream",
     "text": [
      "<class 'pandas.core.frame.DataFrame'>\n",
      "Index: 510 entries, 0 to 524\n",
      "Data columns (total 10 columns):\n",
      " #   Column       Non-Null Count  Dtype  \n",
      "---  ------       --------------  -----  \n",
      " 0   OrderID      510 non-null    object \n",
      " 1   ProductID    510 non-null    object \n",
      " 2   ProductName  476 non-null    object \n",
      " 3   UnitPrice    484 non-null    object \n",
      " 4   Quantity     510 non-null    int64  \n",
      " 5   Discount     510 non-null    float64\n",
      " 6   CustomerID   458 non-null    object \n",
      " 7   SaleDate     503 non-null    object \n",
      " 8   Salesperson  459 non-null    object \n",
      " 9   Region       510 non-null    object \n",
      "dtypes: float64(1), int64(1), object(8)\n",
      "memory usage: 43.8+ KB\n"
     ]
    }
   ],
   "source": [
    "df.info()"
   ]
  },
  {
   "cell_type": "markdown",
   "metadata": {},
   "source": [
    "Veri setinde toplamda 510 kayıt (satır) ve 10 sütun bulunmaktadır. 2., 3., 6., 7. ve 8. sütunlarda bazı NaN değerler vardır. "
   ]
  },
  {
   "cell_type": "code",
   "execution_count": 14,
   "metadata": {},
   "outputs": [
    {
     "data": {
      "text/html": [
       "<div>\n",
       "<style scoped>\n",
       "    .dataframe tbody tr th:only-of-type {\n",
       "        vertical-align: middle;\n",
       "    }\n",
       "\n",
       "    .dataframe tbody tr th {\n",
       "        vertical-align: top;\n",
       "    }\n",
       "\n",
       "    .dataframe thead th {\n",
       "        text-align: right;\n",
       "    }\n",
       "</style>\n",
       "<table border=\"1\" class=\"dataframe\">\n",
       "  <thead>\n",
       "    <tr style=\"text-align: right;\">\n",
       "      <th></th>\n",
       "      <th>count</th>\n",
       "      <th>mean</th>\n",
       "      <th>std</th>\n",
       "      <th>min</th>\n",
       "      <th>25%</th>\n",
       "      <th>50%</th>\n",
       "      <th>75%</th>\n",
       "      <th>max</th>\n",
       "    </tr>\n",
       "  </thead>\n",
       "  <tbody>\n",
       "    <tr>\n",
       "      <th>Quantity</th>\n",
       "      <td>510.0</td>\n",
       "      <td>9.158824</td>\n",
       "      <td>187.997702</td>\n",
       "      <td>-999.0</td>\n",
       "      <td>4.00</td>\n",
       "      <td>11.0</td>\n",
       "      <td>15.00</td>\n",
       "      <td>999.0</td>\n",
       "    </tr>\n",
       "    <tr>\n",
       "      <th>Discount</th>\n",
       "      <td>510.0</td>\n",
       "      <td>0.102843</td>\n",
       "      <td>0.070270</td>\n",
       "      <td>0.0</td>\n",
       "      <td>0.05</td>\n",
       "      <td>0.1</td>\n",
       "      <td>0.15</td>\n",
       "      <td>0.2</td>\n",
       "    </tr>\n",
       "  </tbody>\n",
       "</table>\n",
       "</div>"
      ],
      "text/plain": [
       "          count      mean         std    min   25%   50%    75%    max\n",
       "Quantity  510.0  9.158824  187.997702 -999.0  4.00  11.0  15.00  999.0\n",
       "Discount  510.0  0.102843    0.070270    0.0  0.05   0.1   0.15    0.2"
      ]
     },
     "execution_count": 14,
     "metadata": {},
     "output_type": "execute_result"
    }
   ],
   "source": [
    "df.describe().T"
   ]
  },
  {
   "cell_type": "markdown",
   "metadata": {},
   "source": [
    "Veri seti içerisinde minimum değer olarak negatif bir değer bulunmaktadır. İlgili Quantity sütununda negatif değer bulunması anlamsızdır. Bu değerlerin tespit edilip düzenlenmesi gerekmektedir."
   ]
  },
  {
   "cell_type": "code",
   "execution_count": 16,
   "metadata": {},
   "outputs": [
    {
     "data": {
      "text/html": [
       "<div>\n",
       "<style scoped>\n",
       "    .dataframe tbody tr th:only-of-type {\n",
       "        vertical-align: middle;\n",
       "    }\n",
       "\n",
       "    .dataframe tbody tr th {\n",
       "        vertical-align: top;\n",
       "    }\n",
       "\n",
       "    .dataframe thead th {\n",
       "        text-align: right;\n",
       "    }\n",
       "</style>\n",
       "<table border=\"1\" class=\"dataframe\">\n",
       "  <thead>\n",
       "    <tr style=\"text-align: right;\">\n",
       "      <th></th>\n",
       "      <th>count</th>\n",
       "      <th>unique</th>\n",
       "      <th>top</th>\n",
       "      <th>freq</th>\n",
       "    </tr>\n",
       "  </thead>\n",
       "  <tbody>\n",
       "    <tr>\n",
       "      <th>OrderID</th>\n",
       "      <td>510</td>\n",
       "      <td>500</td>\n",
       "      <td>ORD00463</td>\n",
       "      <td>2</td>\n",
       "    </tr>\n",
       "    <tr>\n",
       "      <th>ProductID</th>\n",
       "      <td>510</td>\n",
       "      <td>391</td>\n",
       "      <td>PRD366</td>\n",
       "      <td>4</td>\n",
       "    </tr>\n",
       "    <tr>\n",
       "      <th>ProductName</th>\n",
       "      <td>476</td>\n",
       "      <td>101</td>\n",
       "      <td>Camera</td>\n",
       "      <td>92</td>\n",
       "    </tr>\n",
       "    <tr>\n",
       "      <th>UnitPrice</th>\n",
       "      <td>484</td>\n",
       "      <td>388</td>\n",
       "      <td>-</td>\n",
       "      <td>35</td>\n",
       "    </tr>\n",
       "    <tr>\n",
       "      <th>CustomerID</th>\n",
       "      <td>458</td>\n",
       "      <td>440</td>\n",
       "      <td>CUST9395</td>\n",
       "      <td>3</td>\n",
       "    </tr>\n",
       "    <tr>\n",
       "      <th>SaleDate</th>\n",
       "      <td>503</td>\n",
       "      <td>408</td>\n",
       "      <td>TBD</td>\n",
       "      <td>10</td>\n",
       "    </tr>\n",
       "    <tr>\n",
       "      <th>Salesperson</th>\n",
       "      <td>459</td>\n",
       "      <td>10</td>\n",
       "      <td>Diana</td>\n",
       "      <td>96</td>\n",
       "    </tr>\n",
       "    <tr>\n",
       "      <th>Region</th>\n",
       "      <td>510</td>\n",
       "      <td>5</td>\n",
       "      <td>East</td>\n",
       "      <td>111</td>\n",
       "    </tr>\n",
       "  </tbody>\n",
       "</table>\n",
       "</div>"
      ],
      "text/plain": [
       "            count unique       top freq\n",
       "OrderID       510    500  ORD00463    2\n",
       "ProductID     510    391    PRD366    4\n",
       "ProductName   476    101    Camera   92\n",
       "UnitPrice     484    388         -   35\n",
       "CustomerID    458    440  CUST9395    3\n",
       "SaleDate      503    408       TBD   10\n",
       "Salesperson   459     10     Diana   96\n",
       "Region        510      5      East  111"
      ]
     },
     "execution_count": 16,
     "metadata": {},
     "output_type": "execute_result"
    }
   ],
   "source": [
    "df.describe(include= \"object\").T"
   ]
  },
  {
   "cell_type": "code",
   "execution_count": 17,
   "metadata": {},
   "outputs": [
    {
     "data": {
      "text/html": [
       "<pre style=\"white-space:pre;overflow-x:auto;line-height:normal;font-family:Menlo,'DejaVu Sans Mono',consolas,'Courier New',monospace\">╭──────────────────────────────────────────────── skimpy summary ─────────────────────────────────────────────────╮\n",
       "│ <span style=\"font-style: italic\">         Data Summary         </span> <span style=\"font-style: italic\">      Data Types       </span>                                                          │\n",
       "│ ┏━━━━━━━━━━━━━━━━━━━┳━━━━━━━━┓ ┏━━━━━━━━━━━━━┳━━━━━━━┓                                                          │\n",
       "│ ┃<span style=\"color: #008080; text-decoration-color: #008080; font-weight: bold\"> dataframe         </span>┃<span style=\"color: #008080; text-decoration-color: #008080; font-weight: bold\"> Values </span>┃ ┃<span style=\"color: #008080; text-decoration-color: #008080; font-weight: bold\"> Column Type </span>┃<span style=\"color: #008080; text-decoration-color: #008080; font-weight: bold\"> Count </span>┃                                                          │\n",
       "│ ┡━━━━━━━━━━━━━━━━━━━╇━━━━━━━━┩ ┡━━━━━━━━━━━━━╇━━━━━━━┩                                                          │\n",
       "│ │ Number of rows    │ 510    │ │ string      │ 8     │                                                          │\n",
       "│ │ Number of columns │ 10     │ │ int32       │ 1     │                                                          │\n",
       "│ └───────────────────┴────────┘ │ float64     │ 1     │                                                          │\n",
       "│                                └─────────────┴───────┘                                                          │\n",
       "│ <span style=\"font-style: italic\">                                                    number                                                    </span>  │\n",
       "│ ┏━━━━━━━━━━━━━━━━━┳━━━━━━┳━━━━━━━━┳━━━━━━━━━━┳━━━━━━━━━━━━┳━━━━━━━━┳━━━━━━━━┳━━━━━━┳━━━━━━━┳━━━━━━━┳━━━━━━━━━┓  │\n",
       "│ ┃<span style=\"font-weight: bold\"> column_name     </span>┃<span style=\"font-weight: bold\"> NA   </span>┃<span style=\"font-weight: bold\"> NA %   </span>┃<span style=\"font-weight: bold\"> mean     </span>┃<span style=\"font-weight: bold\"> sd         </span>┃<span style=\"font-weight: bold\"> p0     </span>┃<span style=\"font-weight: bold\"> p25    </span>┃<span style=\"font-weight: bold\"> p50  </span>┃<span style=\"font-weight: bold\"> p75   </span>┃<span style=\"font-weight: bold\"> p100  </span>┃<span style=\"font-weight: bold\"> hist    </span>┃  │\n",
       "│ ┡━━━━━━━━━━━━━━━━━╇━━━━━━╇━━━━━━━━╇━━━━━━━━━━╇━━━━━━━━━━━━╇━━━━━━━━╇━━━━━━━━╇━━━━━━╇━━━━━━━╇━━━━━━━╇━━━━━━━━━┩  │\n",
       "│ │ <span style=\"color: #af87ff; text-decoration-color: #af87ff\">Quantity       </span> │ <span style=\"color: #008080; text-decoration-color: #008080\">   0</span> │ <span style=\"color: #008080; text-decoration-color: #008080\">     0</span> │ <span style=\"color: #008080; text-decoration-color: #008080\">   9.159</span> │ <span style=\"color: #008080; text-decoration-color: #008080\">       188</span> │ <span style=\"color: #008080; text-decoration-color: #008080\">  -999</span> │ <span style=\"color: #008080; text-decoration-color: #008080\">     4</span> │ <span style=\"color: #008080; text-decoration-color: #008080\">  11</span> │ <span style=\"color: #008080; text-decoration-color: #008080\">   15</span> │ <span style=\"color: #008080; text-decoration-color: #008080\">  999</span> │ <span style=\"color: #008000; text-decoration-color: #008000\">    ▇  </span> │  │\n",
       "│ │ <span style=\"color: #af87ff; text-decoration-color: #af87ff\">Discount       </span> │ <span style=\"color: #008080; text-decoration-color: #008080\">   0</span> │ <span style=\"color: #008080; text-decoration-color: #008080\">     0</span> │ <span style=\"color: #008080; text-decoration-color: #008080\">  0.1028</span> │ <span style=\"color: #008080; text-decoration-color: #008080\">   0.07027</span> │ <span style=\"color: #008080; text-decoration-color: #008080\">     0</span> │ <span style=\"color: #008080; text-decoration-color: #008080\">  0.05</span> │ <span style=\"color: #008080; text-decoration-color: #008080\"> 0.1</span> │ <span style=\"color: #008080; text-decoration-color: #008080\"> 0.15</span> │ <span style=\"color: #008080; text-decoration-color: #008080\">  0.2</span> │ <span style=\"color: #008000; text-decoration-color: #008000\">▇▇ ▇▇▇ </span> │  │\n",
       "│ └─────────────────┴──────┴────────┴──────────┴────────────┴────────┴────────┴──────┴───────┴───────┴─────────┘  │\n",
       "│ <span style=\"font-style: italic\">                                                    string                                                    </span>  │\n",
       "│ ┏━━━━━━━━━━━━━━━━━━━━━━━━━━━┳━━━━━━━━━┳━━━━━━━━━━━━┳━━━━━━━━━━━━━━━━━━━━━━━━━━━━━━┳━━━━━━━━━━━━━━━━━━━━━━━━━━┓  │\n",
       "│ ┃<span style=\"font-weight: bold\"> column_name               </span>┃<span style=\"font-weight: bold\"> NA      </span>┃<span style=\"font-weight: bold\"> NA %       </span>┃<span style=\"font-weight: bold\"> words per row                </span>┃<span style=\"font-weight: bold\"> total words              </span>┃  │\n",
       "│ ┡━━━━━━━━━━━━━━━━━━━━━━━━━━━╇━━━━━━━━━╇━━━━━━━━━━━━╇━━━━━━━━━━━━━━━━━━━━━━━━━━━━━━╇━━━━━━━━━━━━━━━━━━━━━━━━━━┩  │\n",
       "│ │ <span style=\"color: #af87ff; text-decoration-color: #af87ff\">OrderID                  </span> │ <span style=\"color: #008080; text-decoration-color: #008080\">      0</span> │ <span style=\"color: #008080; text-decoration-color: #008080\">         0</span> │ <span style=\"color: #008080; text-decoration-color: #008080\">                           1</span> │ <span style=\"color: #008080; text-decoration-color: #008080\">                     510</span> │  │\n",
       "│ │ <span style=\"color: #af87ff; text-decoration-color: #af87ff\">ProductID                </span> │ <span style=\"color: #008080; text-decoration-color: #008080\">      0</span> │ <span style=\"color: #008080; text-decoration-color: #008080\">         0</span> │ <span style=\"color: #008080; text-decoration-color: #008080\">                           1</span> │ <span style=\"color: #008080; text-decoration-color: #008080\">                     510</span> │  │\n",
       "│ │ <span style=\"color: #af87ff; text-decoration-color: #af87ff\">ProductName              </span> │ <span style=\"color: #008080; text-decoration-color: #008080\">     34</span> │ <span style=\"color: #008080; text-decoration-color: #008080\">      6.67</span> │ <span style=\"color: #008080; text-decoration-color: #008080\">                         1.4</span> │ <span style=\"color: #008080; text-decoration-color: #008080\">                     726</span> │  │\n",
       "│ │ <span style=\"color: #af87ff; text-decoration-color: #af87ff\">UnitPrice                </span> │ <span style=\"color: #008080; text-decoration-color: #008080\">     26</span> │ <span style=\"color: #008080; text-decoration-color: #008080\">       5.1</span> │ <span style=\"color: #008080; text-decoration-color: #008080\">                        0.95</span> │ <span style=\"color: #008080; text-decoration-color: #008080\">                     484</span> │  │\n",
       "│ │ <span style=\"color: #af87ff; text-decoration-color: #af87ff\">CustomerID               </span> │ <span style=\"color: #008080; text-decoration-color: #008080\">     52</span> │ <span style=\"color: #008080; text-decoration-color: #008080\">      10.2</span> │ <span style=\"color: #008080; text-decoration-color: #008080\">                         0.9</span> │ <span style=\"color: #008080; text-decoration-color: #008080\">                     458</span> │  │\n",
       "│ │ <span style=\"color: #af87ff; text-decoration-color: #af87ff\">SaleDate                 </span> │ <span style=\"color: #008080; text-decoration-color: #008080\">      7</span> │ <span style=\"color: #008080; text-decoration-color: #008080\">      1.37</span> │ <span style=\"color: #008080; text-decoration-color: #008080\">                         1.9</span> │ <span style=\"color: #008080; text-decoration-color: #008080\">                     988</span> │  │\n",
       "│ │ <span style=\"color: #af87ff; text-decoration-color: #af87ff\">Salesperson              </span> │ <span style=\"color: #008080; text-decoration-color: #008080\">     51</span> │ <span style=\"color: #008080; text-decoration-color: #008080\">        10</span> │ <span style=\"color: #008080; text-decoration-color: #008080\">                         0.9</span> │ <span style=\"color: #008080; text-decoration-color: #008080\">                     459</span> │  │\n",
       "│ │ <span style=\"color: #af87ff; text-decoration-color: #af87ff\">Region                   </span> │ <span style=\"color: #008080; text-decoration-color: #008080\">      0</span> │ <span style=\"color: #008080; text-decoration-color: #008080\">         0</span> │ <span style=\"color: #008080; text-decoration-color: #008080\">                           1</span> │ <span style=\"color: #008080; text-decoration-color: #008080\">                     510</span> │  │\n",
       "│ └───────────────────────────┴─────────┴────────────┴──────────────────────────────┴──────────────────────────┘  │\n",
       "╰────────────────────────────────────────────────────── End ──────────────────────────────────────────────────────╯\n",
       "</pre>\n"
      ],
      "text/plain": [
       "╭──────────────────────────────────────────────── skimpy summary ─────────────────────────────────────────────────╮\n",
       "│ \u001b[3m         Data Summary         \u001b[0m \u001b[3m      Data Types       \u001b[0m                                                          │\n",
       "│ ┏━━━━━━━━━━━━━━━━━━━┳━━━━━━━━┓ ┏━━━━━━━━━━━━━┳━━━━━━━┓                                                          │\n",
       "│ ┃\u001b[1;36m \u001b[0m\u001b[1;36mdataframe        \u001b[0m\u001b[1;36m \u001b[0m┃\u001b[1;36m \u001b[0m\u001b[1;36mValues\u001b[0m\u001b[1;36m \u001b[0m┃ ┃\u001b[1;36m \u001b[0m\u001b[1;36mColumn Type\u001b[0m\u001b[1;36m \u001b[0m┃\u001b[1;36m \u001b[0m\u001b[1;36mCount\u001b[0m\u001b[1;36m \u001b[0m┃                                                          │\n",
       "│ ┡━━━━━━━━━━━━━━━━━━━╇━━━━━━━━┩ ┡━━━━━━━━━━━━━╇━━━━━━━┩                                                          │\n",
       "│ │ Number of rows    │ 510    │ │ string      │ 8     │                                                          │\n",
       "│ │ Number of columns │ 10     │ │ int32       │ 1     │                                                          │\n",
       "│ └───────────────────┴────────┘ │ float64     │ 1     │                                                          │\n",
       "│                                └─────────────┴───────┘                                                          │\n",
       "│ \u001b[3m                                                    number                                                    \u001b[0m  │\n",
       "│ ┏━━━━━━━━━━━━━━━━━┳━━━━━━┳━━━━━━━━┳━━━━━━━━━━┳━━━━━━━━━━━━┳━━━━━━━━┳━━━━━━━━┳━━━━━━┳━━━━━━━┳━━━━━━━┳━━━━━━━━━┓  │\n",
       "│ ┃\u001b[1m \u001b[0m\u001b[1mcolumn_name    \u001b[0m\u001b[1m \u001b[0m┃\u001b[1m \u001b[0m\u001b[1mNA  \u001b[0m\u001b[1m \u001b[0m┃\u001b[1m \u001b[0m\u001b[1mNA %  \u001b[0m\u001b[1m \u001b[0m┃\u001b[1m \u001b[0m\u001b[1mmean    \u001b[0m\u001b[1m \u001b[0m┃\u001b[1m \u001b[0m\u001b[1msd        \u001b[0m\u001b[1m \u001b[0m┃\u001b[1m \u001b[0m\u001b[1mp0    \u001b[0m\u001b[1m \u001b[0m┃\u001b[1m \u001b[0m\u001b[1mp25   \u001b[0m\u001b[1m \u001b[0m┃\u001b[1m \u001b[0m\u001b[1mp50 \u001b[0m\u001b[1m \u001b[0m┃\u001b[1m \u001b[0m\u001b[1mp75  \u001b[0m\u001b[1m \u001b[0m┃\u001b[1m \u001b[0m\u001b[1mp100 \u001b[0m\u001b[1m \u001b[0m┃\u001b[1m \u001b[0m\u001b[1mhist   \u001b[0m\u001b[1m \u001b[0m┃  │\n",
       "│ ┡━━━━━━━━━━━━━━━━━╇━━━━━━╇━━━━━━━━╇━━━━━━━━━━╇━━━━━━━━━━━━╇━━━━━━━━╇━━━━━━━━╇━━━━━━╇━━━━━━━╇━━━━━━━╇━━━━━━━━━┩  │\n",
       "│ │ \u001b[38;5;141mQuantity       \u001b[0m │ \u001b[36m   0\u001b[0m │ \u001b[36m     0\u001b[0m │ \u001b[36m   9.159\u001b[0m │ \u001b[36m       188\u001b[0m │ \u001b[36m  -999\u001b[0m │ \u001b[36m     4\u001b[0m │ \u001b[36m  11\u001b[0m │ \u001b[36m   15\u001b[0m │ \u001b[36m  999\u001b[0m │ \u001b[32m    ▇  \u001b[0m │  │\n",
       "│ │ \u001b[38;5;141mDiscount       \u001b[0m │ \u001b[36m   0\u001b[0m │ \u001b[36m     0\u001b[0m │ \u001b[36m  0.1028\u001b[0m │ \u001b[36m   0.07027\u001b[0m │ \u001b[36m     0\u001b[0m │ \u001b[36m  0.05\u001b[0m │ \u001b[36m 0.1\u001b[0m │ \u001b[36m 0.15\u001b[0m │ \u001b[36m  0.2\u001b[0m │ \u001b[32m▇▇ ▇▇▇ \u001b[0m │  │\n",
       "│ └─────────────────┴──────┴────────┴──────────┴────────────┴────────┴────────┴──────┴───────┴───────┴─────────┘  │\n",
       "│ \u001b[3m                                                    string                                                    \u001b[0m  │\n",
       "│ ┏━━━━━━━━━━━━━━━━━━━━━━━━━━━┳━━━━━━━━━┳━━━━━━━━━━━━┳━━━━━━━━━━━━━━━━━━━━━━━━━━━━━━┳━━━━━━━━━━━━━━━━━━━━━━━━━━┓  │\n",
       "│ ┃\u001b[1m \u001b[0m\u001b[1mcolumn_name              \u001b[0m\u001b[1m \u001b[0m┃\u001b[1m \u001b[0m\u001b[1mNA     \u001b[0m\u001b[1m \u001b[0m┃\u001b[1m \u001b[0m\u001b[1mNA %      \u001b[0m\u001b[1m \u001b[0m┃\u001b[1m \u001b[0m\u001b[1mwords per row               \u001b[0m\u001b[1m \u001b[0m┃\u001b[1m \u001b[0m\u001b[1mtotal words             \u001b[0m\u001b[1m \u001b[0m┃  │\n",
       "│ ┡━━━━━━━━━━━━━━━━━━━━━━━━━━━╇━━━━━━━━━╇━━━━━━━━━━━━╇━━━━━━━━━━━━━━━━━━━━━━━━━━━━━━╇━━━━━━━━━━━━━━━━━━━━━━━━━━┩  │\n",
       "│ │ \u001b[38;5;141mOrderID                  \u001b[0m │ \u001b[36m      0\u001b[0m │ \u001b[36m         0\u001b[0m │ \u001b[36m                           1\u001b[0m │ \u001b[36m                     510\u001b[0m │  │\n",
       "│ │ \u001b[38;5;141mProductID                \u001b[0m │ \u001b[36m      0\u001b[0m │ \u001b[36m         0\u001b[0m │ \u001b[36m                           1\u001b[0m │ \u001b[36m                     510\u001b[0m │  │\n",
       "│ │ \u001b[38;5;141mProductName              \u001b[0m │ \u001b[36m     34\u001b[0m │ \u001b[36m      6.67\u001b[0m │ \u001b[36m                         1.4\u001b[0m │ \u001b[36m                     726\u001b[0m │  │\n",
       "│ │ \u001b[38;5;141mUnitPrice                \u001b[0m │ \u001b[36m     26\u001b[0m │ \u001b[36m       5.1\u001b[0m │ \u001b[36m                        0.95\u001b[0m │ \u001b[36m                     484\u001b[0m │  │\n",
       "│ │ \u001b[38;5;141mCustomerID               \u001b[0m │ \u001b[36m     52\u001b[0m │ \u001b[36m      10.2\u001b[0m │ \u001b[36m                         0.9\u001b[0m │ \u001b[36m                     458\u001b[0m │  │\n",
       "│ │ \u001b[38;5;141mSaleDate                 \u001b[0m │ \u001b[36m      7\u001b[0m │ \u001b[36m      1.37\u001b[0m │ \u001b[36m                         1.9\u001b[0m │ \u001b[36m                     988\u001b[0m │  │\n",
       "│ │ \u001b[38;5;141mSalesperson              \u001b[0m │ \u001b[36m     51\u001b[0m │ \u001b[36m        10\u001b[0m │ \u001b[36m                         0.9\u001b[0m │ \u001b[36m                     459\u001b[0m │  │\n",
       "│ │ \u001b[38;5;141mRegion                   \u001b[0m │ \u001b[36m      0\u001b[0m │ \u001b[36m         0\u001b[0m │ \u001b[36m                           1\u001b[0m │ \u001b[36m                     510\u001b[0m │  │\n",
       "│ └───────────────────────────┴─────────┴────────────┴──────────────────────────────┴──────────────────────────┘  │\n",
       "╰────────────────────────────────────────────────────── End ──────────────────────────────────────────────────────╯\n"
      ]
     },
     "metadata": {},
     "output_type": "display_data"
    }
   ],
   "source": [
    "skim(df)"
   ]
  },
  {
   "cell_type": "code",
   "execution_count": 18,
   "metadata": {},
   "outputs": [
    {
     "data": {
      "text/plain": [
       "OrderID         0\n",
       "ProductID       0\n",
       "ProductName    34\n",
       "UnitPrice      26\n",
       "Quantity        0\n",
       "Discount        0\n",
       "CustomerID     52\n",
       "SaleDate        7\n",
       "Salesperson    51\n",
       "Region          0\n",
       "dtype: int64"
      ]
     },
     "execution_count": 18,
     "metadata": {},
     "output_type": "execute_result"
    }
   ],
   "source": [
    "df.isnull().sum()"
   ]
  },
  {
   "cell_type": "code",
   "execution_count": 19,
   "metadata": {},
   "outputs": [
    {
     "data": {
      "text/plain": [
       "170"
      ]
     },
     "execution_count": 19,
     "metadata": {},
     "output_type": "execute_result"
    }
   ],
   "source": [
    "df.isnull().sum().sum()"
   ]
  },
  {
   "cell_type": "markdown",
   "metadata": {},
   "source": [
    "Veri seti içerisinde toplam **170 adet NaN değer** bulunmaktadır."
   ]
  },
  {
   "cell_type": "code",
   "execution_count": 21,
   "metadata": {},
   "outputs": [
    {
     "data": {
      "image/png": "[encoded data removed]",
      "text/plain": [
       "<Figure size 2500x1000 with 2 Axes>"
      ]
     },
     "metadata": {},
     "output_type": "display_data"
    }
   ],
   "source": [
    "msno.matrix(df);"
   ]
  },
  {
   "cell_type": "code",
   "execution_count": 22,
   "metadata": {},
   "outputs": [
    {
     "data": {
      "text/plain": [
       "OrderID        500\n",
       "ProductID      391\n",
       "ProductName    101\n",
       "UnitPrice      388\n",
       "Quantity        36\n",
       "Discount         5\n",
       "CustomerID     440\n",
       "SaleDate       408\n",
       "Salesperson     10\n",
       "Region           5\n",
       "dtype: int64"
      ]
     },
     "execution_count": 22,
     "metadata": {},
     "output_type": "execute_result"
    }
   ],
   "source": [
    "# Sütunlardaki benzersiz (unique) değer sayıları\n",
    "\n",
    "df.nunique()"
   ]
  },
  {
   "cell_type": "markdown",
   "metadata": {},
   "source": [
    "<a id='organizing-columns'></a>\n",
    "# <font color='navy'> <b>Sütunları Düzenleme</b><font color='black'> "
   ]
  },
  {
   "attachments": {
    "0288767c-cd04-4c6d-8524-e676e3a37f2f.png": {
     "image/png": "[encoded data removed]"
    },
    "112ede38-853e-4fc1-b73d-00b186551cc8.png": {
     "image/png": "[encoded data removed]"
    },
    "140424e6-2a44-483e-a1f2-36a5ad5ead06.png": {
     "image/png": "[encoded data removed]"
    },
    "3026af7c-6165-448e-957b-a944c7f2acd3.png": {
     "image/png": "[encoded data removed]"
    },
    "f7f4fab4-0a0e-47d5-b395-cb610a1a45b4.png": {
     "image/png": "[encoded data removed]"
    }
   },
   "cell_type": "markdown",
   "metadata": {},
   "source": [
    "## <font color='royalblue'> <b>OrderID and ProductID</b><font color='black'> \n",
    "\n",
    "**OrderID**\n",
    "![image.png](attachment:f7f4fab4-0a0e-47d5-b395-cb610a1a45b4.png)\n",
    "![image.png](attachment:3026af7c-6165-448e-957b-a944c7f2acd3.png)\n",
    "![image.png](attachment:140424e6-2a44-483e-a1f2-36a5ad5ead06.png)\n",
    "\n",
    "**ProductID**\n",
    "![image.png](attachment:112ede38-853e-4fc1-b73d-00b186551cc8.png)\n",
    "![image.png](attachment:0288767c-cd04-4c6d-8524-e676e3a37f2f.png)"
   ]
  },
  {
   "cell_type": "markdown",
   "metadata": {},
   "source": [
    "Yukarıdaki görsellerde görüldüğü üzere OrderID ve ProductID sütunlarındakibazı değerler **\"*\"**, **\"#\"** and **\"!\"** işaretleri ile bitmektedir. **.str.replace()** fonksiyonu kullanarak bu işaretleri veri setinden silmeliyiz."
   ]
  },
  {
   "cell_type": "code",
   "execution_count": 26,
   "metadata": {},
   "outputs": [],
   "source": [
    "df['OrderID'] = df['OrderID'].str.replace(\"[#!*]\", \"\", regex= True)\n",
    "df[\"OrderID\"] = df[\"OrderID\"].astype(str)\n",
    "\n",
    "df['ProductID'] = df['ProductID'].str.replace(\"[#!*]\", \"\", regex= True)\n",
    "df[\"ProductID\"] = df[\"ProductID\"].astype(str)"
   ]
  },
  {
   "cell_type": "code",
   "execution_count": 27,
   "metadata": {},
   "outputs": [
    {
     "data": {
      "text/html": [
       "<div>\n",
       "<style scoped>\n",
       "    .dataframe tbody tr th:only-of-type {\n",
       "        vertical-align: middle;\n",
       "    }\n",
       "\n",
       "    .dataframe tbody tr th {\n",
       "        vertical-align: top;\n",
       "    }\n",
       "\n",
       "    .dataframe thead th {\n",
       "        text-align: right;\n",
       "    }\n",
       "</style>\n",
       "<table border=\"1\" class=\"dataframe\">\n",
       "  <thead>\n",
       "    <tr style=\"text-align: right;\">\n",
       "      <th></th>\n",
       "      <th>OrderID</th>\n",
       "      <th>ProductID</th>\n",
       "      <th>ProductName</th>\n",
       "      <th>UnitPrice</th>\n",
       "      <th>Quantity</th>\n",
       "      <th>Discount</th>\n",
       "      <th>CustomerID</th>\n",
       "      <th>SaleDate</th>\n",
       "      <th>Salesperson</th>\n",
       "      <th>Region</th>\n",
       "    </tr>\n",
       "  </thead>\n",
       "  <tbody>\n",
       "    <tr>\n",
       "      <th>304</th>\n",
       "      <td>ORD00098</td>\n",
       "      <td>PRD227</td>\n",
       "      <td>Headphones</td>\n",
       "      <td>1313.0843308161514</td>\n",
       "      <td>1</td>\n",
       "      <td>0.05</td>\n",
       "      <td>CUST1798</td>\n",
       "      <td>2021-09-04 00:00:00</td>\n",
       "      <td>Evan</td>\n",
       "      <td>Central</td>\n",
       "    </tr>\n",
       "    <tr>\n",
       "      <th>480</th>\n",
       "      <td>ORD00424</td>\n",
       "      <td>PRD236</td>\n",
       "      <td>Headphones, Smartphone</td>\n",
       "      <td>1362.6377134147467</td>\n",
       "      <td>15</td>\n",
       "      <td>0.00</td>\n",
       "      <td>CUST1528</td>\n",
       "      <td>2020-12-31 00:00:00</td>\n",
       "      <td>Alice</td>\n",
       "      <td>East</td>\n",
       "    </tr>\n",
       "    <tr>\n",
       "      <th>106</th>\n",
       "      <td>ORD00334</td>\n",
       "      <td>PRD558</td>\n",
       "      <td>Smartphone, Smartwatch</td>\n",
       "      <td>780.6886361285095</td>\n",
       "      <td>16</td>\n",
       "      <td>0.10</td>\n",
       "      <td>CUST5445</td>\n",
       "      <td>2021-01-04 00:00:00</td>\n",
       "      <td>Alice</td>\n",
       "      <td>South</td>\n",
       "    </tr>\n",
       "    <tr>\n",
       "      <th>122</th>\n",
       "      <td>ORD00419</td>\n",
       "      <td>PRD919</td>\n",
       "      <td>Smartwatch</td>\n",
       "      <td>Check</td>\n",
       "      <td>16</td>\n",
       "      <td>0.10</td>\n",
       "      <td>NaN</td>\n",
       "      <td>2020-06-06 00:00:00</td>\n",
       "      <td>NaN</td>\n",
       "      <td>South</td>\n",
       "    </tr>\n",
       "    <tr>\n",
       "      <th>188</th>\n",
       "      <td>ORD00274</td>\n",
       "      <td>PRD552</td>\n",
       "      <td>Headphones</td>\n",
       "      <td>711.080692506169</td>\n",
       "      <td>4</td>\n",
       "      <td>0.15</td>\n",
       "      <td>CUST6799</td>\n",
       "      <td>2021-01-03 00:00:00</td>\n",
       "      <td>Eavn</td>\n",
       "      <td>Central</td>\n",
       "    </tr>\n",
       "  </tbody>\n",
       "</table>\n",
       "</div>"
      ],
      "text/plain": [
       "      OrderID ProductID             ProductName           UnitPrice  Quantity  \\\n",
       "304  ORD00098    PRD227              Headphones  1313.0843308161514         1   \n",
       "480  ORD00424    PRD236  Headphones, Smartphone  1362.6377134147467        15   \n",
       "106  ORD00334    PRD558  Smartphone, Smartwatch   780.6886361285095        16   \n",
       "122  ORD00419    PRD919              Smartwatch               Check        16   \n",
       "188  ORD00274    PRD552              Headphones    711.080692506169         4   \n",
       "\n",
       "     Discount CustomerID             SaleDate Salesperson   Region  \n",
       "304      0.05   CUST1798  2021-09-04 00:00:00        Evan  Central  \n",
       "480      0.00   CUST1528  2020-12-31 00:00:00       Alice     East  \n",
       "106      0.10   CUST5445  2021-01-04 00:00:00       Alice    South  \n",
       "122      0.10        NaN  2020-06-06 00:00:00         NaN    South  \n",
       "188      0.15   CUST6799  2021-01-03 00:00:00        Eavn  Central  "
      ]
     },
     "execution_count": 27,
     "metadata": {},
     "output_type": "execute_result"
    }
   ],
   "source": [
    "df.sample(5)"
   ]
  },
  {
   "cell_type": "markdown",
   "metadata": {},
   "source": [
    "## <font color='royalblue'> <b>ProductName</b><font color='black'> "
   ]
  },
  {
   "cell_type": "code",
   "execution_count": 29,
   "metadata": {},
   "outputs": [],
   "source": [
    "df[\"ProductName\"] = df[\"ProductName\"].str.strip()\n",
    "df[\"ProductName\"] = df[\"ProductName\"].str.title()"
   ]
  },
  {
   "cell_type": "code",
   "execution_count": 30,
   "metadata": {},
   "outputs": [
    {
     "data": {
      "text/html": [
       "<div>\n",
       "<style scoped>\n",
       "    .dataframe tbody tr th:only-of-type {\n",
       "        vertical-align: middle;\n",
       "    }\n",
       "\n",
       "    .dataframe tbody tr th {\n",
       "        vertical-align: top;\n",
       "    }\n",
       "\n",
       "    .dataframe thead th {\n",
       "        text-align: right;\n",
       "    }\n",
       "</style>\n",
       "<table border=\"1\" class=\"dataframe\">\n",
       "  <thead>\n",
       "    <tr style=\"text-align: right;\">\n",
       "      <th></th>\n",
       "      <th>OrderID</th>\n",
       "      <th>ProductID</th>\n",
       "      <th>ProductName</th>\n",
       "      <th>UnitPrice</th>\n",
       "      <th>Quantity</th>\n",
       "      <th>Discount</th>\n",
       "      <th>CustomerID</th>\n",
       "      <th>SaleDate</th>\n",
       "      <th>Salesperson</th>\n",
       "      <th>Region</th>\n",
       "    </tr>\n",
       "  </thead>\n",
       "  <tbody>\n",
       "    <tr>\n",
       "      <th>466</th>\n",
       "      <td>ORD00044</td>\n",
       "      <td>PRD725</td>\n",
       "      <td>Laptop</td>\n",
       "      <td>55.61809741127527</td>\n",
       "      <td>4</td>\n",
       "      <td>0.00</td>\n",
       "      <td>CUST2396</td>\n",
       "      <td>2023-10-06 00:00:00</td>\n",
       "      <td>Diana</td>\n",
       "      <td>East</td>\n",
       "    </tr>\n",
       "    <tr>\n",
       "      <th>467</th>\n",
       "      <td>ORD00304</td>\n",
       "      <td>PRD345</td>\n",
       "      <td>Camera</td>\n",
       "      <td>63.18358367795045</td>\n",
       "      <td>13</td>\n",
       "      <td>0.20</td>\n",
       "      <td>CUST2469</td>\n",
       "      <td>2021-07-06 00:00:00</td>\n",
       "      <td>Charlie</td>\n",
       "      <td>West</td>\n",
       "    </tr>\n",
       "    <tr>\n",
       "      <th>523</th>\n",
       "      <td>ORD00367</td>\n",
       "      <td>PRD433</td>\n",
       "      <td>Smartphone</td>\n",
       "      <td>964.8166001885094</td>\n",
       "      <td>8</td>\n",
       "      <td>0.15</td>\n",
       "      <td>CUST4791</td>\n",
       "      <td>2020-02-14 00:00:00</td>\n",
       "      <td>Diana</td>\n",
       "      <td>Central</td>\n",
       "    </tr>\n",
       "    <tr>\n",
       "      <th>33</th>\n",
       "      <td>ORD00389</td>\n",
       "      <td>PRD103</td>\n",
       "      <td>Camera</td>\n",
       "      <td>free</td>\n",
       "      <td>7</td>\n",
       "      <td>0.05</td>\n",
       "      <td>CUST7923</td>\n",
       "      <td>2021-07-21 00:00:00</td>\n",
       "      <td>Diana</td>\n",
       "      <td>North</td>\n",
       "    </tr>\n",
       "    <tr>\n",
       "      <th>496</th>\n",
       "      <td>ORD00352</td>\n",
       "      <td>PRD269</td>\n",
       "      <td>Smartphone, Camera, Headphones</td>\n",
       "      <td>Free</td>\n",
       "      <td>18</td>\n",
       "      <td>0.05</td>\n",
       "      <td>CUST4393</td>\n",
       "      <td>2020-03-27 00:00:00</td>\n",
       "      <td>Diana</td>\n",
       "      <td>South</td>\n",
       "    </tr>\n",
       "  </tbody>\n",
       "</table>\n",
       "</div>"
      ],
      "text/plain": [
       "      OrderID ProductID                     ProductName          UnitPrice  \\\n",
       "466  ORD00044    PRD725                          Laptop  55.61809741127527   \n",
       "467  ORD00304    PRD345                          Camera  63.18358367795045   \n",
       "523  ORD00367    PRD433                      Smartphone  964.8166001885094   \n",
       "33   ORD00389    PRD103                          Camera               free   \n",
       "496  ORD00352    PRD269  Smartphone, Camera, Headphones               Free   \n",
       "\n",
       "     Quantity  Discount CustomerID             SaleDate Salesperson   Region  \n",
       "466         4      0.00   CUST2396  2023-10-06 00:00:00       Diana     East  \n",
       "467        13      0.20   CUST2469  2021-07-06 00:00:00     Charlie     West  \n",
       "523         8      0.15   CUST4791  2020-02-14 00:00:00       Diana  Central  \n",
       "33          7      0.05   CUST7923  2021-07-21 00:00:00       Diana    North  \n",
       "496        18      0.05   CUST4393  2020-03-27 00:00:00       Diana    South  "
      ]
     },
     "execution_count": 30,
     "metadata": {},
     "output_type": "execute_result"
    }
   ],
   "source": [
    "df.sample(5)"
   ]
  },
  {
   "attachments": {
    "099f7670-2aa3-4328-ab8d-e6dff521e528.png": {
     "image/png": "[encoded data removed]"
    }
   },
   "cell_type": "markdown",
   "metadata": {},
   "source": [
    "![image.png](attachment:099f7670-2aa3-4328-ab8d-e6dff521e528.png)\n",
    "\n",
    "Bu EDA projesi için ProductName sütununda birden fazla bulunan satırlardaki ilk ürün ismini kullanabiliriz."
   ]
  },
  {
   "cell_type": "code",
   "execution_count": 32,
   "metadata": {},
   "outputs": [],
   "source": [
    "df[\"ProductName\"] = df[\"ProductName\"].str.split(\", \").str[0]"
   ]
  },
  {
   "cell_type": "markdown",
   "metadata": {},
   "source": [
    "Bu sütunda bazı ürün isimleri yanlış yazılmıştır. Bu değerleri doğru yazımları ile değiştirmeliyiz."
   ]
  },
  {
   "cell_type": "code",
   "execution_count": 34,
   "metadata": {},
   "outputs": [],
   "source": [
    "df[\"ProductName\"] = df.ProductName.replace([\"Laptpo\", \"Camra\", \"Headphons\", \"Smratphone\", \"Smartwach\"], [\"Laptop\", \"Camera\", \"Headphones\", \"Smartphone\", \"Smartwatch\"])"
   ]
  },
  {
   "cell_type": "code",
   "execution_count": 35,
   "metadata": {},
   "outputs": [
    {
     "data": {
      "text/html": [
       "<div>\n",
       "<style scoped>\n",
       "    .dataframe tbody tr th:only-of-type {\n",
       "        vertical-align: middle;\n",
       "    }\n",
       "\n",
       "    .dataframe tbody tr th {\n",
       "        vertical-align: top;\n",
       "    }\n",
       "\n",
       "    .dataframe thead th {\n",
       "        text-align: right;\n",
       "    }\n",
       "</style>\n",
       "<table border=\"1\" class=\"dataframe\">\n",
       "  <thead>\n",
       "    <tr style=\"text-align: right;\">\n",
       "      <th></th>\n",
       "      <th>OrderID</th>\n",
       "      <th>ProductID</th>\n",
       "      <th>ProductName</th>\n",
       "      <th>UnitPrice</th>\n",
       "      <th>Quantity</th>\n",
       "      <th>Discount</th>\n",
       "      <th>CustomerID</th>\n",
       "      <th>SaleDate</th>\n",
       "      <th>Salesperson</th>\n",
       "      <th>Region</th>\n",
       "    </tr>\n",
       "  </thead>\n",
       "  <tbody>\n",
       "    <tr>\n",
       "      <th>340</th>\n",
       "      <td>ORD00445</td>\n",
       "      <td>PRD681</td>\n",
       "      <td>Camera</td>\n",
       "      <td>549.8126120136118</td>\n",
       "      <td>19</td>\n",
       "      <td>0.10</td>\n",
       "      <td>NaN</td>\n",
       "      <td>2021-10-03 00:00:00</td>\n",
       "      <td>Bob</td>\n",
       "      <td>East</td>\n",
       "    </tr>\n",
       "    <tr>\n",
       "      <th>108</th>\n",
       "      <td>ORD00113</td>\n",
       "      <td>PRD494</td>\n",
       "      <td>Headphones</td>\n",
       "      <td>1186.0657720436502</td>\n",
       "      <td>5</td>\n",
       "      <td>0.15</td>\n",
       "      <td>CUST3082</td>\n",
       "      <td>2020-02-26 00:00:00</td>\n",
       "      <td>Charlie</td>\n",
       "      <td>East</td>\n",
       "    </tr>\n",
       "    <tr>\n",
       "      <th>466</th>\n",
       "      <td>ORD00044</td>\n",
       "      <td>PRD725</td>\n",
       "      <td>Laptop</td>\n",
       "      <td>55.61809741127527</td>\n",
       "      <td>4</td>\n",
       "      <td>0.00</td>\n",
       "      <td>CUST2396</td>\n",
       "      <td>2023-10-06 00:00:00</td>\n",
       "      <td>Diana</td>\n",
       "      <td>East</td>\n",
       "    </tr>\n",
       "    <tr>\n",
       "      <th>436</th>\n",
       "      <td>ORD00318</td>\n",
       "      <td>PRD417</td>\n",
       "      <td>Smartwatch</td>\n",
       "      <td>1397.6086807512545</td>\n",
       "      <td>999</td>\n",
       "      <td>0.10</td>\n",
       "      <td>CUST7412</td>\n",
       "      <td>2022-08-14 00:00:00</td>\n",
       "      <td>Bob</td>\n",
       "      <td>East</td>\n",
       "    </tr>\n",
       "    <tr>\n",
       "      <th>71</th>\n",
       "      <td>ORD00403</td>\n",
       "      <td>PRD764</td>\n",
       "      <td>Camera</td>\n",
       "      <td>105.70499706938384</td>\n",
       "      <td>12</td>\n",
       "      <td>0.15</td>\n",
       "      <td>CUST7290</td>\n",
       "      <td>2022-04-22 00:00:00</td>\n",
       "      <td>Diana</td>\n",
       "      <td>East</td>\n",
       "    </tr>\n",
       "  </tbody>\n",
       "</table>\n",
       "</div>"
      ],
      "text/plain": [
       "      OrderID ProductID ProductName           UnitPrice  Quantity  Discount  \\\n",
       "340  ORD00445    PRD681      Camera   549.8126120136118        19      0.10   \n",
       "108  ORD00113    PRD494  Headphones  1186.0657720436502         5      0.15   \n",
       "466  ORD00044    PRD725      Laptop   55.61809741127527         4      0.00   \n",
       "436  ORD00318    PRD417  Smartwatch  1397.6086807512545       999      0.10   \n",
       "71   ORD00403    PRD764      Camera  105.70499706938384        12      0.15   \n",
       "\n",
       "    CustomerID             SaleDate Salesperson Region  \n",
       "340        NaN  2021-10-03 00:00:00         Bob   East  \n",
       "108   CUST3082  2020-02-26 00:00:00     Charlie   East  \n",
       "466   CUST2396  2023-10-06 00:00:00       Diana   East  \n",
       "436   CUST7412  2022-08-14 00:00:00         Bob   East  \n",
       "71    CUST7290  2022-04-22 00:00:00       Diana   East  "
      ]
     },
     "execution_count": 35,
     "metadata": {},
     "output_type": "execute_result"
    }
   ],
   "source": [
    "df.sample(5)"
   ]
  },
  {
   "cell_type": "code",
   "execution_count": 36,
   "metadata": {},
   "outputs": [
    {
     "data": {
      "text/plain": [
       "array(['Smartwatch', 'Laptop', 'Camera', nan, 'Headphones', 'Smartphone'],\n",
       "      dtype=object)"
      ]
     },
     "execution_count": 36,
     "metadata": {},
     "output_type": "execute_result"
    }
   ],
   "source": [
    "df.ProductName.unique()"
   ]
  },
  {
   "cell_type": "markdown",
   "metadata": {},
   "source": [
    "## <font color='royalblue'> <b>UnitPrice</b><font color='black'>  "
   ]
  },
  {
   "attachments": {
    "0f26f84f-67e4-412c-9362-effefd8fd60f.png": {
     "image/png": "[encoded data removed]"
    },
    "17b4b12c-519a-4553-baad-933c891e838f.png": {
     "image/png": "[encoded data removed]"
    },
    "dbb085f6-f572-4978-97af-135742057527.png": {
     "image/png": "[encoded data removed]"
    },
    "f77176e2-4e86-421f-adf6-d35788ed1f92.png": {
     "image/png": "[encoded data removed]"
    }
   },
   "cell_type": "markdown",
   "metadata": {},
   "source": [
    "![image.png](attachment:f77176e2-4e86-421f-adf6-d35788ed1f92.png)\n",
    "![image.png](attachment:17b4b12c-519a-4553-baad-933c891e838f.png)\n",
    "![image.png](attachment:dbb085f6-f572-4978-97af-135742057527.png)\n",
    "![image.png](attachment:0f26f84f-67e4-412c-9362-effefd8fd60f.png)"
   ]
  },
  {
   "cell_type": "markdown",
   "metadata": {},
   "source": [
    "UnitPrice sütununda bazı **\"Free\"**, **\"free\"**, **\"Ask\"**, **\"Check\"** ve **\"-\"** değerleri bulunmaktadır. \"Free\" ve \"free\" değerleri 0.00 değerine; diğer değerler ise NaN değerlere dönüştürülebilir."
   ]
  },
  {
   "cell_type": "code",
   "execution_count": 40,
   "metadata": {},
   "outputs": [],
   "source": [
    "df[\"UnitPrice\"] = df.UnitPrice.replace([\"Free\", \"free\"], 0)\n",
    "df[\"UnitPrice\"] = df.UnitPrice.replace([\"Check\", \"Ask\", \"-\"], np.nan)"
   ]
  },
  {
   "attachments": {
    "ed907037-25e7-42dd-b4d2-043e8214c3b2.png": {
     "image/png": "[encoded data removed]"
    }
   },
   "cell_type": "markdown",
   "metadata": {},
   "source": [
    "![image.png](attachment:ed907037-25e7-42dd-b4d2-043e8214c3b2.png)\n",
    "\n",
    "Yukarıdaki görselde görüldüğü üzere UnitPrice sütununda birçok ondalık basamak bulunmaktadır. Bu değerleri 2 ondalık basamak görünecek şekilde ayarlarsak veri seti daha iyi ve daha temiz görünecektir."
   ]
  },
  {
   "cell_type": "code",
   "execution_count": 42,
   "metadata": {},
   "outputs": [],
   "source": [
    "df[\"UnitPrice\"] = df.UnitPrice.astype(float)\n",
    "df[\"UnitPrice\"] = df.UnitPrice.round(2)"
   ]
  },
  {
   "cell_type": "code",
   "execution_count": 43,
   "metadata": {},
   "outputs": [
    {
     "data": {
      "text/html": [
       "<div>\n",
       "<style scoped>\n",
       "    .dataframe tbody tr th:only-of-type {\n",
       "        vertical-align: middle;\n",
       "    }\n",
       "\n",
       "    .dataframe tbody tr th {\n",
       "        vertical-align: top;\n",
       "    }\n",
       "\n",
       "    .dataframe thead th {\n",
       "        text-align: right;\n",
       "    }\n",
       "</style>\n",
       "<table border=\"1\" class=\"dataframe\">\n",
       "  <thead>\n",
       "    <tr style=\"text-align: right;\">\n",
       "      <th></th>\n",
       "      <th>OrderID</th>\n",
       "      <th>ProductID</th>\n",
       "      <th>ProductName</th>\n",
       "      <th>UnitPrice</th>\n",
       "      <th>Quantity</th>\n",
       "      <th>Discount</th>\n",
       "      <th>CustomerID</th>\n",
       "      <th>SaleDate</th>\n",
       "      <th>Salesperson</th>\n",
       "      <th>Region</th>\n",
       "    </tr>\n",
       "  </thead>\n",
       "  <tbody>\n",
       "    <tr>\n",
       "      <th>161</th>\n",
       "      <td>ORD00375</td>\n",
       "      <td>PRD931</td>\n",
       "      <td>Camera</td>\n",
       "      <td>1393.42</td>\n",
       "      <td>12</td>\n",
       "      <td>0.05</td>\n",
       "      <td>CUST9825</td>\n",
       "      <td>2020-09-01 00:00:00</td>\n",
       "      <td>Bbo</td>\n",
       "      <td>East</td>\n",
       "    </tr>\n",
       "    <tr>\n",
       "      <th>23</th>\n",
       "      <td>ORD00116</td>\n",
       "      <td>PRD347</td>\n",
       "      <td>Headphones</td>\n",
       "      <td>410.72</td>\n",
       "      <td>7</td>\n",
       "      <td>0.00</td>\n",
       "      <td>NaN</td>\n",
       "      <td>2023-08-11 00:00:00</td>\n",
       "      <td>Bob</td>\n",
       "      <td>South</td>\n",
       "    </tr>\n",
       "    <tr>\n",
       "      <th>25</th>\n",
       "      <td>ORD00106</td>\n",
       "      <td>PRD660</td>\n",
       "      <td>NaN</td>\n",
       "      <td>480.13</td>\n",
       "      <td>13</td>\n",
       "      <td>0.20</td>\n",
       "      <td>NaN</td>\n",
       "      <td>2022-07-20 00:00:00</td>\n",
       "      <td>Bob</td>\n",
       "      <td>West</td>\n",
       "    </tr>\n",
       "    <tr>\n",
       "      <th>438</th>\n",
       "      <td>ORD00134</td>\n",
       "      <td>PRD139</td>\n",
       "      <td>Smartwatch</td>\n",
       "      <td>801.32</td>\n",
       "      <td>13</td>\n",
       "      <td>0.05</td>\n",
       "      <td>CUST6443</td>\n",
       "      <td>2023-04-28 00:00:00</td>\n",
       "      <td>NaN</td>\n",
       "      <td>East</td>\n",
       "    </tr>\n",
       "    <tr>\n",
       "      <th>479</th>\n",
       "      <td>ORD00094</td>\n",
       "      <td>PRD408</td>\n",
       "      <td>Headphones</td>\n",
       "      <td>107.06</td>\n",
       "      <td>1</td>\n",
       "      <td>0.05</td>\n",
       "      <td>CUST3300</td>\n",
       "      <td>2023-01-16 00:00:00</td>\n",
       "      <td>Charlie</td>\n",
       "      <td>West</td>\n",
       "    </tr>\n",
       "  </tbody>\n",
       "</table>\n",
       "</div>"
      ],
      "text/plain": [
       "      OrderID ProductID ProductName  UnitPrice  Quantity  Discount CustomerID  \\\n",
       "161  ORD00375    PRD931      Camera    1393.42        12      0.05   CUST9825   \n",
       "23   ORD00116    PRD347  Headphones     410.72         7      0.00        NaN   \n",
       "25   ORD00106    PRD660         NaN     480.13        13      0.20        NaN   \n",
       "438  ORD00134    PRD139  Smartwatch     801.32        13      0.05   CUST6443   \n",
       "479  ORD00094    PRD408  Headphones     107.06         1      0.05   CUST3300   \n",
       "\n",
       "                SaleDate Salesperson Region  \n",
       "161  2020-09-01 00:00:00         Bbo   East  \n",
       "23   2023-08-11 00:00:00         Bob  South  \n",
       "25   2022-07-20 00:00:00         Bob   West  \n",
       "438  2023-04-28 00:00:00         NaN   East  \n",
       "479  2023-01-16 00:00:00     Charlie   West  "
      ]
     },
     "execution_count": 43,
     "metadata": {},
     "output_type": "execute_result"
    }
   ],
   "source": [
    "df.sample(5)"
   ]
  },
  {
   "cell_type": "markdown",
   "metadata": {},
   "source": [
    "## <font color='royalblue'> <b>Quantity</b><font color='black'> "
   ]
  },
  {
   "cell_type": "code",
   "execution_count": 45,
   "metadata": {},
   "outputs": [
    {
     "data": {
      "text/plain": [
       "array([   8,   19,   16,    1,   11,    6,   14,    5, -999,   17,    3,\n",
       "         13,    7,   12,   15,  999,    4,   20,    9,    0,   -5,   10,\n",
       "         -4,    2,   18,  -11,   -9,   -1,  -10,   -8,  -12,  -20,  -19,\n",
       "        -17,   -6,  -18], dtype=int64)"
      ]
     },
     "execution_count": 45,
     "metadata": {},
     "output_type": "execute_result"
    }
   ],
   "source": [
    "df.Quantity.unique()"
   ]
  },
  {
   "cell_type": "markdown",
   "metadata": {},
   "source": [
    "Quantity sütununda bazı negatif değerler görünmektedir. **abs()** fonksiyonu ile bu değerlerin mutlak değerini alarak \"-\" işaretini kaldırabiliriz."
   ]
  },
  {
   "cell_type": "code",
   "execution_count": 47,
   "metadata": {},
   "outputs": [],
   "source": [
    "df[\"Quantity\"] = df[\"Quantity\"].abs()"
   ]
  },
  {
   "cell_type": "code",
   "execution_count": 48,
   "metadata": {},
   "outputs": [
    {
     "data": {
      "text/plain": [
       "array([  8,  19,  16,   1,  11,   6,  14,   5, 999,  17,   3,  13,   7,\n",
       "        12,  15,   4,  20,   9,   0,  10,   2,  18], dtype=int64)"
      ]
     },
     "execution_count": 48,
     "metadata": {},
     "output_type": "execute_result"
    }
   ],
   "source": [
    "df.Quantity.unique()"
   ]
  },
  {
   "cell_type": "markdown",
   "metadata": {},
   "source": [
    "Bu sütunda normal görünmeyen 2 değer var: **0** ve **999** değerleri.\n",
    " - Eğer Quantity sütununda 0 değeri var ise bu satış olmamış demektir.\n",
    " - Eğer 999 değeri var ise bu değer outlier (aykırı) değer olabilir."
   ]
  },
  {
   "cell_type": "code",
   "execution_count": 50,
   "metadata": {},
   "outputs": [
    {
     "data": {
      "text/plain": [
       "Quantity\n",
       "0       7\n",
       "1      31\n",
       "2      18\n",
       "3      21\n",
       "4      27\n",
       "5      29\n",
       "6      28\n",
       "7      12\n",
       "8      30\n",
       "9      18\n",
       "10     18\n",
       "11     22\n",
       "12     34\n",
       "13     38\n",
       "14     26\n",
       "15     17\n",
       "16     29\n",
       "17     23\n",
       "18     21\n",
       "19     20\n",
       "20     23\n",
       "999    18\n",
       "Name: count, dtype: int64"
      ]
     },
     "execution_count": 50,
     "metadata": {},
     "output_type": "execute_result"
    }
   ],
   "source": [
    "df.Quantity.value_counts().sort_index()"
   ]
  },
  {
   "cell_type": "markdown",
   "metadata": {},
   "source": [
    "0 ve 999 değerlere sahip olan satırların indeks numaralarını bularak bu satırları veri setinden silebiliriz."
   ]
  },
  {
   "cell_type": "code",
   "execution_count": 52,
   "metadata": {},
   "outputs": [
    {
     "data": {
      "text/plain": [
       "Index([ 11,  29,  38,  48, 112, 133, 144, 154, 169, 210, 251, 257, 326, 343,\n",
       "       344, 345, 359, 391, 416, 429, 436, 447, 450, 494, 507],\n",
       "      dtype='int64')"
      ]
     },
     "execution_count": 52,
     "metadata": {},
     "output_type": "execute_result"
    }
   ],
   "source": [
    "indices_to_drop = df[df[\"Quantity\"].isin([0, 999])].index\n",
    "indices_to_drop"
   ]
  },
  {
   "cell_type": "code",
   "execution_count": 53,
   "metadata": {},
   "outputs": [],
   "source": [
    "df.drop(indices_to_drop, inplace=True)"
   ]
  },
  {
   "cell_type": "markdown",
   "metadata": {},
   "source": [
    "## <font color='royalblue'> <b>Discount</b><font color='black'> "
   ]
  },
  {
   "cell_type": "code",
   "execution_count": 55,
   "metadata": {},
   "outputs": [
    {
     "data": {
      "text/plain": [
       "array([0.15, 0.2 , 0.05, 0.  , 0.1 ])"
      ]
     },
     "execution_count": 55,
     "metadata": {},
     "output_type": "execute_result"
    }
   ],
   "source": [
    "df.Discount.unique()"
   ]
  },
  {
   "cell_type": "code",
   "execution_count": 56,
   "metadata": {},
   "outputs": [
    {
     "data": {
      "text/plain": [
       "Discount\n",
       "0.05    106\n",
       "0.15    103\n",
       "0.20    100\n",
       "0.10     90\n",
       "0.00     86\n",
       "Name: count, dtype: int64"
      ]
     },
     "execution_count": 56,
     "metadata": {},
     "output_type": "execute_result"
    }
   ],
   "source": [
    "df.Discount.value_counts()"
   ]
  },
  {
   "cell_type": "markdown",
   "metadata": {},
   "source": [
    "Discount sütunu şu an için normal görünmektedir. SaleDate sütunu ile devam edebiliriz."
   ]
  },
  {
   "cell_type": "markdown",
   "metadata": {},
   "source": [
    "## <font color='royalblue'> <b>SaleDate</b><font color='black'> "
   ]
  },
  {
   "cell_type": "code",
   "execution_count": 59,
   "metadata": {
    "scrolled": true
   },
   "outputs": [
    {
     "data": {
      "text/plain": [
       "array(['2022-03-31 00:00:00', '2021-01-06 00:00:00', 'Unknown',\n",
       "       '2023-08-14 00:00:00', '2020-08-15 00:00:00',\n",
       "       '2021-08-21 00:00:00', '2022-12-21 00:00:00',\n",
       "       '2022-01-02 00:00:00', '2023-07-31 00:00:00',\n",
       "       '2022-05-22 00:00:00', '2023-11-21 00:00:00',\n",
       "       '2021-07-31 00:00:00', '2022-03-26 00:00:00',\n",
       "       '2022-11-30 00:00:00', '2020-06-16 00:00:00',\n",
       "       '2022-04-22 00:00:00', '2020-05-08 00:00:00',\n",
       "       '2023-09-27 00:00:00', '2021-04-24 00:00:00',\n",
       "       '2023-06-19 00:00:00', '2023-08-08 00:00:00',\n",
       "       '2023-08-11 00:00:00', '2021-06-20 00:00:00',\n",
       "       '2022-07-20 00:00:00', '2022-09-17 00:00:00',\n",
       "       '2020-08-07 00:00:00', '2020-05-29 00:00:00',\n",
       "       '2022-03-28 00:00:00', '2021-12-20 00:00:00',\n",
       "       '2021-07-21 00:00:00', '2020-03-29 00:00:00',\n",
       "       '2021-02-11 00:00:00', '2023-03-29 00:00:00',\n",
       "       '2023-11-02 00:00:00', '2023-03-22 00:00:00',\n",
       "       '2022-02-23 00:00:00', '2022-08-12 00:00:00',\n",
       "       '2022-08-04 00:00:00', '2023-01-26 00:00:00', 'TBD',\n",
       "       '2023-03-14 00:00:00', '2020-03-11 00:00:00',\n",
       "       '2023-03-07 00:00:00', '2021-10-06 00:00:00',\n",
       "       '2022-11-02 00:00:00', '2022-10-02 00:00:00',\n",
       "       '2021-05-23 00:00:00', '2022-05-10 00:00:00',\n",
       "       '2023-02-14 00:00:00', '2022-07-13 00:00:00',\n",
       "       '2021-11-19 00:00:00', '2020-02-18 00:00:00',\n",
       "       '2020-08-28 00:00:00', '2020-03-09 00:00:00', nan,\n",
       "       '2020-02-07 00:00:00', '2022-02-15 00:00:00',\n",
       "       '2023-01-13 00:00:00', '2021-09-19 00:00:00',\n",
       "       '2023-12-01 00:00:00', '2020-08-16 00:00:00',\n",
       "       '2021-06-12 00:00:00', '2020-01-25 00:00:00',\n",
       "       '2020-10-06 00:00:00', '2021-02-26 00:00:00',\n",
       "       '2022-06-15 00:00:00', '2020-05-26 00:00:00',\n",
       "       '2020-05-07 00:00:00', '2022-05-17 00:00:00',\n",
       "       '2020-07-12 00:00:00', '2023-11-17 00:00:00',\n",
       "       '2022-07-12 00:00:00', '2021-08-13 00:00:00',\n",
       "       '2020-06-11 00:00:00', '2020-09-03 00:00:00',\n",
       "       '2023-03-27 00:00:00', '2021-04-10 00:00:00',\n",
       "       '2020-06-30 00:00:00', '2021-06-02 00:00:00',\n",
       "       '2023-08-18 00:00:00', '2022-03-16 00:00:00',\n",
       "       '2021-01-12 00:00:00', '2022-10-26 00:00:00',\n",
       "       '2022-02-10 00:00:00', '2021-11-15 00:00:00',\n",
       "       '2021-02-24 00:00:00', '2023-06-22 00:00:00',\n",
       "       '2021-01-04 00:00:00', '2021-02-25 00:00:00',\n",
       "       '2020-02-26 00:00:00', '2021-04-20 00:00:00',\n",
       "       '2023-05-30 00:00:00', '2020-01-09 00:00:00',\n",
       "       '2020-07-21 00:00:00', '2021-06-13 00:00:00',\n",
       "       '2021-06-08 00:00:00', '2021-03-31 00:00:00',\n",
       "       '2023-08-06 00:00:00', '2022-05-12 00:00:00',\n",
       "       '2022-07-27 00:00:00', '2020-05-13 00:00:00',\n",
       "       '2020-06-06 00:00:00', '2020-05-15 00:00:00',\n",
       "       '2020-03-17 00:00:00', '2023-10-05 00:00:00',\n",
       "       '2023-09-12 00:00:00', '2023-10-19 00:00:00',\n",
       "       '2022-11-12 00:00:00', '2022-09-11 00:00:00',\n",
       "       '2021-03-15 00:00:00', '2022-03-30 00:00:00',\n",
       "       '2023-12-30 00:00:00', '2023-05-31 00:00:00',\n",
       "       '2020-10-23 00:00:00', '2023-01-09 00:00:00',\n",
       "       '2022-10-11 00:00:00', '2021-03-09 00:00:00',\n",
       "       '2022-06-10 00:00:00', '2021-05-02 00:00:00',\n",
       "       '2020-05-24 00:00:00', '2022-08-20 00:00:00',\n",
       "       '2020-04-25 00:00:00', '2020-08-11 00:00:00',\n",
       "       '2022-05-15 00:00:00', '2021-08-25 00:00:00',\n",
       "       '2023-07-24 00:00:00', '2020-04-29 00:00:00',\n",
       "       '2023-02-10 00:00:00', '2022-10-16 00:00:00',\n",
       "       '2022-11-04 00:00:00', '2021-11-27 00:00:00',\n",
       "       '2022-09-19 00:00:00', '2023-12-24 00:00:00',\n",
       "       '2021-10-26 00:00:00', '2020-09-01 00:00:00',\n",
       "       '2023-04-23 00:00:00', '2022-06-12 00:00:00',\n",
       "       '2021-10-10 00:00:00', '2021-09-20 00:00:00',\n",
       "       '2021-06-29 00:00:00', '2023-10-28 00:00:00',\n",
       "       '2022-06-29 00:00:00', '2023-04-30 00:00:00',\n",
       "       '2021-06-25 00:00:00', '2021-05-19 00:00:00',\n",
       "       '2023-02-16 00:00:00', '2021-04-12 00:00:00',\n",
       "       '2020-03-03 00:00:00', '2021-12-29 00:00:00',\n",
       "       '2021-11-24 00:00:00', '2022-01-07 00:00:00',\n",
       "       '2021-04-03 00:00:00', '2023-12-05 00:00:00',\n",
       "       '2022-03-22 00:00:00', '2023-10-08 00:00:00',\n",
       "       '2021-06-03 00:00:00', '2021-01-03 00:00:00',\n",
       "       '2021-12-18 00:00:00', '2023-03-16 00:00:00',\n",
       "       '2023-01-08 00:00:00', '2020-04-01 00:00:00',\n",
       "       '2021-08-30 00:00:00', '2023-09-01 00:00:00',\n",
       "       '2023-02-21 00:00:00', '2021-04-16 00:00:00',\n",
       "       '2022-06-27 00:00:00', '2021-06-05 00:00:00',\n",
       "       '2021-12-17 00:00:00', '2023-06-14 00:00:00',\n",
       "       '2022-10-14 00:00:00', '2020-02-17 00:00:00',\n",
       "       '2022-01-09 00:00:00', '2021-09-10 00:00:00',\n",
       "       '2022-02-01 00:00:00', '2022-07-06 00:00:00',\n",
       "       '2023-07-16 00:00:00', '2020-02-10 00:00:00',\n",
       "       '2020-05-21 00:00:00', '2023-09-19 00:00:00',\n",
       "       '2022-09-06 00:00:00', '2021-02-21 00:00:00',\n",
       "       '2021-01-11 00:00:00', '2020-09-15 00:00:00',\n",
       "       '2022-04-19 00:00:00', '2020-09-26 00:00:00',\n",
       "       '2020-02-28 00:00:00', '2021-06-23 00:00:00',\n",
       "       '2023-08-19 00:00:00', '2021-08-01 00:00:00',\n",
       "       '2023-02-08 00:00:00', '2021-12-21 00:00:00',\n",
       "       '2023-09-15 00:00:00', '2023-07-06 00:00:00',\n",
       "       '2021-12-02 00:00:00', '2020-08-31 00:00:00',\n",
       "       '2023-12-11 00:00:00', '2021-06-19 00:00:00',\n",
       "       '2022-07-10 00:00:00', '2023-11-05 00:00:00',\n",
       "       '2021-12-22 00:00:00', '2020-05-01 00:00:00',\n",
       "       '2022-09-05 00:00:00', '2023-04-05 00:00:00',\n",
       "       '2022-09-02 00:00:00', '2021-07-24 00:00:00',\n",
       "       '2020-12-01 00:00:00', '2020-02-09 00:00:00',\n",
       "       '2021-11-18 00:00:00', '2023-12-14 00:00:00',\n",
       "       '2022-08-01 00:00:00', '2021-03-20 00:00:00',\n",
       "       '2022-01-12 00:00:00', '2021-05-10 00:00:00',\n",
       "       '2023-11-09 00:00:00', '2023-07-07 00:00:00',\n",
       "       '2023-06-10 00:00:00', '2021-01-10 00:00:00',\n",
       "       '2023-09-14 00:00:00', '2022-02-26 00:00:00',\n",
       "       '2021-01-31 00:00:00', '2020-09-30 00:00:00',\n",
       "       '2021-02-27 00:00:00', '2022-02-17 00:00:00',\n",
       "       '2023-03-30 00:00:00', '2022-04-21 00:00:00',\n",
       "       '2022-05-06 00:00:00', '2021-05-24 00:00:00',\n",
       "       '2020-08-08 00:00:00', '2023-04-04 00:00:00',\n",
       "       '2022-05-28 00:00:00', '2022-07-26 00:00:00',\n",
       "       '2021-02-17 00:00:00', '2022-05-16 00:00:00',\n",
       "       '2022-11-21 00:00:00', '2021-03-22 00:00:00',\n",
       "       '2020-08-02 00:00:00', '2023-04-20 00:00:00',\n",
       "       '2021-01-28 00:00:00', '2021-09-21 00:00:00',\n",
       "       '2020-09-25 00:00:00', '2021-05-09 00:00:00',\n",
       "       '2022-11-11 00:00:00', '2023-06-25 00:00:00',\n",
       "       '2020-11-24 00:00:00', '2020-03-12 00:00:00',\n",
       "       '2020-09-06 00:00:00', '2021-04-02 00:00:00',\n",
       "       '2022-12-15 00:00:00', '2021-09-28 00:00:00',\n",
       "       '2020-11-10 00:00:00', '2023-06-24 00:00:00',\n",
       "       '2023-07-01 00:00:00', '2020-07-19 00:00:00',\n",
       "       '2021-09-04 00:00:00', '2021-01-23 00:00:00',\n",
       "       '2022-03-09 00:00:00', '2021-03-28 00:00:00',\n",
       "       '2020-10-20 00:00:00', '2021-12-25 00:00:00',\n",
       "       '2021-08-24 00:00:00', '2023-04-19 00:00:00',\n",
       "       '2021-10-27 00:00:00', '2020-02-29 00:00:00',\n",
       "       '2023-06-09 00:00:00', '2022-03-06 00:00:00',\n",
       "       '2020-03-05 00:00:00', '2021-01-24 00:00:00',\n",
       "       '2020-04-19 00:00:00', '2020-03-27 00:00:00',\n",
       "       '2021-11-25 00:00:00', '2020-10-12 00:00:00',\n",
       "       '2021-06-16 00:00:00', '2021-03-26 00:00:00',\n",
       "       '2023-04-02 00:00:00', '2022-04-29 00:00:00',\n",
       "       '2020-12-25 00:00:00', '2023-10-12 00:00:00',\n",
       "       '2022-11-20 00:00:00', '2021-10-03 00:00:00',\n",
       "       '2023-03-09 00:00:00', '2020-12-07 00:00:00',\n",
       "       '2022-07-14 00:00:00', '2021-12-03 00:00:00',\n",
       "       '2020-08-24 00:00:00', '2022-07-04 00:00:00',\n",
       "       '2022-07-30 00:00:00', '2021-07-08 00:00:00',\n",
       "       '2020-10-28 00:00:00', '2022-08-17 00:00:00',\n",
       "       '2020-03-19 00:00:00', '2022-04-16 00:00:00',\n",
       "       '2020-07-28 00:00:00', '2021-08-12 00:00:00',\n",
       "       '2023-03-06 00:00:00', '2022-06-28 00:00:00',\n",
       "       '2023-11-08 00:00:00', '2021-04-04 00:00:00',\n",
       "       '2022-02-24 00:00:00', '2022-08-09 00:00:00',\n",
       "       '2021-12-01 00:00:00', '2020-11-26 00:00:00',\n",
       "       '2021-07-07 00:00:00', '2022-07-23 00:00:00',\n",
       "       '2020-12-05 00:00:00', '2022-10-21 00:00:00',\n",
       "       '2023-06-05 00:00:00', '2021-12-28 00:00:00',\n",
       "       '2020-12-28 00:00:00', '2022-07-28 00:00:00',\n",
       "       '2022-06-13 00:00:00', '2023-12-29 00:00:00',\n",
       "       '2023-03-08 00:00:00', '2022-08-30 00:00:00',\n",
       "       '2020-03-20 00:00:00', '2022-01-08 00:00:00',\n",
       "       '2022-11-29 00:00:00', '2022-08-05 00:00:00',\n",
       "       '2021-03-19 00:00:00', '2022-12-28 00:00:00',\n",
       "       '2023-02-13 00:00:00', '2023-07-30 00:00:00',\n",
       "       '2021-08-29 00:00:00', '2023-07-04 00:00:00',\n",
       "       '2023-09-25 00:00:00', '2022-04-14 00:00:00',\n",
       "       '2021-01-16 00:00:00', '2023-06-26 00:00:00',\n",
       "       '2023-07-05 00:00:00', '2020-11-14 00:00:00',\n",
       "       '2020-02-21 00:00:00', '2020-11-22 00:00:00',\n",
       "       '2022-07-29 00:00:00', '2023-11-15 00:00:00',\n",
       "       '2022-10-29 00:00:00', '2022-02-09 00:00:00',\n",
       "       '2020-02-11 00:00:00', '2020-07-16 00:00:00',\n",
       "       '2020-09-04 00:00:00', '2021-05-11 00:00:00',\n",
       "       '2022-09-28 00:00:00', '2023-12-04 00:00:00',\n",
       "       '2023-04-28 00:00:00', '2020-04-06 00:00:00',\n",
       "       '2021-12-24 00:00:00', '2021-04-27 00:00:00',\n",
       "       '2020-09-11 00:00:00', '2022-06-21 00:00:00',\n",
       "       '2020-01-02 00:00:00', '2023-06-20 00:00:00',\n",
       "       '2020-06-04 00:00:00', '2022-02-07 00:00:00',\n",
       "       '2022-05-08 00:00:00', '2020-08-01 00:00:00',\n",
       "       '2022-05-25 00:00:00', '2023-05-20 00:00:00',\n",
       "       '2020-07-04 00:00:00', '2020-01-26 00:00:00',\n",
       "       '2021-02-14 00:00:00', '2020-10-08 00:00:00',\n",
       "       '2022-05-26 00:00:00', '2023-07-23 00:00:00',\n",
       "       '2020-05-20 00:00:00', '2022-10-30 00:00:00',\n",
       "       '2023-10-06 00:00:00', '2021-07-06 00:00:00',\n",
       "       '2020-07-30 00:00:00', '2022-06-08 00:00:00',\n",
       "       '2020-01-18 00:00:00', '2020-04-02 00:00:00',\n",
       "       '2023-10-27 00:00:00', '2022-09-20 00:00:00',\n",
       "       '2023-03-15 00:00:00', '2023-01-16 00:00:00',\n",
       "       '2020-12-31 00:00:00', '2022-01-14 00:00:00',\n",
       "       '2022-07-16 00:00:00', '2022-09-13 00:00:00',\n",
       "       '2020-01-13 00:00:00', '2020-03-08 00:00:00',\n",
       "       '2022-06-04 00:00:00', '2021-10-28 00:00:00',\n",
       "       '2020-01-03 00:00:00', '2021-05-27 00:00:00',\n",
       "       '2023-01-18 00:00:00', '2022-12-02 00:00:00',\n",
       "       '2020-09-20 00:00:00', '2023-09-16 00:00:00',\n",
       "       '2023-12-19 00:00:00', '2023-09-22 00:00:00',\n",
       "       '2020-09-18 00:00:00', '2021-05-15 00:00:00',\n",
       "       '2022-11-07 00:00:00', '2022-09-25 00:00:00',\n",
       "       '2022-01-29 00:00:00', '2020-02-14 00:00:00',\n",
       "       '2021-08-16 00:00:00'], dtype=object)"
      ]
     },
     "execution_count": 59,
     "metadata": {},
     "output_type": "execute_result"
    }
   ],
   "source": [
    "df.SaleDate.unique()"
   ]
  },
  {
   "cell_type": "markdown",
   "metadata": {},
   "source": [
    "SaleDate sütunundaki bazı satırlar **\"Unknown\"** ve **\"TBD\"** gibi değerlere sahip. Bu değerler **NaN** veya **NaT** değerlerine çevrilebilir."
   ]
  },
  {
   "cell_type": "code",
   "execution_count": 61,
   "metadata": {},
   "outputs": [],
   "source": [
    "# \"Unknown\" ve \"TBD\" değerlerini NaT (Not a time) değeri olarak değiştirme\n",
    "\n",
    "df[\"SaleDate\"] = df.SaleDate.replace([\"Unknown\", \"TBD\"], pd.NaT)"
   ]
  },
  {
   "cell_type": "code",
   "execution_count": 62,
   "metadata": {},
   "outputs": [],
   "source": [
    "# SaleDate sütununun dtype'ını datatime olarak değiştirme\n",
    "\n",
    "df[\"SaleDate\"] = pd.to_datetime(df[\"SaleDate\"])"
   ]
  },
  {
   "cell_type": "code",
   "execution_count": 63,
   "metadata": {},
   "outputs": [
    {
     "data": {
      "text/html": [
       "<div>\n",
       "<style scoped>\n",
       "    .dataframe tbody tr th:only-of-type {\n",
       "        vertical-align: middle;\n",
       "    }\n",
       "\n",
       "    .dataframe tbody tr th {\n",
       "        vertical-align: top;\n",
       "    }\n",
       "\n",
       "    .dataframe thead th {\n",
       "        text-align: right;\n",
       "    }\n",
       "</style>\n",
       "<table border=\"1\" class=\"dataframe\">\n",
       "  <thead>\n",
       "    <tr style=\"text-align: right;\">\n",
       "      <th></th>\n",
       "      <th>OrderID</th>\n",
       "      <th>ProductID</th>\n",
       "      <th>ProductName</th>\n",
       "      <th>UnitPrice</th>\n",
       "      <th>Quantity</th>\n",
       "      <th>Discount</th>\n",
       "      <th>CustomerID</th>\n",
       "      <th>SaleDate</th>\n",
       "      <th>Salesperson</th>\n",
       "      <th>Region</th>\n",
       "    </tr>\n",
       "  </thead>\n",
       "  <tbody>\n",
       "    <tr>\n",
       "      <th>84</th>\n",
       "      <td>ORD00046</td>\n",
       "      <td>PRD309</td>\n",
       "      <td>Smartphone</td>\n",
       "      <td>253.59</td>\n",
       "      <td>11</td>\n",
       "      <td>0.15</td>\n",
       "      <td>CUST6084</td>\n",
       "      <td>2022-05-17</td>\n",
       "      <td>Bob</td>\n",
       "      <td>North</td>\n",
       "    </tr>\n",
       "    <tr>\n",
       "      <th>445</th>\n",
       "      <td>ORD00021</td>\n",
       "      <td>PRD873</td>\n",
       "      <td>Headphones</td>\n",
       "      <td>975.21</td>\n",
       "      <td>3</td>\n",
       "      <td>0.20</td>\n",
       "      <td>CUST1405</td>\n",
       "      <td>2023-06-20</td>\n",
       "      <td>Evan</td>\n",
       "      <td>North</td>\n",
       "    </tr>\n",
       "    <tr>\n",
       "      <th>297</th>\n",
       "      <td>ORD00356</td>\n",
       "      <td>PRD818</td>\n",
       "      <td>Smartphone</td>\n",
       "      <td>573.37</td>\n",
       "      <td>13</td>\n",
       "      <td>0.10</td>\n",
       "      <td>CUST3383</td>\n",
       "      <td>2021-09-28</td>\n",
       "      <td>Diana</td>\n",
       "      <td>West</td>\n",
       "    </tr>\n",
       "    <tr>\n",
       "      <th>123</th>\n",
       "      <td>ORD00111</td>\n",
       "      <td>PRD710</td>\n",
       "      <td>Smartphone</td>\n",
       "      <td>386.09</td>\n",
       "      <td>11</td>\n",
       "      <td>0.05</td>\n",
       "      <td>CUST9886</td>\n",
       "      <td>2020-05-15</td>\n",
       "      <td>Daina</td>\n",
       "      <td>Central</td>\n",
       "    </tr>\n",
       "    <tr>\n",
       "      <th>5</th>\n",
       "      <td>ORD00216</td>\n",
       "      <td>PRD720</td>\n",
       "      <td>Headphones</td>\n",
       "      <td>604.87</td>\n",
       "      <td>6</td>\n",
       "      <td>0.05</td>\n",
       "      <td>CUST8821</td>\n",
       "      <td>2021-08-21</td>\n",
       "      <td>Alice</td>\n",
       "      <td>Central</td>\n",
       "    </tr>\n",
       "  </tbody>\n",
       "</table>\n",
       "</div>"
      ],
      "text/plain": [
       "      OrderID ProductID ProductName  UnitPrice  Quantity  Discount CustomerID  \\\n",
       "84   ORD00046    PRD309  Smartphone     253.59        11      0.15   CUST6084   \n",
       "445  ORD00021    PRD873  Headphones     975.21         3      0.20   CUST1405   \n",
       "297  ORD00356    PRD818  Smartphone     573.37        13      0.10   CUST3383   \n",
       "123  ORD00111    PRD710  Smartphone     386.09        11      0.05   CUST9886   \n",
       "5    ORD00216    PRD720  Headphones     604.87         6      0.05   CUST8821   \n",
       "\n",
       "      SaleDate Salesperson   Region  \n",
       "84  2022-05-17         Bob    North  \n",
       "445 2023-06-20        Evan    North  \n",
       "297 2021-09-28       Diana     West  \n",
       "123 2020-05-15       Daina  Central  \n",
       "5   2021-08-21       Alice  Central  "
      ]
     },
     "execution_count": 63,
     "metadata": {},
     "output_type": "execute_result"
    }
   ],
   "source": [
    "df.sample(5)"
   ]
  },
  {
   "cell_type": "markdown",
   "metadata": {},
   "source": [
    "## <font color='royalblue'> <b>SalesPerson</b><font color='black'> "
   ]
  },
  {
   "cell_type": "markdown",
   "metadata": {},
   "source": [
    "İlk olarak Salesperson sütununun ismini diğer sütunlarım yazım stili gibi değiştirelim."
   ]
  },
  {
   "cell_type": "code",
   "execution_count": 66,
   "metadata": {},
   "outputs": [],
   "source": [
    "df.rename(columns={\"Salesperson\": \"SalesPerson\"}, inplace=True)"
   ]
  },
  {
   "cell_type": "code",
   "execution_count": 67,
   "metadata": {},
   "outputs": [],
   "source": [
    "df[\"SalesPerson\"] = df[\"SalesPerson\"].str.strip()"
   ]
  },
  {
   "cell_type": "code",
   "execution_count": 68,
   "metadata": {},
   "outputs": [
    {
     "data": {
      "text/plain": [
       "array([nan, 'Charlie', 'Alice', 'Evan', 'Daina', 'Eavn', 'Diana', 'Bob',\n",
       "       'Ailce', 'Bbo'], dtype=object)"
      ]
     },
     "execution_count": 68,
     "metadata": {},
     "output_type": "execute_result"
    }
   ],
   "source": [
    "df.SalesPerson.unique()"
   ]
  },
  {
   "cell_type": "markdown",
   "metadata": {},
   "source": [
    "Yukarıdaki çıktıda bazı isimler yanlış yazılmış. Bu değerleri doğru yazımları ile değiştirelim."
   ]
  },
  {
   "cell_type": "code",
   "execution_count": 70,
   "metadata": {},
   "outputs": [],
   "source": [
    "df[\"SalesPerson\"] = df.SalesPerson.replace([\"Bbo\", \"Eavn\", \"Chalrie\", \"Ailce\", \"Daina\"], [\"Bob\", \"Evan\", \"Charlie\", \"Alice\", \"Diana\"])"
   ]
  },
  {
   "cell_type": "code",
   "execution_count": 71,
   "metadata": {},
   "outputs": [
    {
     "data": {
      "text/html": [
       "<div>\n",
       "<style scoped>\n",
       "    .dataframe tbody tr th:only-of-type {\n",
       "        vertical-align: middle;\n",
       "    }\n",
       "\n",
       "    .dataframe tbody tr th {\n",
       "        vertical-align: top;\n",
       "    }\n",
       "\n",
       "    .dataframe thead th {\n",
       "        text-align: right;\n",
       "    }\n",
       "</style>\n",
       "<table border=\"1\" class=\"dataframe\">\n",
       "  <thead>\n",
       "    <tr style=\"text-align: right;\">\n",
       "      <th></th>\n",
       "      <th>OrderID</th>\n",
       "      <th>ProductID</th>\n",
       "      <th>ProductName</th>\n",
       "      <th>UnitPrice</th>\n",
       "      <th>Quantity</th>\n",
       "      <th>Discount</th>\n",
       "      <th>CustomerID</th>\n",
       "      <th>SaleDate</th>\n",
       "      <th>SalesPerson</th>\n",
       "      <th>Region</th>\n",
       "    </tr>\n",
       "  </thead>\n",
       "  <tbody>\n",
       "    <tr>\n",
       "      <th>328</th>\n",
       "      <td>ORD00472</td>\n",
       "      <td>PRD445</td>\n",
       "      <td>NaN</td>\n",
       "      <td>533.82</td>\n",
       "      <td>17</td>\n",
       "      <td>0.05</td>\n",
       "      <td>CUST9132</td>\n",
       "      <td>2021-11-25</td>\n",
       "      <td>Bob</td>\n",
       "      <td>West</td>\n",
       "    </tr>\n",
       "    <tr>\n",
       "      <th>17</th>\n",
       "      <td>ORD00210</td>\n",
       "      <td>PRD500</td>\n",
       "      <td>Laptop</td>\n",
       "      <td>681.06</td>\n",
       "      <td>3</td>\n",
       "      <td>0.20</td>\n",
       "      <td>CUST5411</td>\n",
       "      <td>2021-01-06</td>\n",
       "      <td>Charlie</td>\n",
       "      <td>North</td>\n",
       "    </tr>\n",
       "    <tr>\n",
       "      <th>286</th>\n",
       "      <td>ORD00013</td>\n",
       "      <td>PRD588</td>\n",
       "      <td>Headphones</td>\n",
       "      <td>1413.05</td>\n",
       "      <td>15</td>\n",
       "      <td>0.15</td>\n",
       "      <td>CUST4868</td>\n",
       "      <td>2021-09-21</td>\n",
       "      <td>Evan</td>\n",
       "      <td>South</td>\n",
       "    </tr>\n",
       "    <tr>\n",
       "      <th>260</th>\n",
       "      <td>ORD00085</td>\n",
       "      <td>PRD656</td>\n",
       "      <td>Camera</td>\n",
       "      <td>193.16</td>\n",
       "      <td>13</td>\n",
       "      <td>0.20</td>\n",
       "      <td>CUST1670</td>\n",
       "      <td>2021-01-10</td>\n",
       "      <td>Bob</td>\n",
       "      <td>East</td>\n",
       "    </tr>\n",
       "    <tr>\n",
       "      <th>339</th>\n",
       "      <td>ORD00454</td>\n",
       "      <td>PRD829</td>\n",
       "      <td>Camera</td>\n",
       "      <td>425.91</td>\n",
       "      <td>6</td>\n",
       "      <td>0.15</td>\n",
       "      <td>CUST4237</td>\n",
       "      <td>2022-11-20</td>\n",
       "      <td>Diana</td>\n",
       "      <td>East</td>\n",
       "    </tr>\n",
       "  </tbody>\n",
       "</table>\n",
       "</div>"
      ],
      "text/plain": [
       "      OrderID ProductID ProductName  UnitPrice  Quantity  Discount CustomerID  \\\n",
       "328  ORD00472    PRD445         NaN     533.82        17      0.05   CUST9132   \n",
       "17   ORD00210    PRD500      Laptop     681.06         3      0.20   CUST5411   \n",
       "286  ORD00013    PRD588  Headphones    1413.05        15      0.15   CUST4868   \n",
       "260  ORD00085    PRD656      Camera     193.16        13      0.20   CUST1670   \n",
       "339  ORD00454    PRD829      Camera     425.91         6      0.15   CUST4237   \n",
       "\n",
       "      SaleDate SalesPerson Region  \n",
       "328 2021-11-25         Bob   West  \n",
       "17  2021-01-06     Charlie  North  \n",
       "286 2021-09-21        Evan  South  \n",
       "260 2021-01-10         Bob   East  \n",
       "339 2022-11-20       Diana   East  "
      ]
     },
     "execution_count": 71,
     "metadata": {},
     "output_type": "execute_result"
    }
   ],
   "source": [
    "df.sample(5)"
   ]
  },
  {
   "cell_type": "code",
   "execution_count": 72,
   "metadata": {},
   "outputs": [
    {
     "data": {
      "text/plain": [
       "SalesPerson\n",
       "Diana      98\n",
       "Alice      94\n",
       "Charlie    83\n",
       "Evan       81\n",
       "Bob        80\n",
       "Name: count, dtype: int64"
      ]
     },
     "execution_count": 72,
     "metadata": {},
     "output_type": "execute_result"
    }
   ],
   "source": [
    "df.SalesPerson.value_counts()"
   ]
  },
  {
   "cell_type": "markdown",
   "metadata": {},
   "source": [
    "## <font color='royalblue'> <b>Region</b><font color='black'> "
   ]
  },
  {
   "cell_type": "code",
   "execution_count": 74,
   "metadata": {},
   "outputs": [],
   "source": [
    "df[\"Region\"] = df[\"Region\"].str.strip()"
   ]
  },
  {
   "cell_type": "code",
   "execution_count": 75,
   "metadata": {},
   "outputs": [
    {
     "data": {
      "text/plain": [
       "array(['North', 'West', 'Central', 'South', 'East'], dtype=object)"
      ]
     },
     "execution_count": 75,
     "metadata": {},
     "output_type": "execute_result"
    }
   ],
   "source": [
    "df.Region.unique()"
   ]
  },
  {
   "cell_type": "code",
   "execution_count": 76,
   "metadata": {},
   "outputs": [
    {
     "data": {
      "text/plain": [
       "Region\n",
       "East       108\n",
       "West       103\n",
       "South      102\n",
       "Central     87\n",
       "North       85\n",
       "Name: count, dtype: int64"
      ]
     },
     "execution_count": 76,
     "metadata": {},
     "output_type": "execute_result"
    }
   ],
   "source": [
    "df.Region.value_counts()"
   ]
  },
  {
   "cell_type": "code",
   "execution_count": 77,
   "metadata": {},
   "outputs": [
    {
     "name": "stdout",
     "output_type": "stream",
     "text": [
      "<class 'pandas.core.frame.DataFrame'>\n",
      "Index: 485 entries, 0 to 524\n",
      "Data columns (total 10 columns):\n",
      " #   Column       Non-Null Count  Dtype         \n",
      "---  ------       --------------  -----         \n",
      " 0   OrderID      485 non-null    object        \n",
      " 1   ProductID    485 non-null    object        \n",
      " 2   ProductName  453 non-null    object        \n",
      " 3   UnitPrice    394 non-null    float64       \n",
      " 4   Quantity     485 non-null    int64         \n",
      " 5   Discount     485 non-null    float64       \n",
      " 6   CustomerID   435 non-null    object        \n",
      " 7   SaleDate     463 non-null    datetime64[ns]\n",
      " 8   SalesPerson  436 non-null    object        \n",
      " 9   Region       485 non-null    object        \n",
      "dtypes: datetime64[ns](1), float64(2), int64(1), object(6)\n",
      "memory usage: 41.7+ KB\n"
     ]
    }
   ],
   "source": [
    "# sütunları düzenledikten sonra veri seti bilgileri\n",
    "df.info()"
   ]
  },
  {
   "cell_type": "markdown",
   "metadata": {},
   "source": [
    "<a id='nan-values'></a>\n",
    "# <font color='navy'> <b>NaN Değerler</b><font color='black'> "
   ]
  },
  {
   "cell_type": "code",
   "execution_count": 79,
   "metadata": {},
   "outputs": [
    {
     "data": {
      "text/html": [
       "<div>\n",
       "<style scoped>\n",
       "    .dataframe tbody tr th:only-of-type {\n",
       "        vertical-align: middle;\n",
       "    }\n",
       "\n",
       "    .dataframe tbody tr th {\n",
       "        vertical-align: top;\n",
       "    }\n",
       "\n",
       "    .dataframe thead th {\n",
       "        text-align: right;\n",
       "    }\n",
       "</style>\n",
       "<table border=\"1\" class=\"dataframe\">\n",
       "  <thead>\n",
       "    <tr style=\"text-align: right;\">\n",
       "      <th></th>\n",
       "      <th>OrderID</th>\n",
       "      <th>ProductID</th>\n",
       "      <th>ProductName</th>\n",
       "      <th>UnitPrice</th>\n",
       "      <th>Quantity</th>\n",
       "      <th>Discount</th>\n",
       "      <th>CustomerID</th>\n",
       "      <th>SaleDate</th>\n",
       "      <th>SalesPerson</th>\n",
       "      <th>Region</th>\n",
       "    </tr>\n",
       "  </thead>\n",
       "  <tbody>\n",
       "    <tr>\n",
       "      <th>292</th>\n",
       "      <td>ORD00078</td>\n",
       "      <td>PRD295</td>\n",
       "      <td>Smartphone</td>\n",
       "      <td>NaN</td>\n",
       "      <td>8</td>\n",
       "      <td>0.15</td>\n",
       "      <td>CUST5524</td>\n",
       "      <td>2020-11-24</td>\n",
       "      <td>Charlie</td>\n",
       "      <td>South</td>\n",
       "    </tr>\n",
       "    <tr>\n",
       "      <th>435</th>\n",
       "      <td>ORD00323</td>\n",
       "      <td>PRD766</td>\n",
       "      <td>Smartphone</td>\n",
       "      <td>0.00</td>\n",
       "      <td>6</td>\n",
       "      <td>0.20</td>\n",
       "      <td>CUST5841</td>\n",
       "      <td>2022-09-28</td>\n",
       "      <td>NaN</td>\n",
       "      <td>South</td>\n",
       "    </tr>\n",
       "    <tr>\n",
       "      <th>407</th>\n",
       "      <td>ORD00159</td>\n",
       "      <td>PRD776</td>\n",
       "      <td>Smartphone</td>\n",
       "      <td>562.52</td>\n",
       "      <td>13</td>\n",
       "      <td>0.20</td>\n",
       "      <td>CUST9497</td>\n",
       "      <td>2021-08-29</td>\n",
       "      <td>Charlie</td>\n",
       "      <td>West</td>\n",
       "    </tr>\n",
       "    <tr>\n",
       "      <th>80</th>\n",
       "      <td>ORD00117</td>\n",
       "      <td>PRD397</td>\n",
       "      <td>Smartphone</td>\n",
       "      <td>462.61</td>\n",
       "      <td>18</td>\n",
       "      <td>0.20</td>\n",
       "      <td>CUST8693</td>\n",
       "      <td>2020-05-26</td>\n",
       "      <td>Diana</td>\n",
       "      <td>East</td>\n",
       "    </tr>\n",
       "    <tr>\n",
       "      <th>373</th>\n",
       "      <td>ORD00247</td>\n",
       "      <td>PRD710</td>\n",
       "      <td>Camera</td>\n",
       "      <td>713.39</td>\n",
       "      <td>10</td>\n",
       "      <td>0.20</td>\n",
       "      <td>CUST7095</td>\n",
       "      <td>2020-11-26</td>\n",
       "      <td>Alice</td>\n",
       "      <td>West</td>\n",
       "    </tr>\n",
       "    <tr>\n",
       "      <th>509</th>\n",
       "      <td>ORD00217</td>\n",
       "      <td>PRD122</td>\n",
       "      <td>Smartwatch</td>\n",
       "      <td>NaN</td>\n",
       "      <td>5</td>\n",
       "      <td>0.00</td>\n",
       "      <td>CUST6640</td>\n",
       "      <td>2023-09-16</td>\n",
       "      <td>Alice</td>\n",
       "      <td>South</td>\n",
       "    </tr>\n",
       "    <tr>\n",
       "      <th>329</th>\n",
       "      <td>ORD00332</td>\n",
       "      <td>PRD328</td>\n",
       "      <td>NaN</td>\n",
       "      <td>278.23</td>\n",
       "      <td>3</td>\n",
       "      <td>0.05</td>\n",
       "      <td>CUST5972</td>\n",
       "      <td>2020-10-12</td>\n",
       "      <td>Charlie</td>\n",
       "      <td>West</td>\n",
       "    </tr>\n",
       "    <tr>\n",
       "      <th>85</th>\n",
       "      <td>ORD00235</td>\n",
       "      <td>PRD171</td>\n",
       "      <td>Smartphone</td>\n",
       "      <td>1239.95</td>\n",
       "      <td>11</td>\n",
       "      <td>0.15</td>\n",
       "      <td>CUST9395</td>\n",
       "      <td>2020-07-12</td>\n",
       "      <td>Alice</td>\n",
       "      <td>East</td>\n",
       "    </tr>\n",
       "    <tr>\n",
       "      <th>166</th>\n",
       "      <td>ORD00201</td>\n",
       "      <td>PRD175</td>\n",
       "      <td>NaN</td>\n",
       "      <td>115.20</td>\n",
       "      <td>4</td>\n",
       "      <td>0.00</td>\n",
       "      <td>CUST9498</td>\n",
       "      <td>2022-02-15</td>\n",
       "      <td>Alice</td>\n",
       "      <td>South</td>\n",
       "    </tr>\n",
       "    <tr>\n",
       "      <th>275</th>\n",
       "      <td>ORD00169</td>\n",
       "      <td>PRD701</td>\n",
       "      <td>Smartwatch</td>\n",
       "      <td>NaN</td>\n",
       "      <td>14</td>\n",
       "      <td>0.10</td>\n",
       "      <td>CUST3554</td>\n",
       "      <td>2022-05-28</td>\n",
       "      <td>Diana</td>\n",
       "      <td>East</td>\n",
       "    </tr>\n",
       "  </tbody>\n",
       "</table>\n",
       "</div>"
      ],
      "text/plain": [
       "      OrderID ProductID ProductName  UnitPrice  Quantity  Discount CustomerID  \\\n",
       "292  ORD00078    PRD295  Smartphone        NaN         8      0.15   CUST5524   \n",
       "435  ORD00323    PRD766  Smartphone       0.00         6      0.20   CUST5841   \n",
       "407  ORD00159    PRD776  Smartphone     562.52        13      0.20   CUST9497   \n",
       "80   ORD00117    PRD397  Smartphone     462.61        18      0.20   CUST8693   \n",
       "373  ORD00247    PRD710      Camera     713.39        10      0.20   CUST7095   \n",
       "509  ORD00217    PRD122  Smartwatch        NaN         5      0.00   CUST6640   \n",
       "329  ORD00332    PRD328         NaN     278.23         3      0.05   CUST5972   \n",
       "85   ORD00235    PRD171  Smartphone    1239.95        11      0.15   CUST9395   \n",
       "166  ORD00201    PRD175         NaN     115.20         4      0.00   CUST9498   \n",
       "275  ORD00169    PRD701  Smartwatch        NaN        14      0.10   CUST3554   \n",
       "\n",
       "      SaleDate SalesPerson Region  \n",
       "292 2020-11-24     Charlie  South  \n",
       "435 2022-09-28         NaN  South  \n",
       "407 2021-08-29     Charlie   West  \n",
       "80  2020-05-26       Diana   East  \n",
       "373 2020-11-26       Alice   West  \n",
       "509 2023-09-16       Alice  South  \n",
       "329 2020-10-12     Charlie   West  \n",
       "85  2020-07-12       Alice   East  \n",
       "166 2022-02-15       Alice  South  \n",
       "275 2022-05-28       Diana   East  "
      ]
     },
     "execution_count": 79,
     "metadata": {},
     "output_type": "execute_result"
    }
   ],
   "source": [
    "df.sample(10)"
   ]
  },
  {
   "cell_type": "code",
   "execution_count": 80,
   "metadata": {},
   "outputs": [
    {
     "data": {
      "text/plain": [
       "OrderID         0\n",
       "ProductID       0\n",
       "ProductName    32\n",
       "UnitPrice      91\n",
       "Quantity        0\n",
       "Discount        0\n",
       "CustomerID     50\n",
       "SaleDate       22\n",
       "SalesPerson    49\n",
       "Region          0\n",
       "dtype: int64"
      ]
     },
     "execution_count": 80,
     "metadata": {},
     "output_type": "execute_result"
    }
   ],
   "source": [
    "df.isnull().sum()"
   ]
  },
  {
   "cell_type": "markdown",
   "metadata": {},
   "source": [
    "**ProductName, UnitPrice, CustomerID, SaleDate, SalesPerson** sütunlarında NaN değerler bulunmaktadır.\n",
    " - CustomerID sütunundaki değerler unique değerler olduğundan dolayı bu sütunda bulunan NaN değerlerin herhangi bir metot ile doldurulması mantıklı olmaz.\n",
    " - SaleDate sütunundaki NaN değerleri bir önceki veya bir sonraki ile doldurma yöntemiyle doldurabiliriz.\n",
    " - SalesPerson sütunundaki NaN değerleri yıl ve bölge bazında en fazla satış yapan personele göre doldurabiliriz.\n",
    " - ProductName sütunundaki NaN değerleri ProductID veya UnitPrice'a göre doldurabiliriz.\n",
    " - UnitPrice sütunundaki NaN değerleri ProductName'e göre ürünlerin medyan UnitPrice'ını bularak doldurabiliriz."
   ]
  },
  {
   "cell_type": "markdown",
   "metadata": {},
   "source": [
    "## <font color='royalblue'> <b>SaleDate</b><font color='black'> "
   ]
  },
  {
   "cell_type": "markdown",
   "metadata": {},
   "source": [
    "Bu sütundaki NaN değerleri ileri doldurma (forward fill) yöntemi ile doldurabiliriz."
   ]
  },
  {
   "cell_type": "code",
   "execution_count": 84,
   "metadata": {},
   "outputs": [],
   "source": [
    "df['SaleDate'] = df['SaleDate'].fillna(method='ffill')"
   ]
  },
  {
   "cell_type": "code",
   "execution_count": 85,
   "metadata": {},
   "outputs": [
    {
     "data": {
      "text/plain": [
       "0"
      ]
     },
     "execution_count": 85,
     "metadata": {},
     "output_type": "execute_result"
    }
   ],
   "source": [
    "df.SaleDate.isnull().sum()"
   ]
  },
  {
   "cell_type": "markdown",
   "metadata": {},
   "source": [
    "## <font color='royalblue'> <b>SalesPerson</b><font color='black'> "
   ]
  },
  {
   "cell_type": "markdown",
   "metadata": {},
   "source": [
    "NaN değerlerini **Yıl (Year)** ve **Bölge (Region)** bazında en çok satış yapan kişiye göre doldurabiliriz."
   ]
  },
  {
   "cell_type": "code",
   "execution_count": 88,
   "metadata": {},
   "outputs": [],
   "source": [
    "# \"Year\" adında yeni bir sütun oluşturma\n",
    "\n",
    "df[\"Year\"] = df['SaleDate'].dt.year"
   ]
  },
  {
   "cell_type": "code",
   "execution_count": 89,
   "metadata": {},
   "outputs": [
    {
     "data": {
      "text/plain": [
       "Year  SalesPerson\n",
       "2020  Alice          27\n",
       "      Evan           24\n",
       "      Diana          22\n",
       "      Bob            21\n",
       "      Charlie        12\n",
       "2021  Alice          25\n",
       "      Bob            24\n",
       "      Charlie        24\n",
       "      Evan           23\n",
       "      Diana          20\n",
       "2022  Diana          29\n",
       "      Charlie        24\n",
       "      Alice          21\n",
       "      Bob            19\n",
       "      Evan           18\n",
       "2023  Diana          27\n",
       "      Charlie        23\n",
       "      Alice          21\n",
       "      Bob            16\n",
       "      Evan           16\n",
       "Name: count, dtype: int64"
      ]
     },
     "execution_count": 89,
     "metadata": {},
     "output_type": "execute_result"
    }
   ],
   "source": [
    "df.groupby([\"Year\"])[\"SalesPerson\"].value_counts()"
   ]
  },
  {
   "cell_type": "code",
   "execution_count": 90,
   "metadata": {},
   "outputs": [
    {
     "data": {
      "text/plain": [
       "Region   SalesPerson\n",
       "Central  Alice          20\n",
       "         Diana          17\n",
       "         Charlie        13\n",
       "         Evan           13\n",
       "         Bob            11\n",
       "East     Alice          23\n",
       "         Bob            22\n",
       "         Diana          22\n",
       "         Evan           17\n",
       "         Charlie        16\n",
       "North    Charlie        24\n",
       "         Alice          16\n",
       "         Bob            13\n",
       "         Evan           12\n",
       "         Diana          11\n",
       "South    Diana          29\n",
       "         Charlie        18\n",
       "         Evan           17\n",
       "         Alice          16\n",
       "         Bob            14\n",
       "West     Evan           22\n",
       "         Bob            20\n",
       "         Alice          19\n",
       "         Diana          19\n",
       "         Charlie        12\n",
       "Name: count, dtype: int64"
      ]
     },
     "execution_count": 90,
     "metadata": {},
     "output_type": "execute_result"
    }
   ],
   "source": [
    "df.groupby([\"Region\"])[\"SalesPerson\"].value_counts()"
   ]
  },
  {
   "cell_type": "code",
   "execution_count": 91,
   "metadata": {
    "scrolled": true
   },
   "outputs": [
    {
     "data": {
      "text/plain": [
       "Year  Region   SalesPerson\n",
       "2020  Central  Diana           7\n",
       "               Alice           3\n",
       "               Bob             3\n",
       "               Evan            2\n",
       "               Charlie         1\n",
       "      East     Alice           7\n",
       "               Bob             5\n",
       "               Diana           5\n",
       "               Evan            4\n",
       "               Charlie         1\n",
       "      North    Alice           7\n",
       "               Evan            7\n",
       "               Bob             4\n",
       "               Charlie         3\n",
       "               Diana           1\n",
       "      South    Diana           6\n",
       "               Evan            6\n",
       "               Bob             5\n",
       "               Alice           4\n",
       "               Charlie         4\n",
       "      West     Alice           6\n",
       "               Evan            5\n",
       "               Bob             4\n",
       "               Charlie         3\n",
       "               Diana           3\n",
       "2021  Central  Alice           6\n",
       "               Bob             3\n",
       "               Charlie         3\n",
       "               Diana           3\n",
       "               Evan            3\n",
       "      East     Alice           8\n",
       "               Bob             7\n",
       "               Evan            7\n",
       "               Charlie         4\n",
       "               Diana           2\n",
       "      North    Charlie        11\n",
       "               Bob             5\n",
       "               Diana           2\n",
       "               Alice           1\n",
       "               Evan            1\n",
       "      South    Diana          10\n",
       "               Alice           5\n",
       "               Bob             4\n",
       "               Charlie         3\n",
       "               Evan            3\n",
       "      West     Evan            9\n",
       "               Alice           5\n",
       "               Bob             5\n",
       "               Charlie         3\n",
       "               Diana           3\n",
       "2022  Central  Alice           7\n",
       "               Evan            5\n",
       "               Charlie         4\n",
       "               Diana           3\n",
       "      East     Diana           8\n",
       "               Bob             6\n",
       "               Charlie         5\n",
       "               Alice           3\n",
       "               Evan            3\n",
       "      North    Charlie         6\n",
       "               Diana           5\n",
       "               Alice           4\n",
       "               Bob             4\n",
       "               Evan            1\n",
       "      South    Evan            8\n",
       "               Charlie         7\n",
       "               Diana           7\n",
       "               Alice           4\n",
       "               Bob             1\n",
       "      West     Bob             8\n",
       "               Diana           6\n",
       "               Alice           3\n",
       "               Charlie         2\n",
       "               Evan            1\n",
       "2023  Central  Bob             5\n",
       "               Charlie         5\n",
       "               Alice           4\n",
       "               Diana           4\n",
       "               Evan            3\n",
       "      East     Diana           7\n",
       "               Charlie         6\n",
       "               Alice           5\n",
       "               Bob             4\n",
       "               Evan            3\n",
       "      North    Alice           4\n",
       "               Charlie         4\n",
       "               Diana           3\n",
       "               Evan            3\n",
       "      South    Diana           6\n",
       "               Bob             4\n",
       "               Charlie         4\n",
       "               Alice           3\n",
       "      West     Diana           7\n",
       "               Evan            7\n",
       "               Alice           5\n",
       "               Charlie         4\n",
       "               Bob             3\n",
       "Name: count, dtype: int64"
      ]
     },
     "execution_count": 91,
     "metadata": {},
     "output_type": "execute_result"
    }
   ],
   "source": [
    "df.groupby([\"Year\", \"Region\"])[\"SalesPerson\"].value_counts()"
   ]
  },
  {
   "cell_type": "code",
   "execution_count": 92,
   "metadata": {},
   "outputs": [],
   "source": [
    "df['SalesPerson'] = df.groupby([\"Year\", \"Region\"])[\"SalesPerson\"].transform(lambda x: x.fillna(x.mode()[0] if not x.mode().empty else np.nan))"
   ]
  },
  {
   "cell_type": "code",
   "execution_count": 93,
   "metadata": {},
   "outputs": [
    {
     "data": {
      "text/plain": [
       "0"
      ]
     },
     "execution_count": 93,
     "metadata": {},
     "output_type": "execute_result"
    }
   ],
   "source": [
    "df.SalesPerson.isnull().sum()"
   ]
  },
  {
   "cell_type": "markdown",
   "metadata": {},
   "source": [
    "## <font color='royalblue'> <b>ProductName</b><font color='black'> "
   ]
  },
  {
   "cell_type": "code",
   "execution_count": 95,
   "metadata": {},
   "outputs": [],
   "source": [
    "# eğer NaN değerin ProductID'si başka bir ürünün id'si ile eşleşiyorsa NaN değeri o ürün adıyla doldurabiliriz.\n",
    "\n",
    "product_id_to_name = df.dropna(subset=['ProductName']).set_index('ProductID')['ProductName'].to_dict()\n",
    "\n",
    "def fill_product_name(row):\n",
    "    if pd.isna(row['ProductName']):\n",
    "        return product_id_to_name.get(row['ProductID'], np.nan)\n",
    "    else:\n",
    "        return row['ProductName']\n",
    "\n",
    "df['ProductName'] = df.apply(fill_product_name, axis=1)"
   ]
  },
  {
   "cell_type": "code",
   "execution_count": 96,
   "metadata": {},
   "outputs": [],
   "source": [
    "# Eğer NaN değerin ProdutID'si hiçbir ürün ile eşleşmiyorsa her ürün için UnitPrice'ın medyan değerini hesaplayarak\n",
    "# NaN değerin UnitPrice'ı hangi medyan değerine yakın olursa o ürün ismi ile NaN değeri doldurabiliriz.\n",
    "\n",
    "median_prices = df.groupby('ProductName')['UnitPrice'].median()\n",
    "\n",
    "def fill_product_name(row):\n",
    "    if pd.isna(row['ProductName']):\n",
    "        distances = {name: abs(price - row['UnitPrice']) for name, price in median_prices.items()}\n",
    "        closest_product = min(distances, key=distances.get)\n",
    "        return closest_product\n",
    "    else:\n",
    "        return row['ProductName']\n",
    "\n",
    "df['ProductName'] = df.apply(fill_product_name, axis=1)"
   ]
  },
  {
   "cell_type": "code",
   "execution_count": 97,
   "metadata": {},
   "outputs": [
    {
     "data": {
      "text/plain": [
       "0"
      ]
     },
     "execution_count": 97,
     "metadata": {},
     "output_type": "execute_result"
    }
   ],
   "source": [
    "df.ProductName.isnull().sum()"
   ]
  },
  {
   "cell_type": "code",
   "execution_count": 98,
   "metadata": {},
   "outputs": [
    {
     "name": "stdout",
     "output_type": "stream",
     "text": [
      "<class 'pandas.core.frame.DataFrame'>\n",
      "Index: 485 entries, 0 to 524\n",
      "Data columns (total 11 columns):\n",
      " #   Column       Non-Null Count  Dtype         \n",
      "---  ------       --------------  -----         \n",
      " 0   OrderID      485 non-null    object        \n",
      " 1   ProductID    485 non-null    object        \n",
      " 2   ProductName  485 non-null    object        \n",
      " 3   UnitPrice    394 non-null    float64       \n",
      " 4   Quantity     485 non-null    int64         \n",
      " 5   Discount     485 non-null    float64       \n",
      " 6   CustomerID   435 non-null    object        \n",
      " 7   SaleDate     485 non-null    datetime64[ns]\n",
      " 8   SalesPerson  485 non-null    object        \n",
      " 9   Region       485 non-null    object        \n",
      " 10  Year         485 non-null    int32         \n",
      "dtypes: datetime64[ns](1), float64(2), int32(1), int64(1), object(6)\n",
      "memory usage: 43.6+ KB\n"
     ]
    }
   ],
   "source": [
    "df.info()"
   ]
  },
  {
   "cell_type": "markdown",
   "metadata": {},
   "source": [
    "## <font color='royalblue'> <b>ProductID</b><font color='black'> "
   ]
  },
  {
   "cell_type": "markdown",
   "metadata": {},
   "source": [
    "ProductID sütununda NaN değeri yok. Ancak her ürün için tek bir Ürün Kimliği bulunmalıdır. Aynı ürünlerin farklı Ürün Kimlikleri olmamalıdır. Bu veri setinde \"Marka\" veya \"Sürüm\" adında başka bir sütun olsaydı aynı ürünlerin farklı marka veya versiyonları için başka bir ürün kimliği tanımlanabilirdi. Ancak bu veri setinde her ürün için bir ürün ID’si tanımlamak daha mantıklı olacaktır."
   ]
  },
  {
   "cell_type": "code",
   "execution_count": 101,
   "metadata": {},
   "outputs": [],
   "source": [
    "# Başka bir çözüm yolu (her ürün için ayrı ayrı yapılmalı)\n",
    "\n",
    "# df.loc[df[\"ProductName\"] == \"Camera\", \"ProductID\"].mode()[0]\n",
    "# df.loc[df[\"ProductName\"] == \"Camera\", \"ProductID\"] = df.loc[df[\"ProductName\"] == \"Camera\", \"ProductID\"].mode()[0]"
   ]
  },
  {
   "cell_type": "code",
   "execution_count": 102,
   "metadata": {},
   "outputs": [],
   "source": [
    "# başka bir çözüm yolu (bu üç kod ile tüm ProductID'ler güncellenir.) \n",
    "\n",
    "# most_frequent_product_ids = df.groupby('ProductName')['ProductID'].agg(lambda x: x.mode()[0])\n",
    "# product_mapping = most_frequent_product_ids.to_dict()\n",
    "# df['ProductID'] = df['ProductName'].map(product_mapping)"
   ]
  },
  {
   "cell_type": "markdown",
   "metadata": {},
   "source": [
    "### <font color='cornflowerblue'> <b>Defining Product ID for Product \"Camera\"</b><font color='black'> "
   ]
  },
  {
   "cell_type": "code",
   "execution_count": 104,
   "metadata": {},
   "outputs": [
    {
     "data": {
      "text/plain": [
       "0    PRD681\n",
       "1    PRD949\n",
       "Name: ProductID, dtype: object"
      ]
     },
     "execution_count": 104,
     "metadata": {},
     "output_type": "execute_result"
    }
   ],
   "source": [
    "df[(df.ProductName == \"Camera\")].ProductID.mode()"
   ]
  },
  {
   "cell_type": "code",
   "execution_count": 105,
   "metadata": {},
   "outputs": [
    {
     "data": {
      "text/html": [
       "<div>\n",
       "<style scoped>\n",
       "    .dataframe tbody tr th:only-of-type {\n",
       "        vertical-align: middle;\n",
       "    }\n",
       "\n",
       "    .dataframe tbody tr th {\n",
       "        vertical-align: top;\n",
       "    }\n",
       "\n",
       "    .dataframe thead th {\n",
       "        text-align: right;\n",
       "    }\n",
       "</style>\n",
       "<table border=\"1\" class=\"dataframe\">\n",
       "  <thead>\n",
       "    <tr style=\"text-align: right;\">\n",
       "      <th></th>\n",
       "      <th>OrderID</th>\n",
       "      <th>ProductID</th>\n",
       "      <th>ProductName</th>\n",
       "      <th>UnitPrice</th>\n",
       "      <th>Quantity</th>\n",
       "      <th>Discount</th>\n",
       "      <th>CustomerID</th>\n",
       "      <th>SaleDate</th>\n",
       "      <th>SalesPerson</th>\n",
       "      <th>Region</th>\n",
       "      <th>Year</th>\n",
       "    </tr>\n",
       "  </thead>\n",
       "  <tbody>\n",
       "    <tr>\n",
       "      <th>13</th>\n",
       "      <td>ORD00339</td>\n",
       "      <td>PRD681</td>\n",
       "      <td>Camera</td>\n",
       "      <td>463.20</td>\n",
       "      <td>3</td>\n",
       "      <td>0.15</td>\n",
       "      <td>NaN</td>\n",
       "      <td>2022-03-26</td>\n",
       "      <td>Diana</td>\n",
       "      <td>East</td>\n",
       "      <td>2022</td>\n",
       "    </tr>\n",
       "    <tr>\n",
       "      <th>81</th>\n",
       "      <td>ORD00346</td>\n",
       "      <td>PRD681</td>\n",
       "      <td>Camera</td>\n",
       "      <td>1485.63</td>\n",
       "      <td>12</td>\n",
       "      <td>0.15</td>\n",
       "      <td>CUST5437</td>\n",
       "      <td>2020-05-26</td>\n",
       "      <td>Diana</td>\n",
       "      <td>West</td>\n",
       "      <td>2020</td>\n",
       "    </tr>\n",
       "    <tr>\n",
       "      <th>135</th>\n",
       "      <td>ORD00079</td>\n",
       "      <td>PRD681</td>\n",
       "      <td>Smartwatch</td>\n",
       "      <td>118.83</td>\n",
       "      <td>6</td>\n",
       "      <td>0.15</td>\n",
       "      <td>NaN</td>\n",
       "      <td>2023-05-31</td>\n",
       "      <td>Charlie</td>\n",
       "      <td>West</td>\n",
       "      <td>2023</td>\n",
       "    </tr>\n",
       "    <tr>\n",
       "      <th>340</th>\n",
       "      <td>ORD00445</td>\n",
       "      <td>PRD681</td>\n",
       "      <td>Camera</td>\n",
       "      <td>549.81</td>\n",
       "      <td>19</td>\n",
       "      <td>0.10</td>\n",
       "      <td>NaN</td>\n",
       "      <td>2021-10-03</td>\n",
       "      <td>Bob</td>\n",
       "      <td>East</td>\n",
       "      <td>2021</td>\n",
       "    </tr>\n",
       "  </tbody>\n",
       "</table>\n",
       "</div>"
      ],
      "text/plain": [
       "      OrderID ProductID ProductName  UnitPrice  Quantity  Discount CustomerID  \\\n",
       "13   ORD00339    PRD681      Camera     463.20         3      0.15        NaN   \n",
       "81   ORD00346    PRD681      Camera    1485.63        12      0.15   CUST5437   \n",
       "135  ORD00079    PRD681  Smartwatch     118.83         6      0.15        NaN   \n",
       "340  ORD00445    PRD681      Camera     549.81        19      0.10        NaN   \n",
       "\n",
       "      SaleDate SalesPerson Region  Year  \n",
       "13  2022-03-26       Diana   East  2022  \n",
       "81  2020-05-26       Diana   West  2020  \n",
       "135 2023-05-31     Charlie   West  2023  \n",
       "340 2021-10-03         Bob   East  2021  "
      ]
     },
     "execution_count": 105,
     "metadata": {},
     "output_type": "execute_result"
    }
   ],
   "source": [
    "df[(df.ProductID == \"PRD681\")]"
   ]
  },
  {
   "cell_type": "code",
   "execution_count": 106,
   "metadata": {},
   "outputs": [
    {
     "data": {
      "text/html": [
       "<div>\n",
       "<style scoped>\n",
       "    .dataframe tbody tr th:only-of-type {\n",
       "        vertical-align: middle;\n",
       "    }\n",
       "\n",
       "    .dataframe tbody tr th {\n",
       "        vertical-align: top;\n",
       "    }\n",
       "\n",
       "    .dataframe thead th {\n",
       "        text-align: right;\n",
       "    }\n",
       "</style>\n",
       "<table border=\"1\" class=\"dataframe\">\n",
       "  <thead>\n",
       "    <tr style=\"text-align: right;\">\n",
       "      <th></th>\n",
       "      <th>OrderID</th>\n",
       "      <th>ProductID</th>\n",
       "      <th>ProductName</th>\n",
       "      <th>UnitPrice</th>\n",
       "      <th>Quantity</th>\n",
       "      <th>Discount</th>\n",
       "      <th>CustomerID</th>\n",
       "      <th>SaleDate</th>\n",
       "      <th>SalesPerson</th>\n",
       "      <th>Region</th>\n",
       "      <th>Year</th>\n",
       "    </tr>\n",
       "  </thead>\n",
       "  <tbody>\n",
       "    <tr>\n",
       "      <th>52</th>\n",
       "      <td>ORD00011</td>\n",
       "      <td>PRD949</td>\n",
       "      <td>Camera</td>\n",
       "      <td>NaN</td>\n",
       "      <td>10</td>\n",
       "      <td>0.10</td>\n",
       "      <td>CUST3743</td>\n",
       "      <td>2022-11-02</td>\n",
       "      <td>Evan</td>\n",
       "      <td>East</td>\n",
       "      <td>2022</td>\n",
       "    </tr>\n",
       "    <tr>\n",
       "      <th>86</th>\n",
       "      <td>ORD00011</td>\n",
       "      <td>PRD949</td>\n",
       "      <td>Camera</td>\n",
       "      <td>NaN</td>\n",
       "      <td>10</td>\n",
       "      <td>0.10</td>\n",
       "      <td>CUST3743</td>\n",
       "      <td>2022-11-02</td>\n",
       "      <td>Evan</td>\n",
       "      <td>East</td>\n",
       "      <td>2022</td>\n",
       "    </tr>\n",
       "    <tr>\n",
       "      <th>98</th>\n",
       "      <td>ORD00138</td>\n",
       "      <td>PRD949</td>\n",
       "      <td>Camera</td>\n",
       "      <td>465.91</td>\n",
       "      <td>9</td>\n",
       "      <td>0.15</td>\n",
       "      <td>CUST6411</td>\n",
       "      <td>2022-03-16</td>\n",
       "      <td>Diana</td>\n",
       "      <td>North</td>\n",
       "      <td>2022</td>\n",
       "    </tr>\n",
       "  </tbody>\n",
       "</table>\n",
       "</div>"
      ],
      "text/plain": [
       "     OrderID ProductID ProductName  UnitPrice  Quantity  Discount CustomerID  \\\n",
       "52  ORD00011    PRD949      Camera        NaN        10      0.10   CUST3743   \n",
       "86  ORD00011    PRD949      Camera        NaN        10      0.10   CUST3743   \n",
       "98  ORD00138    PRD949      Camera     465.91         9      0.15   CUST6411   \n",
       "\n",
       "     SaleDate SalesPerson Region  Year  \n",
       "52 2022-11-02        Evan   East  2022  \n",
       "86 2022-11-02        Evan   East  2022  \n",
       "98 2022-03-16       Diana  North  2022  "
      ]
     },
     "execution_count": 106,
     "metadata": {},
     "output_type": "execute_result"
    }
   ],
   "source": [
    "df[(df.ProductID == \"PRD949\")]"
   ]
  },
  {
   "cell_type": "markdown",
   "metadata": {},
   "source": [
    "**\"PRD681\"** id'si için ProductName olarak **hem \"Camera\" hem de \"Smartwatch\"** içeren bir satır vardır. Ancak **\"PRD949\"** id'si için ProdcutName olarak **yalnızca \"Camera\"** vardır. **\"PRD949\"** id'sini **\"Camera\"**'ya tanımlayabiliriz.\n",
    "\n",
    "Aynı yöntemi diğer ürünler için de yapalım!"
   ]
  },
  {
   "cell_type": "code",
   "execution_count": 108,
   "metadata": {},
   "outputs": [],
   "source": [
    "df.loc[df[\"ProductName\"] == \"Camera\", \"ProductID\"] = \"PRD949\""
   ]
  },
  {
   "cell_type": "markdown",
   "metadata": {},
   "source": [
    "### <font color='cornflowerblue'> <b>Defining Product ID for Product \"Laptop\"</b><font color='black'>"
   ]
  },
  {
   "cell_type": "code",
   "execution_count": 110,
   "metadata": {},
   "outputs": [
    {
     "data": {
      "text/plain": [
       "0    PRD822\n",
       "Name: ProductID, dtype: object"
      ]
     },
     "execution_count": 110,
     "metadata": {},
     "output_type": "execute_result"
    }
   ],
   "source": [
    "df[(df.ProductName == \"Laptop\")].ProductID.mode()"
   ]
  },
  {
   "cell_type": "code",
   "execution_count": 111,
   "metadata": {},
   "outputs": [
    {
     "data": {
      "text/html": [
       "<div>\n",
       "<style scoped>\n",
       "    .dataframe tbody tr th:only-of-type {\n",
       "        vertical-align: middle;\n",
       "    }\n",
       "\n",
       "    .dataframe tbody tr th {\n",
       "        vertical-align: top;\n",
       "    }\n",
       "\n",
       "    .dataframe thead th {\n",
       "        text-align: right;\n",
       "    }\n",
       "</style>\n",
       "<table border=\"1\" class=\"dataframe\">\n",
       "  <thead>\n",
       "    <tr style=\"text-align: right;\">\n",
       "      <th></th>\n",
       "      <th>OrderID</th>\n",
       "      <th>ProductID</th>\n",
       "      <th>ProductName</th>\n",
       "      <th>UnitPrice</th>\n",
       "      <th>Quantity</th>\n",
       "      <th>Discount</th>\n",
       "      <th>CustomerID</th>\n",
       "      <th>SaleDate</th>\n",
       "      <th>SalesPerson</th>\n",
       "      <th>Region</th>\n",
       "      <th>Year</th>\n",
       "    </tr>\n",
       "  </thead>\n",
       "  <tbody>\n",
       "    <tr>\n",
       "      <th>270</th>\n",
       "      <td>ORD00143</td>\n",
       "      <td>PRD822</td>\n",
       "      <td>Laptop</td>\n",
       "      <td>898.87</td>\n",
       "      <td>20</td>\n",
       "      <td>0.00</td>\n",
       "      <td>CUST5159</td>\n",
       "      <td>2022-04-21</td>\n",
       "      <td>Bob</td>\n",
       "      <td>West</td>\n",
       "      <td>2022</td>\n",
       "    </tr>\n",
       "    <tr>\n",
       "      <th>351</th>\n",
       "      <td>ORD00027</td>\n",
       "      <td>PRD822</td>\n",
       "      <td>Laptop</td>\n",
       "      <td>462.41</td>\n",
       "      <td>1</td>\n",
       "      <td>0.10</td>\n",
       "      <td>CUST4417</td>\n",
       "      <td>2022-07-30</td>\n",
       "      <td>Evan</td>\n",
       "      <td>East</td>\n",
       "      <td>2022</td>\n",
       "    </tr>\n",
       "    <tr>\n",
       "      <th>483</th>\n",
       "      <td>ORD00179</td>\n",
       "      <td>PRD822</td>\n",
       "      <td>Laptop</td>\n",
       "      <td>1069.96</td>\n",
       "      <td>16</td>\n",
       "      <td>0.05</td>\n",
       "      <td>CUST7588</td>\n",
       "      <td>2021-11-18</td>\n",
       "      <td>Alice</td>\n",
       "      <td>South</td>\n",
       "      <td>2021</td>\n",
       "    </tr>\n",
       "  </tbody>\n",
       "</table>\n",
       "</div>"
      ],
      "text/plain": [
       "      OrderID ProductID ProductName  UnitPrice  Quantity  Discount CustomerID  \\\n",
       "270  ORD00143    PRD822      Laptop     898.87        20      0.00   CUST5159   \n",
       "351  ORD00027    PRD822      Laptop     462.41         1      0.10   CUST4417   \n",
       "483  ORD00179    PRD822      Laptop    1069.96        16      0.05   CUST7588   \n",
       "\n",
       "      SaleDate SalesPerson Region  Year  \n",
       "270 2022-04-21         Bob   West  2022  \n",
       "351 2022-07-30        Evan   East  2022  \n",
       "483 2021-11-18       Alice  South  2021  "
      ]
     },
     "execution_count": 111,
     "metadata": {},
     "output_type": "execute_result"
    }
   ],
   "source": [
    "df[(df.ProductID == \"PRD822\")]"
   ]
  },
  {
   "cell_type": "code",
   "execution_count": 112,
   "metadata": {},
   "outputs": [],
   "source": [
    "df.loc[df[\"ProductName\"] == \"Laptop\", \"ProductID\"] = \"PRD822\""
   ]
  },
  {
   "cell_type": "markdown",
   "metadata": {},
   "source": [
    "### <font color='cornflowerblue'> <b>Defining Product ID for Product \"Headphones\"</b><font color='black'> "
   ]
  },
  {
   "cell_type": "code",
   "execution_count": 114,
   "metadata": {},
   "outputs": [
    {
     "data": {
      "text/plain": [
       "0    PRD253\n",
       "Name: ProductID, dtype: object"
      ]
     },
     "execution_count": 114,
     "metadata": {},
     "output_type": "execute_result"
    }
   ],
   "source": [
    "df[(df.ProductName == \"Headphones\")].ProductID.mode()"
   ]
  },
  {
   "cell_type": "code",
   "execution_count": 115,
   "metadata": {},
   "outputs": [
    {
     "data": {
      "text/html": [
       "<div>\n",
       "<style scoped>\n",
       "    .dataframe tbody tr th:only-of-type {\n",
       "        vertical-align: middle;\n",
       "    }\n",
       "\n",
       "    .dataframe tbody tr th {\n",
       "        vertical-align: top;\n",
       "    }\n",
       "\n",
       "    .dataframe thead th {\n",
       "        text-align: right;\n",
       "    }\n",
       "</style>\n",
       "<table border=\"1\" class=\"dataframe\">\n",
       "  <thead>\n",
       "    <tr style=\"text-align: right;\">\n",
       "      <th></th>\n",
       "      <th>OrderID</th>\n",
       "      <th>ProductID</th>\n",
       "      <th>ProductName</th>\n",
       "      <th>UnitPrice</th>\n",
       "      <th>Quantity</th>\n",
       "      <th>Discount</th>\n",
       "      <th>CustomerID</th>\n",
       "      <th>SaleDate</th>\n",
       "      <th>SalesPerson</th>\n",
       "      <th>Region</th>\n",
       "      <th>Year</th>\n",
       "    </tr>\n",
       "  </thead>\n",
       "  <tbody>\n",
       "    <tr>\n",
       "      <th>73</th>\n",
       "      <td>ORD00484</td>\n",
       "      <td>PRD253</td>\n",
       "      <td>Headphones</td>\n",
       "      <td>1258.59</td>\n",
       "      <td>14</td>\n",
       "      <td>0.20</td>\n",
       "      <td>CUST7064</td>\n",
       "      <td>2021-06-12</td>\n",
       "      <td>Evan</td>\n",
       "      <td>West</td>\n",
       "      <td>2021</td>\n",
       "    </tr>\n",
       "    <tr>\n",
       "      <th>194</th>\n",
       "      <td>ORD00133</td>\n",
       "      <td>PRD253</td>\n",
       "      <td>Headphones</td>\n",
       "      <td>398.20</td>\n",
       "      <td>16</td>\n",
       "      <td>0.05</td>\n",
       "      <td>CUST2876</td>\n",
       "      <td>2023-09-01</td>\n",
       "      <td>Charlie</td>\n",
       "      <td>East</td>\n",
       "      <td>2023</td>\n",
       "    </tr>\n",
       "    <tr>\n",
       "      <th>484</th>\n",
       "      <td>ORD00484</td>\n",
       "      <td>PRD253</td>\n",
       "      <td>Headphones</td>\n",
       "      <td>1258.59</td>\n",
       "      <td>14</td>\n",
       "      <td>0.20</td>\n",
       "      <td>CUST7064</td>\n",
       "      <td>2021-06-12</td>\n",
       "      <td>Evan</td>\n",
       "      <td>West</td>\n",
       "      <td>2021</td>\n",
       "    </tr>\n",
       "  </tbody>\n",
       "</table>\n",
       "</div>"
      ],
      "text/plain": [
       "      OrderID ProductID ProductName  UnitPrice  Quantity  Discount CustomerID  \\\n",
       "73   ORD00484    PRD253  Headphones    1258.59        14      0.20   CUST7064   \n",
       "194  ORD00133    PRD253  Headphones     398.20        16      0.05   CUST2876   \n",
       "484  ORD00484    PRD253  Headphones    1258.59        14      0.20   CUST7064   \n",
       "\n",
       "      SaleDate SalesPerson Region  Year  \n",
       "73  2021-06-12        Evan   West  2021  \n",
       "194 2023-09-01     Charlie   East  2023  \n",
       "484 2021-06-12        Evan   West  2021  "
      ]
     },
     "execution_count": 115,
     "metadata": {},
     "output_type": "execute_result"
    }
   ],
   "source": [
    "df[(df.ProductID == \"PRD253\")]"
   ]
  },
  {
   "cell_type": "code",
   "execution_count": 116,
   "metadata": {},
   "outputs": [],
   "source": [
    "df.loc[df[\"ProductName\"] == \"Headphones\", \"ProductID\"] = \"PRD253\""
   ]
  },
  {
   "cell_type": "markdown",
   "metadata": {},
   "source": [
    "### <font color='cornflowerblue'> <b>Defining Product ID for Product \"Smartwatch\"</b><font color='black'> "
   ]
  },
  {
   "cell_type": "code",
   "execution_count": 118,
   "metadata": {},
   "outputs": [
    {
     "data": {
      "text/plain": [
       "0    PRD122\n",
       "1    PRD182\n",
       "2    PRD653\n",
       "3    PRD657\n",
       "4    PRD660\n",
       "5    PRD701\n",
       "6    PRD795\n",
       "7    PRD919\n",
       "Name: ProductID, dtype: object"
      ]
     },
     "execution_count": 118,
     "metadata": {},
     "output_type": "execute_result"
    }
   ],
   "source": [
    "df[(df.ProductName == \"Smartwatch\")].ProductID.mode()"
   ]
  },
  {
   "cell_type": "code",
   "execution_count": 119,
   "metadata": {},
   "outputs": [
    {
     "data": {
      "text/html": [
       "<div>\n",
       "<style scoped>\n",
       "    .dataframe tbody tr th:only-of-type {\n",
       "        vertical-align: middle;\n",
       "    }\n",
       "\n",
       "    .dataframe tbody tr th {\n",
       "        vertical-align: top;\n",
       "    }\n",
       "\n",
       "    .dataframe thead th {\n",
       "        text-align: right;\n",
       "    }\n",
       "</style>\n",
       "<table border=\"1\" class=\"dataframe\">\n",
       "  <thead>\n",
       "    <tr style=\"text-align: right;\">\n",
       "      <th></th>\n",
       "      <th>OrderID</th>\n",
       "      <th>ProductID</th>\n",
       "      <th>ProductName</th>\n",
       "      <th>UnitPrice</th>\n",
       "      <th>Quantity</th>\n",
       "      <th>Discount</th>\n",
       "      <th>CustomerID</th>\n",
       "      <th>SaleDate</th>\n",
       "      <th>SalesPerson</th>\n",
       "      <th>Region</th>\n",
       "      <th>Year</th>\n",
       "    </tr>\n",
       "  </thead>\n",
       "  <tbody>\n",
       "    <tr>\n",
       "      <th>64</th>\n",
       "      <td>ORD00416</td>\n",
       "      <td>PRD122</td>\n",
       "      <td>Smartwatch</td>\n",
       "      <td>NaN</td>\n",
       "      <td>8</td>\n",
       "      <td>0.05</td>\n",
       "      <td>CUST2437</td>\n",
       "      <td>2020-03-09</td>\n",
       "      <td>Bob</td>\n",
       "      <td>North</td>\n",
       "      <td>2020</td>\n",
       "    </tr>\n",
       "    <tr>\n",
       "      <th>509</th>\n",
       "      <td>ORD00217</td>\n",
       "      <td>PRD122</td>\n",
       "      <td>Smartwatch</td>\n",
       "      <td>NaN</td>\n",
       "      <td>5</td>\n",
       "      <td>0.00</td>\n",
       "      <td>CUST6640</td>\n",
       "      <td>2023-09-16</td>\n",
       "      <td>Alice</td>\n",
       "      <td>South</td>\n",
       "      <td>2023</td>\n",
       "    </tr>\n",
       "  </tbody>\n",
       "</table>\n",
       "</div>"
      ],
      "text/plain": [
       "      OrderID ProductID ProductName  UnitPrice  Quantity  Discount CustomerID  \\\n",
       "64   ORD00416    PRD122  Smartwatch        NaN         8      0.05   CUST2437   \n",
       "509  ORD00217    PRD122  Smartwatch        NaN         5      0.00   CUST6640   \n",
       "\n",
       "      SaleDate SalesPerson Region  Year  \n",
       "64  2020-03-09         Bob  North  2020  \n",
       "509 2023-09-16       Alice  South  2023  "
      ]
     },
     "execution_count": 119,
     "metadata": {},
     "output_type": "execute_result"
    }
   ],
   "source": [
    "df[(df.ProductID == \"PRD122\")]"
   ]
  },
  {
   "cell_type": "code",
   "execution_count": 120,
   "metadata": {},
   "outputs": [
    {
     "data": {
      "text/html": [
       "<div>\n",
       "<style scoped>\n",
       "    .dataframe tbody tr th:only-of-type {\n",
       "        vertical-align: middle;\n",
       "    }\n",
       "\n",
       "    .dataframe tbody tr th {\n",
       "        vertical-align: top;\n",
       "    }\n",
       "\n",
       "    .dataframe thead th {\n",
       "        text-align: right;\n",
       "    }\n",
       "</style>\n",
       "<table border=\"1\" class=\"dataframe\">\n",
       "  <thead>\n",
       "    <tr style=\"text-align: right;\">\n",
       "      <th></th>\n",
       "      <th>OrderID</th>\n",
       "      <th>ProductID</th>\n",
       "      <th>ProductName</th>\n",
       "      <th>UnitPrice</th>\n",
       "      <th>Quantity</th>\n",
       "      <th>Discount</th>\n",
       "      <th>CustomerID</th>\n",
       "      <th>SaleDate</th>\n",
       "      <th>SalesPerson</th>\n",
       "      <th>Region</th>\n",
       "      <th>Year</th>\n",
       "    </tr>\n",
       "  </thead>\n",
       "  <tbody>\n",
       "    <tr>\n",
       "      <th>76</th>\n",
       "      <td>ORD00139</td>\n",
       "      <td>PRD653</td>\n",
       "      <td>Smartwatch</td>\n",
       "      <td>298.50</td>\n",
       "      <td>17</td>\n",
       "      <td>0.20</td>\n",
       "      <td>CUST2025</td>\n",
       "      <td>2022-09-17</td>\n",
       "      <td>Diana</td>\n",
       "      <td>West</td>\n",
       "      <td>2022</td>\n",
       "    </tr>\n",
       "    <tr>\n",
       "      <th>453</th>\n",
       "      <td>ORD00102</td>\n",
       "      <td>PRD653</td>\n",
       "      <td>Smartwatch</td>\n",
       "      <td>857.73</td>\n",
       "      <td>19</td>\n",
       "      <td>0.05</td>\n",
       "      <td>NaN</td>\n",
       "      <td>2020-08-01</td>\n",
       "      <td>Charlie</td>\n",
       "      <td>South</td>\n",
       "      <td>2020</td>\n",
       "    </tr>\n",
       "  </tbody>\n",
       "</table>\n",
       "</div>"
      ],
      "text/plain": [
       "      OrderID ProductID ProductName  UnitPrice  Quantity  Discount CustomerID  \\\n",
       "76   ORD00139    PRD653  Smartwatch     298.50        17      0.20   CUST2025   \n",
       "453  ORD00102    PRD653  Smartwatch     857.73        19      0.05        NaN   \n",
       "\n",
       "      SaleDate SalesPerson Region  Year  \n",
       "76  2022-09-17       Diana   West  2022  \n",
       "453 2020-08-01     Charlie  South  2020  "
      ]
     },
     "execution_count": 120,
     "metadata": {},
     "output_type": "execute_result"
    }
   ],
   "source": [
    "df[(df.ProductID == \"PRD653\")]"
   ]
  },
  {
   "cell_type": "code",
   "execution_count": 121,
   "metadata": {},
   "outputs": [],
   "source": [
    "df.loc[df[\"ProductName\"] == \"Smartwatch\", \"ProductID\"] = \"PRD122\""
   ]
  },
  {
   "cell_type": "markdown",
   "metadata": {},
   "source": [
    "### <font color='cornflowerblue'> <b>Defining Product ID for Product \"Smartphone\"</b><font color='black'> "
   ]
  },
  {
   "cell_type": "code",
   "execution_count": 123,
   "metadata": {},
   "outputs": [
    {
     "data": {
      "text/plain": [
       "0    PRD193\n",
       "1    PRD218\n",
       "2    PRD397\n",
       "3    PRD433\n",
       "4    PRD455\n",
       "5    PRD553\n",
       "6    PRD759\n",
       "7    PRD789\n",
       "Name: ProductID, dtype: object"
      ]
     },
     "execution_count": 123,
     "metadata": {},
     "output_type": "execute_result"
    }
   ],
   "source": [
    "df[(df.ProductName == \"Smartphone\")].ProductID.mode()"
   ]
  },
  {
   "cell_type": "code",
   "execution_count": 124,
   "metadata": {},
   "outputs": [
    {
     "data": {
      "text/html": [
       "<div>\n",
       "<style scoped>\n",
       "    .dataframe tbody tr th:only-of-type {\n",
       "        vertical-align: middle;\n",
       "    }\n",
       "\n",
       "    .dataframe tbody tr th {\n",
       "        vertical-align: top;\n",
       "    }\n",
       "\n",
       "    .dataframe thead th {\n",
       "        text-align: right;\n",
       "    }\n",
       "</style>\n",
       "<table border=\"1\" class=\"dataframe\">\n",
       "  <thead>\n",
       "    <tr style=\"text-align: right;\">\n",
       "      <th></th>\n",
       "      <th>OrderID</th>\n",
       "      <th>ProductID</th>\n",
       "      <th>ProductName</th>\n",
       "      <th>UnitPrice</th>\n",
       "      <th>Quantity</th>\n",
       "      <th>Discount</th>\n",
       "      <th>CustomerID</th>\n",
       "      <th>SaleDate</th>\n",
       "      <th>SalesPerson</th>\n",
       "      <th>Region</th>\n",
       "      <th>Year</th>\n",
       "    </tr>\n",
       "  </thead>\n",
       "  <tbody>\n",
       "    <tr>\n",
       "      <th>375</th>\n",
       "      <td>ORD00110</td>\n",
       "      <td>PRD193</td>\n",
       "      <td>Smartphone</td>\n",
       "      <td>428.43</td>\n",
       "      <td>19</td>\n",
       "      <td>0.0</td>\n",
       "      <td>CUST8302</td>\n",
       "      <td>2022-07-23</td>\n",
       "      <td>Charlie</td>\n",
       "      <td>South</td>\n",
       "      <td>2022</td>\n",
       "    </tr>\n",
       "    <tr>\n",
       "      <th>462</th>\n",
       "      <td>ORD00087</td>\n",
       "      <td>PRD193</td>\n",
       "      <td>Smartphone</td>\n",
       "      <td>NaN</td>\n",
       "      <td>1</td>\n",
       "      <td>0.1</td>\n",
       "      <td>CUST3269</td>\n",
       "      <td>2022-05-26</td>\n",
       "      <td>Alice</td>\n",
       "      <td>North</td>\n",
       "      <td>2022</td>\n",
       "    </tr>\n",
       "  </tbody>\n",
       "</table>\n",
       "</div>"
      ],
      "text/plain": [
       "      OrderID ProductID ProductName  UnitPrice  Quantity  Discount CustomerID  \\\n",
       "375  ORD00110    PRD193  Smartphone     428.43        19       0.0   CUST8302   \n",
       "462  ORD00087    PRD193  Smartphone        NaN         1       0.1   CUST3269   \n",
       "\n",
       "      SaleDate SalesPerson Region  Year  \n",
       "375 2022-07-23     Charlie  South  2022  \n",
       "462 2022-05-26       Alice  North  2022  "
      ]
     },
     "execution_count": 124,
     "metadata": {},
     "output_type": "execute_result"
    }
   ],
   "source": [
    "df[(df.ProductID == \"PRD193\")]"
   ]
  },
  {
   "cell_type": "code",
   "execution_count": 125,
   "metadata": {},
   "outputs": [
    {
     "data": {
      "text/html": [
       "<div>\n",
       "<style scoped>\n",
       "    .dataframe tbody tr th:only-of-type {\n",
       "        vertical-align: middle;\n",
       "    }\n",
       "\n",
       "    .dataframe tbody tr th {\n",
       "        vertical-align: top;\n",
       "    }\n",
       "\n",
       "    .dataframe thead th {\n",
       "        text-align: right;\n",
       "    }\n",
       "</style>\n",
       "<table border=\"1\" class=\"dataframe\">\n",
       "  <thead>\n",
       "    <tr style=\"text-align: right;\">\n",
       "      <th></th>\n",
       "      <th>OrderID</th>\n",
       "      <th>ProductID</th>\n",
       "      <th>ProductName</th>\n",
       "      <th>UnitPrice</th>\n",
       "      <th>Quantity</th>\n",
       "      <th>Discount</th>\n",
       "      <th>CustomerID</th>\n",
       "      <th>SaleDate</th>\n",
       "      <th>SalesPerson</th>\n",
       "      <th>Region</th>\n",
       "      <th>Year</th>\n",
       "    </tr>\n",
       "  </thead>\n",
       "  <tbody>\n",
       "    <tr>\n",
       "      <th>202</th>\n",
       "      <td>ORD00214</td>\n",
       "      <td>PRD218</td>\n",
       "      <td>Smartphone</td>\n",
       "      <td>1480.85</td>\n",
       "      <td>18</td>\n",
       "      <td>0.00</td>\n",
       "      <td>CUST1021</td>\n",
       "      <td>2020-02-17</td>\n",
       "      <td>Diana</td>\n",
       "      <td>South</td>\n",
       "      <td>2020</td>\n",
       "    </tr>\n",
       "    <tr>\n",
       "      <th>268</th>\n",
       "      <td>ORD00167</td>\n",
       "      <td>PRD218</td>\n",
       "      <td>Smartphone</td>\n",
       "      <td>710.62</td>\n",
       "      <td>11</td>\n",
       "      <td>0.15</td>\n",
       "      <td>CUST2154</td>\n",
       "      <td>2022-02-17</td>\n",
       "      <td>Bob</td>\n",
       "      <td>North</td>\n",
       "      <td>2022</td>\n",
       "    </tr>\n",
       "  </tbody>\n",
       "</table>\n",
       "</div>"
      ],
      "text/plain": [
       "      OrderID ProductID ProductName  UnitPrice  Quantity  Discount CustomerID  \\\n",
       "202  ORD00214    PRD218  Smartphone    1480.85        18      0.00   CUST1021   \n",
       "268  ORD00167    PRD218  Smartphone     710.62        11      0.15   CUST2154   \n",
       "\n",
       "      SaleDate SalesPerson Region  Year  \n",
       "202 2020-02-17       Diana  South  2020  \n",
       "268 2022-02-17         Bob  North  2022  "
      ]
     },
     "execution_count": 125,
     "metadata": {},
     "output_type": "execute_result"
    }
   ],
   "source": [
    "df[(df.ProductID == \"PRD218\")]"
   ]
  },
  {
   "cell_type": "code",
   "execution_count": 126,
   "metadata": {},
   "outputs": [],
   "source": [
    "df.loc[df[\"ProductName\"] == \"Smartphone\", \"ProductID\"] = \"PRD193\""
   ]
  },
  {
   "cell_type": "code",
   "execution_count": 127,
   "metadata": {},
   "outputs": [
    {
     "data": {
      "text/plain": [
       "ProductID  ProductName\n",
       "PRD122     Smartwatch      83\n",
       "PRD193     Smartphone      85\n",
       "PRD253     Headphones      90\n",
       "PRD822     Laptop         101\n",
       "PRD949     Camera         126\n",
       "Name: count, dtype: int64"
      ]
     },
     "execution_count": 127,
     "metadata": {},
     "output_type": "execute_result"
    }
   ],
   "source": [
    "df.groupby([\"ProductID\"])[\"ProductName\"].value_counts()"
   ]
  },
  {
   "cell_type": "markdown",
   "metadata": {},
   "source": [
    "## <font color='royalblue'> <b>UnitPrice</b><font color='black'> "
   ]
  },
  {
   "cell_type": "code",
   "execution_count": 129,
   "metadata": {},
   "outputs": [
    {
     "data": {
      "image/png": "[encoded data removed]",
      "text/plain": [
       "<Figure size 1200x800 with 5 Axes>"
      ]
     },
     "metadata": {},
     "output_type": "display_data"
    }
   ],
   "source": [
    "g = sns.FacetGrid(df, col=\"ProductName\", col_wrap=3, height=4)\n",
    "g.map(sns.histplot, \"UnitPrice\", bins=10, kde=True);"
   ]
  },
  {
   "cell_type": "code",
   "execution_count": 130,
   "metadata": {},
   "outputs": [
    {
     "data": {
      "image/png": "[encoded data removed]",
      "text/plain": [
       "<Figure size 640x480 with 1 Axes>"
      ]
     },
     "metadata": {},
     "output_type": "display_data"
    }
   ],
   "source": [
    "sns.boxplot(df, x = \"ProductName\" , y = \"UnitPrice\", \n",
    "            palette={\"Smartwatch\": \"lightsteelblue\", \"Laptop\": \"lightblue\", \"Camera\": \"cornflowerblue\", \n",
    "                     \"Headphones\": \"royalblue\", \"Smartphone\": \"blue\"}\n",
    "           );"
   ]
  },
  {
   "cell_type": "markdown",
   "metadata": {},
   "source": [
    "Histogram grafiklerinde görüldüğü gibi bazı ürünler **dengesiz fiyat** dağılımlarına sahiptir. Bu nedenle NaN değerlerinin **medyan** ile doldurulması veri setinin genel yapısını daha iyi koruyabilir."
   ]
  },
  {
   "cell_type": "code",
   "execution_count": 132,
   "metadata": {},
   "outputs": [],
   "source": [
    "df['UnitPrice'] = df.groupby('ProductName')['UnitPrice'].transform(lambda x: x.fillna(x.median()))"
   ]
  },
  {
   "cell_type": "code",
   "execution_count": 133,
   "metadata": {},
   "outputs": [
    {
     "data": {
      "text/plain": [
       "0"
      ]
     },
     "execution_count": 133,
     "metadata": {},
     "output_type": "execute_result"
    }
   ],
   "source": [
    "df.UnitPrice.isnull().sum()"
   ]
  },
  {
   "cell_type": "markdown",
   "metadata": {},
   "source": [
    "## <font color='royalblue'> <b>CustomerID</b><font color='black'> "
   ]
  },
  {
   "cell_type": "code",
   "execution_count": 135,
   "metadata": {},
   "outputs": [
    {
     "data": {
      "text/plain": [
       "50"
      ]
     },
     "execution_count": 135,
     "metadata": {},
     "output_type": "execute_result"
    }
   ],
   "source": [
    "df.CustomerID.isnull().sum()"
   ]
  },
  {
   "cell_type": "markdown",
   "metadata": {},
   "source": [
    "Kimlik numaraları benzersiz değerlerdir. Bu nedenle CustomerID sütunundaki NaN değerleri hiçbir yöntemle doldurulamamaktadır. Bu değerleri veri setinden silebiliriz."
   ]
  },
  {
   "cell_type": "code",
   "execution_count": 137,
   "metadata": {
    "scrolled": true
   },
   "outputs": [],
   "source": [
    "df.dropna(subset=['CustomerID'], inplace=True)"
   ]
  },
  {
   "cell_type": "code",
   "execution_count": 138,
   "metadata": {},
   "outputs": [
    {
     "data": {
      "text/plain": [
       "0"
      ]
     },
     "execution_count": 138,
     "metadata": {},
     "output_type": "execute_result"
    }
   ],
   "source": [
    "df.CustomerID.isnull().sum()"
   ]
  },
  {
   "cell_type": "markdown",
   "metadata": {},
   "source": [
    "## <font color='royalblue'> <b>NaN Değerlerin Doldurulmasından Sonra...</b><font color='black'> "
   ]
  },
  {
   "cell_type": "code",
   "execution_count": 140,
   "metadata": {},
   "outputs": [
    {
     "data": {
      "text/plain": [
       "OrderID        0\n",
       "ProductID      0\n",
       "ProductName    0\n",
       "UnitPrice      0\n",
       "Quantity       0\n",
       "Discount       0\n",
       "CustomerID     0\n",
       "SaleDate       0\n",
       "SalesPerson    0\n",
       "Region         0\n",
       "Year           0\n",
       "dtype: int64"
      ]
     },
     "execution_count": 140,
     "metadata": {},
     "output_type": "execute_result"
    }
   ],
   "source": [
    "df.isnull().sum()"
   ]
  },
  {
   "cell_type": "code",
   "execution_count": 141,
   "metadata": {},
   "outputs": [
    {
     "name": "stdout",
     "output_type": "stream",
     "text": [
      "<class 'pandas.core.frame.DataFrame'>\n",
      "Index: 435 entries, 0 to 524\n",
      "Data columns (total 11 columns):\n",
      " #   Column       Non-Null Count  Dtype         \n",
      "---  ------       --------------  -----         \n",
      " 0   OrderID      435 non-null    object        \n",
      " 1   ProductID    435 non-null    object        \n",
      " 2   ProductName  435 non-null    object        \n",
      " 3   UnitPrice    435 non-null    float64       \n",
      " 4   Quantity     435 non-null    int64         \n",
      " 5   Discount     435 non-null    float64       \n",
      " 6   CustomerID   435 non-null    object        \n",
      " 7   SaleDate     435 non-null    datetime64[ns]\n",
      " 8   SalesPerson  435 non-null    object        \n",
      " 9   Region       435 non-null    object        \n",
      " 10  Year         435 non-null    int32         \n",
      "dtypes: datetime64[ns](1), float64(2), int32(1), int64(1), object(6)\n",
      "memory usage: 39.1+ KB\n"
     ]
    }
   ],
   "source": [
    "df.info()"
   ]
  },
  {
   "cell_type": "code",
   "execution_count": 142,
   "metadata": {},
   "outputs": [
    {
     "data": {
      "text/html": [
       "<div>\n",
       "<style scoped>\n",
       "    .dataframe tbody tr th:only-of-type {\n",
       "        vertical-align: middle;\n",
       "    }\n",
       "\n",
       "    .dataframe tbody tr th {\n",
       "        vertical-align: top;\n",
       "    }\n",
       "\n",
       "    .dataframe thead th {\n",
       "        text-align: right;\n",
       "    }\n",
       "</style>\n",
       "<table border=\"1\" class=\"dataframe\">\n",
       "  <thead>\n",
       "    <tr style=\"text-align: right;\">\n",
       "      <th></th>\n",
       "      <th>OrderID</th>\n",
       "      <th>ProductID</th>\n",
       "      <th>ProductName</th>\n",
       "      <th>UnitPrice</th>\n",
       "      <th>Quantity</th>\n",
       "      <th>Discount</th>\n",
       "      <th>CustomerID</th>\n",
       "      <th>SaleDate</th>\n",
       "      <th>SalesPerson</th>\n",
       "      <th>Region</th>\n",
       "      <th>Year</th>\n",
       "    </tr>\n",
       "  </thead>\n",
       "  <tbody>\n",
       "    <tr>\n",
       "      <th>1</th>\n",
       "      <td>ORD00491</td>\n",
       "      <td>PRD822</td>\n",
       "      <td>Laptop</td>\n",
       "      <td>0.00</td>\n",
       "      <td>19</td>\n",
       "      <td>0.20</td>\n",
       "      <td>CUST6889</td>\n",
       "      <td>2021-01-06</td>\n",
       "      <td>Charlie</td>\n",
       "      <td>North</td>\n",
       "      <td>2021</td>\n",
       "    </tr>\n",
       "    <tr>\n",
       "      <th>158</th>\n",
       "      <td>ORD00016</td>\n",
       "      <td>PRD822</td>\n",
       "      <td>Laptop</td>\n",
       "      <td>613.10</td>\n",
       "      <td>1</td>\n",
       "      <td>0.00</td>\n",
       "      <td>CUST6951</td>\n",
       "      <td>2022-09-19</td>\n",
       "      <td>Bob</td>\n",
       "      <td>West</td>\n",
       "      <td>2022</td>\n",
       "    </tr>\n",
       "    <tr>\n",
       "      <th>368</th>\n",
       "      <td>ORD00300</td>\n",
       "      <td>PRD122</td>\n",
       "      <td>Smartwatch</td>\n",
       "      <td>1378.72</td>\n",
       "      <td>6</td>\n",
       "      <td>0.20</td>\n",
       "      <td>CUST7797</td>\n",
       "      <td>2023-11-08</td>\n",
       "      <td>Diana</td>\n",
       "      <td>Central</td>\n",
       "      <td>2023</td>\n",
       "    </tr>\n",
       "    <tr>\n",
       "      <th>247</th>\n",
       "      <td>ORD00077</td>\n",
       "      <td>PRD949</td>\n",
       "      <td>Camera</td>\n",
       "      <td>718.35</td>\n",
       "      <td>12</td>\n",
       "      <td>0.05</td>\n",
       "      <td>CUST5296</td>\n",
       "      <td>2020-05-24</td>\n",
       "      <td>Alice</td>\n",
       "      <td>Central</td>\n",
       "      <td>2020</td>\n",
       "    </tr>\n",
       "    <tr>\n",
       "      <th>96</th>\n",
       "      <td>ORD00147</td>\n",
       "      <td>PRD122</td>\n",
       "      <td>Smartwatch</td>\n",
       "      <td>1464.85</td>\n",
       "      <td>9</td>\n",
       "      <td>0.15</td>\n",
       "      <td>CUST8709</td>\n",
       "      <td>2023-08-18</td>\n",
       "      <td>Diana</td>\n",
       "      <td>North</td>\n",
       "      <td>2023</td>\n",
       "    </tr>\n",
       "  </tbody>\n",
       "</table>\n",
       "</div>"
      ],
      "text/plain": [
       "      OrderID ProductID ProductName  UnitPrice  Quantity  Discount CustomerID  \\\n",
       "1    ORD00491    PRD822      Laptop       0.00        19      0.20   CUST6889   \n",
       "158  ORD00016    PRD822      Laptop     613.10         1      0.00   CUST6951   \n",
       "368  ORD00300    PRD122  Smartwatch    1378.72         6      0.20   CUST7797   \n",
       "247  ORD00077    PRD949      Camera     718.35        12      0.05   CUST5296   \n",
       "96   ORD00147    PRD122  Smartwatch    1464.85         9      0.15   CUST8709   \n",
       "\n",
       "      SaleDate SalesPerson   Region  Year  \n",
       "1   2021-01-06     Charlie    North  2021  \n",
       "158 2022-09-19         Bob     West  2022  \n",
       "368 2023-11-08       Diana  Central  2023  \n",
       "247 2020-05-24       Alice  Central  2020  \n",
       "96  2023-08-18       Diana    North  2023  "
      ]
     },
     "execution_count": 142,
     "metadata": {},
     "output_type": "execute_result"
    }
   ],
   "source": [
    "df.sample(5)"
   ]
  },
  {
   "cell_type": "markdown",
   "metadata": {},
   "source": [
    "Verileri organize etme konusunda yapabileceğiniz son şey SaleDate sütununu artan şekilde sıralamak olabilir. Bu verilerin daha düzenli görünmesini sağlayacaktır."
   ]
  },
  {
   "cell_type": "code",
   "execution_count": 144,
   "metadata": {},
   "outputs": [],
   "source": [
    "df = df.sort_values(by='SaleDate', ascending=True).reset_index(drop=True)"
   ]
  },
  {
   "cell_type": "code",
   "execution_count": 145,
   "metadata": {},
   "outputs": [
    {
     "data": {
      "text/html": [
       "<div>\n",
       "<style scoped>\n",
       "    .dataframe tbody tr th:only-of-type {\n",
       "        vertical-align: middle;\n",
       "    }\n",
       "\n",
       "    .dataframe tbody tr th {\n",
       "        vertical-align: top;\n",
       "    }\n",
       "\n",
       "    .dataframe thead th {\n",
       "        text-align: right;\n",
       "    }\n",
       "</style>\n",
       "<table border=\"1\" class=\"dataframe\">\n",
       "  <thead>\n",
       "    <tr style=\"text-align: right;\">\n",
       "      <th></th>\n",
       "      <th>OrderID</th>\n",
       "      <th>ProductID</th>\n",
       "      <th>ProductName</th>\n",
       "      <th>UnitPrice</th>\n",
       "      <th>Quantity</th>\n",
       "      <th>Discount</th>\n",
       "      <th>CustomerID</th>\n",
       "      <th>SaleDate</th>\n",
       "      <th>SalesPerson</th>\n",
       "      <th>Region</th>\n",
       "      <th>Year</th>\n",
       "    </tr>\n",
       "  </thead>\n",
       "  <tbody>\n",
       "    <tr>\n",
       "      <th>0</th>\n",
       "      <td>ORD00301</td>\n",
       "      <td>PRD122</td>\n",
       "      <td>Smartwatch</td>\n",
       "      <td>1354.21</td>\n",
       "      <td>15</td>\n",
       "      <td>0.15</td>\n",
       "      <td>CUST8892</td>\n",
       "      <td>2020-01-02</td>\n",
       "      <td>Diana</td>\n",
       "      <td>East</td>\n",
       "      <td>2020</td>\n",
       "    </tr>\n",
       "    <tr>\n",
       "      <th>1</th>\n",
       "      <td>ORD00422</td>\n",
       "      <td>PRD822</td>\n",
       "      <td>Laptop</td>\n",
       "      <td>1420.68</td>\n",
       "      <td>13</td>\n",
       "      <td>0.15</td>\n",
       "      <td>CUST8644</td>\n",
       "      <td>2020-01-03</td>\n",
       "      <td>Alice</td>\n",
       "      <td>South</td>\n",
       "      <td>2020</td>\n",
       "    </tr>\n",
       "    <tr>\n",
       "      <th>2</th>\n",
       "      <td>ORD00023</td>\n",
       "      <td>PRD193</td>\n",
       "      <td>Smartphone</td>\n",
       "      <td>711.99</td>\n",
       "      <td>4</td>\n",
       "      <td>0.15</td>\n",
       "      <td>CUST1233</td>\n",
       "      <td>2020-01-09</td>\n",
       "      <td>Bob</td>\n",
       "      <td>South</td>\n",
       "      <td>2020</td>\n",
       "    </tr>\n",
       "    <tr>\n",
       "      <th>3</th>\n",
       "      <td>ORD00158</td>\n",
       "      <td>PRD193</td>\n",
       "      <td>Smartphone</td>\n",
       "      <td>711.99</td>\n",
       "      <td>14</td>\n",
       "      <td>0.15</td>\n",
       "      <td>CUST7977</td>\n",
       "      <td>2020-01-13</td>\n",
       "      <td>Bob</td>\n",
       "      <td>Central</td>\n",
       "      <td>2020</td>\n",
       "    </tr>\n",
       "    <tr>\n",
       "      <th>4</th>\n",
       "      <td>ORD00383</td>\n",
       "      <td>PRD122</td>\n",
       "      <td>Smartwatch</td>\n",
       "      <td>1439.11</td>\n",
       "      <td>8</td>\n",
       "      <td>0.05</td>\n",
       "      <td>CUST2864</td>\n",
       "      <td>2020-01-18</td>\n",
       "      <td>Evan</td>\n",
       "      <td>Central</td>\n",
       "      <td>2020</td>\n",
       "    </tr>\n",
       "  </tbody>\n",
       "</table>\n",
       "</div>"
      ],
      "text/plain": [
       "    OrderID ProductID ProductName  UnitPrice  Quantity  Discount CustomerID  \\\n",
       "0  ORD00301    PRD122  Smartwatch    1354.21        15      0.15   CUST8892   \n",
       "1  ORD00422    PRD822      Laptop    1420.68        13      0.15   CUST8644   \n",
       "2  ORD00023    PRD193  Smartphone     711.99         4      0.15   CUST1233   \n",
       "3  ORD00158    PRD193  Smartphone     711.99        14      0.15   CUST7977   \n",
       "4  ORD00383    PRD122  Smartwatch    1439.11         8      0.05   CUST2864   \n",
       "\n",
       "    SaleDate SalesPerson   Region  Year  \n",
       "0 2020-01-02       Diana     East  2020  \n",
       "1 2020-01-03       Alice    South  2020  \n",
       "2 2020-01-09         Bob    South  2020  \n",
       "3 2020-01-13         Bob  Central  2020  \n",
       "4 2020-01-18        Evan  Central  2020  "
      ]
     },
     "execution_count": 145,
     "metadata": {},
     "output_type": "execute_result"
    }
   ],
   "source": [
    "df.head()"
   ]
  },
  {
   "cell_type": "code",
   "execution_count": 146,
   "metadata": {},
   "outputs": [],
   "source": [
    "# eğer veri setinin düzenlenmiş halini .csv uzantısı ile kaydetmek isterseniz # işaretini silerek aşağıdaki kodu çalıştırabilirsiniz.\n",
    "\n",
    "# df.to_csv(\"edited_data.csv\", index= False)"
   ]
  },
  {
   "cell_type": "markdown",
   "metadata": {},
   "source": [
    "<a id='create-graphs'></a>\n",
    "# <font color='navy'> <b>Grafik Çizimi</b><font color='black'> "
   ]
  },
  {
   "cell_type": "markdown",
   "metadata": {},
   "source": [
    "## <font color='royalblue'> <b>Personellerin Yıllık Bazda Yaptıkları Satışlar</b><font color='black'> "
   ]
  },
  {
   "cell_type": "code",
   "execution_count": 149,
   "metadata": {},
   "outputs": [
    {
     "data": {
      "image/png": "[encoded data removed]",
      "text/plain": [
       "<Figure size 1000x600 with 1 Axes>"
      ]
     },
     "metadata": {},
     "output_type": "display_data"
    }
   ],
   "source": [
    "SalesCount = df.SalesPerson.value_counts(ascending= False)\n",
    "sales_counts = df.groupby(['SalesPerson', 'Year']).size().reset_index(name='SalesCount')\n",
    "\n",
    "plt.figure(figsize=(10, 6))\n",
    "sns.barplot(x='Year', y='SalesCount', hue='SalesPerson', data=sales_counts, palette = 'husl')\n",
    "\n",
    "plt.title('Personellerin Yıllara Göre Satışları')\n",
    "plt.xlabel('Yıl')\n",
    "plt.ylabel('Satış Sayısı')\n",
    "plt.legend(title='Personel', bbox_to_anchor=(1, 1.15))\n",
    "plt.show()"
   ]
  },
  {
   "cell_type": "markdown",
   "metadata": {},
   "source": [
    "## <font color='royalblue'> <b>Ürünlerin Yıllara Göre Satış Miktarı</b><font color='black'> "
   ]
  },
  {
   "cell_type": "code",
   "execution_count": 151,
   "metadata": {},
   "outputs": [
    {
     "data": {
      "image/png": "[encoded data removed]",
      "text/plain": [
       "<Figure size 1000x600 with 1 Axes>"
      ]
     },
     "metadata": {},
     "output_type": "display_data"
    }
   ],
   "source": [
    "SalesCount2 = df.ProductName.value_counts(ascending= False)\n",
    "sales_counts2 = df.groupby(['ProductName', 'Year']).size().reset_index(name='SalesCount2')\n",
    "\n",
    "plt.figure(figsize=(10, 6))\n",
    "sns.barplot(x='Year', y='SalesCount2', hue='ProductName', data=sales_counts2, palette= 'Set2')\n",
    "\n",
    "plt.title('Ürünlerin Yıllara Göre Satış Miktarı')\n",
    "plt.xlabel('Yıl')\n",
    "plt.ylabel('Satış Sayısı')\n",
    "plt.legend(title='Ürünler', bbox_to_anchor=(1.2, 1.15))\n",
    "plt.show()"
   ]
  },
  {
   "cell_type": "markdown",
   "metadata": {},
   "source": [
    "## <font color='royalblue'> <b>Yıllara Göre Elde Edilen Toplam Kazanç</b><font color='black'> "
   ]
  },
  {
   "cell_type": "code",
   "execution_count": 153,
   "metadata": {},
   "outputs": [],
   "source": [
    "df['TotalPrice'] = df['UnitPrice'] * df['Quantity'] * (1 - df['Discount'])"
   ]
  },
  {
   "cell_type": "code",
   "execution_count": 154,
   "metadata": {},
   "outputs": [
    {
     "data": {
      "image/png": "[encoded data removed]",
      "text/plain": [
       "<Figure size 1000x600 with 1 Axes>"
      ]
     },
     "metadata": {},
     "output_type": "display_data"
    }
   ],
   "source": [
    "annual_totals = df.groupby('Year')['TotalPrice'].sum()\n",
    "\n",
    "plt.figure(figsize=(10, 6))\n",
    "annual_totals.plot(kind='line', color='skyblue')\n",
    "\n",
    "plt.title('Yıllara Göre Gelir')\n",
    "plt.xlabel('Yıl')\n",
    "plt.ylabel('Toplam Gelir')\n",
    "plt.xticks(np.arange(2020,2024,1))\n",
    "plt.grid(axis='y', linestyle='--', alpha=0.7)\n",
    "plt.tight_layout()\n",
    "\n",
    "plt.show()"
   ]
  },
  {
   "cell_type": "markdown",
   "metadata": {},
   "source": [
    "## <font color='royalblue'> <b>Miktar (Quantity) ve İndirim (Discount) Arasında Bir İlişki Var Mı?</b><font color='black'> "
   ]
  },
  {
   "cell_type": "code",
   "execution_count": 156,
   "metadata": {},
   "outputs": [
    {
     "data": {
      "image/png": "[encoded data removed]",
      "text/plain": [
       "<Figure size 1000x600 with 2 Axes>"
      ]
     },
     "metadata": {},
     "output_type": "display_data"
    }
   ],
   "source": [
    "plt.figure(figsize=(10, 6))\n",
    "\n",
    "sns.heatmap(df[['Quantity', 'Discount']].corr(), annot=True, cmap='coolwarm', center=0)\n",
    "plt.title('Correlation Between Quantity and Discount')\n",
    "\n",
    "plt.show()"
   ]
  },
  {
   "cell_type": "markdown",
   "metadata": {},
   "source": [
    "-0,2 korelasyon değeri, **Miktar (Quantity)** ve **İndirim (Discount)** sütunları arasında **zayıf ve negatif bir ilişki** olduğunu gösterir. Bu, satın alınan ürünün miktarı ile indirim oranı arasında genellikle güçlü bir korelasyon olmadığını göstermektedir. Bu nedenle indirimdeki küçük değişikliklerin satın alınan miktarı önemli ölçüde etkilemesi pek olası değildir."
   ]
  }
 ],
 "metadata": {
  "kernelspec": {
   "display_name": "Python 3 (ipykernel)",
   "language": "python",
   "name": "python3"
  },
  "language_info": {
   "codemirror_mode": {
    "name": "ipython",
    "version": 3
   },
   "file_extension": ".py",
   "mimetype": "text/x-python",
   "name": "python",
   "nbconvert_exporter": "python",
   "pygments_lexer": "ipython3",
   "version": "3.12.4"
  }
 },
 "nbformat": 4,
 "nbformat_minor": 4
}

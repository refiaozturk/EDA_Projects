{
 "cells": [
  {
   "cell_type": "markdown",
   "metadata": {},
   "source": [
    "# <p style=\"background-color:lightblue;font-family:newtimeroman;font-size:180%;color:black;text-align:center;border-radius:20px 20px;\"><b>EDA Project - Sales Data </b></p>"
   ]
  },
  {
   "cell_type": "markdown",
   "metadata": {},
   "source": [
    "<b>Contains:</b>\n",
    "<ul>\n",
    "<li><a href=\"#import-library\">Importing Libraries</a></li>\n",
    "<li><a href=\"#loading-dataset\">Loading The Dataset</a></li>\n",
    "<li><a href=\"#understanding-dataset\">Understanding The Dataset</a></li>\n",
    "<li><a href=\"#organizing-columns\">Organizing Columns</a></li>\n",
    "<li><a href=\"#nan-values\">NaN Values</a></li>\n",
    "<li><a href=\"#create-graphs\">Creating Graphs</a></li>\n",
    "</ul>"
   ]
  },
  {
   "cell_type": "markdown",
   "metadata": {},
   "source": [
    "<a id='import-library'></a>\n",
    "# <font color='navy'> <b>Importing Libraries</b><font color='black'> "
   ]
  },
  {
   "cell_type": "code",
   "execution_count": 10,
   "metadata": {},
   "outputs": [],
   "source": [
    "import numpy as np\n",
    "import pandas as pd\n",
    "import matplotlib.pyplot as plt\n",
    "import seaborn as sns\n",
    "\n",
    "import missingno as msno\n",
    "import plotly.express as px\n",
    "\n",
    "from skimpy import skim\n",
    "\n",
    "import warnings\n",
    "warnings.filterwarnings(\"ignore\")\n",
    "\n",
    "pd.set_option('display.max_columns', None)\n",
    "pd.set_option('display.max_rows', None)"
   ]
  },
  {
   "cell_type": "markdown",
   "metadata": {},
   "source": [
    "<a id='loading-dataset'></a>\n",
    "# <font color='navy'> <b>Loading The Dataset</b><font color='black'> \n",
    "Firstly, you should define df0 as the original data. Then, you can create a df variable to analysis the dataset using copy() function."
   ]
  },
  {
   "cell_type": "code",
   "execution_count": 12,
   "metadata": {},
   "outputs": [],
   "source": [
    "df0 = pd.read_csv(\"sales_data.csv\")\n",
    "df = df0.copy()"
   ]
  },
  {
   "cell_type": "code",
   "execution_count": 13,
   "metadata": {},
   "outputs": [
    {
     "data": {
      "text/html": [
       "<div>\n",
       "<style scoped>\n",
       "    .dataframe tbody tr th:only-of-type {\n",
       "        vertical-align: middle;\n",
       "    }\n",
       "\n",
       "    .dataframe tbody tr th {\n",
       "        vertical-align: top;\n",
       "    }\n",
       "\n",
       "    .dataframe thead th {\n",
       "        text-align: right;\n",
       "    }\n",
       "</style>\n",
       "<table border=\"1\" class=\"dataframe\">\n",
       "  <thead>\n",
       "    <tr style=\"text-align: right;\">\n",
       "      <th></th>\n",
       "      <th>OrderID</th>\n",
       "      <th>ProductID</th>\n",
       "      <th>ProductName</th>\n",
       "      <th>UnitPrice</th>\n",
       "      <th>Quantity</th>\n",
       "      <th>Discount</th>\n",
       "      <th>CustomerID</th>\n",
       "      <th>SaleDate</th>\n",
       "      <th>Salesperson</th>\n",
       "      <th>Region</th>\n",
       "    </tr>\n",
       "  </thead>\n",
       "  <tbody>\n",
       "    <tr>\n",
       "      <th>0</th>\n",
       "      <td>ORD00076</td>\n",
       "      <td>PRD991</td>\n",
       "      <td>Smartwatch, Camera, Headphones</td>\n",
       "      <td>154.88971109205679</td>\n",
       "      <td>8</td>\n",
       "      <td>0.15</td>\n",
       "      <td>CUST7975</td>\n",
       "      <td>2022-03-31 00:00:00</td>\n",
       "      <td>NaN</td>\n",
       "      <td>North</td>\n",
       "    </tr>\n",
       "    <tr>\n",
       "      <th>1</th>\n",
       "      <td>ORD00491</td>\n",
       "      <td>PRD400</td>\n",
       "      <td>Laptop</td>\n",
       "      <td>free</td>\n",
       "      <td>19</td>\n",
       "      <td>0.20</td>\n",
       "      <td>CUST6889</td>\n",
       "      <td>2021-01-06 00:00:00</td>\n",
       "      <td>Charlie</td>\n",
       "      <td>North</td>\n",
       "    </tr>\n",
       "    <tr>\n",
       "      <th>2</th>\n",
       "      <td>ORD00369</td>\n",
       "      <td>PRD957</td>\n",
       "      <td>Camera</td>\n",
       "      <td>770.6350827794904</td>\n",
       "      <td>16</td>\n",
       "      <td>0.05</td>\n",
       "      <td>CUST4092</td>\n",
       "      <td>Unknown</td>\n",
       "      <td>Alice</td>\n",
       "      <td>West</td>\n",
       "    </tr>\n",
       "    <tr>\n",
       "      <th>3</th>\n",
       "      <td>ORD00490</td>\n",
       "      <td>PRD232</td>\n",
       "      <td>NaN</td>\n",
       "      <td>82.95197721398569</td>\n",
       "      <td>1</td>\n",
       "      <td>0.15</td>\n",
       "      <td>CUST2238</td>\n",
       "      <td>2023-08-14 00:00:00</td>\n",
       "      <td>Charlie</td>\n",
       "      <td>North</td>\n",
       "    </tr>\n",
       "    <tr>\n",
       "      <th>4</th>\n",
       "      <td>ORD00228</td>\n",
       "      <td>PRD123</td>\n",
       "      <td>Laptop</td>\n",
       "      <td>250.42946041877397</td>\n",
       "      <td>11</td>\n",
       "      <td>0.20</td>\n",
       "      <td>CUST8442</td>\n",
       "      <td>2020-08-15 00:00:00</td>\n",
       "      <td>Evan</td>\n",
       "      <td>North</td>\n",
       "    </tr>\n",
       "  </tbody>\n",
       "</table>\n",
       "</div>"
      ],
      "text/plain": [
       "    OrderID ProductID                     ProductName           UnitPrice  \\\n",
       "0  ORD00076    PRD991  Smartwatch, Camera, Headphones  154.88971109205679   \n",
       "1  ORD00491    PRD400                          Laptop                free   \n",
       "2  ORD00369    PRD957                          Camera   770.6350827794904   \n",
       "3  ORD00490    PRD232                             NaN   82.95197721398569   \n",
       "4  ORD00228    PRD123                          Laptop  250.42946041877397   \n",
       "\n",
       "   Quantity  Discount CustomerID             SaleDate Salesperson Region  \n",
       "0         8      0.15   CUST7975  2022-03-31 00:00:00         NaN  North  \n",
       "1        19      0.20   CUST6889  2021-01-06 00:00:00     Charlie  North  \n",
       "2        16      0.05   CUST4092              Unknown       Alice   West  \n",
       "3         1      0.15   CUST2238  2023-08-14 00:00:00     Charlie  North  \n",
       "4        11      0.20   CUST8442  2020-08-15 00:00:00        Evan  North  "
      ]
     },
     "execution_count": 13,
     "metadata": {},
     "output_type": "execute_result"
    }
   ],
   "source": [
    "df.head()"
   ]
  },
  {
   "cell_type": "markdown",
   "metadata": {},
   "source": [
    "**OrderID:** A unique identifier for each sale order.\\\n",
    "**ProductID:** A unique identifier for each product.\\\n",
    "**ProductName:** Name of product.\\\n",
    "**UnitPrice:** The price of a single unit of the product.\\\n",
    "**Quantity:** The amount of product.\\\n",
    "**Discount:** The amount of discount.\\\n",
    "**CustomerID:** A unique identifier for each customer.\\\n",
    "**SaleDate:** The date when the sale occurred.\\\n",
    "**Salesperson:** The name of the employee responsible for the sale.\\\n",
    "**Region:** The geographic area where the sale was made."
   ]
  },
  {
   "cell_type": "markdown",
   "metadata": {},
   "source": [
    "<a id='understanding-dataset'></a>\n",
    "# <font color='navy'> <b>Understanding The Dataset</b><font color='black'> "
   ]
  },
  {
   "cell_type": "code",
   "execution_count": 16,
   "metadata": {},
   "outputs": [
    {
     "data": {
      "text/plain": [
       "15"
      ]
     },
     "execution_count": 16,
     "metadata": {},
     "output_type": "execute_result"
    }
   ],
   "source": [
    "df.duplicated().sum()"
   ]
  },
  {
   "cell_type": "code",
   "execution_count": 17,
   "metadata": {},
   "outputs": [],
   "source": [
    "df = df.drop_duplicates()"
   ]
  },
  {
   "cell_type": "code",
   "execution_count": 18,
   "metadata": {},
   "outputs": [
    {
     "name": "stdout",
     "output_type": "stream",
     "text": [
      "<class 'pandas.core.frame.DataFrame'>\n",
      "Index: 510 entries, 0 to 524\n",
      "Data columns (total 10 columns):\n",
      " #   Column       Non-Null Count  Dtype  \n",
      "---  ------       --------------  -----  \n",
      " 0   OrderID      510 non-null    object \n",
      " 1   ProductID    510 non-null    object \n",
      " 2   ProductName  476 non-null    object \n",
      " 3   UnitPrice    484 non-null    object \n",
      " 4   Quantity     510 non-null    int64  \n",
      " 5   Discount     510 non-null    float64\n",
      " 6   CustomerID   458 non-null    object \n",
      " 7   SaleDate     503 non-null    object \n",
      " 8   Salesperson  459 non-null    object \n",
      " 9   Region       510 non-null    object \n",
      "dtypes: float64(1), int64(1), object(8)\n",
      "memory usage: 43.8+ KB\n"
     ]
    }
   ],
   "source": [
    "df.info()"
   ]
  },
  {
   "cell_type": "markdown",
   "metadata": {},
   "source": [
    "In total, dataset has 510 entries and 10 columns. In 2nd, 3rd, 6th, 7th and 8th columns data has some NaN values."
   ]
  },
  {
   "cell_type": "code",
   "execution_count": 20,
   "metadata": {},
   "outputs": [
    {
     "data": {
      "text/html": [
       "<div>\n",
       "<style scoped>\n",
       "    .dataframe tbody tr th:only-of-type {\n",
       "        vertical-align: middle;\n",
       "    }\n",
       "\n",
       "    .dataframe tbody tr th {\n",
       "        vertical-align: top;\n",
       "    }\n",
       "\n",
       "    .dataframe thead th {\n",
       "        text-align: right;\n",
       "    }\n",
       "</style>\n",
       "<table border=\"1\" class=\"dataframe\">\n",
       "  <thead>\n",
       "    <tr style=\"text-align: right;\">\n",
       "      <th></th>\n",
       "      <th>count</th>\n",
       "      <th>mean</th>\n",
       "      <th>std</th>\n",
       "      <th>min</th>\n",
       "      <th>25%</th>\n",
       "      <th>50%</th>\n",
       "      <th>75%</th>\n",
       "      <th>max</th>\n",
       "    </tr>\n",
       "  </thead>\n",
       "  <tbody>\n",
       "    <tr>\n",
       "      <th>Quantity</th>\n",
       "      <td>510.0</td>\n",
       "      <td>9.158824</td>\n",
       "      <td>187.997702</td>\n",
       "      <td>-999.0</td>\n",
       "      <td>4.00</td>\n",
       "      <td>11.0</td>\n",
       "      <td>15.00</td>\n",
       "      <td>999.0</td>\n",
       "    </tr>\n",
       "    <tr>\n",
       "      <th>Discount</th>\n",
       "      <td>510.0</td>\n",
       "      <td>0.102843</td>\n",
       "      <td>0.070270</td>\n",
       "      <td>0.0</td>\n",
       "      <td>0.05</td>\n",
       "      <td>0.1</td>\n",
       "      <td>0.15</td>\n",
       "      <td>0.2</td>\n",
       "    </tr>\n",
       "  </tbody>\n",
       "</table>\n",
       "</div>"
      ],
      "text/plain": [
       "          count      mean         std    min   25%   50%    75%    max\n",
       "Quantity  510.0  9.158824  187.997702 -999.0  4.00  11.0  15.00  999.0\n",
       "Discount  510.0  0.102843    0.070270    0.0  0.05   0.1   0.15    0.2"
      ]
     },
     "execution_count": 20,
     "metadata": {},
     "output_type": "execute_result"
    }
   ],
   "source": [
    "df.describe().T"
   ]
  },
  {
   "cell_type": "markdown",
   "metadata": {},
   "source": [
    "The dataset has negative value as minimum value. Quantity columns can't include negative values so these values should be found and changed."
   ]
  },
  {
   "cell_type": "code",
   "execution_count": 22,
   "metadata": {},
   "outputs": [
    {
     "data": {
      "text/html": [
       "<div>\n",
       "<style scoped>\n",
       "    .dataframe tbody tr th:only-of-type {\n",
       "        vertical-align: middle;\n",
       "    }\n",
       "\n",
       "    .dataframe tbody tr th {\n",
       "        vertical-align: top;\n",
       "    }\n",
       "\n",
       "    .dataframe thead th {\n",
       "        text-align: right;\n",
       "    }\n",
       "</style>\n",
       "<table border=\"1\" class=\"dataframe\">\n",
       "  <thead>\n",
       "    <tr style=\"text-align: right;\">\n",
       "      <th></th>\n",
       "      <th>count</th>\n",
       "      <th>unique</th>\n",
       "      <th>top</th>\n",
       "      <th>freq</th>\n",
       "    </tr>\n",
       "  </thead>\n",
       "  <tbody>\n",
       "    <tr>\n",
       "      <th>OrderID</th>\n",
       "      <td>510</td>\n",
       "      <td>500</td>\n",
       "      <td>ORD00463</td>\n",
       "      <td>2</td>\n",
       "    </tr>\n",
       "    <tr>\n",
       "      <th>ProductID</th>\n",
       "      <td>510</td>\n",
       "      <td>391</td>\n",
       "      <td>PRD366</td>\n",
       "      <td>4</td>\n",
       "    </tr>\n",
       "    <tr>\n",
       "      <th>ProductName</th>\n",
       "      <td>476</td>\n",
       "      <td>101</td>\n",
       "      <td>Camera</td>\n",
       "      <td>92</td>\n",
       "    </tr>\n",
       "    <tr>\n",
       "      <th>UnitPrice</th>\n",
       "      <td>484</td>\n",
       "      <td>388</td>\n",
       "      <td>-</td>\n",
       "      <td>35</td>\n",
       "    </tr>\n",
       "    <tr>\n",
       "      <th>CustomerID</th>\n",
       "      <td>458</td>\n",
       "      <td>440</td>\n",
       "      <td>CUST9395</td>\n",
       "      <td>3</td>\n",
       "    </tr>\n",
       "    <tr>\n",
       "      <th>SaleDate</th>\n",
       "      <td>503</td>\n",
       "      <td>408</td>\n",
       "      <td>TBD</td>\n",
       "      <td>10</td>\n",
       "    </tr>\n",
       "    <tr>\n",
       "      <th>Salesperson</th>\n",
       "      <td>459</td>\n",
       "      <td>10</td>\n",
       "      <td>Diana</td>\n",
       "      <td>96</td>\n",
       "    </tr>\n",
       "    <tr>\n",
       "      <th>Region</th>\n",
       "      <td>510</td>\n",
       "      <td>5</td>\n",
       "      <td>East</td>\n",
       "      <td>111</td>\n",
       "    </tr>\n",
       "  </tbody>\n",
       "</table>\n",
       "</div>"
      ],
      "text/plain": [
       "            count unique       top freq\n",
       "OrderID       510    500  ORD00463    2\n",
       "ProductID     510    391    PRD366    4\n",
       "ProductName   476    101    Camera   92\n",
       "UnitPrice     484    388         -   35\n",
       "CustomerID    458    440  CUST9395    3\n",
       "SaleDate      503    408       TBD   10\n",
       "Salesperson   459     10     Diana   96\n",
       "Region        510      5      East  111"
      ]
     },
     "execution_count": 22,
     "metadata": {},
     "output_type": "execute_result"
    }
   ],
   "source": [
    "df.describe(include= \"object\").T"
   ]
  },
  {
   "cell_type": "code",
   "execution_count": 23,
   "metadata": {},
   "outputs": [
    {
     "data": {
      "text/html": [
       "<pre style=\"white-space:pre;overflow-x:auto;line-height:normal;font-family:Menlo,'DejaVu Sans Mono',consolas,'Courier New',monospace\">╭──────────────────────────────────────────────── skimpy summary ─────────────────────────────────────────────────╮\n",
       "│ <span style=\"font-style: italic\">         Data Summary         </span> <span style=\"font-style: italic\">      Data Types       </span>                                                          │\n",
       "│ ┏━━━━━━━━━━━━━━━━━━━┳━━━━━━━━┓ ┏━━━━━━━━━━━━━┳━━━━━━━┓                                                          │\n",
       "│ ┃<span style=\"color: #008080; text-decoration-color: #008080; font-weight: bold\"> dataframe         </span>┃<span style=\"color: #008080; text-decoration-color: #008080; font-weight: bold\"> Values </span>┃ ┃<span style=\"color: #008080; text-decoration-color: #008080; font-weight: bold\"> Column Type </span>┃<span style=\"color: #008080; text-decoration-color: #008080; font-weight: bold\"> Count </span>┃                                                          │\n",
       "│ ┡━━━━━━━━━━━━━━━━━━━╇━━━━━━━━┩ ┡━━━━━━━━━━━━━╇━━━━━━━┩                                                          │\n",
       "│ │ Number of rows    │ 510    │ │ string      │ 8     │                                                          │\n",
       "│ │ Number of columns │ 10     │ │ int32       │ 1     │                                                          │\n",
       "│ └───────────────────┴────────┘ │ float64     │ 1     │                                                          │\n",
       "│                                └─────────────┴───────┘                                                          │\n",
       "│ <span style=\"font-style: italic\">                                                    number                                                    </span>  │\n",
       "│ ┏━━━━━━━━━━━━━━━━━┳━━━━━━┳━━━━━━━━┳━━━━━━━━━━┳━━━━━━━━━━━━┳━━━━━━━━┳━━━━━━━━┳━━━━━━┳━━━━━━━┳━━━━━━━┳━━━━━━━━━┓  │\n",
       "│ ┃<span style=\"font-weight: bold\"> column_name     </span>┃<span style=\"font-weight: bold\"> NA   </span>┃<span style=\"font-weight: bold\"> NA %   </span>┃<span style=\"font-weight: bold\"> mean     </span>┃<span style=\"font-weight: bold\"> sd         </span>┃<span style=\"font-weight: bold\"> p0     </span>┃<span style=\"font-weight: bold\"> p25    </span>┃<span style=\"font-weight: bold\"> p50  </span>┃<span style=\"font-weight: bold\"> p75   </span>┃<span style=\"font-weight: bold\"> p100  </span>┃<span style=\"font-weight: bold\"> hist    </span>┃  │\n",
       "│ ┡━━━━━━━━━━━━━━━━━╇━━━━━━╇━━━━━━━━╇━━━━━━━━━━╇━━━━━━━━━━━━╇━━━━━━━━╇━━━━━━━━╇━━━━━━╇━━━━━━━╇━━━━━━━╇━━━━━━━━━┩  │\n",
       "│ │ <span style=\"color: #af87ff; text-decoration-color: #af87ff\">Quantity       </span> │ <span style=\"color: #008080; text-decoration-color: #008080\">   0</span> │ <span style=\"color: #008080; text-decoration-color: #008080\">     0</span> │ <span style=\"color: #008080; text-decoration-color: #008080\">   9.159</span> │ <span style=\"color: #008080; text-decoration-color: #008080\">       188</span> │ <span style=\"color: #008080; text-decoration-color: #008080\">  -999</span> │ <span style=\"color: #008080; text-decoration-color: #008080\">     4</span> │ <span style=\"color: #008080; text-decoration-color: #008080\">  11</span> │ <span style=\"color: #008080; text-decoration-color: #008080\">   15</span> │ <span style=\"color: #008080; text-decoration-color: #008080\">  999</span> │ <span style=\"color: #008000; text-decoration-color: #008000\">    ▇  </span> │  │\n",
       "│ │ <span style=\"color: #af87ff; text-decoration-color: #af87ff\">Discount       </span> │ <span style=\"color: #008080; text-decoration-color: #008080\">   0</span> │ <span style=\"color: #008080; text-decoration-color: #008080\">     0</span> │ <span style=\"color: #008080; text-decoration-color: #008080\">  0.1028</span> │ <span style=\"color: #008080; text-decoration-color: #008080\">   0.07027</span> │ <span style=\"color: #008080; text-decoration-color: #008080\">     0</span> │ <span style=\"color: #008080; text-decoration-color: #008080\">  0.05</span> │ <span style=\"color: #008080; text-decoration-color: #008080\"> 0.1</span> │ <span style=\"color: #008080; text-decoration-color: #008080\"> 0.15</span> │ <span style=\"color: #008080; text-decoration-color: #008080\">  0.2</span> │ <span style=\"color: #008000; text-decoration-color: #008000\">▇▇ ▇▇▇ </span> │  │\n",
       "│ └─────────────────┴──────┴────────┴──────────┴────────────┴────────┴────────┴──────┴───────┴───────┴─────────┘  │\n",
       "│ <span style=\"font-style: italic\">                                                    string                                                    </span>  │\n",
       "│ ┏━━━━━━━━━━━━━━━━━━━━━━━━━━━┳━━━━━━━━━┳━━━━━━━━━━━━┳━━━━━━━━━━━━━━━━━━━━━━━━━━━━━━┳━━━━━━━━━━━━━━━━━━━━━━━━━━┓  │\n",
       "│ ┃<span style=\"font-weight: bold\"> column_name               </span>┃<span style=\"font-weight: bold\"> NA      </span>┃<span style=\"font-weight: bold\"> NA %       </span>┃<span style=\"font-weight: bold\"> words per row                </span>┃<span style=\"font-weight: bold\"> total words              </span>┃  │\n",
       "│ ┡━━━━━━━━━━━━━━━━━━━━━━━━━━━╇━━━━━━━━━╇━━━━━━━━━━━━╇━━━━━━━━━━━━━━━━━━━━━━━━━━━━━━╇━━━━━━━━━━━━━━━━━━━━━━━━━━┩  │\n",
       "│ │ <span style=\"color: #af87ff; text-decoration-color: #af87ff\">OrderID                  </span> │ <span style=\"color: #008080; text-decoration-color: #008080\">      0</span> │ <span style=\"color: #008080; text-decoration-color: #008080\">         0</span> │ <span style=\"color: #008080; text-decoration-color: #008080\">                           1</span> │ <span style=\"color: #008080; text-decoration-color: #008080\">                     510</span> │  │\n",
       "│ │ <span style=\"color: #af87ff; text-decoration-color: #af87ff\">ProductID                </span> │ <span style=\"color: #008080; text-decoration-color: #008080\">      0</span> │ <span style=\"color: #008080; text-decoration-color: #008080\">         0</span> │ <span style=\"color: #008080; text-decoration-color: #008080\">                           1</span> │ <span style=\"color: #008080; text-decoration-color: #008080\">                     510</span> │  │\n",
       "│ │ <span style=\"color: #af87ff; text-decoration-color: #af87ff\">ProductName              </span> │ <span style=\"color: #008080; text-decoration-color: #008080\">     34</span> │ <span style=\"color: #008080; text-decoration-color: #008080\">      6.67</span> │ <span style=\"color: #008080; text-decoration-color: #008080\">                         1.4</span> │ <span style=\"color: #008080; text-decoration-color: #008080\">                     726</span> │  │\n",
       "│ │ <span style=\"color: #af87ff; text-decoration-color: #af87ff\">UnitPrice                </span> │ <span style=\"color: #008080; text-decoration-color: #008080\">     26</span> │ <span style=\"color: #008080; text-decoration-color: #008080\">       5.1</span> │ <span style=\"color: #008080; text-decoration-color: #008080\">                        0.95</span> │ <span style=\"color: #008080; text-decoration-color: #008080\">                     484</span> │  │\n",
       "│ │ <span style=\"color: #af87ff; text-decoration-color: #af87ff\">CustomerID               </span> │ <span style=\"color: #008080; text-decoration-color: #008080\">     52</span> │ <span style=\"color: #008080; text-decoration-color: #008080\">      10.2</span> │ <span style=\"color: #008080; text-decoration-color: #008080\">                         0.9</span> │ <span style=\"color: #008080; text-decoration-color: #008080\">                     458</span> │  │\n",
       "│ │ <span style=\"color: #af87ff; text-decoration-color: #af87ff\">SaleDate                 </span> │ <span style=\"color: #008080; text-decoration-color: #008080\">      7</span> │ <span style=\"color: #008080; text-decoration-color: #008080\">      1.37</span> │ <span style=\"color: #008080; text-decoration-color: #008080\">                         1.9</span> │ <span style=\"color: #008080; text-decoration-color: #008080\">                     988</span> │  │\n",
       "│ │ <span style=\"color: #af87ff; text-decoration-color: #af87ff\">Salesperson              </span> │ <span style=\"color: #008080; text-decoration-color: #008080\">     51</span> │ <span style=\"color: #008080; text-decoration-color: #008080\">        10</span> │ <span style=\"color: #008080; text-decoration-color: #008080\">                         0.9</span> │ <span style=\"color: #008080; text-decoration-color: #008080\">                     459</span> │  │\n",
       "│ │ <span style=\"color: #af87ff; text-decoration-color: #af87ff\">Region                   </span> │ <span style=\"color: #008080; text-decoration-color: #008080\">      0</span> │ <span style=\"color: #008080; text-decoration-color: #008080\">         0</span> │ <span style=\"color: #008080; text-decoration-color: #008080\">                           1</span> │ <span style=\"color: #008080; text-decoration-color: #008080\">                     510</span> │  │\n",
       "│ └───────────────────────────┴─────────┴────────────┴──────────────────────────────┴──────────────────────────┘  │\n",
       "╰────────────────────────────────────────────────────── End ──────────────────────────────────────────────────────╯\n",
       "</pre>\n"
      ],
      "text/plain": [
       "╭──────────────────────────────────────────────── skimpy summary ─────────────────────────────────────────────────╮\n",
       "│ \u001b[3m         Data Summary         \u001b[0m \u001b[3m      Data Types       \u001b[0m                                                          │\n",
       "│ ┏━━━━━━━━━━━━━━━━━━━┳━━━━━━━━┓ ┏━━━━━━━━━━━━━┳━━━━━━━┓                                                          │\n",
       "│ ┃\u001b[1;36m \u001b[0m\u001b[1;36mdataframe        \u001b[0m\u001b[1;36m \u001b[0m┃\u001b[1;36m \u001b[0m\u001b[1;36mValues\u001b[0m\u001b[1;36m \u001b[0m┃ ┃\u001b[1;36m \u001b[0m\u001b[1;36mColumn Type\u001b[0m\u001b[1;36m \u001b[0m┃\u001b[1;36m \u001b[0m\u001b[1;36mCount\u001b[0m\u001b[1;36m \u001b[0m┃                                                          │\n",
       "│ ┡━━━━━━━━━━━━━━━━━━━╇━━━━━━━━┩ ┡━━━━━━━━━━━━━╇━━━━━━━┩                                                          │\n",
       "│ │ Number of rows    │ 510    │ │ string      │ 8     │                                                          │\n",
       "│ │ Number of columns │ 10     │ │ int32       │ 1     │                                                          │\n",
       "│ └───────────────────┴────────┘ │ float64     │ 1     │                                                          │\n",
       "│                                └─────────────┴───────┘                                                          │\n",
       "│ \u001b[3m                                                    number                                                    \u001b[0m  │\n",
       "│ ┏━━━━━━━━━━━━━━━━━┳━━━━━━┳━━━━━━━━┳━━━━━━━━━━┳━━━━━━━━━━━━┳━━━━━━━━┳━━━━━━━━┳━━━━━━┳━━━━━━━┳━━━━━━━┳━━━━━━━━━┓  │\n",
       "│ ┃\u001b[1m \u001b[0m\u001b[1mcolumn_name    \u001b[0m\u001b[1m \u001b[0m┃\u001b[1m \u001b[0m\u001b[1mNA  \u001b[0m\u001b[1m \u001b[0m┃\u001b[1m \u001b[0m\u001b[1mNA %  \u001b[0m\u001b[1m \u001b[0m┃\u001b[1m \u001b[0m\u001b[1mmean    \u001b[0m\u001b[1m \u001b[0m┃\u001b[1m \u001b[0m\u001b[1msd        \u001b[0m\u001b[1m \u001b[0m┃\u001b[1m \u001b[0m\u001b[1mp0    \u001b[0m\u001b[1m \u001b[0m┃\u001b[1m \u001b[0m\u001b[1mp25   \u001b[0m\u001b[1m \u001b[0m┃\u001b[1m \u001b[0m\u001b[1mp50 \u001b[0m\u001b[1m \u001b[0m┃\u001b[1m \u001b[0m\u001b[1mp75  \u001b[0m\u001b[1m \u001b[0m┃\u001b[1m \u001b[0m\u001b[1mp100 \u001b[0m\u001b[1m \u001b[0m┃\u001b[1m \u001b[0m\u001b[1mhist   \u001b[0m\u001b[1m \u001b[0m┃  │\n",
       "│ ┡━━━━━━━━━━━━━━━━━╇━━━━━━╇━━━━━━━━╇━━━━━━━━━━╇━━━━━━━━━━━━╇━━━━━━━━╇━━━━━━━━╇━━━━━━╇━━━━━━━╇━━━━━━━╇━━━━━━━━━┩  │\n",
       "│ │ \u001b[38;5;141mQuantity       \u001b[0m │ \u001b[36m   0\u001b[0m │ \u001b[36m     0\u001b[0m │ \u001b[36m   9.159\u001b[0m │ \u001b[36m       188\u001b[0m │ \u001b[36m  -999\u001b[0m │ \u001b[36m     4\u001b[0m │ \u001b[36m  11\u001b[0m │ \u001b[36m   15\u001b[0m │ \u001b[36m  999\u001b[0m │ \u001b[32m    ▇  \u001b[0m │  │\n",
       "│ │ \u001b[38;5;141mDiscount       \u001b[0m │ \u001b[36m   0\u001b[0m │ \u001b[36m     0\u001b[0m │ \u001b[36m  0.1028\u001b[0m │ \u001b[36m   0.07027\u001b[0m │ \u001b[36m     0\u001b[0m │ \u001b[36m  0.05\u001b[0m │ \u001b[36m 0.1\u001b[0m │ \u001b[36m 0.15\u001b[0m │ \u001b[36m  0.2\u001b[0m │ \u001b[32m▇▇ ▇▇▇ \u001b[0m │  │\n",
       "│ └─────────────────┴──────┴────────┴──────────┴────────────┴────────┴────────┴──────┴───────┴───────┴─────────┘  │\n",
       "│ \u001b[3m                                                    string                                                    \u001b[0m  │\n",
       "│ ┏━━━━━━━━━━━━━━━━━━━━━━━━━━━┳━━━━━━━━━┳━━━━━━━━━━━━┳━━━━━━━━━━━━━━━━━━━━━━━━━━━━━━┳━━━━━━━━━━━━━━━━━━━━━━━━━━┓  │\n",
       "│ ┃\u001b[1m \u001b[0m\u001b[1mcolumn_name              \u001b[0m\u001b[1m \u001b[0m┃\u001b[1m \u001b[0m\u001b[1mNA     \u001b[0m\u001b[1m \u001b[0m┃\u001b[1m \u001b[0m\u001b[1mNA %      \u001b[0m\u001b[1m \u001b[0m┃\u001b[1m \u001b[0m\u001b[1mwords per row               \u001b[0m\u001b[1m \u001b[0m┃\u001b[1m \u001b[0m\u001b[1mtotal words             \u001b[0m\u001b[1m \u001b[0m┃  │\n",
       "│ ┡━━━━━━━━━━━━━━━━━━━━━━━━━━━╇━━━━━━━━━╇━━━━━━━━━━━━╇━━━━━━━━━━━━━━━━━━━━━━━━━━━━━━╇━━━━━━━━━━━━━━━━━━━━━━━━━━┩  │\n",
       "│ │ \u001b[38;5;141mOrderID                  \u001b[0m │ \u001b[36m      0\u001b[0m │ \u001b[36m         0\u001b[0m │ \u001b[36m                           1\u001b[0m │ \u001b[36m                     510\u001b[0m │  │\n",
       "│ │ \u001b[38;5;141mProductID                \u001b[0m │ \u001b[36m      0\u001b[0m │ \u001b[36m         0\u001b[0m │ \u001b[36m                           1\u001b[0m │ \u001b[36m                     510\u001b[0m │  │\n",
       "│ │ \u001b[38;5;141mProductName              \u001b[0m │ \u001b[36m     34\u001b[0m │ \u001b[36m      6.67\u001b[0m │ \u001b[36m                         1.4\u001b[0m │ \u001b[36m                     726\u001b[0m │  │\n",
       "│ │ \u001b[38;5;141mUnitPrice                \u001b[0m │ \u001b[36m     26\u001b[0m │ \u001b[36m       5.1\u001b[0m │ \u001b[36m                        0.95\u001b[0m │ \u001b[36m                     484\u001b[0m │  │\n",
       "│ │ \u001b[38;5;141mCustomerID               \u001b[0m │ \u001b[36m     52\u001b[0m │ \u001b[36m      10.2\u001b[0m │ \u001b[36m                         0.9\u001b[0m │ \u001b[36m                     458\u001b[0m │  │\n",
       "│ │ \u001b[38;5;141mSaleDate                 \u001b[0m │ \u001b[36m      7\u001b[0m │ \u001b[36m      1.37\u001b[0m │ \u001b[36m                         1.9\u001b[0m │ \u001b[36m                     988\u001b[0m │  │\n",
       "│ │ \u001b[38;5;141mSalesperson              \u001b[0m │ \u001b[36m     51\u001b[0m │ \u001b[36m        10\u001b[0m │ \u001b[36m                         0.9\u001b[0m │ \u001b[36m                     459\u001b[0m │  │\n",
       "│ │ \u001b[38;5;141mRegion                   \u001b[0m │ \u001b[36m      0\u001b[0m │ \u001b[36m         0\u001b[0m │ \u001b[36m                           1\u001b[0m │ \u001b[36m                     510\u001b[0m │  │\n",
       "│ └───────────────────────────┴─────────┴────────────┴──────────────────────────────┴──────────────────────────┘  │\n",
       "╰────────────────────────────────────────────────────── End ──────────────────────────────────────────────────────╯\n"
      ]
     },
     "metadata": {},
     "output_type": "display_data"
    }
   ],
   "source": [
    "skim(df)"
   ]
  },
  {
   "cell_type": "code",
   "execution_count": 24,
   "metadata": {},
   "outputs": [
    {
     "data": {
      "text/plain": [
       "OrderID         0\n",
       "ProductID       0\n",
       "ProductName    34\n",
       "UnitPrice      26\n",
       "Quantity        0\n",
       "Discount        0\n",
       "CustomerID     52\n",
       "SaleDate        7\n",
       "Salesperson    51\n",
       "Region          0\n",
       "dtype: int64"
      ]
     },
     "execution_count": 24,
     "metadata": {},
     "output_type": "execute_result"
    }
   ],
   "source": [
    "df.isnull().sum()"
   ]
  },
  {
   "cell_type": "code",
   "execution_count": 25,
   "metadata": {},
   "outputs": [
    {
     "data": {
      "text/plain": [
       "170"
      ]
     },
     "execution_count": 25,
     "metadata": {},
     "output_type": "execute_result"
    }
   ],
   "source": [
    "df.isnull().sum().sum()"
   ]
  },
  {
   "cell_type": "markdown",
   "metadata": {},
   "source": [
    "In total, the dataset has **170 NaN values**."
   ]
  },
  {
   "cell_type": "code",
   "execution_count": 27,
   "metadata": {},
   "outputs": [
    {
     "data": {
      "image/png": "[encoded data removed]",
      "text/plain": [
       "<Figure size 2500x1000 with 2 Axes>"
      ]
     },
     "metadata": {},
     "output_type": "display_data"
    }
   ],
   "source": [
    "msno.matrix(df);"
   ]
  },
  {
   "cell_type": "code",
   "execution_count": 28,
   "metadata": {},
   "outputs": [
    {
     "data": {
      "text/plain": [
       "OrderID        500\n",
       "ProductID      391\n",
       "ProductName    101\n",
       "UnitPrice      388\n",
       "Quantity        36\n",
       "Discount         5\n",
       "CustomerID     440\n",
       "SaleDate       408\n",
       "Salesperson     10\n",
       "Region           5\n",
       "dtype: int64"
      ]
     },
     "execution_count": 28,
     "metadata": {},
     "output_type": "execute_result"
    }
   ],
   "source": [
    "# The number of unique values\n",
    "\n",
    "df.nunique()"
   ]
  },
  {
   "cell_type": "markdown",
   "metadata": {},
   "source": [
    "<a id='organizing-columns'></a>\n",
    "# <font color='navy'> <b>Organizing Columns</b><font color='black'> "
   ]
  },
  {
   "attachments": {
    "0288767c-cd04-4c6d-8524-e676e3a37f2f.png": {
     "image/png": "[encoded data removed]"
    },
    "112ede38-853e-4fc1-b73d-00b186551cc8.png": {
     "image/png": "[encoded data removed]"
    },
    "140424e6-2a44-483e-a1f2-36a5ad5ead06.png": {
     "image/png": "[encoded data removed]"
    },
    "3026af7c-6165-448e-957b-a944c7f2acd3.png": {
     "image/png": "[encoded data removed]"
    },
    "f7f4fab4-0a0e-47d5-b395-cb610a1a45b4.png": {
     "image/png": "[encoded data removed]"
    }
   },
   "cell_type": "markdown",
   "metadata": {},
   "source": [
    "## <font color='royalblue'> <b>OrderID and ProductID</b><font color='black'> \n",
    "\n",
    "**OrderID**\n",
    "![image.png](attachment:f7f4fab4-0a0e-47d5-b395-cb610a1a45b4.png)\n",
    "![image.png](attachment:3026af7c-6165-448e-957b-a944c7f2acd3.png)\n",
    "![image.png](attachment:140424e6-2a44-483e-a1f2-36a5ad5ead06.png)\n",
    "\n",
    "**ProductID**\n",
    "![image.png](attachment:112ede38-853e-4fc1-b73d-00b186551cc8.png)\n",
    "![image.png](attachment:0288767c-cd04-4c6d-8524-e676e3a37f2f.png)"
   ]
  },
  {
   "cell_type": "markdown",
   "metadata": {},
   "source": [
    "As you can see, some values of OrderID and ProductID columns have **\"*\"**, **\"#\"** and **\"!\"** signs at the end of ids. You should get these signs away using **.str.replace()** function."
   ]
  },
  {
   "cell_type": "code",
   "execution_count": 32,
   "metadata": {},
   "outputs": [],
   "source": [
    "df['OrderID'] = df['OrderID'].str.replace(\"[#!*]\", \"\", regex= True)\n",
    "df[\"OrderID\"] = df[\"OrderID\"].astype(str)\n",
    "\n",
    "df['ProductID'] = df['ProductID'].str.replace(\"[#!*]\", \"\", regex= True)\n",
    "df[\"ProductID\"] = df[\"ProductID\"].astype(str)"
   ]
  },
  {
   "cell_type": "code",
   "execution_count": 33,
   "metadata": {},
   "outputs": [
    {
     "data": {
      "text/html": [
       "<div>\n",
       "<style scoped>\n",
       "    .dataframe tbody tr th:only-of-type {\n",
       "        vertical-align: middle;\n",
       "    }\n",
       "\n",
       "    .dataframe tbody tr th {\n",
       "        vertical-align: top;\n",
       "    }\n",
       "\n",
       "    .dataframe thead th {\n",
       "        text-align: right;\n",
       "    }\n",
       "</style>\n",
       "<table border=\"1\" class=\"dataframe\">\n",
       "  <thead>\n",
       "    <tr style=\"text-align: right;\">\n",
       "      <th></th>\n",
       "      <th>OrderID</th>\n",
       "      <th>ProductID</th>\n",
       "      <th>ProductName</th>\n",
       "      <th>UnitPrice</th>\n",
       "      <th>Quantity</th>\n",
       "      <th>Discount</th>\n",
       "      <th>CustomerID</th>\n",
       "      <th>SaleDate</th>\n",
       "      <th>Salesperson</th>\n",
       "      <th>Region</th>\n",
       "    </tr>\n",
       "  </thead>\n",
       "  <tbody>\n",
       "    <tr>\n",
       "      <th>444</th>\n",
       "      <td>ORD00301</td>\n",
       "      <td>PRD657</td>\n",
       "      <td>Smartwatch, Smartphone, Laptop, Headphones</td>\n",
       "      <td>1354.2076283837175</td>\n",
       "      <td>15</td>\n",
       "      <td>0.15</td>\n",
       "      <td>CUST8892</td>\n",
       "      <td>2020-01-02 00:00:00</td>\n",
       "      <td>Diana</td>\n",
       "      <td>East</td>\n",
       "    </tr>\n",
       "    <tr>\n",
       "      <th>75</th>\n",
       "      <td>ORD00253</td>\n",
       "      <td>PRD467</td>\n",
       "      <td>Headphones</td>\n",
       "      <td>89.53741831599201</td>\n",
       "      <td>1</td>\n",
       "      <td>0.15</td>\n",
       "      <td>CUST4990</td>\n",
       "      <td>2020-10-06 00:00:00</td>\n",
       "      <td>Charlie</td>\n",
       "      <td>South</td>\n",
       "    </tr>\n",
       "    <tr>\n",
       "      <th>28</th>\n",
       "      <td>ORD00280</td>\n",
       "      <td>PRD519</td>\n",
       "      <td>Smartphone, Smartphone, Camera</td>\n",
       "      <td>99.69663931566448</td>\n",
       "      <td>8</td>\n",
       "      <td>0.00</td>\n",
       "      <td>CUST4227</td>\n",
       "      <td>2020-05-29 00:00:00</td>\n",
       "      <td>Diana</td>\n",
       "      <td>South</td>\n",
       "    </tr>\n",
       "    <tr>\n",
       "      <th>19</th>\n",
       "      <td>ORD00166</td>\n",
       "      <td>PRD727</td>\n",
       "      <td>Camera</td>\n",
       "      <td>569.9904748003091</td>\n",
       "      <td>6</td>\n",
       "      <td>0.05</td>\n",
       "      <td>CUST3427</td>\n",
       "      <td>2023-09-27 00:00:00</td>\n",
       "      <td>Diana</td>\n",
       "      <td>Central</td>\n",
       "    </tr>\n",
       "    <tr>\n",
       "      <th>54</th>\n",
       "      <td>ORD00048</td>\n",
       "      <td>PRD588</td>\n",
       "      <td>Smartwatch</td>\n",
       "      <td>1036.7307940285014</td>\n",
       "      <td>-4</td>\n",
       "      <td>0.05</td>\n",
       "      <td>CUST4097</td>\n",
       "      <td>2021-05-23 00:00:00</td>\n",
       "      <td>Evan</td>\n",
       "      <td>South</td>\n",
       "    </tr>\n",
       "  </tbody>\n",
       "</table>\n",
       "</div>"
      ],
      "text/plain": [
       "      OrderID ProductID                                 ProductName  \\\n",
       "444  ORD00301    PRD657  Smartwatch, Smartphone, Laptop, Headphones   \n",
       "75   ORD00253    PRD467                                  Headphones   \n",
       "28   ORD00280    PRD519              Smartphone, Smartphone, Camera   \n",
       "19   ORD00166    PRD727                                      Camera   \n",
       "54   ORD00048    PRD588                                  Smartwatch   \n",
       "\n",
       "              UnitPrice  Quantity  Discount CustomerID             SaleDate  \\\n",
       "444  1354.2076283837175        15      0.15   CUST8892  2020-01-02 00:00:00   \n",
       "75    89.53741831599201         1      0.15   CUST4990  2020-10-06 00:00:00   \n",
       "28    99.69663931566448         8      0.00   CUST4227  2020-05-29 00:00:00   \n",
       "19    569.9904748003091         6      0.05   CUST3427  2023-09-27 00:00:00   \n",
       "54   1036.7307940285014        -4      0.05   CUST4097  2021-05-23 00:00:00   \n",
       "\n",
       "    Salesperson   Region  \n",
       "444       Diana     East  \n",
       "75      Charlie    South  \n",
       "28        Diana    South  \n",
       "19        Diana  Central  \n",
       "54         Evan    South  "
      ]
     },
     "execution_count": 33,
     "metadata": {},
     "output_type": "execute_result"
    }
   ],
   "source": [
    "df.sample(5)"
   ]
  },
  {
   "cell_type": "markdown",
   "metadata": {},
   "source": [
    "## <font color='royalblue'> <b>ProductName</b><font color='black'> "
   ]
  },
  {
   "cell_type": "code",
   "execution_count": 35,
   "metadata": {},
   "outputs": [],
   "source": [
    "df[\"ProductName\"] = df[\"ProductName\"].str.strip()\n",
    "df[\"ProductName\"] = df[\"ProductName\"].str.title()"
   ]
  },
  {
   "cell_type": "code",
   "execution_count": 36,
   "metadata": {},
   "outputs": [
    {
     "data": {
      "text/html": [
       "<div>\n",
       "<style scoped>\n",
       "    .dataframe tbody tr th:only-of-type {\n",
       "        vertical-align: middle;\n",
       "    }\n",
       "\n",
       "    .dataframe tbody tr th {\n",
       "        vertical-align: top;\n",
       "    }\n",
       "\n",
       "    .dataframe thead th {\n",
       "        text-align: right;\n",
       "    }\n",
       "</style>\n",
       "<table border=\"1\" class=\"dataframe\">\n",
       "  <thead>\n",
       "    <tr style=\"text-align: right;\">\n",
       "      <th></th>\n",
       "      <th>OrderID</th>\n",
       "      <th>ProductID</th>\n",
       "      <th>ProductName</th>\n",
       "      <th>UnitPrice</th>\n",
       "      <th>Quantity</th>\n",
       "      <th>Discount</th>\n",
       "      <th>CustomerID</th>\n",
       "      <th>SaleDate</th>\n",
       "      <th>Salesperson</th>\n",
       "      <th>Region</th>\n",
       "    </tr>\n",
       "  </thead>\n",
       "  <tbody>\n",
       "    <tr>\n",
       "      <th>371</th>\n",
       "      <td>ORD00407</td>\n",
       "      <td>PRD386</td>\n",
       "      <td>NaN</td>\n",
       "      <td>Check</td>\n",
       "      <td>13</td>\n",
       "      <td>0.20</td>\n",
       "      <td>CUST1569</td>\n",
       "      <td>2022-08-09 00:00:00</td>\n",
       "      <td>Diana</td>\n",
       "      <td>North</td>\n",
       "    </tr>\n",
       "    <tr>\n",
       "      <th>303</th>\n",
       "      <td>ORD00310</td>\n",
       "      <td>PRD789</td>\n",
       "      <td>Smartphone</td>\n",
       "      <td>-</td>\n",
       "      <td>17</td>\n",
       "      <td>0.15</td>\n",
       "      <td>CUST6421</td>\n",
       "      <td>2020-07-19 00:00:00</td>\n",
       "      <td>Diana</td>\n",
       "      <td>South</td>\n",
       "    </tr>\n",
       "    <tr>\n",
       "      <th>1</th>\n",
       "      <td>ORD00491</td>\n",
       "      <td>PRD400</td>\n",
       "      <td>Laptop</td>\n",
       "      <td>free</td>\n",
       "      <td>19</td>\n",
       "      <td>0.20</td>\n",
       "      <td>CUST6889</td>\n",
       "      <td>2021-01-06 00:00:00</td>\n",
       "      <td>Charlie</td>\n",
       "      <td>North</td>\n",
       "    </tr>\n",
       "    <tr>\n",
       "      <th>139</th>\n",
       "      <td>ORD00117</td>\n",
       "      <td>PRD397</td>\n",
       "      <td>Smartphone</td>\n",
       "      <td>462.6076268083847</td>\n",
       "      <td>18</td>\n",
       "      <td>0.20</td>\n",
       "      <td>CUST8693</td>\n",
       "      <td>2020-05-26 00:00:00</td>\n",
       "      <td>Diana</td>\n",
       "      <td>East</td>\n",
       "    </tr>\n",
       "    <tr>\n",
       "      <th>432</th>\n",
       "      <td>ORD00355</td>\n",
       "      <td>PRD365</td>\n",
       "      <td>Smartwatch</td>\n",
       "      <td>866.7634711191774</td>\n",
       "      <td>2</td>\n",
       "      <td>0.00</td>\n",
       "      <td>CUST3083</td>\n",
       "      <td>2020-07-16 00:00:00</td>\n",
       "      <td>Charlie</td>\n",
       "      <td>South</td>\n",
       "    </tr>\n",
       "  </tbody>\n",
       "</table>\n",
       "</div>"
      ],
      "text/plain": [
       "      OrderID ProductID ProductName          UnitPrice  Quantity  Discount  \\\n",
       "371  ORD00407    PRD386         NaN              Check        13      0.20   \n",
       "303  ORD00310    PRD789  Smartphone                  -        17      0.15   \n",
       "1    ORD00491    PRD400      Laptop               free        19      0.20   \n",
       "139  ORD00117    PRD397  Smartphone  462.6076268083847        18      0.20   \n",
       "432  ORD00355    PRD365  Smartwatch  866.7634711191774         2      0.00   \n",
       "\n",
       "    CustomerID             SaleDate Salesperson Region  \n",
       "371   CUST1569  2022-08-09 00:00:00       Diana  North  \n",
       "303   CUST6421  2020-07-19 00:00:00       Diana  South  \n",
       "1     CUST6889  2021-01-06 00:00:00     Charlie  North  \n",
       "139   CUST8693  2020-05-26 00:00:00       Diana   East  \n",
       "432   CUST3083  2020-07-16 00:00:00     Charlie  South  "
      ]
     },
     "execution_count": 36,
     "metadata": {},
     "output_type": "execute_result"
    }
   ],
   "source": [
    "df.sample(5)"
   ]
  },
  {
   "attachments": {
    "099f7670-2aa3-4328-ab8d-e6dff521e528.png": {
     "image/png": "[encoded data removed]"
    }
   },
   "cell_type": "markdown",
   "metadata": {},
   "source": [
    "![image.png](attachment:099f7670-2aa3-4328-ab8d-e6dff521e528.png)\n",
    "\n",
    "For this project, you can use the first product name if there are more than one product name in the ProductName value."
   ]
  },
  {
   "cell_type": "code",
   "execution_count": 38,
   "metadata": {},
   "outputs": [],
   "source": [
    "df[\"ProductName\"] = df[\"ProductName\"].str.split(\", \").str[0]"
   ]
  },
  {
   "cell_type": "markdown",
   "metadata": {},
   "source": [
    "There are some misspelled product names in this column. You should replace them with the right ones."
   ]
  },
  {
   "cell_type": "code",
   "execution_count": 40,
   "metadata": {},
   "outputs": [],
   "source": [
    "df[\"ProductName\"] = df.ProductName.replace([\"Laptpo\", \"Camra\", \"Headphons\", \"Smratphone\", \"Smartwach\"], [\"Laptop\", \"Camera\", \"Headphones\", \"Smartphone\", \"Smartwatch\"])"
   ]
  },
  {
   "cell_type": "code",
   "execution_count": 41,
   "metadata": {},
   "outputs": [
    {
     "data": {
      "text/html": [
       "<div>\n",
       "<style scoped>\n",
       "    .dataframe tbody tr th:only-of-type {\n",
       "        vertical-align: middle;\n",
       "    }\n",
       "\n",
       "    .dataframe tbody tr th {\n",
       "        vertical-align: top;\n",
       "    }\n",
       "\n",
       "    .dataframe thead th {\n",
       "        text-align: right;\n",
       "    }\n",
       "</style>\n",
       "<table border=\"1\" class=\"dataframe\">\n",
       "  <thead>\n",
       "    <tr style=\"text-align: right;\">\n",
       "      <th></th>\n",
       "      <th>OrderID</th>\n",
       "      <th>ProductID</th>\n",
       "      <th>ProductName</th>\n",
       "      <th>UnitPrice</th>\n",
       "      <th>Quantity</th>\n",
       "      <th>Discount</th>\n",
       "      <th>CustomerID</th>\n",
       "      <th>SaleDate</th>\n",
       "      <th>Salesperson</th>\n",
       "      <th>Region</th>\n",
       "    </tr>\n",
       "  </thead>\n",
       "  <tbody>\n",
       "    <tr>\n",
       "      <th>53</th>\n",
       "      <td>ORD00473</td>\n",
       "      <td>PRD908</td>\n",
       "      <td>Laptop</td>\n",
       "      <td>1000.0505845663738</td>\n",
       "      <td>20</td>\n",
       "      <td>0.05</td>\n",
       "      <td>CUST7071</td>\n",
       "      <td>2022-10-02 00:00:00</td>\n",
       "      <td>Alice</td>\n",
       "      <td>South</td>\n",
       "    </tr>\n",
       "    <tr>\n",
       "      <th>204</th>\n",
       "      <td>ORD00136</td>\n",
       "      <td>PRD182</td>\n",
       "      <td>NaN</td>\n",
       "      <td>Check</td>\n",
       "      <td>3</td>\n",
       "      <td>0.05</td>\n",
       "      <td>NaN</td>\n",
       "      <td>2022-01-09 00:00:00</td>\n",
       "      <td>Charlie</td>\n",
       "      <td>Central</td>\n",
       "    </tr>\n",
       "    <tr>\n",
       "      <th>2</th>\n",
       "      <td>ORD00369</td>\n",
       "      <td>PRD957</td>\n",
       "      <td>Camera</td>\n",
       "      <td>770.6350827794904</td>\n",
       "      <td>16</td>\n",
       "      <td>0.05</td>\n",
       "      <td>CUST4092</td>\n",
       "      <td>Unknown</td>\n",
       "      <td>Alice</td>\n",
       "      <td>West</td>\n",
       "    </tr>\n",
       "    <tr>\n",
       "      <th>354</th>\n",
       "      <td>ORD00404</td>\n",
       "      <td>PRD303</td>\n",
       "      <td>Camera</td>\n",
       "      <td>724.7038358013738</td>\n",
       "      <td>14</td>\n",
       "      <td>0.05</td>\n",
       "      <td>NaN</td>\n",
       "      <td>2020-10-28 00:00:00</td>\n",
       "      <td>Charlie</td>\n",
       "      <td>West</td>\n",
       "    </tr>\n",
       "    <tr>\n",
       "      <th>214</th>\n",
       "      <td>ORD00002</td>\n",
       "      <td>PRD494</td>\n",
       "      <td>Headphones</td>\n",
       "      <td>-</td>\n",
       "      <td>12</td>\n",
       "      <td>0.00</td>\n",
       "      <td>CUST1017</td>\n",
       "      <td>2022-09-06 00:00:00</td>\n",
       "      <td>Alice</td>\n",
       "      <td>North</td>\n",
       "    </tr>\n",
       "  </tbody>\n",
       "</table>\n",
       "</div>"
      ],
      "text/plain": [
       "      OrderID ProductID ProductName           UnitPrice  Quantity  Discount  \\\n",
       "53   ORD00473    PRD908      Laptop  1000.0505845663738        20      0.05   \n",
       "204  ORD00136    PRD182         NaN               Check         3      0.05   \n",
       "2    ORD00369    PRD957      Camera   770.6350827794904        16      0.05   \n",
       "354  ORD00404    PRD303      Camera   724.7038358013738        14      0.05   \n",
       "214  ORD00002    PRD494  Headphones                   -        12      0.00   \n",
       "\n",
       "    CustomerID             SaleDate Salesperson   Region  \n",
       "53    CUST7071  2022-10-02 00:00:00       Alice    South  \n",
       "204        NaN  2022-01-09 00:00:00     Charlie  Central  \n",
       "2     CUST4092              Unknown       Alice     West  \n",
       "354        NaN  2020-10-28 00:00:00     Charlie     West  \n",
       "214   CUST1017  2022-09-06 00:00:00       Alice    North  "
      ]
     },
     "execution_count": 41,
     "metadata": {},
     "output_type": "execute_result"
    }
   ],
   "source": [
    "df.sample(5)"
   ]
  },
  {
   "cell_type": "code",
   "execution_count": 42,
   "metadata": {},
   "outputs": [
    {
     "data": {
      "text/plain": [
       "array(['Smartwatch', 'Laptop', 'Camera', nan, 'Headphones', 'Smartphone'],\n",
       "      dtype=object)"
      ]
     },
     "execution_count": 42,
     "metadata": {},
     "output_type": "execute_result"
    }
   ],
   "source": [
    "df.ProductName.unique()"
   ]
  },
  {
   "cell_type": "markdown",
   "metadata": {},
   "source": [
    "## <font color='royalblue'> <b>UnitPrice</b><font color='black'>  "
   ]
  },
  {
   "attachments": {
    "0f26f84f-67e4-412c-9362-effefd8fd60f.png": {
     "image/png": "[encoded data removed]"
    },
    "17b4b12c-519a-4553-baad-933c891e838f.png": {
     "image/png": "[encoded data removed]"
    },
    "dbb085f6-f572-4978-97af-135742057527.png": {
     "image/png": "[encoded data removed]"
    },
    "f77176e2-4e86-421f-adf6-d35788ed1f92.png": {
     "image/png": "[encoded data removed]"
    }
   },
   "cell_type": "markdown",
   "metadata": {},
   "source": [
    "![image.png](attachment:f77176e2-4e86-421f-adf6-d35788ed1f92.png)\n",
    "![image.png](attachment:17b4b12c-519a-4553-baad-933c891e838f.png)\n",
    "![image.png](attachment:dbb085f6-f572-4978-97af-135742057527.png)\n",
    "![image.png](attachment:0f26f84f-67e4-412c-9362-effefd8fd60f.png)"
   ]
  },
  {
   "cell_type": "markdown",
   "metadata": {},
   "source": [
    "UnitPrice column has **\"Free\"**, **\"free\"**, **\"Ask\"**, **\"Check\"** and **\"-\"** values. \"Free\" and \"free\" values can be turned into 0.00 and other values can be turned into NaN values."
   ]
  },
  {
   "cell_type": "code",
   "execution_count": 46,
   "metadata": {},
   "outputs": [],
   "source": [
    "df[\"UnitPrice\"] = df.UnitPrice.replace([\"Free\", \"free\"], 0)\n",
    "df[\"UnitPrice\"] = df.UnitPrice.replace([\"Check\", \"Ask\", \"-\"], np.nan)"
   ]
  },
  {
   "attachments": {
    "ed907037-25e7-42dd-b4d2-043e8214c3b2.png": {
     "image/png": "[encoded data removed]"
    }
   },
   "cell_type": "markdown",
   "metadata": {},
   "source": [
    "![image.png](attachment:ed907037-25e7-42dd-b4d2-043e8214c3b2.png)\n",
    "\n",
    "As you can see above, UnitPrice values have lots of decimal place. If you round values to 2 decimal place dataset will look cleaner and better."
   ]
  },
  {
   "cell_type": "code",
   "execution_count": 48,
   "metadata": {},
   "outputs": [],
   "source": [
    "df[\"UnitPrice\"] = df.UnitPrice.astype(float)\n",
    "df[\"UnitPrice\"] = df.UnitPrice.round(2)"
   ]
  },
  {
   "cell_type": "code",
   "execution_count": 49,
   "metadata": {},
   "outputs": [
    {
     "data": {
      "text/html": [
       "<div>\n",
       "<style scoped>\n",
       "    .dataframe tbody tr th:only-of-type {\n",
       "        vertical-align: middle;\n",
       "    }\n",
       "\n",
       "    .dataframe tbody tr th {\n",
       "        vertical-align: top;\n",
       "    }\n",
       "\n",
       "    .dataframe thead th {\n",
       "        text-align: right;\n",
       "    }\n",
       "</style>\n",
       "<table border=\"1\" class=\"dataframe\">\n",
       "  <thead>\n",
       "    <tr style=\"text-align: right;\">\n",
       "      <th></th>\n",
       "      <th>OrderID</th>\n",
       "      <th>ProductID</th>\n",
       "      <th>ProductName</th>\n",
       "      <th>UnitPrice</th>\n",
       "      <th>Quantity</th>\n",
       "      <th>Discount</th>\n",
       "      <th>CustomerID</th>\n",
       "      <th>SaleDate</th>\n",
       "      <th>Salesperson</th>\n",
       "      <th>Region</th>\n",
       "    </tr>\n",
       "  </thead>\n",
       "  <tbody>\n",
       "    <tr>\n",
       "      <th>256</th>\n",
       "      <td>ORD00213</td>\n",
       "      <td>PRD953</td>\n",
       "      <td>Headphones</td>\n",
       "      <td>526.78</td>\n",
       "      <td>18</td>\n",
       "      <td>0.00</td>\n",
       "      <td>NaN</td>\n",
       "      <td>2023-11-09 00:00:00</td>\n",
       "      <td>Diana</td>\n",
       "      <td>North</td>\n",
       "    </tr>\n",
       "    <tr>\n",
       "      <th>494</th>\n",
       "      <td>ORD00231</td>\n",
       "      <td>PRD735</td>\n",
       "      <td>Camera</td>\n",
       "      <td>1112.03</td>\n",
       "      <td>999</td>\n",
       "      <td>0.20</td>\n",
       "      <td>CUST6165</td>\n",
       "      <td>2022-01-19 00:00:00</td>\n",
       "      <td>Alice</td>\n",
       "      <td>North</td>\n",
       "    </tr>\n",
       "    <tr>\n",
       "      <th>212</th>\n",
       "      <td>ORD00372</td>\n",
       "      <td>PRD928</td>\n",
       "      <td>Headphones</td>\n",
       "      <td>0.00</td>\n",
       "      <td>8</td>\n",
       "      <td>0.05</td>\n",
       "      <td>CUST9030</td>\n",
       "      <td>2020-05-21 00:00:00</td>\n",
       "      <td>Bob</td>\n",
       "      <td>West</td>\n",
       "    </tr>\n",
       "    <tr>\n",
       "      <th>513</th>\n",
       "      <td>ORD00365</td>\n",
       "      <td>PRD139</td>\n",
       "      <td>Headphones</td>\n",
       "      <td>1414.97</td>\n",
       "      <td>-4</td>\n",
       "      <td>0.15</td>\n",
       "      <td>CUST6187</td>\n",
       "      <td>2022-02-09 00:00:00</td>\n",
       "      <td>Diana</td>\n",
       "      <td>South</td>\n",
       "    </tr>\n",
       "    <tr>\n",
       "      <th>145</th>\n",
       "      <td>ORD00157</td>\n",
       "      <td>PRD561</td>\n",
       "      <td>NaN</td>\n",
       "      <td>NaN</td>\n",
       "      <td>-1</td>\n",
       "      <td>0.10</td>\n",
       "      <td>CUST8864</td>\n",
       "      <td>2020-05-24 00:00:00</td>\n",
       "      <td>Evan</td>\n",
       "      <td>East</td>\n",
       "    </tr>\n",
       "  </tbody>\n",
       "</table>\n",
       "</div>"
      ],
      "text/plain": [
       "      OrderID ProductID ProductName  UnitPrice  Quantity  Discount CustomerID  \\\n",
       "256  ORD00213    PRD953  Headphones     526.78        18      0.00        NaN   \n",
       "494  ORD00231    PRD735      Camera    1112.03       999      0.20   CUST6165   \n",
       "212  ORD00372    PRD928  Headphones       0.00         8      0.05   CUST9030   \n",
       "513  ORD00365    PRD139  Headphones    1414.97        -4      0.15   CUST6187   \n",
       "145  ORD00157    PRD561         NaN        NaN        -1      0.10   CUST8864   \n",
       "\n",
       "                SaleDate Salesperson Region  \n",
       "256  2023-11-09 00:00:00       Diana  North  \n",
       "494  2022-01-19 00:00:00       Alice  North  \n",
       "212  2020-05-21 00:00:00         Bob   West  \n",
       "513  2022-02-09 00:00:00       Diana  South  \n",
       "145  2020-05-24 00:00:00        Evan   East  "
      ]
     },
     "execution_count": 49,
     "metadata": {},
     "output_type": "execute_result"
    }
   ],
   "source": [
    "df.sample(5)"
   ]
  },
  {
   "cell_type": "markdown",
   "metadata": {},
   "source": [
    "## <font color='royalblue'> <b>Quantity</b><font color='black'> "
   ]
  },
  {
   "cell_type": "code",
   "execution_count": 51,
   "metadata": {},
   "outputs": [
    {
     "data": {
      "text/plain": [
       "array([   8,   19,   16,    1,   11,    6,   14,    5, -999,   17,    3,\n",
       "         13,    7,   12,   15,  999,    4,   20,    9,    0,   -5,   10,\n",
       "         -4,    2,   18,  -11,   -9,   -1,  -10,   -8,  -12,  -20,  -19,\n",
       "        -17,   -6,  -18], dtype=int64)"
      ]
     },
     "execution_count": 51,
     "metadata": {},
     "output_type": "execute_result"
    }
   ],
   "source": [
    "df.Quantity.unique()"
   ]
  },
  {
   "cell_type": "markdown",
   "metadata": {},
   "source": [
    "There are some negative values in Quantity column. You can replace negative values with positive values using **abs()** function."
   ]
  },
  {
   "cell_type": "code",
   "execution_count": 53,
   "metadata": {},
   "outputs": [],
   "source": [
    "df[\"Quantity\"] = df[\"Quantity\"].abs()"
   ]
  },
  {
   "cell_type": "code",
   "execution_count": 54,
   "metadata": {},
   "outputs": [
    {
     "data": {
      "text/plain": [
       "array([  8,  19,  16,   1,  11,   6,  14,   5, 999,  17,   3,  13,   7,\n",
       "        12,  15,   4,  20,   9,   0,  10,   2,  18], dtype=int64)"
      ]
     },
     "execution_count": 54,
     "metadata": {},
     "output_type": "execute_result"
    }
   ],
   "source": [
    "df.Quantity.unique()"
   ]
  },
  {
   "cell_type": "markdown",
   "metadata": {},
   "source": [
    "There are 2 values that do not seem normal which are **0** and **999**.\n",
    " - If there is a value of 0 in the Quantity column, it means no sales have been made.\n",
    " - If there is a value of 999 in the Quantity column, it can be a outlier value."
   ]
  },
  {
   "cell_type": "code",
   "execution_count": 56,
   "metadata": {},
   "outputs": [
    {
     "data": {
      "text/plain": [
       "Quantity\n",
       "0       7\n",
       "1      31\n",
       "2      18\n",
       "3      21\n",
       "4      27\n",
       "5      29\n",
       "6      28\n",
       "7      12\n",
       "8      30\n",
       "9      18\n",
       "10     18\n",
       "11     22\n",
       "12     34\n",
       "13     38\n",
       "14     26\n",
       "15     17\n",
       "16     29\n",
       "17     23\n",
       "18     21\n",
       "19     20\n",
       "20     23\n",
       "999    18\n",
       "Name: count, dtype: int64"
      ]
     },
     "execution_count": 56,
     "metadata": {},
     "output_type": "execute_result"
    }
   ],
   "source": [
    "df.Quantity.value_counts().sort_index()"
   ]
  },
  {
   "cell_type": "markdown",
   "metadata": {},
   "source": [
    "Let's find the indices of rows that have 0 and 999 values in Quantity column and delete these rows from the dataset."
   ]
  },
  {
   "cell_type": "code",
   "execution_count": 58,
   "metadata": {},
   "outputs": [
    {
     "data": {
      "text/plain": [
       "Index([ 11,  29,  38,  48, 112, 133, 144, 154, 169, 210, 251, 257, 326, 343,\n",
       "       344, 345, 359, 391, 416, 429, 436, 447, 450, 494, 507],\n",
       "      dtype='int64')"
      ]
     },
     "execution_count": 58,
     "metadata": {},
     "output_type": "execute_result"
    }
   ],
   "source": [
    "indices_to_drop = df[df[\"Quantity\"].isin([0, 999])].index\n",
    "indices_to_drop"
   ]
  },
  {
   "cell_type": "code",
   "execution_count": 59,
   "metadata": {},
   "outputs": [],
   "source": [
    "df.drop(indices_to_drop, inplace=True)"
   ]
  },
  {
   "cell_type": "markdown",
   "metadata": {},
   "source": [
    "## <font color='royalblue'> <b>Discount</b><font color='black'> "
   ]
  },
  {
   "cell_type": "code",
   "execution_count": 61,
   "metadata": {},
   "outputs": [
    {
     "data": {
      "text/plain": [
       "array([0.15, 0.2 , 0.05, 0.  , 0.1 ])"
      ]
     },
     "execution_count": 61,
     "metadata": {},
     "output_type": "execute_result"
    }
   ],
   "source": [
    "df.Discount.unique()"
   ]
  },
  {
   "cell_type": "code",
   "execution_count": 62,
   "metadata": {},
   "outputs": [
    {
     "data": {
      "text/plain": [
       "Discount\n",
       "0.05    106\n",
       "0.15    103\n",
       "0.20    100\n",
       "0.10     90\n",
       "0.00     86\n",
       "Name: count, dtype: int64"
      ]
     },
     "execution_count": 62,
     "metadata": {},
     "output_type": "execute_result"
    }
   ],
   "source": [
    "df.Discount.value_counts()"
   ]
  },
  {
   "cell_type": "markdown",
   "metadata": {},
   "source": [
    "Discount column seems OK for now. Let's continue with SaleDate column."
   ]
  },
  {
   "cell_type": "markdown",
   "metadata": {},
   "source": [
    "## <font color='royalblue'> <b>SaleDate</b><font color='black'> "
   ]
  },
  {
   "cell_type": "code",
   "execution_count": 65,
   "metadata": {
    "scrolled": true
   },
   "outputs": [
    {
     "data": {
      "text/plain": [
       "array(['2022-03-31 00:00:00', '2021-01-06 00:00:00', 'Unknown',\n",
       "       '2023-08-14 00:00:00', '2020-08-15 00:00:00',\n",
       "       '2021-08-21 00:00:00', '2022-12-21 00:00:00',\n",
       "       '2022-01-02 00:00:00', '2023-07-31 00:00:00',\n",
       "       '2022-05-22 00:00:00', '2023-11-21 00:00:00',\n",
       "       '2021-07-31 00:00:00', '2022-03-26 00:00:00',\n",
       "       '2022-11-30 00:00:00', '2020-06-16 00:00:00',\n",
       "       '2022-04-22 00:00:00', '2020-05-08 00:00:00',\n",
       "       '2023-09-27 00:00:00', '2021-04-24 00:00:00',\n",
       "       '2023-06-19 00:00:00', '2023-08-08 00:00:00',\n",
       "       '2023-08-11 00:00:00', '2021-06-20 00:00:00',\n",
       "       '2022-07-20 00:00:00', '2022-09-17 00:00:00',\n",
       "       '2020-08-07 00:00:00', '2020-05-29 00:00:00',\n",
       "       '2022-03-28 00:00:00', '2021-12-20 00:00:00',\n",
       "       '2021-07-21 00:00:00', '2020-03-29 00:00:00',\n",
       "       '2021-02-11 00:00:00', '2023-03-29 00:00:00',\n",
       "       '2023-11-02 00:00:00', '2023-03-22 00:00:00',\n",
       "       '2022-02-23 00:00:00', '2022-08-12 00:00:00',\n",
       "       '2022-08-04 00:00:00', '2023-01-26 00:00:00', 'TBD',\n",
       "       '2023-03-14 00:00:00', '2020-03-11 00:00:00',\n",
       "       '2023-03-07 00:00:00', '2021-10-06 00:00:00',\n",
       "       '2022-11-02 00:00:00', '2022-10-02 00:00:00',\n",
       "       '2021-05-23 00:00:00', '2022-05-10 00:00:00',\n",
       "       '2023-02-14 00:00:00', '2022-07-13 00:00:00',\n",
       "       '2021-11-19 00:00:00', '2020-02-18 00:00:00',\n",
       "       '2020-08-28 00:00:00', '2020-03-09 00:00:00', nan,\n",
       "       '2020-02-07 00:00:00', '2022-02-15 00:00:00',\n",
       "       '2023-01-13 00:00:00', '2021-09-19 00:00:00',\n",
       "       '2023-12-01 00:00:00', '2020-08-16 00:00:00',\n",
       "       '2021-06-12 00:00:00', '2020-01-25 00:00:00',\n",
       "       '2020-10-06 00:00:00', '2021-02-26 00:00:00',\n",
       "       '2022-06-15 00:00:00', '2020-05-26 00:00:00',\n",
       "       '2020-05-07 00:00:00', '2022-05-17 00:00:00',\n",
       "       '2020-07-12 00:00:00', '2023-11-17 00:00:00',\n",
       "       '2022-07-12 00:00:00', '2021-08-13 00:00:00',\n",
       "       '2020-06-11 00:00:00', '2020-09-03 00:00:00',\n",
       "       '2023-03-27 00:00:00', '2021-04-10 00:00:00',\n",
       "       '2020-06-30 00:00:00', '2021-06-02 00:00:00',\n",
       "       '2023-08-18 00:00:00', '2022-03-16 00:00:00',\n",
       "       '2021-01-12 00:00:00', '2022-10-26 00:00:00',\n",
       "       '2022-02-10 00:00:00', '2021-11-15 00:00:00',\n",
       "       '2021-02-24 00:00:00', '2023-06-22 00:00:00',\n",
       "       '2021-01-04 00:00:00', '2021-02-25 00:00:00',\n",
       "       '2020-02-26 00:00:00', '2021-04-20 00:00:00',\n",
       "       '2023-05-30 00:00:00', '2020-01-09 00:00:00',\n",
       "       '2020-07-21 00:00:00', '2021-06-13 00:00:00',\n",
       "       '2021-06-08 00:00:00', '2021-03-31 00:00:00',\n",
       "       '2023-08-06 00:00:00', '2022-05-12 00:00:00',\n",
       "       '2022-07-27 00:00:00', '2020-05-13 00:00:00',\n",
       "       '2020-06-06 00:00:00', '2020-05-15 00:00:00',\n",
       "       '2020-03-17 00:00:00', '2023-10-05 00:00:00',\n",
       "       '2023-09-12 00:00:00', '2023-10-19 00:00:00',\n",
       "       '2022-11-12 00:00:00', '2022-09-11 00:00:00',\n",
       "       '2021-03-15 00:00:00', '2022-03-30 00:00:00',\n",
       "       '2023-12-30 00:00:00', '2023-05-31 00:00:00',\n",
       "       '2020-10-23 00:00:00', '2023-01-09 00:00:00',\n",
       "       '2022-10-11 00:00:00', '2021-03-09 00:00:00',\n",
       "       '2022-06-10 00:00:00', '2021-05-02 00:00:00',\n",
       "       '2020-05-24 00:00:00', '2022-08-20 00:00:00',\n",
       "       '2020-04-25 00:00:00', '2020-08-11 00:00:00',\n",
       "       '2022-05-15 00:00:00', '2021-08-25 00:00:00',\n",
       "       '2023-07-24 00:00:00', '2020-04-29 00:00:00',\n",
       "       '2023-02-10 00:00:00', '2022-10-16 00:00:00',\n",
       "       '2022-11-04 00:00:00', '2021-11-27 00:00:00',\n",
       "       '2022-09-19 00:00:00', '2023-12-24 00:00:00',\n",
       "       '2021-10-26 00:00:00', '2020-09-01 00:00:00',\n",
       "       '2023-04-23 00:00:00', '2022-06-12 00:00:00',\n",
       "       '2021-10-10 00:00:00', '2021-09-20 00:00:00',\n",
       "       '2021-06-29 00:00:00', '2023-10-28 00:00:00',\n",
       "       '2022-06-29 00:00:00', '2023-04-30 00:00:00',\n",
       "       '2021-06-25 00:00:00', '2021-05-19 00:00:00',\n",
       "       '2023-02-16 00:00:00', '2021-04-12 00:00:00',\n",
       "       '2020-03-03 00:00:00', '2021-12-29 00:00:00',\n",
       "       '2021-11-24 00:00:00', '2022-01-07 00:00:00',\n",
       "       '2021-04-03 00:00:00', '2023-12-05 00:00:00',\n",
       "       '2022-03-22 00:00:00', '2023-10-08 00:00:00',\n",
       "       '2021-06-03 00:00:00', '2021-01-03 00:00:00',\n",
       "       '2021-12-18 00:00:00', '2023-03-16 00:00:00',\n",
       "       '2023-01-08 00:00:00', '2020-04-01 00:00:00',\n",
       "       '2021-08-30 00:00:00', '2023-09-01 00:00:00',\n",
       "       '2023-02-21 00:00:00', '2021-04-16 00:00:00',\n",
       "       '2022-06-27 00:00:00', '2021-06-05 00:00:00',\n",
       "       '2021-12-17 00:00:00', '2023-06-14 00:00:00',\n",
       "       '2022-10-14 00:00:00', '2020-02-17 00:00:00',\n",
       "       '2022-01-09 00:00:00', '2021-09-10 00:00:00',\n",
       "       '2022-02-01 00:00:00', '2022-07-06 00:00:00',\n",
       "       '2023-07-16 00:00:00', '2020-02-10 00:00:00',\n",
       "       '2020-05-21 00:00:00', '2023-09-19 00:00:00',\n",
       "       '2022-09-06 00:00:00', '2021-02-21 00:00:00',\n",
       "       '2021-01-11 00:00:00', '2020-09-15 00:00:00',\n",
       "       '2022-04-19 00:00:00', '2020-09-26 00:00:00',\n",
       "       '2020-02-28 00:00:00', '2021-06-23 00:00:00',\n",
       "       '2023-08-19 00:00:00', '2021-08-01 00:00:00',\n",
       "       '2023-02-08 00:00:00', '2021-12-21 00:00:00',\n",
       "       '2023-09-15 00:00:00', '2023-07-06 00:00:00',\n",
       "       '2021-12-02 00:00:00', '2020-08-31 00:00:00',\n",
       "       '2023-12-11 00:00:00', '2021-06-19 00:00:00',\n",
       "       '2022-07-10 00:00:00', '2023-11-05 00:00:00',\n",
       "       '2021-12-22 00:00:00', '2020-05-01 00:00:00',\n",
       "       '2022-09-05 00:00:00', '2023-04-05 00:00:00',\n",
       "       '2022-09-02 00:00:00', '2021-07-24 00:00:00',\n",
       "       '2020-12-01 00:00:00', '2020-02-09 00:00:00',\n",
       "       '2021-11-18 00:00:00', '2023-12-14 00:00:00',\n",
       "       '2022-08-01 00:00:00', '2021-03-20 00:00:00',\n",
       "       '2022-01-12 00:00:00', '2021-05-10 00:00:00',\n",
       "       '2023-11-09 00:00:00', '2023-07-07 00:00:00',\n",
       "       '2023-06-10 00:00:00', '2021-01-10 00:00:00',\n",
       "       '2023-09-14 00:00:00', '2022-02-26 00:00:00',\n",
       "       '2021-01-31 00:00:00', '2020-09-30 00:00:00',\n",
       "       '2021-02-27 00:00:00', '2022-02-17 00:00:00',\n",
       "       '2023-03-30 00:00:00', '2022-04-21 00:00:00',\n",
       "       '2022-05-06 00:00:00', '2021-05-24 00:00:00',\n",
       "       '2020-08-08 00:00:00', '2023-04-04 00:00:00',\n",
       "       '2022-05-28 00:00:00', '2022-07-26 00:00:00',\n",
       "       '2021-02-17 00:00:00', '2022-05-16 00:00:00',\n",
       "       '2022-11-21 00:00:00', '2021-03-22 00:00:00',\n",
       "       '2020-08-02 00:00:00', '2023-04-20 00:00:00',\n",
       "       '2021-01-28 00:00:00', '2021-09-21 00:00:00',\n",
       "       '2020-09-25 00:00:00', '2021-05-09 00:00:00',\n",
       "       '2022-11-11 00:00:00', '2023-06-25 00:00:00',\n",
       "       '2020-11-24 00:00:00', '2020-03-12 00:00:00',\n",
       "       '2020-09-06 00:00:00', '2021-04-02 00:00:00',\n",
       "       '2022-12-15 00:00:00', '2021-09-28 00:00:00',\n",
       "       '2020-11-10 00:00:00', '2023-06-24 00:00:00',\n",
       "       '2023-07-01 00:00:00', '2020-07-19 00:00:00',\n",
       "       '2021-09-04 00:00:00', '2021-01-23 00:00:00',\n",
       "       '2022-03-09 00:00:00', '2021-03-28 00:00:00',\n",
       "       '2020-10-20 00:00:00', '2021-12-25 00:00:00',\n",
       "       '2021-08-24 00:00:00', '2023-04-19 00:00:00',\n",
       "       '2021-10-27 00:00:00', '2020-02-29 00:00:00',\n",
       "       '2023-06-09 00:00:00', '2022-03-06 00:00:00',\n",
       "       '2020-03-05 00:00:00', '2021-01-24 00:00:00',\n",
       "       '2020-04-19 00:00:00', '2020-03-27 00:00:00',\n",
       "       '2021-11-25 00:00:00', '2020-10-12 00:00:00',\n",
       "       '2021-06-16 00:00:00', '2021-03-26 00:00:00',\n",
       "       '2023-04-02 00:00:00', '2022-04-29 00:00:00',\n",
       "       '2020-12-25 00:00:00', '2023-10-12 00:00:00',\n",
       "       '2022-11-20 00:00:00', '2021-10-03 00:00:00',\n",
       "       '2023-03-09 00:00:00', '2020-12-07 00:00:00',\n",
       "       '2022-07-14 00:00:00', '2021-12-03 00:00:00',\n",
       "       '2020-08-24 00:00:00', '2022-07-04 00:00:00',\n",
       "       '2022-07-30 00:00:00', '2021-07-08 00:00:00',\n",
       "       '2020-10-28 00:00:00', '2022-08-17 00:00:00',\n",
       "       '2020-03-19 00:00:00', '2022-04-16 00:00:00',\n",
       "       '2020-07-28 00:00:00', '2021-08-12 00:00:00',\n",
       "       '2023-03-06 00:00:00', '2022-06-28 00:00:00',\n",
       "       '2023-11-08 00:00:00', '2021-04-04 00:00:00',\n",
       "       '2022-02-24 00:00:00', '2022-08-09 00:00:00',\n",
       "       '2021-12-01 00:00:00', '2020-11-26 00:00:00',\n",
       "       '2021-07-07 00:00:00', '2022-07-23 00:00:00',\n",
       "       '2020-12-05 00:00:00', '2022-10-21 00:00:00',\n",
       "       '2023-06-05 00:00:00', '2021-12-28 00:00:00',\n",
       "       '2020-12-28 00:00:00', '2022-07-28 00:00:00',\n",
       "       '2022-06-13 00:00:00', '2023-12-29 00:00:00',\n",
       "       '2023-03-08 00:00:00', '2022-08-30 00:00:00',\n",
       "       '2020-03-20 00:00:00', '2022-01-08 00:00:00',\n",
       "       '2022-11-29 00:00:00', '2022-08-05 00:00:00',\n",
       "       '2021-03-19 00:00:00', '2022-12-28 00:00:00',\n",
       "       '2023-02-13 00:00:00', '2023-07-30 00:00:00',\n",
       "       '2021-08-29 00:00:00', '2023-07-04 00:00:00',\n",
       "       '2023-09-25 00:00:00', '2022-04-14 00:00:00',\n",
       "       '2021-01-16 00:00:00', '2023-06-26 00:00:00',\n",
       "       '2023-07-05 00:00:00', '2020-11-14 00:00:00',\n",
       "       '2020-02-21 00:00:00', '2020-11-22 00:00:00',\n",
       "       '2022-07-29 00:00:00', '2023-11-15 00:00:00',\n",
       "       '2022-10-29 00:00:00', '2022-02-09 00:00:00',\n",
       "       '2020-02-11 00:00:00', '2020-07-16 00:00:00',\n",
       "       '2020-09-04 00:00:00', '2021-05-11 00:00:00',\n",
       "       '2022-09-28 00:00:00', '2023-12-04 00:00:00',\n",
       "       '2023-04-28 00:00:00', '2020-04-06 00:00:00',\n",
       "       '2021-12-24 00:00:00', '2021-04-27 00:00:00',\n",
       "       '2020-09-11 00:00:00', '2022-06-21 00:00:00',\n",
       "       '2020-01-02 00:00:00', '2023-06-20 00:00:00',\n",
       "       '2020-06-04 00:00:00', '2022-02-07 00:00:00',\n",
       "       '2022-05-08 00:00:00', '2020-08-01 00:00:00',\n",
       "       '2022-05-25 00:00:00', '2023-05-20 00:00:00',\n",
       "       '2020-07-04 00:00:00', '2020-01-26 00:00:00',\n",
       "       '2021-02-14 00:00:00', '2020-10-08 00:00:00',\n",
       "       '2022-05-26 00:00:00', '2023-07-23 00:00:00',\n",
       "       '2020-05-20 00:00:00', '2022-10-30 00:00:00',\n",
       "       '2023-10-06 00:00:00', '2021-07-06 00:00:00',\n",
       "       '2020-07-30 00:00:00', '2022-06-08 00:00:00',\n",
       "       '2020-01-18 00:00:00', '2020-04-02 00:00:00',\n",
       "       '2023-10-27 00:00:00', '2022-09-20 00:00:00',\n",
       "       '2023-03-15 00:00:00', '2023-01-16 00:00:00',\n",
       "       '2020-12-31 00:00:00', '2022-01-14 00:00:00',\n",
       "       '2022-07-16 00:00:00', '2022-09-13 00:00:00',\n",
       "       '2020-01-13 00:00:00', '2020-03-08 00:00:00',\n",
       "       '2022-06-04 00:00:00', '2021-10-28 00:00:00',\n",
       "       '2020-01-03 00:00:00', '2021-05-27 00:00:00',\n",
       "       '2023-01-18 00:00:00', '2022-12-02 00:00:00',\n",
       "       '2020-09-20 00:00:00', '2023-09-16 00:00:00',\n",
       "       '2023-12-19 00:00:00', '2023-09-22 00:00:00',\n",
       "       '2020-09-18 00:00:00', '2021-05-15 00:00:00',\n",
       "       '2022-11-07 00:00:00', '2022-09-25 00:00:00',\n",
       "       '2022-01-29 00:00:00', '2020-02-14 00:00:00',\n",
       "       '2021-08-16 00:00:00'], dtype=object)"
      ]
     },
     "execution_count": 65,
     "metadata": {},
     "output_type": "execute_result"
    }
   ],
   "source": [
    "df.SaleDate.unique()"
   ]
  },
  {
   "cell_type": "markdown",
   "metadata": {},
   "source": [
    "SaleDate column has some values such as **\"Unknown\"** and **\"TBD\"**. You can turn these values into **NaN** or **NaT** values."
   ]
  },
  {
   "cell_type": "code",
   "execution_count": 67,
   "metadata": {},
   "outputs": [],
   "source": [
    "# replacing \"Unknown\" and \"TBD\" values with NaT (Not a time)\n",
    "\n",
    "df[\"SaleDate\"] = df.SaleDate.replace([\"Unknown\", \"TBD\"], pd.NaT)"
   ]
  },
  {
   "cell_type": "code",
   "execution_count": 68,
   "metadata": {},
   "outputs": [],
   "source": [
    "# turning the dtype of SaleDate column into datetime\n",
    "\n",
    "df[\"SaleDate\"] = pd.to_datetime(df[\"SaleDate\"])"
   ]
  },
  {
   "cell_type": "code",
   "execution_count": 69,
   "metadata": {},
   "outputs": [
    {
     "data": {
      "text/html": [
       "<div>\n",
       "<style scoped>\n",
       "    .dataframe tbody tr th:only-of-type {\n",
       "        vertical-align: middle;\n",
       "    }\n",
       "\n",
       "    .dataframe tbody tr th {\n",
       "        vertical-align: top;\n",
       "    }\n",
       "\n",
       "    .dataframe thead th {\n",
       "        text-align: right;\n",
       "    }\n",
       "</style>\n",
       "<table border=\"1\" class=\"dataframe\">\n",
       "  <thead>\n",
       "    <tr style=\"text-align: right;\">\n",
       "      <th></th>\n",
       "      <th>OrderID</th>\n",
       "      <th>ProductID</th>\n",
       "      <th>ProductName</th>\n",
       "      <th>UnitPrice</th>\n",
       "      <th>Quantity</th>\n",
       "      <th>Discount</th>\n",
       "      <th>CustomerID</th>\n",
       "      <th>SaleDate</th>\n",
       "      <th>Salesperson</th>\n",
       "      <th>Region</th>\n",
       "    </tr>\n",
       "  </thead>\n",
       "  <tbody>\n",
       "    <tr>\n",
       "      <th>281</th>\n",
       "      <td>ORD00174</td>\n",
       "      <td>PRD348</td>\n",
       "      <td>Laptop</td>\n",
       "      <td>747.33</td>\n",
       "      <td>4</td>\n",
       "      <td>0.20</td>\n",
       "      <td>CUST9591</td>\n",
       "      <td>2022-11-21</td>\n",
       "      <td>Daina</td>\n",
       "      <td>South</td>\n",
       "    </tr>\n",
       "    <tr>\n",
       "      <th>289</th>\n",
       "      <td>ORD00131</td>\n",
       "      <td>PRD233</td>\n",
       "      <td>Camera</td>\n",
       "      <td>0.00</td>\n",
       "      <td>13</td>\n",
       "      <td>0.15</td>\n",
       "      <td>CUST9311</td>\n",
       "      <td>2021-05-09</td>\n",
       "      <td>Bob</td>\n",
       "      <td>East</td>\n",
       "    </tr>\n",
       "    <tr>\n",
       "      <th>111</th>\n",
       "      <td>ORD00023</td>\n",
       "      <td>PRD733</td>\n",
       "      <td>Smartphone</td>\n",
       "      <td>NaN</td>\n",
       "      <td>4</td>\n",
       "      <td>0.15</td>\n",
       "      <td>CUST1233</td>\n",
       "      <td>2020-01-09</td>\n",
       "      <td>Bob</td>\n",
       "      <td>South</td>\n",
       "    </tr>\n",
       "    <tr>\n",
       "      <th>189</th>\n",
       "      <td>ORD00368</td>\n",
       "      <td>PRD419</td>\n",
       "      <td>Smartphone</td>\n",
       "      <td>960.33</td>\n",
       "      <td>8</td>\n",
       "      <td>0.00</td>\n",
       "      <td>CUST5511</td>\n",
       "      <td>2021-12-18</td>\n",
       "      <td>Charlie</td>\n",
       "      <td>East</td>\n",
       "    </tr>\n",
       "    <tr>\n",
       "      <th>422</th>\n",
       "      <td>ORD00377</td>\n",
       "      <td>PRD292</td>\n",
       "      <td>Camera</td>\n",
       "      <td>699.86</td>\n",
       "      <td>11</td>\n",
       "      <td>0.05</td>\n",
       "      <td>NaN</td>\n",
       "      <td>2021-12-02</td>\n",
       "      <td>Bob</td>\n",
       "      <td>Central</td>\n",
       "    </tr>\n",
       "  </tbody>\n",
       "</table>\n",
       "</div>"
      ],
      "text/plain": [
       "      OrderID ProductID ProductName  UnitPrice  Quantity  Discount CustomerID  \\\n",
       "281  ORD00174    PRD348      Laptop     747.33         4      0.20   CUST9591   \n",
       "289  ORD00131    PRD233      Camera       0.00        13      0.15   CUST9311   \n",
       "111  ORD00023    PRD733  Smartphone        NaN         4      0.15   CUST1233   \n",
       "189  ORD00368    PRD419  Smartphone     960.33         8      0.00   CUST5511   \n",
       "422  ORD00377    PRD292      Camera     699.86        11      0.05        NaN   \n",
       "\n",
       "      SaleDate Salesperson   Region  \n",
       "281 2022-11-21       Daina    South  \n",
       "289 2021-05-09         Bob     East  \n",
       "111 2020-01-09         Bob    South  \n",
       "189 2021-12-18     Charlie     East  \n",
       "422 2021-12-02         Bob  Central  "
      ]
     },
     "execution_count": 69,
     "metadata": {},
     "output_type": "execute_result"
    }
   ],
   "source": [
    "df.sample(5)"
   ]
  },
  {
   "cell_type": "markdown",
   "metadata": {},
   "source": [
    "## <font color='royalblue'> <b>SalesPerson</b><font color='black'> "
   ]
  },
  {
   "cell_type": "markdown",
   "metadata": {},
   "source": [
    "First of all, let's rename the Salesperson columns as the other columns name styles."
   ]
  },
  {
   "cell_type": "code",
   "execution_count": 72,
   "metadata": {},
   "outputs": [],
   "source": [
    "df.rename(columns={\"Salesperson\": \"SalesPerson\"}, inplace=True)"
   ]
  },
  {
   "cell_type": "code",
   "execution_count": 73,
   "metadata": {},
   "outputs": [],
   "source": [
    "df[\"SalesPerson\"] = df[\"SalesPerson\"].str.strip()"
   ]
  },
  {
   "cell_type": "code",
   "execution_count": 74,
   "metadata": {},
   "outputs": [
    {
     "data": {
      "text/plain": [
       "array([nan, 'Charlie', 'Alice', 'Evan', 'Daina', 'Eavn', 'Diana', 'Bob',\n",
       "       'Ailce', 'Bbo'], dtype=object)"
      ]
     },
     "execution_count": 74,
     "metadata": {},
     "output_type": "execute_result"
    }
   ],
   "source": [
    "df.SalesPerson.unique()"
   ]
  },
  {
   "cell_type": "markdown",
   "metadata": {},
   "source": [
    "This output shows that some names entered wrong spelling. You should change these wrong ones with the right ones."
   ]
  },
  {
   "cell_type": "code",
   "execution_count": 76,
   "metadata": {},
   "outputs": [],
   "source": [
    "df[\"SalesPerson\"] = df.SalesPerson.replace([\"Bbo\", \"Eavn\", \"Chalrie\", \"Ailce\", \"Daina\"], [\"Bob\", \"Evan\", \"Charlie\", \"Alice\", \"Diana\"])"
   ]
  },
  {
   "cell_type": "code",
   "execution_count": 77,
   "metadata": {},
   "outputs": [
    {
     "data": {
      "text/html": [
       "<div>\n",
       "<style scoped>\n",
       "    .dataframe tbody tr th:only-of-type {\n",
       "        vertical-align: middle;\n",
       "    }\n",
       "\n",
       "    .dataframe tbody tr th {\n",
       "        vertical-align: top;\n",
       "    }\n",
       "\n",
       "    .dataframe thead th {\n",
       "        text-align: right;\n",
       "    }\n",
       "</style>\n",
       "<table border=\"1\" class=\"dataframe\">\n",
       "  <thead>\n",
       "    <tr style=\"text-align: right;\">\n",
       "      <th></th>\n",
       "      <th>OrderID</th>\n",
       "      <th>ProductID</th>\n",
       "      <th>ProductName</th>\n",
       "      <th>UnitPrice</th>\n",
       "      <th>Quantity</th>\n",
       "      <th>Discount</th>\n",
       "      <th>CustomerID</th>\n",
       "      <th>SaleDate</th>\n",
       "      <th>SalesPerson</th>\n",
       "      <th>Region</th>\n",
       "    </tr>\n",
       "  </thead>\n",
       "  <tbody>\n",
       "    <tr>\n",
       "      <th>12</th>\n",
       "      <td>ORD00180</td>\n",
       "      <td>PRD325</td>\n",
       "      <td>Laptop</td>\n",
       "      <td>1241.46</td>\n",
       "      <td>17</td>\n",
       "      <td>0.15</td>\n",
       "      <td>CUST6229</td>\n",
       "      <td>2021-07-31</td>\n",
       "      <td>Alice</td>\n",
       "      <td>West</td>\n",
       "    </tr>\n",
       "    <tr>\n",
       "      <th>269</th>\n",
       "      <td>ORD00042</td>\n",
       "      <td>PRD544</td>\n",
       "      <td>Smartphone</td>\n",
       "      <td>113.52</td>\n",
       "      <td>1</td>\n",
       "      <td>0.00</td>\n",
       "      <td>NaN</td>\n",
       "      <td>2023-03-30</td>\n",
       "      <td>Charlie</td>\n",
       "      <td>East</td>\n",
       "    </tr>\n",
       "    <tr>\n",
       "      <th>468</th>\n",
       "      <td>ORD00050</td>\n",
       "      <td>PRD986</td>\n",
       "      <td>Camera</td>\n",
       "      <td>NaN</td>\n",
       "      <td>2</td>\n",
       "      <td>0.05</td>\n",
       "      <td>CUST6556</td>\n",
       "      <td>2020-07-30</td>\n",
       "      <td>Bob</td>\n",
       "      <td>East</td>\n",
       "    </tr>\n",
       "    <tr>\n",
       "      <th>167</th>\n",
       "      <td>ORD00340</td>\n",
       "      <td>PRD995</td>\n",
       "      <td>Camera</td>\n",
       "      <td>671.62</td>\n",
       "      <td>9</td>\n",
       "      <td>0.10</td>\n",
       "      <td>CUST4258</td>\n",
       "      <td>2021-06-29</td>\n",
       "      <td>Bob</td>\n",
       "      <td>West</td>\n",
       "    </tr>\n",
       "    <tr>\n",
       "      <th>185</th>\n",
       "      <td>ORD00488</td>\n",
       "      <td>PRD504</td>\n",
       "      <td>Smartwatch</td>\n",
       "      <td>222.33</td>\n",
       "      <td>20</td>\n",
       "      <td>0.15</td>\n",
       "      <td>CUST6266</td>\n",
       "      <td>2022-03-22</td>\n",
       "      <td>Diana</td>\n",
       "      <td>West</td>\n",
       "    </tr>\n",
       "  </tbody>\n",
       "</table>\n",
       "</div>"
      ],
      "text/plain": [
       "      OrderID ProductID ProductName  UnitPrice  Quantity  Discount CustomerID  \\\n",
       "12   ORD00180    PRD325      Laptop    1241.46        17      0.15   CUST6229   \n",
       "269  ORD00042    PRD544  Smartphone     113.52         1      0.00        NaN   \n",
       "468  ORD00050    PRD986      Camera        NaN         2      0.05   CUST6556   \n",
       "167  ORD00340    PRD995      Camera     671.62         9      0.10   CUST4258   \n",
       "185  ORD00488    PRD504  Smartwatch     222.33        20      0.15   CUST6266   \n",
       "\n",
       "      SaleDate SalesPerson Region  \n",
       "12  2021-07-31       Alice   West  \n",
       "269 2023-03-30     Charlie   East  \n",
       "468 2020-07-30         Bob   East  \n",
       "167 2021-06-29         Bob   West  \n",
       "185 2022-03-22       Diana   West  "
      ]
     },
     "execution_count": 77,
     "metadata": {},
     "output_type": "execute_result"
    }
   ],
   "source": [
    "df.sample(5)"
   ]
  },
  {
   "cell_type": "code",
   "execution_count": 78,
   "metadata": {},
   "outputs": [
    {
     "data": {
      "text/plain": [
       "SalesPerson\n",
       "Diana      98\n",
       "Alice      94\n",
       "Charlie    83\n",
       "Evan       81\n",
       "Bob        80\n",
       "Name: count, dtype: int64"
      ]
     },
     "execution_count": 78,
     "metadata": {},
     "output_type": "execute_result"
    }
   ],
   "source": [
    "df.SalesPerson.value_counts()"
   ]
  },
  {
   "cell_type": "markdown",
   "metadata": {},
   "source": [
    "## <font color='royalblue'> <b>Region</b><font color='black'> "
   ]
  },
  {
   "cell_type": "code",
   "execution_count": 80,
   "metadata": {},
   "outputs": [],
   "source": [
    "df[\"Region\"] = df[\"Region\"].str.strip()"
   ]
  },
  {
   "cell_type": "code",
   "execution_count": 81,
   "metadata": {},
   "outputs": [
    {
     "data": {
      "text/plain": [
       "array(['North', 'West', 'Central', 'South', 'East'], dtype=object)"
      ]
     },
     "execution_count": 81,
     "metadata": {},
     "output_type": "execute_result"
    }
   ],
   "source": [
    "df.Region.unique()"
   ]
  },
  {
   "cell_type": "code",
   "execution_count": 82,
   "metadata": {},
   "outputs": [
    {
     "data": {
      "text/plain": [
       "Region\n",
       "East       108\n",
       "West       103\n",
       "South      102\n",
       "Central     87\n",
       "North       85\n",
       "Name: count, dtype: int64"
      ]
     },
     "execution_count": 82,
     "metadata": {},
     "output_type": "execute_result"
    }
   ],
   "source": [
    "df.Region.value_counts()"
   ]
  },
  {
   "cell_type": "code",
   "execution_count": 83,
   "metadata": {},
   "outputs": [
    {
     "name": "stdout",
     "output_type": "stream",
     "text": [
      "<class 'pandas.core.frame.DataFrame'>\n",
      "Index: 485 entries, 0 to 524\n",
      "Data columns (total 10 columns):\n",
      " #   Column       Non-Null Count  Dtype         \n",
      "---  ------       --------------  -----         \n",
      " 0   OrderID      485 non-null    object        \n",
      " 1   ProductID    485 non-null    object        \n",
      " 2   ProductName  453 non-null    object        \n",
      " 3   UnitPrice    394 non-null    float64       \n",
      " 4   Quantity     485 non-null    int64         \n",
      " 5   Discount     485 non-null    float64       \n",
      " 6   CustomerID   435 non-null    object        \n",
      " 7   SaleDate     463 non-null    datetime64[ns]\n",
      " 8   SalesPerson  436 non-null    object        \n",
      " 9   Region       485 non-null    object        \n",
      "dtypes: datetime64[ns](1), float64(2), int64(1), object(6)\n",
      "memory usage: 41.7+ KB\n"
     ]
    }
   ],
   "source": [
    "# data set information after organized the columns\n",
    "df.info()"
   ]
  },
  {
   "cell_type": "markdown",
   "metadata": {},
   "source": [
    "<a id='nan-values'></a>\n",
    "# <font color='navy'> <b>NaN Values</b><font color='black'> "
   ]
  },
  {
   "cell_type": "code",
   "execution_count": 85,
   "metadata": {},
   "outputs": [
    {
     "data": {
      "text/html": [
       "<div>\n",
       "<style scoped>\n",
       "    .dataframe tbody tr th:only-of-type {\n",
       "        vertical-align: middle;\n",
       "    }\n",
       "\n",
       "    .dataframe tbody tr th {\n",
       "        vertical-align: top;\n",
       "    }\n",
       "\n",
       "    .dataframe thead th {\n",
       "        text-align: right;\n",
       "    }\n",
       "</style>\n",
       "<table border=\"1\" class=\"dataframe\">\n",
       "  <thead>\n",
       "    <tr style=\"text-align: right;\">\n",
       "      <th></th>\n",
       "      <th>OrderID</th>\n",
       "      <th>ProductID</th>\n",
       "      <th>ProductName</th>\n",
       "      <th>UnitPrice</th>\n",
       "      <th>Quantity</th>\n",
       "      <th>Discount</th>\n",
       "      <th>CustomerID</th>\n",
       "      <th>SaleDate</th>\n",
       "      <th>SalesPerson</th>\n",
       "      <th>Region</th>\n",
       "    </tr>\n",
       "  </thead>\n",
       "  <tbody>\n",
       "    <tr>\n",
       "      <th>258</th>\n",
       "      <td>ORD00294</td>\n",
       "      <td>PRD112</td>\n",
       "      <td>Smartwatch</td>\n",
       "      <td>1454.38</td>\n",
       "      <td>13</td>\n",
       "      <td>0.20</td>\n",
       "      <td>NaN</td>\n",
       "      <td>2023-07-07</td>\n",
       "      <td>Diana</td>\n",
       "      <td>South</td>\n",
       "    </tr>\n",
       "    <tr>\n",
       "      <th>58</th>\n",
       "      <td>ORD00486</td>\n",
       "      <td>PRD396</td>\n",
       "      <td>Smartphone</td>\n",
       "      <td>1481.51</td>\n",
       "      <td>13</td>\n",
       "      <td>0.10</td>\n",
       "      <td>CUST2896</td>\n",
       "      <td>2022-07-13</td>\n",
       "      <td>Bob</td>\n",
       "      <td>West</td>\n",
       "    </tr>\n",
       "    <tr>\n",
       "      <th>292</th>\n",
       "      <td>ORD00078</td>\n",
       "      <td>PRD295</td>\n",
       "      <td>Smartphone</td>\n",
       "      <td>NaN</td>\n",
       "      <td>8</td>\n",
       "      <td>0.15</td>\n",
       "      <td>CUST5524</td>\n",
       "      <td>2020-11-24</td>\n",
       "      <td>Charlie</td>\n",
       "      <td>South</td>\n",
       "    </tr>\n",
       "    <tr>\n",
       "      <th>341</th>\n",
       "      <td>ORD00413</td>\n",
       "      <td>PRD506</td>\n",
       "      <td>Laptop</td>\n",
       "      <td>NaN</td>\n",
       "      <td>15</td>\n",
       "      <td>0.00</td>\n",
       "      <td>CUST8679</td>\n",
       "      <td>2023-03-09</td>\n",
       "      <td>Alice</td>\n",
       "      <td>North</td>\n",
       "    </tr>\n",
       "    <tr>\n",
       "      <th>409</th>\n",
       "      <td>ORD00130</td>\n",
       "      <td>PRD875</td>\n",
       "      <td>Laptop</td>\n",
       "      <td>1007.88</td>\n",
       "      <td>8</td>\n",
       "      <td>0.10</td>\n",
       "      <td>CUST3307</td>\n",
       "      <td>2023-09-25</td>\n",
       "      <td>Bob</td>\n",
       "      <td>Central</td>\n",
       "    </tr>\n",
       "    <tr>\n",
       "      <th>230</th>\n",
       "      <td>ORD00434</td>\n",
       "      <td>PRD385</td>\n",
       "      <td>Smartwatch</td>\n",
       "      <td>244.24</td>\n",
       "      <td>8</td>\n",
       "      <td>0.05</td>\n",
       "      <td>CUST9612</td>\n",
       "      <td>2022-09-11</td>\n",
       "      <td>NaN</td>\n",
       "      <td>South</td>\n",
       "    </tr>\n",
       "    <tr>\n",
       "      <th>286</th>\n",
       "      <td>ORD00013</td>\n",
       "      <td>PRD588</td>\n",
       "      <td>Headphones</td>\n",
       "      <td>1413.05</td>\n",
       "      <td>15</td>\n",
       "      <td>0.15</td>\n",
       "      <td>CUST4868</td>\n",
       "      <td>2021-09-21</td>\n",
       "      <td>Evan</td>\n",
       "      <td>South</td>\n",
       "    </tr>\n",
       "    <tr>\n",
       "      <th>255</th>\n",
       "      <td>ORD00033</td>\n",
       "      <td>PRD847</td>\n",
       "      <td>Laptop</td>\n",
       "      <td>1436.88</td>\n",
       "      <td>15</td>\n",
       "      <td>0.20</td>\n",
       "      <td>CUST9131</td>\n",
       "      <td>2021-05-10</td>\n",
       "      <td>Bob</td>\n",
       "      <td>South</td>\n",
       "    </tr>\n",
       "    <tr>\n",
       "      <th>63</th>\n",
       "      <td>ORD00483</td>\n",
       "      <td>PRD267</td>\n",
       "      <td>Laptop</td>\n",
       "      <td>0.00</td>\n",
       "      <td>1</td>\n",
       "      <td>0.20</td>\n",
       "      <td>CUST9473</td>\n",
       "      <td>NaT</td>\n",
       "      <td>Bob</td>\n",
       "      <td>South</td>\n",
       "    </tr>\n",
       "    <tr>\n",
       "      <th>464</th>\n",
       "      <td>ORD00242</td>\n",
       "      <td>PRD284</td>\n",
       "      <td>Laptop</td>\n",
       "      <td>294.06</td>\n",
       "      <td>13</td>\n",
       "      <td>0.20</td>\n",
       "      <td>CUST4942</td>\n",
       "      <td>2020-05-20</td>\n",
       "      <td>NaN</td>\n",
       "      <td>North</td>\n",
       "    </tr>\n",
       "  </tbody>\n",
       "</table>\n",
       "</div>"
      ],
      "text/plain": [
       "      OrderID ProductID ProductName  UnitPrice  Quantity  Discount CustomerID  \\\n",
       "258  ORD00294    PRD112  Smartwatch    1454.38        13      0.20        NaN   \n",
       "58   ORD00486    PRD396  Smartphone    1481.51        13      0.10   CUST2896   \n",
       "292  ORD00078    PRD295  Smartphone        NaN         8      0.15   CUST5524   \n",
       "341  ORD00413    PRD506      Laptop        NaN        15      0.00   CUST8679   \n",
       "409  ORD00130    PRD875      Laptop    1007.88         8      0.10   CUST3307   \n",
       "230  ORD00434    PRD385  Smartwatch     244.24         8      0.05   CUST9612   \n",
       "286  ORD00013    PRD588  Headphones    1413.05        15      0.15   CUST4868   \n",
       "255  ORD00033    PRD847      Laptop    1436.88        15      0.20   CUST9131   \n",
       "63   ORD00483    PRD267      Laptop       0.00         1      0.20   CUST9473   \n",
       "464  ORD00242    PRD284      Laptop     294.06        13      0.20   CUST4942   \n",
       "\n",
       "      SaleDate SalesPerson   Region  \n",
       "258 2023-07-07       Diana    South  \n",
       "58  2022-07-13         Bob     West  \n",
       "292 2020-11-24     Charlie    South  \n",
       "341 2023-03-09       Alice    North  \n",
       "409 2023-09-25         Bob  Central  \n",
       "230 2022-09-11         NaN    South  \n",
       "286 2021-09-21        Evan    South  \n",
       "255 2021-05-10         Bob    South  \n",
       "63         NaT         Bob    South  \n",
       "464 2020-05-20         NaN    North  "
      ]
     },
     "execution_count": 85,
     "metadata": {},
     "output_type": "execute_result"
    }
   ],
   "source": [
    "df.sample(10)"
   ]
  },
  {
   "cell_type": "code",
   "execution_count": 86,
   "metadata": {},
   "outputs": [
    {
     "data": {
      "text/plain": [
       "OrderID         0\n",
       "ProductID       0\n",
       "ProductName    32\n",
       "UnitPrice      91\n",
       "Quantity        0\n",
       "Discount        0\n",
       "CustomerID     50\n",
       "SaleDate       22\n",
       "SalesPerson    49\n",
       "Region          0\n",
       "dtype: int64"
      ]
     },
     "execution_count": 86,
     "metadata": {},
     "output_type": "execute_result"
    }
   ],
   "source": [
    "df.isnull().sum()"
   ]
  },
  {
   "cell_type": "markdown",
   "metadata": {},
   "source": [
    "There are 5 columns named **ProductName, UnitPrice, CustomerID, SaleDate, SalesPerson** have NaN values. \n",
    " - You can't fill the NaN values in CustomerID column because of IDs are unique values.\n",
    " - You can fill the NaN values in SaleDate using forward fill or backward fill methods.\n",
    " - For SalesPerson column, you can use groupby formula and fill the NaN values ​​according to the person who made the most sales by year and region.\n",
    " - You can fill the NaN values ​​in the ProductName column based on ProductID or UnitPrice.\n",
    " - You can fill in the NaN values ​​in the UnitPrice column by finding the median or average values ​​based on ProductName."
   ]
  },
  {
   "cell_type": "markdown",
   "metadata": {},
   "source": [
    "## <font color='royalblue'> <b>SaleDate</b><font color='black'> "
   ]
  },
  {
   "cell_type": "markdown",
   "metadata": {},
   "source": [
    "You can fill the NaN values in SaleDate column with using forward fill method."
   ]
  },
  {
   "cell_type": "code",
   "execution_count": 90,
   "metadata": {},
   "outputs": [],
   "source": [
    "df['SaleDate'] = df['SaleDate'].fillna(method='ffill')"
   ]
  },
  {
   "cell_type": "code",
   "execution_count": 91,
   "metadata": {},
   "outputs": [
    {
     "data": {
      "text/plain": [
       "0"
      ]
     },
     "execution_count": 91,
     "metadata": {},
     "output_type": "execute_result"
    }
   ],
   "source": [
    "df.SaleDate.isnull().sum()"
   ]
  },
  {
   "cell_type": "markdown",
   "metadata": {},
   "source": [
    "## <font color='royalblue'> <b>SalesPerson</b><font color='black'> "
   ]
  },
  {
   "cell_type": "markdown",
   "metadata": {},
   "source": [
    "You can fill in the NaN values ​​according to the person who made the most sales by **year** and **region**."
   ]
  },
  {
   "cell_type": "code",
   "execution_count": 94,
   "metadata": {},
   "outputs": [],
   "source": [
    "# Adding a new column named \"Year\"\n",
    "\n",
    "df[\"Year\"] = df['SaleDate'].dt.year"
   ]
  },
  {
   "cell_type": "code",
   "execution_count": 95,
   "metadata": {},
   "outputs": [
    {
     "data": {
      "text/plain": [
       "Year  SalesPerson\n",
       "2020  Alice          27\n",
       "      Evan           24\n",
       "      Diana          22\n",
       "      Bob            21\n",
       "      Charlie        12\n",
       "2021  Alice          25\n",
       "      Bob            24\n",
       "      Charlie        24\n",
       "      Evan           23\n",
       "      Diana          20\n",
       "2022  Diana          29\n",
       "      Charlie        24\n",
       "      Alice          21\n",
       "      Bob            19\n",
       "      Evan           18\n",
       "2023  Diana          27\n",
       "      Charlie        23\n",
       "      Alice          21\n",
       "      Bob            16\n",
       "      Evan           16\n",
       "Name: count, dtype: int64"
      ]
     },
     "execution_count": 95,
     "metadata": {},
     "output_type": "execute_result"
    }
   ],
   "source": [
    "df.groupby([\"Year\"])[\"SalesPerson\"].value_counts()"
   ]
  },
  {
   "cell_type": "code",
   "execution_count": 96,
   "metadata": {},
   "outputs": [
    {
     "data": {
      "text/plain": [
       "Region   SalesPerson\n",
       "Central  Alice          20\n",
       "         Diana          17\n",
       "         Charlie        13\n",
       "         Evan           13\n",
       "         Bob            11\n",
       "East     Alice          23\n",
       "         Bob            22\n",
       "         Diana          22\n",
       "         Evan           17\n",
       "         Charlie        16\n",
       "North    Charlie        24\n",
       "         Alice          16\n",
       "         Bob            13\n",
       "         Evan           12\n",
       "         Diana          11\n",
       "South    Diana          29\n",
       "         Charlie        18\n",
       "         Evan           17\n",
       "         Alice          16\n",
       "         Bob            14\n",
       "West     Evan           22\n",
       "         Bob            20\n",
       "         Alice          19\n",
       "         Diana          19\n",
       "         Charlie        12\n",
       "Name: count, dtype: int64"
      ]
     },
     "execution_count": 96,
     "metadata": {},
     "output_type": "execute_result"
    }
   ],
   "source": [
    "df.groupby([\"Region\"])[\"SalesPerson\"].value_counts()"
   ]
  },
  {
   "cell_type": "code",
   "execution_count": 97,
   "metadata": {
    "scrolled": true
   },
   "outputs": [
    {
     "data": {
      "text/plain": [
       "Year  Region   SalesPerson\n",
       "2020  Central  Diana           7\n",
       "               Alice           3\n",
       "               Bob             3\n",
       "               Evan            2\n",
       "               Charlie         1\n",
       "      East     Alice           7\n",
       "               Bob             5\n",
       "               Diana           5\n",
       "               Evan            4\n",
       "               Charlie         1\n",
       "      North    Alice           7\n",
       "               Evan            7\n",
       "               Bob             4\n",
       "               Charlie         3\n",
       "               Diana           1\n",
       "      South    Diana           6\n",
       "               Evan            6\n",
       "               Bob             5\n",
       "               Alice           4\n",
       "               Charlie         4\n",
       "      West     Alice           6\n",
       "               Evan            5\n",
       "               Bob             4\n",
       "               Charlie         3\n",
       "               Diana           3\n",
       "2021  Central  Alice           6\n",
       "               Bob             3\n",
       "               Charlie         3\n",
       "               Diana           3\n",
       "               Evan            3\n",
       "      East     Alice           8\n",
       "               Bob             7\n",
       "               Evan            7\n",
       "               Charlie         4\n",
       "               Diana           2\n",
       "      North    Charlie        11\n",
       "               Bob             5\n",
       "               Diana           2\n",
       "               Alice           1\n",
       "               Evan            1\n",
       "      South    Diana          10\n",
       "               Alice           5\n",
       "               Bob             4\n",
       "               Charlie         3\n",
       "               Evan            3\n",
       "      West     Evan            9\n",
       "               Alice           5\n",
       "               Bob             5\n",
       "               Charlie         3\n",
       "               Diana           3\n",
       "2022  Central  Alice           7\n",
       "               Evan            5\n",
       "               Charlie         4\n",
       "               Diana           3\n",
       "      East     Diana           8\n",
       "               Bob             6\n",
       "               Charlie         5\n",
       "               Alice           3\n",
       "               Evan            3\n",
       "      North    Charlie         6\n",
       "               Diana           5\n",
       "               Alice           4\n",
       "               Bob             4\n",
       "               Evan            1\n",
       "      South    Evan            8\n",
       "               Charlie         7\n",
       "               Diana           7\n",
       "               Alice           4\n",
       "               Bob             1\n",
       "      West     Bob             8\n",
       "               Diana           6\n",
       "               Alice           3\n",
       "               Charlie         2\n",
       "               Evan            1\n",
       "2023  Central  Bob             5\n",
       "               Charlie         5\n",
       "               Alice           4\n",
       "               Diana           4\n",
       "               Evan            3\n",
       "      East     Diana           7\n",
       "               Charlie         6\n",
       "               Alice           5\n",
       "               Bob             4\n",
       "               Evan            3\n",
       "      North    Alice           4\n",
       "               Charlie         4\n",
       "               Diana           3\n",
       "               Evan            3\n",
       "      South    Diana           6\n",
       "               Bob             4\n",
       "               Charlie         4\n",
       "               Alice           3\n",
       "      West     Diana           7\n",
       "               Evan            7\n",
       "               Alice           5\n",
       "               Charlie         4\n",
       "               Bob             3\n",
       "Name: count, dtype: int64"
      ]
     },
     "execution_count": 97,
     "metadata": {},
     "output_type": "execute_result"
    }
   ],
   "source": [
    "df.groupby([\"Year\", \"Region\"])[\"SalesPerson\"].value_counts()"
   ]
  },
  {
   "cell_type": "code",
   "execution_count": 98,
   "metadata": {},
   "outputs": [],
   "source": [
    "df['SalesPerson'] = df.groupby([\"Year\", \"Region\"])[\"SalesPerson\"].transform(lambda x: x.fillna(x.mode()[0] if not x.mode().empty else np.nan))"
   ]
  },
  {
   "cell_type": "code",
   "execution_count": 99,
   "metadata": {},
   "outputs": [
    {
     "data": {
      "text/plain": [
       "0"
      ]
     },
     "execution_count": 99,
     "metadata": {},
     "output_type": "execute_result"
    }
   ],
   "source": [
    "df.SalesPerson.isnull().sum()"
   ]
  },
  {
   "cell_type": "markdown",
   "metadata": {},
   "source": [
    "## <font color='royalblue'> <b>ProductName</b><font color='black'> "
   ]
  },
  {
   "cell_type": "code",
   "execution_count": 101,
   "metadata": {},
   "outputs": [],
   "source": [
    "# if the NaN value in ProductName column has the same ProductID with a product, fill in the NaN value with that product name.\n",
    "\n",
    "product_id_to_name = df.dropna(subset=['ProductName']).set_index('ProductID')['ProductName'].to_dict()\n",
    "\n",
    "def fill_product_name(row):\n",
    "    if pd.isna(row['ProductName']):\n",
    "        return product_id_to_name.get(row['ProductID'], np.nan)\n",
    "    else:\n",
    "        return row['ProductName']\n",
    "\n",
    "df['ProductName'] = df.apply(fill_product_name, axis=1)"
   ]
  },
  {
   "cell_type": "code",
   "execution_count": 102,
   "metadata": {},
   "outputs": [],
   "source": [
    "# If the NaN value does not match the ProductIDs of the products, calculate the UnitPrice median for each product\n",
    "# and fill in the NaN value in the ProductName column with the closest product.\n",
    "\n",
    "median_prices = df.groupby('ProductName')['UnitPrice'].median()\n",
    "\n",
    "def fill_product_name(row):\n",
    "    if pd.isna(row['ProductName']):\n",
    "        distances = {name: abs(price - row['UnitPrice']) for name, price in median_prices.items()}\n",
    "        closest_product = min(distances, key=distances.get)\n",
    "        return closest_product\n",
    "    else:\n",
    "        return row['ProductName']\n",
    "\n",
    "df['ProductName'] = df.apply(fill_product_name, axis=1)"
   ]
  },
  {
   "cell_type": "code",
   "execution_count": 103,
   "metadata": {},
   "outputs": [
    {
     "data": {
      "text/plain": [
       "0"
      ]
     },
     "execution_count": 103,
     "metadata": {},
     "output_type": "execute_result"
    }
   ],
   "source": [
    "df.ProductName.isnull().sum()"
   ]
  },
  {
   "cell_type": "code",
   "execution_count": 104,
   "metadata": {},
   "outputs": [
    {
     "name": "stdout",
     "output_type": "stream",
     "text": [
      "<class 'pandas.core.frame.DataFrame'>\n",
      "Index: 485 entries, 0 to 524\n",
      "Data columns (total 11 columns):\n",
      " #   Column       Non-Null Count  Dtype         \n",
      "---  ------       --------------  -----         \n",
      " 0   OrderID      485 non-null    object        \n",
      " 1   ProductID    485 non-null    object        \n",
      " 2   ProductName  485 non-null    object        \n",
      " 3   UnitPrice    394 non-null    float64       \n",
      " 4   Quantity     485 non-null    int64         \n",
      " 5   Discount     485 non-null    float64       \n",
      " 6   CustomerID   435 non-null    object        \n",
      " 7   SaleDate     485 non-null    datetime64[ns]\n",
      " 8   SalesPerson  485 non-null    object        \n",
      " 9   Region       485 non-null    object        \n",
      " 10  Year         485 non-null    int32         \n",
      "dtypes: datetime64[ns](1), float64(2), int32(1), int64(1), object(6)\n",
      "memory usage: 43.6+ KB\n"
     ]
    }
   ],
   "source": [
    "df.info()"
   ]
  },
  {
   "cell_type": "markdown",
   "metadata": {},
   "source": [
    "## <font color='royalblue'> <b>ProductID</b><font color='black'> "
   ]
  },
  {
   "cell_type": "markdown",
   "metadata": {},
   "source": [
    "There is no NaN values in ProductID column. However, there should be a single Product ID for each product. The same products should not have different Product IDs. If there was another column named \"Brand\" or \"Version\" in this data set, another product identity could be defined for different brands or versions of the same products. However, it would be more logical to define one product ID for each product for this data set."
   ]
  },
  {
   "cell_type": "code",
   "execution_count": 107,
   "metadata": {},
   "outputs": [],
   "source": [
    "# another method (you should do this for each product)\n",
    "\n",
    "# df.loc[df[\"ProductName\"] == \"Camera\", \"ProductID\"].mode()[0]\n",
    "# df.loc[df[\"ProductName\"] == \"Camera\", \"ProductID\"] = df.loc[df[\"ProductName\"] == \"Camera\", \"ProductID\"].mode()[0]"
   ]
  },
  {
   "cell_type": "code",
   "execution_count": 108,
   "metadata": {},
   "outputs": [],
   "source": [
    "# another method (you can use these three codes and all product names and product IDs will be updated) \n",
    "\n",
    "# most_frequent_product_ids = df.groupby('ProductName')['ProductID'].agg(lambda x: x.mode()[0])\n",
    "# product_mapping = most_frequent_product_ids.to_dict()\n",
    "# df['ProductID'] = df['ProductName'].map(product_mapping)"
   ]
  },
  {
   "cell_type": "markdown",
   "metadata": {},
   "source": [
    "### <font color='cornflowerblue'> <b>Defining Product ID for Product \"Camera\"</b><font color='black'> "
   ]
  },
  {
   "cell_type": "code",
   "execution_count": 110,
   "metadata": {},
   "outputs": [
    {
     "data": {
      "text/plain": [
       "0    PRD681\n",
       "1    PRD949\n",
       "Name: ProductID, dtype: object"
      ]
     },
     "execution_count": 110,
     "metadata": {},
     "output_type": "execute_result"
    }
   ],
   "source": [
    "df[(df.ProductName == \"Camera\")].ProductID.mode()"
   ]
  },
  {
   "cell_type": "code",
   "execution_count": 111,
   "metadata": {},
   "outputs": [
    {
     "data": {
      "text/html": [
       "<div>\n",
       "<style scoped>\n",
       "    .dataframe tbody tr th:only-of-type {\n",
       "        vertical-align: middle;\n",
       "    }\n",
       "\n",
       "    .dataframe tbody tr th {\n",
       "        vertical-align: top;\n",
       "    }\n",
       "\n",
       "    .dataframe thead th {\n",
       "        text-align: right;\n",
       "    }\n",
       "</style>\n",
       "<table border=\"1\" class=\"dataframe\">\n",
       "  <thead>\n",
       "    <tr style=\"text-align: right;\">\n",
       "      <th></th>\n",
       "      <th>OrderID</th>\n",
       "      <th>ProductID</th>\n",
       "      <th>ProductName</th>\n",
       "      <th>UnitPrice</th>\n",
       "      <th>Quantity</th>\n",
       "      <th>Discount</th>\n",
       "      <th>CustomerID</th>\n",
       "      <th>SaleDate</th>\n",
       "      <th>SalesPerson</th>\n",
       "      <th>Region</th>\n",
       "      <th>Year</th>\n",
       "    </tr>\n",
       "  </thead>\n",
       "  <tbody>\n",
       "    <tr>\n",
       "      <th>13</th>\n",
       "      <td>ORD00339</td>\n",
       "      <td>PRD681</td>\n",
       "      <td>Camera</td>\n",
       "      <td>463.20</td>\n",
       "      <td>3</td>\n",
       "      <td>0.15</td>\n",
       "      <td>NaN</td>\n",
       "      <td>2022-03-26</td>\n",
       "      <td>Diana</td>\n",
       "      <td>East</td>\n",
       "      <td>2022</td>\n",
       "    </tr>\n",
       "    <tr>\n",
       "      <th>81</th>\n",
       "      <td>ORD00346</td>\n",
       "      <td>PRD681</td>\n",
       "      <td>Camera</td>\n",
       "      <td>1485.63</td>\n",
       "      <td>12</td>\n",
       "      <td>0.15</td>\n",
       "      <td>CUST5437</td>\n",
       "      <td>2020-05-26</td>\n",
       "      <td>Diana</td>\n",
       "      <td>West</td>\n",
       "      <td>2020</td>\n",
       "    </tr>\n",
       "    <tr>\n",
       "      <th>135</th>\n",
       "      <td>ORD00079</td>\n",
       "      <td>PRD681</td>\n",
       "      <td>Smartwatch</td>\n",
       "      <td>118.83</td>\n",
       "      <td>6</td>\n",
       "      <td>0.15</td>\n",
       "      <td>NaN</td>\n",
       "      <td>2023-05-31</td>\n",
       "      <td>Charlie</td>\n",
       "      <td>West</td>\n",
       "      <td>2023</td>\n",
       "    </tr>\n",
       "    <tr>\n",
       "      <th>340</th>\n",
       "      <td>ORD00445</td>\n",
       "      <td>PRD681</td>\n",
       "      <td>Camera</td>\n",
       "      <td>549.81</td>\n",
       "      <td>19</td>\n",
       "      <td>0.10</td>\n",
       "      <td>NaN</td>\n",
       "      <td>2021-10-03</td>\n",
       "      <td>Bob</td>\n",
       "      <td>East</td>\n",
       "      <td>2021</td>\n",
       "    </tr>\n",
       "  </tbody>\n",
       "</table>\n",
       "</div>"
      ],
      "text/plain": [
       "      OrderID ProductID ProductName  UnitPrice  Quantity  Discount CustomerID  \\\n",
       "13   ORD00339    PRD681      Camera     463.20         3      0.15        NaN   \n",
       "81   ORD00346    PRD681      Camera    1485.63        12      0.15   CUST5437   \n",
       "135  ORD00079    PRD681  Smartwatch     118.83         6      0.15        NaN   \n",
       "340  ORD00445    PRD681      Camera     549.81        19      0.10        NaN   \n",
       "\n",
       "      SaleDate SalesPerson Region  Year  \n",
       "13  2022-03-26       Diana   East  2022  \n",
       "81  2020-05-26       Diana   West  2020  \n",
       "135 2023-05-31     Charlie   West  2023  \n",
       "340 2021-10-03         Bob   East  2021  "
      ]
     },
     "execution_count": 111,
     "metadata": {},
     "output_type": "execute_result"
    }
   ],
   "source": [
    "df[(df.ProductID == \"PRD681\")]"
   ]
  },
  {
   "cell_type": "code",
   "execution_count": 112,
   "metadata": {},
   "outputs": [
    {
     "data": {
      "text/html": [
       "<div>\n",
       "<style scoped>\n",
       "    .dataframe tbody tr th:only-of-type {\n",
       "        vertical-align: middle;\n",
       "    }\n",
       "\n",
       "    .dataframe tbody tr th {\n",
       "        vertical-align: top;\n",
       "    }\n",
       "\n",
       "    .dataframe thead th {\n",
       "        text-align: right;\n",
       "    }\n",
       "</style>\n",
       "<table border=\"1\" class=\"dataframe\">\n",
       "  <thead>\n",
       "    <tr style=\"text-align: right;\">\n",
       "      <th></th>\n",
       "      <th>OrderID</th>\n",
       "      <th>ProductID</th>\n",
       "      <th>ProductName</th>\n",
       "      <th>UnitPrice</th>\n",
       "      <th>Quantity</th>\n",
       "      <th>Discount</th>\n",
       "      <th>CustomerID</th>\n",
       "      <th>SaleDate</th>\n",
       "      <th>SalesPerson</th>\n",
       "      <th>Region</th>\n",
       "      <th>Year</th>\n",
       "    </tr>\n",
       "  </thead>\n",
       "  <tbody>\n",
       "    <tr>\n",
       "      <th>52</th>\n",
       "      <td>ORD00011</td>\n",
       "      <td>PRD949</td>\n",
       "      <td>Camera</td>\n",
       "      <td>NaN</td>\n",
       "      <td>10</td>\n",
       "      <td>0.10</td>\n",
       "      <td>CUST3743</td>\n",
       "      <td>2022-11-02</td>\n",
       "      <td>Evan</td>\n",
       "      <td>East</td>\n",
       "      <td>2022</td>\n",
       "    </tr>\n",
       "    <tr>\n",
       "      <th>86</th>\n",
       "      <td>ORD00011</td>\n",
       "      <td>PRD949</td>\n",
       "      <td>Camera</td>\n",
       "      <td>NaN</td>\n",
       "      <td>10</td>\n",
       "      <td>0.10</td>\n",
       "      <td>CUST3743</td>\n",
       "      <td>2022-11-02</td>\n",
       "      <td>Evan</td>\n",
       "      <td>East</td>\n",
       "      <td>2022</td>\n",
       "    </tr>\n",
       "    <tr>\n",
       "      <th>98</th>\n",
       "      <td>ORD00138</td>\n",
       "      <td>PRD949</td>\n",
       "      <td>Camera</td>\n",
       "      <td>465.91</td>\n",
       "      <td>9</td>\n",
       "      <td>0.15</td>\n",
       "      <td>CUST6411</td>\n",
       "      <td>2022-03-16</td>\n",
       "      <td>Diana</td>\n",
       "      <td>North</td>\n",
       "      <td>2022</td>\n",
       "    </tr>\n",
       "  </tbody>\n",
       "</table>\n",
       "</div>"
      ],
      "text/plain": [
       "     OrderID ProductID ProductName  UnitPrice  Quantity  Discount CustomerID  \\\n",
       "52  ORD00011    PRD949      Camera        NaN        10      0.10   CUST3743   \n",
       "86  ORD00011    PRD949      Camera        NaN        10      0.10   CUST3743   \n",
       "98  ORD00138    PRD949      Camera     465.91         9      0.15   CUST6411   \n",
       "\n",
       "     SaleDate SalesPerson Region  Year  \n",
       "52 2022-11-02        Evan   East  2022  \n",
       "86 2022-11-02        Evan   East  2022  \n",
       "98 2022-03-16       Diana  North  2022  "
      ]
     },
     "execution_count": 112,
     "metadata": {},
     "output_type": "execute_result"
    }
   ],
   "source": [
    "df[(df.ProductID == \"PRD949\")]"
   ]
  },
  {
   "cell_type": "markdown",
   "metadata": {},
   "source": [
    "For **\"PRD681\"** id, there is a row that has **\"Smartwatch\"** as a ProductName. However, **\"PRD949\"** id has **only \"Camera\"** as ProductName. You can define **\"PRD949\"** ProductID to the **\"Camera\"**."
   ]
  },
  {
   "cell_type": "code",
   "execution_count": 114,
   "metadata": {},
   "outputs": [],
   "source": [
    "df.loc[df[\"ProductName\"] == \"Camera\", \"ProductID\"] = \"PRD949\""
   ]
  },
  {
   "cell_type": "markdown",
   "metadata": {},
   "source": [
    "### <font color='cornflowerblue'> <b>Defining Product ID for Product \"Laptop\"</b><font color='black'>"
   ]
  },
  {
   "cell_type": "code",
   "execution_count": 116,
   "metadata": {},
   "outputs": [
    {
     "data": {
      "text/plain": [
       "0    PRD822\n",
       "Name: ProductID, dtype: object"
      ]
     },
     "execution_count": 116,
     "metadata": {},
     "output_type": "execute_result"
    }
   ],
   "source": [
    "df[(df.ProductName == \"Laptop\")].ProductID.mode()"
   ]
  },
  {
   "cell_type": "code",
   "execution_count": 117,
   "metadata": {},
   "outputs": [
    {
     "data": {
      "text/html": [
       "<div>\n",
       "<style scoped>\n",
       "    .dataframe tbody tr th:only-of-type {\n",
       "        vertical-align: middle;\n",
       "    }\n",
       "\n",
       "    .dataframe tbody tr th {\n",
       "        vertical-align: top;\n",
       "    }\n",
       "\n",
       "    .dataframe thead th {\n",
       "        text-align: right;\n",
       "    }\n",
       "</style>\n",
       "<table border=\"1\" class=\"dataframe\">\n",
       "  <thead>\n",
       "    <tr style=\"text-align: right;\">\n",
       "      <th></th>\n",
       "      <th>OrderID</th>\n",
       "      <th>ProductID</th>\n",
       "      <th>ProductName</th>\n",
       "      <th>UnitPrice</th>\n",
       "      <th>Quantity</th>\n",
       "      <th>Discount</th>\n",
       "      <th>CustomerID</th>\n",
       "      <th>SaleDate</th>\n",
       "      <th>SalesPerson</th>\n",
       "      <th>Region</th>\n",
       "      <th>Year</th>\n",
       "    </tr>\n",
       "  </thead>\n",
       "  <tbody>\n",
       "    <tr>\n",
       "      <th>270</th>\n",
       "      <td>ORD00143</td>\n",
       "      <td>PRD822</td>\n",
       "      <td>Laptop</td>\n",
       "      <td>898.87</td>\n",
       "      <td>20</td>\n",
       "      <td>0.00</td>\n",
       "      <td>CUST5159</td>\n",
       "      <td>2022-04-21</td>\n",
       "      <td>Bob</td>\n",
       "      <td>West</td>\n",
       "      <td>2022</td>\n",
       "    </tr>\n",
       "    <tr>\n",
       "      <th>351</th>\n",
       "      <td>ORD00027</td>\n",
       "      <td>PRD822</td>\n",
       "      <td>Laptop</td>\n",
       "      <td>462.41</td>\n",
       "      <td>1</td>\n",
       "      <td>0.10</td>\n",
       "      <td>CUST4417</td>\n",
       "      <td>2022-07-30</td>\n",
       "      <td>Evan</td>\n",
       "      <td>East</td>\n",
       "      <td>2022</td>\n",
       "    </tr>\n",
       "    <tr>\n",
       "      <th>483</th>\n",
       "      <td>ORD00179</td>\n",
       "      <td>PRD822</td>\n",
       "      <td>Laptop</td>\n",
       "      <td>1069.96</td>\n",
       "      <td>16</td>\n",
       "      <td>0.05</td>\n",
       "      <td>CUST7588</td>\n",
       "      <td>2021-11-18</td>\n",
       "      <td>Alice</td>\n",
       "      <td>South</td>\n",
       "      <td>2021</td>\n",
       "    </tr>\n",
       "  </tbody>\n",
       "</table>\n",
       "</div>"
      ],
      "text/plain": [
       "      OrderID ProductID ProductName  UnitPrice  Quantity  Discount CustomerID  \\\n",
       "270  ORD00143    PRD822      Laptop     898.87        20      0.00   CUST5159   \n",
       "351  ORD00027    PRD822      Laptop     462.41         1      0.10   CUST4417   \n",
       "483  ORD00179    PRD822      Laptop    1069.96        16      0.05   CUST7588   \n",
       "\n",
       "      SaleDate SalesPerson Region  Year  \n",
       "270 2022-04-21         Bob   West  2022  \n",
       "351 2022-07-30        Evan   East  2022  \n",
       "483 2021-11-18       Alice  South  2021  "
      ]
     },
     "execution_count": 117,
     "metadata": {},
     "output_type": "execute_result"
    }
   ],
   "source": [
    "df[(df.ProductID == \"PRD822\")]"
   ]
  },
  {
   "cell_type": "code",
   "execution_count": 118,
   "metadata": {},
   "outputs": [],
   "source": [
    "df.loc[df[\"ProductName\"] == \"Laptop\", \"ProductID\"] = \"PRD822\""
   ]
  },
  {
   "cell_type": "markdown",
   "metadata": {},
   "source": [
    "### <font color='cornflowerblue'> <b>Defining Product ID for Product \"Headphones\"</b><font color='black'> "
   ]
  },
  {
   "cell_type": "code",
   "execution_count": 120,
   "metadata": {},
   "outputs": [
    {
     "data": {
      "text/plain": [
       "0    PRD253\n",
       "Name: ProductID, dtype: object"
      ]
     },
     "execution_count": 120,
     "metadata": {},
     "output_type": "execute_result"
    }
   ],
   "source": [
    "df[(df.ProductName == \"Headphones\")].ProductID.mode()"
   ]
  },
  {
   "cell_type": "code",
   "execution_count": 121,
   "metadata": {},
   "outputs": [
    {
     "data": {
      "text/html": [
       "<div>\n",
       "<style scoped>\n",
       "    .dataframe tbody tr th:only-of-type {\n",
       "        vertical-align: middle;\n",
       "    }\n",
       "\n",
       "    .dataframe tbody tr th {\n",
       "        vertical-align: top;\n",
       "    }\n",
       "\n",
       "    .dataframe thead th {\n",
       "        text-align: right;\n",
       "    }\n",
       "</style>\n",
       "<table border=\"1\" class=\"dataframe\">\n",
       "  <thead>\n",
       "    <tr style=\"text-align: right;\">\n",
       "      <th></th>\n",
       "      <th>OrderID</th>\n",
       "      <th>ProductID</th>\n",
       "      <th>ProductName</th>\n",
       "      <th>UnitPrice</th>\n",
       "      <th>Quantity</th>\n",
       "      <th>Discount</th>\n",
       "      <th>CustomerID</th>\n",
       "      <th>SaleDate</th>\n",
       "      <th>SalesPerson</th>\n",
       "      <th>Region</th>\n",
       "      <th>Year</th>\n",
       "    </tr>\n",
       "  </thead>\n",
       "  <tbody>\n",
       "    <tr>\n",
       "      <th>73</th>\n",
       "      <td>ORD00484</td>\n",
       "      <td>PRD253</td>\n",
       "      <td>Headphones</td>\n",
       "      <td>1258.59</td>\n",
       "      <td>14</td>\n",
       "      <td>0.20</td>\n",
       "      <td>CUST7064</td>\n",
       "      <td>2021-06-12</td>\n",
       "      <td>Evan</td>\n",
       "      <td>West</td>\n",
       "      <td>2021</td>\n",
       "    </tr>\n",
       "    <tr>\n",
       "      <th>194</th>\n",
       "      <td>ORD00133</td>\n",
       "      <td>PRD253</td>\n",
       "      <td>Headphones</td>\n",
       "      <td>398.20</td>\n",
       "      <td>16</td>\n",
       "      <td>0.05</td>\n",
       "      <td>CUST2876</td>\n",
       "      <td>2023-09-01</td>\n",
       "      <td>Charlie</td>\n",
       "      <td>East</td>\n",
       "      <td>2023</td>\n",
       "    </tr>\n",
       "    <tr>\n",
       "      <th>484</th>\n",
       "      <td>ORD00484</td>\n",
       "      <td>PRD253</td>\n",
       "      <td>Headphones</td>\n",
       "      <td>1258.59</td>\n",
       "      <td>14</td>\n",
       "      <td>0.20</td>\n",
       "      <td>CUST7064</td>\n",
       "      <td>2021-06-12</td>\n",
       "      <td>Evan</td>\n",
       "      <td>West</td>\n",
       "      <td>2021</td>\n",
       "    </tr>\n",
       "  </tbody>\n",
       "</table>\n",
       "</div>"
      ],
      "text/plain": [
       "      OrderID ProductID ProductName  UnitPrice  Quantity  Discount CustomerID  \\\n",
       "73   ORD00484    PRD253  Headphones    1258.59        14      0.20   CUST7064   \n",
       "194  ORD00133    PRD253  Headphones     398.20        16      0.05   CUST2876   \n",
       "484  ORD00484    PRD253  Headphones    1258.59        14      0.20   CUST7064   \n",
       "\n",
       "      SaleDate SalesPerson Region  Year  \n",
       "73  2021-06-12        Evan   West  2021  \n",
       "194 2023-09-01     Charlie   East  2023  \n",
       "484 2021-06-12        Evan   West  2021  "
      ]
     },
     "execution_count": 121,
     "metadata": {},
     "output_type": "execute_result"
    }
   ],
   "source": [
    "df[(df.ProductID == \"PRD253\")]"
   ]
  },
  {
   "cell_type": "code",
   "execution_count": 122,
   "metadata": {},
   "outputs": [],
   "source": [
    "df.loc[df[\"ProductName\"] == \"Headphones\", \"ProductID\"] = \"PRD253\""
   ]
  },
  {
   "cell_type": "markdown",
   "metadata": {},
   "source": [
    "### <font color='cornflowerblue'> <b>Defining Product ID for Product \"Smartwatch\"</b><font color='black'> "
   ]
  },
  {
   "cell_type": "code",
   "execution_count": 124,
   "metadata": {},
   "outputs": [
    {
     "data": {
      "text/plain": [
       "0    PRD122\n",
       "1    PRD182\n",
       "2    PRD653\n",
       "3    PRD657\n",
       "4    PRD660\n",
       "5    PRD701\n",
       "6    PRD795\n",
       "7    PRD919\n",
       "Name: ProductID, dtype: object"
      ]
     },
     "execution_count": 124,
     "metadata": {},
     "output_type": "execute_result"
    }
   ],
   "source": [
    "df[(df.ProductName == \"Smartwatch\")].ProductID.mode()"
   ]
  },
  {
   "cell_type": "code",
   "execution_count": 125,
   "metadata": {},
   "outputs": [
    {
     "data": {
      "text/html": [
       "<div>\n",
       "<style scoped>\n",
       "    .dataframe tbody tr th:only-of-type {\n",
       "        vertical-align: middle;\n",
       "    }\n",
       "\n",
       "    .dataframe tbody tr th {\n",
       "        vertical-align: top;\n",
       "    }\n",
       "\n",
       "    .dataframe thead th {\n",
       "        text-align: right;\n",
       "    }\n",
       "</style>\n",
       "<table border=\"1\" class=\"dataframe\">\n",
       "  <thead>\n",
       "    <tr style=\"text-align: right;\">\n",
       "      <th></th>\n",
       "      <th>OrderID</th>\n",
       "      <th>ProductID</th>\n",
       "      <th>ProductName</th>\n",
       "      <th>UnitPrice</th>\n",
       "      <th>Quantity</th>\n",
       "      <th>Discount</th>\n",
       "      <th>CustomerID</th>\n",
       "      <th>SaleDate</th>\n",
       "      <th>SalesPerson</th>\n",
       "      <th>Region</th>\n",
       "      <th>Year</th>\n",
       "    </tr>\n",
       "  </thead>\n",
       "  <tbody>\n",
       "    <tr>\n",
       "      <th>64</th>\n",
       "      <td>ORD00416</td>\n",
       "      <td>PRD122</td>\n",
       "      <td>Smartwatch</td>\n",
       "      <td>NaN</td>\n",
       "      <td>8</td>\n",
       "      <td>0.05</td>\n",
       "      <td>CUST2437</td>\n",
       "      <td>2020-03-09</td>\n",
       "      <td>Bob</td>\n",
       "      <td>North</td>\n",
       "      <td>2020</td>\n",
       "    </tr>\n",
       "    <tr>\n",
       "      <th>509</th>\n",
       "      <td>ORD00217</td>\n",
       "      <td>PRD122</td>\n",
       "      <td>Smartwatch</td>\n",
       "      <td>NaN</td>\n",
       "      <td>5</td>\n",
       "      <td>0.00</td>\n",
       "      <td>CUST6640</td>\n",
       "      <td>2023-09-16</td>\n",
       "      <td>Alice</td>\n",
       "      <td>South</td>\n",
       "      <td>2023</td>\n",
       "    </tr>\n",
       "  </tbody>\n",
       "</table>\n",
       "</div>"
      ],
      "text/plain": [
       "      OrderID ProductID ProductName  UnitPrice  Quantity  Discount CustomerID  \\\n",
       "64   ORD00416    PRD122  Smartwatch        NaN         8      0.05   CUST2437   \n",
       "509  ORD00217    PRD122  Smartwatch        NaN         5      0.00   CUST6640   \n",
       "\n",
       "      SaleDate SalesPerson Region  Year  \n",
       "64  2020-03-09         Bob  North  2020  \n",
       "509 2023-09-16       Alice  South  2023  "
      ]
     },
     "execution_count": 125,
     "metadata": {},
     "output_type": "execute_result"
    }
   ],
   "source": [
    "df[(df.ProductID == \"PRD122\")]"
   ]
  },
  {
   "cell_type": "code",
   "execution_count": 126,
   "metadata": {},
   "outputs": [
    {
     "data": {
      "text/html": [
       "<div>\n",
       "<style scoped>\n",
       "    .dataframe tbody tr th:only-of-type {\n",
       "        vertical-align: middle;\n",
       "    }\n",
       "\n",
       "    .dataframe tbody tr th {\n",
       "        vertical-align: top;\n",
       "    }\n",
       "\n",
       "    .dataframe thead th {\n",
       "        text-align: right;\n",
       "    }\n",
       "</style>\n",
       "<table border=\"1\" class=\"dataframe\">\n",
       "  <thead>\n",
       "    <tr style=\"text-align: right;\">\n",
       "      <th></th>\n",
       "      <th>OrderID</th>\n",
       "      <th>ProductID</th>\n",
       "      <th>ProductName</th>\n",
       "      <th>UnitPrice</th>\n",
       "      <th>Quantity</th>\n",
       "      <th>Discount</th>\n",
       "      <th>CustomerID</th>\n",
       "      <th>SaleDate</th>\n",
       "      <th>SalesPerson</th>\n",
       "      <th>Region</th>\n",
       "      <th>Year</th>\n",
       "    </tr>\n",
       "  </thead>\n",
       "  <tbody>\n",
       "    <tr>\n",
       "      <th>76</th>\n",
       "      <td>ORD00139</td>\n",
       "      <td>PRD653</td>\n",
       "      <td>Smartwatch</td>\n",
       "      <td>298.50</td>\n",
       "      <td>17</td>\n",
       "      <td>0.20</td>\n",
       "      <td>CUST2025</td>\n",
       "      <td>2022-09-17</td>\n",
       "      <td>Diana</td>\n",
       "      <td>West</td>\n",
       "      <td>2022</td>\n",
       "    </tr>\n",
       "    <tr>\n",
       "      <th>453</th>\n",
       "      <td>ORD00102</td>\n",
       "      <td>PRD653</td>\n",
       "      <td>Smartwatch</td>\n",
       "      <td>857.73</td>\n",
       "      <td>19</td>\n",
       "      <td>0.05</td>\n",
       "      <td>NaN</td>\n",
       "      <td>2020-08-01</td>\n",
       "      <td>Charlie</td>\n",
       "      <td>South</td>\n",
       "      <td>2020</td>\n",
       "    </tr>\n",
       "  </tbody>\n",
       "</table>\n",
       "</div>"
      ],
      "text/plain": [
       "      OrderID ProductID ProductName  UnitPrice  Quantity  Discount CustomerID  \\\n",
       "76   ORD00139    PRD653  Smartwatch     298.50        17      0.20   CUST2025   \n",
       "453  ORD00102    PRD653  Smartwatch     857.73        19      0.05        NaN   \n",
       "\n",
       "      SaleDate SalesPerson Region  Year  \n",
       "76  2022-09-17       Diana   West  2022  \n",
       "453 2020-08-01     Charlie  South  2020  "
      ]
     },
     "execution_count": 126,
     "metadata": {},
     "output_type": "execute_result"
    }
   ],
   "source": [
    "df[(df.ProductID == \"PRD653\")]"
   ]
  },
  {
   "cell_type": "code",
   "execution_count": 127,
   "metadata": {},
   "outputs": [],
   "source": [
    "df.loc[df[\"ProductName\"] == \"Smartwatch\", \"ProductID\"] = \"PRD122\""
   ]
  },
  {
   "cell_type": "markdown",
   "metadata": {},
   "source": [
    "### <font color='cornflowerblue'> <b>Defining Product ID for Product \"Smartphone\"</b><font color='black'> "
   ]
  },
  {
   "cell_type": "code",
   "execution_count": 129,
   "metadata": {},
   "outputs": [
    {
     "data": {
      "text/plain": [
       "0    PRD193\n",
       "1    PRD218\n",
       "2    PRD397\n",
       "3    PRD433\n",
       "4    PRD455\n",
       "5    PRD553\n",
       "6    PRD759\n",
       "7    PRD789\n",
       "Name: ProductID, dtype: object"
      ]
     },
     "execution_count": 129,
     "metadata": {},
     "output_type": "execute_result"
    }
   ],
   "source": [
    "df[(df.ProductName == \"Smartphone\")].ProductID.mode()"
   ]
  },
  {
   "cell_type": "code",
   "execution_count": 130,
   "metadata": {},
   "outputs": [
    {
     "data": {
      "text/html": [
       "<div>\n",
       "<style scoped>\n",
       "    .dataframe tbody tr th:only-of-type {\n",
       "        vertical-align: middle;\n",
       "    }\n",
       "\n",
       "    .dataframe tbody tr th {\n",
       "        vertical-align: top;\n",
       "    }\n",
       "\n",
       "    .dataframe thead th {\n",
       "        text-align: right;\n",
       "    }\n",
       "</style>\n",
       "<table border=\"1\" class=\"dataframe\">\n",
       "  <thead>\n",
       "    <tr style=\"text-align: right;\">\n",
       "      <th></th>\n",
       "      <th>OrderID</th>\n",
       "      <th>ProductID</th>\n",
       "      <th>ProductName</th>\n",
       "      <th>UnitPrice</th>\n",
       "      <th>Quantity</th>\n",
       "      <th>Discount</th>\n",
       "      <th>CustomerID</th>\n",
       "      <th>SaleDate</th>\n",
       "      <th>SalesPerson</th>\n",
       "      <th>Region</th>\n",
       "      <th>Year</th>\n",
       "    </tr>\n",
       "  </thead>\n",
       "  <tbody>\n",
       "    <tr>\n",
       "      <th>375</th>\n",
       "      <td>ORD00110</td>\n",
       "      <td>PRD193</td>\n",
       "      <td>Smartphone</td>\n",
       "      <td>428.43</td>\n",
       "      <td>19</td>\n",
       "      <td>0.0</td>\n",
       "      <td>CUST8302</td>\n",
       "      <td>2022-07-23</td>\n",
       "      <td>Charlie</td>\n",
       "      <td>South</td>\n",
       "      <td>2022</td>\n",
       "    </tr>\n",
       "    <tr>\n",
       "      <th>462</th>\n",
       "      <td>ORD00087</td>\n",
       "      <td>PRD193</td>\n",
       "      <td>Smartphone</td>\n",
       "      <td>NaN</td>\n",
       "      <td>1</td>\n",
       "      <td>0.1</td>\n",
       "      <td>CUST3269</td>\n",
       "      <td>2022-05-26</td>\n",
       "      <td>Alice</td>\n",
       "      <td>North</td>\n",
       "      <td>2022</td>\n",
       "    </tr>\n",
       "  </tbody>\n",
       "</table>\n",
       "</div>"
      ],
      "text/plain": [
       "      OrderID ProductID ProductName  UnitPrice  Quantity  Discount CustomerID  \\\n",
       "375  ORD00110    PRD193  Smartphone     428.43        19       0.0   CUST8302   \n",
       "462  ORD00087    PRD193  Smartphone        NaN         1       0.1   CUST3269   \n",
       "\n",
       "      SaleDate SalesPerson Region  Year  \n",
       "375 2022-07-23     Charlie  South  2022  \n",
       "462 2022-05-26       Alice  North  2022  "
      ]
     },
     "execution_count": 130,
     "metadata": {},
     "output_type": "execute_result"
    }
   ],
   "source": [
    "df[(df.ProductID == \"PRD193\")]"
   ]
  },
  {
   "cell_type": "code",
   "execution_count": 131,
   "metadata": {},
   "outputs": [
    {
     "data": {
      "text/html": [
       "<div>\n",
       "<style scoped>\n",
       "    .dataframe tbody tr th:only-of-type {\n",
       "        vertical-align: middle;\n",
       "    }\n",
       "\n",
       "    .dataframe tbody tr th {\n",
       "        vertical-align: top;\n",
       "    }\n",
       "\n",
       "    .dataframe thead th {\n",
       "        text-align: right;\n",
       "    }\n",
       "</style>\n",
       "<table border=\"1\" class=\"dataframe\">\n",
       "  <thead>\n",
       "    <tr style=\"text-align: right;\">\n",
       "      <th></th>\n",
       "      <th>OrderID</th>\n",
       "      <th>ProductID</th>\n",
       "      <th>ProductName</th>\n",
       "      <th>UnitPrice</th>\n",
       "      <th>Quantity</th>\n",
       "      <th>Discount</th>\n",
       "      <th>CustomerID</th>\n",
       "      <th>SaleDate</th>\n",
       "      <th>SalesPerson</th>\n",
       "      <th>Region</th>\n",
       "      <th>Year</th>\n",
       "    </tr>\n",
       "  </thead>\n",
       "  <tbody>\n",
       "    <tr>\n",
       "      <th>202</th>\n",
       "      <td>ORD00214</td>\n",
       "      <td>PRD218</td>\n",
       "      <td>Smartphone</td>\n",
       "      <td>1480.85</td>\n",
       "      <td>18</td>\n",
       "      <td>0.00</td>\n",
       "      <td>CUST1021</td>\n",
       "      <td>2020-02-17</td>\n",
       "      <td>Diana</td>\n",
       "      <td>South</td>\n",
       "      <td>2020</td>\n",
       "    </tr>\n",
       "    <tr>\n",
       "      <th>268</th>\n",
       "      <td>ORD00167</td>\n",
       "      <td>PRD218</td>\n",
       "      <td>Smartphone</td>\n",
       "      <td>710.62</td>\n",
       "      <td>11</td>\n",
       "      <td>0.15</td>\n",
       "      <td>CUST2154</td>\n",
       "      <td>2022-02-17</td>\n",
       "      <td>Bob</td>\n",
       "      <td>North</td>\n",
       "      <td>2022</td>\n",
       "    </tr>\n",
       "  </tbody>\n",
       "</table>\n",
       "</div>"
      ],
      "text/plain": [
       "      OrderID ProductID ProductName  UnitPrice  Quantity  Discount CustomerID  \\\n",
       "202  ORD00214    PRD218  Smartphone    1480.85        18      0.00   CUST1021   \n",
       "268  ORD00167    PRD218  Smartphone     710.62        11      0.15   CUST2154   \n",
       "\n",
       "      SaleDate SalesPerson Region  Year  \n",
       "202 2020-02-17       Diana  South  2020  \n",
       "268 2022-02-17         Bob  North  2022  "
      ]
     },
     "execution_count": 131,
     "metadata": {},
     "output_type": "execute_result"
    }
   ],
   "source": [
    "df[(df.ProductID == \"PRD218\")]"
   ]
  },
  {
   "cell_type": "code",
   "execution_count": 132,
   "metadata": {},
   "outputs": [],
   "source": [
    "df.loc[df[\"ProductName\"] == \"Smartphone\", \"ProductID\"] = \"PRD193\""
   ]
  },
  {
   "cell_type": "code",
   "execution_count": 133,
   "metadata": {},
   "outputs": [
    {
     "data": {
      "text/plain": [
       "ProductID  ProductName\n",
       "PRD122     Smartwatch      83\n",
       "PRD193     Smartphone      85\n",
       "PRD253     Headphones      90\n",
       "PRD822     Laptop         101\n",
       "PRD949     Camera         126\n",
       "Name: count, dtype: int64"
      ]
     },
     "execution_count": 133,
     "metadata": {},
     "output_type": "execute_result"
    }
   ],
   "source": [
    "df.groupby([\"ProductID\"])[\"ProductName\"].value_counts()"
   ]
  },
  {
   "cell_type": "markdown",
   "metadata": {},
   "source": [
    "## <font color='royalblue'> <b>UnitPrice</b><font color='black'> "
   ]
  },
  {
   "cell_type": "code",
   "execution_count": 135,
   "metadata": {},
   "outputs": [
    {
     "data": {
      "image/png": "[encoded data removed]",
      "text/plain": [
       "<Figure size 1200x800 with 5 Axes>"
      ]
     },
     "metadata": {},
     "output_type": "display_data"
    }
   ],
   "source": [
    "g = sns.FacetGrid(df, col=\"ProductName\", col_wrap=3, height=4)\n",
    "g.map(sns.histplot, \"UnitPrice\", bins=10, kde=True);"
   ]
  },
  {
   "cell_type": "code",
   "execution_count": 136,
   "metadata": {},
   "outputs": [
    {
     "data": {
      "image/png": "[encoded data removed]",
      "text/plain": [
       "<Figure size 640x480 with 1 Axes>"
      ]
     },
     "metadata": {},
     "output_type": "display_data"
    }
   ],
   "source": [
    "sns.boxplot(df, x = \"ProductName\" , y = \"UnitPrice\", \n",
    "            palette={\"Smartwatch\": \"lightsteelblue\", \"Laptop\": \"lightblue\", \"Camera\": \"cornflowerblue\", \n",
    "                     \"Headphones\": \"royalblue\", \"Smartphone\": \"blue\"}\n",
    "           );"
   ]
  },
  {
   "cell_type": "markdown",
   "metadata": {},
   "source": [
    "As seen in the histogram charts, some products have **unbalanced price** distributions. Therefore, filling NaN values ​​with **median** can better preserve the overall structure of the dataset."
   ]
  },
  {
   "cell_type": "code",
   "execution_count": 138,
   "metadata": {},
   "outputs": [],
   "source": [
    "df['UnitPrice'] = df.groupby('ProductName')['UnitPrice'].transform(lambda x: x.fillna(x.median()))"
   ]
  },
  {
   "cell_type": "code",
   "execution_count": 139,
   "metadata": {},
   "outputs": [
    {
     "data": {
      "text/plain": [
       "0"
      ]
     },
     "execution_count": 139,
     "metadata": {},
     "output_type": "execute_result"
    }
   ],
   "source": [
    "df.UnitPrice.isnull().sum()"
   ]
  },
  {
   "cell_type": "markdown",
   "metadata": {},
   "source": [
    "## <font color='royalblue'> <b>CustomerID</b><font color='black'> "
   ]
  },
  {
   "cell_type": "code",
   "execution_count": 257,
   "metadata": {},
   "outputs": [
    {
     "data": {
      "text/plain": [
       "50"
      ]
     },
     "execution_count": 257,
     "metadata": {},
     "output_type": "execute_result"
    }
   ],
   "source": [
    "df.CustomerID.isnull().sum()"
   ]
  },
  {
   "cell_type": "markdown",
   "metadata": {},
   "source": [
    "ID numbers are unique values. Because of that, the NaN values in CustomerID column cannot be filled with any method."
   ]
  },
  {
   "cell_type": "code",
   "execution_count": 265,
   "metadata": {
    "scrolled": true
   },
   "outputs": [],
   "source": [
    "df.dropna(subset=['CustomerID'], inplace=True)"
   ]
  },
  {
   "cell_type": "code",
   "execution_count": 267,
   "metadata": {},
   "outputs": [
    {
     "data": {
      "text/plain": [
       "0"
      ]
     },
     "execution_count": 267,
     "metadata": {},
     "output_type": "execute_result"
    }
   ],
   "source": [
    "df.CustomerID.isnull().sum()"
   ]
  },
  {
   "cell_type": "markdown",
   "metadata": {},
   "source": [
    "## <font color='royalblue'> <b>After Filling The NaN Values</b><font color='black'> "
   ]
  },
  {
   "cell_type": "code",
   "execution_count": 269,
   "metadata": {},
   "outputs": [
    {
     "data": {
      "text/plain": [
       "OrderID        0\n",
       "ProductID      0\n",
       "ProductName    0\n",
       "UnitPrice      0\n",
       "Quantity       0\n",
       "Discount       0\n",
       "CustomerID     0\n",
       "SaleDate       0\n",
       "SalesPerson    0\n",
       "Region         0\n",
       "Year           0\n",
       "TotalPrice     0\n",
       "dtype: int64"
      ]
     },
     "execution_count": 269,
     "metadata": {},
     "output_type": "execute_result"
    }
   ],
   "source": [
    "df.isnull().sum()"
   ]
  },
  {
   "cell_type": "code",
   "execution_count": 271,
   "metadata": {},
   "outputs": [
    {
     "name": "stdout",
     "output_type": "stream",
     "text": [
      "<class 'pandas.core.frame.DataFrame'>\n",
      "Index: 435 entries, 0 to 484\n",
      "Data columns (total 12 columns):\n",
      " #   Column       Non-Null Count  Dtype         \n",
      "---  ------       --------------  -----         \n",
      " 0   OrderID      435 non-null    object        \n",
      " 1   ProductID    435 non-null    object        \n",
      " 2   ProductName  435 non-null    object        \n",
      " 3   UnitPrice    435 non-null    float64       \n",
      " 4   Quantity     435 non-null    int64         \n",
      " 5   Discount     435 non-null    float64       \n",
      " 6   CustomerID   435 non-null    object        \n",
      " 7   SaleDate     435 non-null    datetime64[ns]\n",
      " 8   SalesPerson  435 non-null    object        \n",
      " 9   Region       435 non-null    object        \n",
      " 10  Year         435 non-null    int32         \n",
      " 11  TotalPrice   435 non-null    float64       \n",
      "dtypes: datetime64[ns](1), float64(3), int32(1), int64(1), object(6)\n",
      "memory usage: 42.5+ KB\n"
     ]
    }
   ],
   "source": [
    "df.info()"
   ]
  },
  {
   "cell_type": "code",
   "execution_count": 273,
   "metadata": {},
   "outputs": [
    {
     "data": {
      "text/html": [
       "<div>\n",
       "<style scoped>\n",
       "    .dataframe tbody tr th:only-of-type {\n",
       "        vertical-align: middle;\n",
       "    }\n",
       "\n",
       "    .dataframe tbody tr th {\n",
       "        vertical-align: top;\n",
       "    }\n",
       "\n",
       "    .dataframe thead th {\n",
       "        text-align: right;\n",
       "    }\n",
       "</style>\n",
       "<table border=\"1\" class=\"dataframe\">\n",
       "  <thead>\n",
       "    <tr style=\"text-align: right;\">\n",
       "      <th></th>\n",
       "      <th>OrderID</th>\n",
       "      <th>ProductID</th>\n",
       "      <th>ProductName</th>\n",
       "      <th>UnitPrice</th>\n",
       "      <th>Quantity</th>\n",
       "      <th>Discount</th>\n",
       "      <th>CustomerID</th>\n",
       "      <th>SaleDate</th>\n",
       "      <th>SalesPerson</th>\n",
       "      <th>Region</th>\n",
       "      <th>Year</th>\n",
       "      <th>TotalPrice</th>\n",
       "    </tr>\n",
       "  </thead>\n",
       "  <tbody>\n",
       "    <tr>\n",
       "      <th>480</th>\n",
       "      <td>ORD00184</td>\n",
       "      <td>PRD822</td>\n",
       "      <td>Laptop</td>\n",
       "      <td>105.52</td>\n",
       "      <td>6</td>\n",
       "      <td>0.15</td>\n",
       "      <td>CUST4805</td>\n",
       "      <td>2023-12-14</td>\n",
       "      <td>Bob</td>\n",
       "      <td>West</td>\n",
       "      <td>2023</td>\n",
       "      <td>538.152</td>\n",
       "    </tr>\n",
       "    <tr>\n",
       "      <th>348</th>\n",
       "      <td>ORD00239</td>\n",
       "      <td>PRD822</td>\n",
       "      <td>Laptop</td>\n",
       "      <td>294.82</td>\n",
       "      <td>18</td>\n",
       "      <td>0.05</td>\n",
       "      <td>CUST7039</td>\n",
       "      <td>2022-10-11</td>\n",
       "      <td>Charlie</td>\n",
       "      <td>West</td>\n",
       "      <td>2022</td>\n",
       "      <td>5041.422</td>\n",
       "    </tr>\n",
       "    <tr>\n",
       "      <th>162</th>\n",
       "      <td>ORD00132</td>\n",
       "      <td>PRD193</td>\n",
       "      <td>Smartphone</td>\n",
       "      <td>1256.11</td>\n",
       "      <td>8</td>\n",
       "      <td>0.00</td>\n",
       "      <td>CUST3205</td>\n",
       "      <td>2021-04-24</td>\n",
       "      <td>Alice</td>\n",
       "      <td>East</td>\n",
       "      <td>2021</td>\n",
       "      <td>10048.880</td>\n",
       "    </tr>\n",
       "    <tr>\n",
       "      <th>125</th>\n",
       "      <td>ORD00210</td>\n",
       "      <td>PRD822</td>\n",
       "      <td>Laptop</td>\n",
       "      <td>681.06</td>\n",
       "      <td>3</td>\n",
       "      <td>0.20</td>\n",
       "      <td>CUST5411</td>\n",
       "      <td>2021-01-06</td>\n",
       "      <td>Charlie</td>\n",
       "      <td>North</td>\n",
       "      <td>2021</td>\n",
       "      <td>1634.544</td>\n",
       "    </tr>\n",
       "    <tr>\n",
       "      <th>20</th>\n",
       "      <td>ORD00049</td>\n",
       "      <td>PRD193</td>\n",
       "      <td>Smartphone</td>\n",
       "      <td>1457.48</td>\n",
       "      <td>16</td>\n",
       "      <td>0.15</td>\n",
       "      <td>CUST2007</td>\n",
       "      <td>2020-02-29</td>\n",
       "      <td>Evan</td>\n",
       "      <td>South</td>\n",
       "      <td>2020</td>\n",
       "      <td>19821.728</td>\n",
       "    </tr>\n",
       "  </tbody>\n",
       "</table>\n",
       "</div>"
      ],
      "text/plain": [
       "      OrderID ProductID ProductName  UnitPrice  Quantity  Discount CustomerID  \\\n",
       "480  ORD00184    PRD822      Laptop     105.52         6      0.15   CUST4805   \n",
       "348  ORD00239    PRD822      Laptop     294.82        18      0.05   CUST7039   \n",
       "162  ORD00132    PRD193  Smartphone    1256.11         8      0.00   CUST3205   \n",
       "125  ORD00210    PRD822      Laptop     681.06         3      0.20   CUST5411   \n",
       "20   ORD00049    PRD193  Smartphone    1457.48        16      0.15   CUST2007   \n",
       "\n",
       "      SaleDate SalesPerson Region  Year  TotalPrice  \n",
       "480 2023-12-14         Bob   West  2023     538.152  \n",
       "348 2022-10-11     Charlie   West  2022    5041.422  \n",
       "162 2021-04-24       Alice   East  2021   10048.880  \n",
       "125 2021-01-06     Charlie  North  2021    1634.544  \n",
       "20  2020-02-29        Evan  South  2020   19821.728  "
      ]
     },
     "execution_count": 273,
     "metadata": {},
     "output_type": "execute_result"
    }
   ],
   "source": [
    "df.sample(5)"
   ]
  },
  {
   "cell_type": "markdown",
   "metadata": {},
   "source": [
    "The last thing you can do about organizing the data may be sorting SaleDate column ascending."
   ]
  },
  {
   "cell_type": "code",
   "execution_count": 275,
   "metadata": {},
   "outputs": [],
   "source": [
    "df = df.sort_values(by='SaleDate', ascending=True).reset_index(drop=True)"
   ]
  },
  {
   "cell_type": "code",
   "execution_count": 277,
   "metadata": {},
   "outputs": [
    {
     "data": {
      "text/html": [
       "<div>\n",
       "<style scoped>\n",
       "    .dataframe tbody tr th:only-of-type {\n",
       "        vertical-align: middle;\n",
       "    }\n",
       "\n",
       "    .dataframe tbody tr th {\n",
       "        vertical-align: top;\n",
       "    }\n",
       "\n",
       "    .dataframe thead th {\n",
       "        text-align: right;\n",
       "    }\n",
       "</style>\n",
       "<table border=\"1\" class=\"dataframe\">\n",
       "  <thead>\n",
       "    <tr style=\"text-align: right;\">\n",
       "      <th></th>\n",
       "      <th>OrderID</th>\n",
       "      <th>ProductID</th>\n",
       "      <th>ProductName</th>\n",
       "      <th>UnitPrice</th>\n",
       "      <th>Quantity</th>\n",
       "      <th>Discount</th>\n",
       "      <th>CustomerID</th>\n",
       "      <th>SaleDate</th>\n",
       "      <th>SalesPerson</th>\n",
       "      <th>Region</th>\n",
       "      <th>Year</th>\n",
       "      <th>TotalPrice</th>\n",
       "    </tr>\n",
       "  </thead>\n",
       "  <tbody>\n",
       "    <tr>\n",
       "      <th>0</th>\n",
       "      <td>ORD00301</td>\n",
       "      <td>PRD122</td>\n",
       "      <td>Smartwatch</td>\n",
       "      <td>1354.21</td>\n",
       "      <td>15</td>\n",
       "      <td>0.15</td>\n",
       "      <td>CUST8892</td>\n",
       "      <td>2020-01-02</td>\n",
       "      <td>Diana</td>\n",
       "      <td>East</td>\n",
       "      <td>2020</td>\n",
       "      <td>17266.1775</td>\n",
       "    </tr>\n",
       "    <tr>\n",
       "      <th>1</th>\n",
       "      <td>ORD00422</td>\n",
       "      <td>PRD822</td>\n",
       "      <td>Laptop</td>\n",
       "      <td>1420.68</td>\n",
       "      <td>13</td>\n",
       "      <td>0.15</td>\n",
       "      <td>CUST8644</td>\n",
       "      <td>2020-01-03</td>\n",
       "      <td>Alice</td>\n",
       "      <td>South</td>\n",
       "      <td>2020</td>\n",
       "      <td>15698.5140</td>\n",
       "    </tr>\n",
       "    <tr>\n",
       "      <th>2</th>\n",
       "      <td>ORD00023</td>\n",
       "      <td>PRD193</td>\n",
       "      <td>Smartphone</td>\n",
       "      <td>711.99</td>\n",
       "      <td>4</td>\n",
       "      <td>0.15</td>\n",
       "      <td>CUST1233</td>\n",
       "      <td>2020-01-09</td>\n",
       "      <td>Bob</td>\n",
       "      <td>South</td>\n",
       "      <td>2020</td>\n",
       "      <td>2420.7660</td>\n",
       "    </tr>\n",
       "    <tr>\n",
       "      <th>3</th>\n",
       "      <td>ORD00158</td>\n",
       "      <td>PRD193</td>\n",
       "      <td>Smartphone</td>\n",
       "      <td>711.99</td>\n",
       "      <td>14</td>\n",
       "      <td>0.15</td>\n",
       "      <td>CUST7977</td>\n",
       "      <td>2020-01-13</td>\n",
       "      <td>Bob</td>\n",
       "      <td>Central</td>\n",
       "      <td>2020</td>\n",
       "      <td>8472.6810</td>\n",
       "    </tr>\n",
       "    <tr>\n",
       "      <th>4</th>\n",
       "      <td>ORD00383</td>\n",
       "      <td>PRD122</td>\n",
       "      <td>Smartwatch</td>\n",
       "      <td>1439.11</td>\n",
       "      <td>8</td>\n",
       "      <td>0.05</td>\n",
       "      <td>CUST2864</td>\n",
       "      <td>2020-01-18</td>\n",
       "      <td>Evan</td>\n",
       "      <td>Central</td>\n",
       "      <td>2020</td>\n",
       "      <td>10937.2360</td>\n",
       "    </tr>\n",
       "  </tbody>\n",
       "</table>\n",
       "</div>"
      ],
      "text/plain": [
       "    OrderID ProductID ProductName  UnitPrice  Quantity  Discount CustomerID  \\\n",
       "0  ORD00301    PRD122  Smartwatch    1354.21        15      0.15   CUST8892   \n",
       "1  ORD00422    PRD822      Laptop    1420.68        13      0.15   CUST8644   \n",
       "2  ORD00023    PRD193  Smartphone     711.99         4      0.15   CUST1233   \n",
       "3  ORD00158    PRD193  Smartphone     711.99        14      0.15   CUST7977   \n",
       "4  ORD00383    PRD122  Smartwatch    1439.11         8      0.05   CUST2864   \n",
       "\n",
       "    SaleDate SalesPerson   Region  Year  TotalPrice  \n",
       "0 2020-01-02       Diana     East  2020  17266.1775  \n",
       "1 2020-01-03       Alice    South  2020  15698.5140  \n",
       "2 2020-01-09         Bob    South  2020   2420.7660  \n",
       "3 2020-01-13         Bob  Central  2020   8472.6810  \n",
       "4 2020-01-18        Evan  Central  2020  10937.2360  "
      ]
     },
     "execution_count": 277,
     "metadata": {},
     "output_type": "execute_result"
    }
   ],
   "source": [
    "df.head()"
   ]
  },
  {
   "cell_type": "code",
   "execution_count": 279,
   "metadata": {},
   "outputs": [],
   "source": [
    "# if you want to save the last version of the data set as .csv file, you can run the code below with deleting the # sign.\n",
    "\n",
    "# df.to_csv(\"edited_data.csv\", index= False)"
   ]
  },
  {
   "cell_type": "markdown",
   "metadata": {},
   "source": [
    "<a id='create-graphs'></a>\n",
    "# <font color='navy'> <b>Creating Graphs</b><font color='black'> "
   ]
  },
  {
   "cell_type": "markdown",
   "metadata": {},
   "source": [
    "## <font color='royalblue'> <b>Sales Made By SalesPerson On A Yearly Basis</b><font color='black'> "
   ]
  },
  {
   "cell_type": "code",
   "execution_count": 281,
   "metadata": {},
   "outputs": [
    {
     "data": {
      "image/png": "[encoded data removed]",
      "text/plain": [
       "<Figure size 1000x600 with 1 Axes>"
      ]
     },
     "metadata": {},
     "output_type": "display_data"
    }
   ],
   "source": [
    "# Calculating the total sales amount based on SalesPerson and Year\n",
    "SalesCount = df.SalesPerson.value_counts(ascending= False)\n",
    "sales_counts = df.groupby(['SalesPerson', 'Year']).size().reset_index(name='SalesCount')\n",
    "\n",
    "# Creating Bar Plot\n",
    "plt.figure(figsize=(10, 6))\n",
    "sns.barplot(x='Year', y='SalesCount', hue='SalesPerson', data=sales_counts)\n",
    "\n",
    "plt.title('Sales Numbers of Personnel by Years')\n",
    "plt.xlabel('Year')\n",
    "plt.ylabel('Sales Number')\n",
    "plt.legend(title='Salesperson', bbox_to_anchor=(1, 1.15))\n",
    "plt.show()"
   ]
  },
  {
   "cell_type": "markdown",
   "metadata": {},
   "source": [
    "## <font color='royalblue'> <b>Sales Amount Of Products Sold By Years</b><font color='black'> "
   ]
  },
  {
   "cell_type": "code",
   "execution_count": 283,
   "metadata": {},
   "outputs": [
    {
     "data": {
      "image/png": "[encoded data removed]",
      "text/plain": [
       "<Figure size 1000x600 with 1 Axes>"
      ]
     },
     "metadata": {},
     "output_type": "display_data"
    }
   ],
   "source": [
    "# Calculating the total sales amount based on ProductName and Year\n",
    "SalesCount2 = df.ProductName.value_counts(ascending= False)\n",
    "sales_counts2 = df.groupby(['ProductName', 'Year']).size().reset_index(name='SalesCount2')\n",
    "\n",
    "# Creating Bar Plot\n",
    "plt.figure(figsize=(10, 6))\n",
    "sns.barplot(x='Year', y='SalesCount2', hue='ProductName', data=sales_counts2)\n",
    "\n",
    "plt.title('Sales Amount of Products Sold by Years')\n",
    "plt.xlabel('Year')\n",
    "plt.ylabel('Sales Number')\n",
    "plt.legend(title='Products', bbox_to_anchor=(1.2, 1.15))\n",
    "plt.show()"
   ]
  },
  {
   "cell_type": "markdown",
   "metadata": {},
   "source": [
    "## <font color='royalblue'> <b>In Which Year Was More Income Generated?</b><font color='black'> "
   ]
  },
  {
   "cell_type": "code",
   "execution_count": 285,
   "metadata": {},
   "outputs": [],
   "source": [
    "df['TotalPrice'] = df['UnitPrice'] * df['Quantity'] * (1 - df['Discount'])"
   ]
  },
  {
   "cell_type": "code",
   "execution_count": 286,
   "metadata": {},
   "outputs": [
    {
     "data": {
      "image/png": "[encoded data removed]",
      "text/plain": [
       "<Figure size 1000x600 with 1 Axes>"
      ]
     },
     "metadata": {},
     "output_type": "display_data"
    }
   ],
   "source": [
    "annual_totals = df.groupby('Year')['TotalPrice'].sum()\n",
    "\n",
    "# Plotting\n",
    "plt.figure(figsize=(10, 6))\n",
    "annual_totals.plot(kind='bar', color='skyblue')\n",
    "\n",
    "plt.title('Total Annual Earnings')\n",
    "plt.xlabel('Year')\n",
    "plt.ylabel('Total')\n",
    "plt.xticks(rotation=45)\n",
    "plt.grid(axis='y', linestyle='--', alpha=0.7)\n",
    "plt.tight_layout()\n",
    "\n",
    "plt.show()"
   ]
  },
  {
   "cell_type": "markdown",
   "metadata": {},
   "source": [
    "## <font color='royalblue'> <b>What Is The Correlation Between Quantity And Discount</b><font color='black'> "
   ]
  },
  {
   "cell_type": "code",
   "execution_count": 288,
   "metadata": {},
   "outputs": [
    {
     "data": {
      "image/png": "[encoded data removed]",
      "text/plain": [
       "<Figure size 1000x600 with 2 Axes>"
      ]
     },
     "metadata": {},
     "output_type": "display_data"
    }
   ],
   "source": [
    "# Creating the graph\n",
    "plt.figure(figsize=(10, 6))\n",
    "\n",
    "sns.heatmap(df[['Quantity', 'Discount']].corr(), annot=True, cmap='coolwarm', center=0)\n",
    "plt.title('Correlation Between Quantity and Discount')\n",
    "\n",
    "plt.show()"
   ]
  },
  {
   "cell_type": "markdown",
   "metadata": {},
   "source": [
    "A correlation value of -0.2 indicates a **weak and negative relationship** between the **Quantity** and **Discount** columns. This suggests that there is generally not a strong correlation between the quantity of a product purchased and the discount rate. Therefore, small changes in discount are unlikely to significantly affect the quantity purchased."
   ]
  }
 ],
 "metadata": {
  "kernelspec": {
   "display_name": "Python 3 (ipykernel)",
   "language": "python",
   "name": "python3"
  },
  "language_info": {
   "codemirror_mode": {
    "name": "ipython",
    "version": 3
   },
   "file_extension": ".py",
   "mimetype": "text/x-python",
   "name": "python",
   "nbconvert_exporter": "python",
   "pygments_lexer": "ipython3",
   "version": "3.12.4"
  }
 },
 "nbformat": 4,
 "nbformat_minor": 4
}

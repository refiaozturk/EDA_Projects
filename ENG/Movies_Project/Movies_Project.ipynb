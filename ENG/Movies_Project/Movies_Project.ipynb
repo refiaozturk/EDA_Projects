{
 "cells": [
  {
   "cell_type": "markdown",
   "id": "c12a5498-88ba-4e99-8b80-7e25b24e57fd",
   "metadata": {},
   "source": [
    "<p style=\"background-color:firebrick;font-family:newtimeroman;font-size:200%;color:white;text-align:center;border-radius:20px 20px;\"><b>EDA Project - Movies</b></p>"
   ]
  },
  {
   "cell_type": "markdown",
   "id": "8060c39b-4167-4d07-8545-d2c780ad3079",
   "metadata": {},
   "source": [
    "<b>Contains:</b>\n",
    "<ul>\n",
    "<li><a href=\"#import-library\">Importing Libraries</a></li>\n",
    "<li><a href=\"#loading-dataset\">Loading The Dataset</a></li>\n",
    "<li><a href=\"#understanding-dataset\">Understanding The Dataset</a></li>\n",
    "<li><a href=\"#organizing-columns\">Organizing Columns</a></li>\n",
    "<li><a href=\"#nan-values\">NaN Values</a></li>\n",
    "<li><a href=\"#data-visualization\">Data Visualization</a></li>\n",
    "</ul>"
   ]
  },
  {
   "cell_type": "markdown",
   "id": "f8b1370e-f85d-4452-8786-18150abff29e",
   "metadata": {},
   "source": [
    "<a id='import-library'></a>\n",
    "# <font color='firebrick'> <b>Importing Libraries</b><font color='black'> "
   ]
  },
  {
   "cell_type": "code",
   "execution_count": 1,
   "id": "0496b9e6-1312-4473-8642-22e6d458be77",
   "metadata": {},
   "outputs": [],
   "source": [
    "import numpy as np\n",
    "import pandas as pd\n",
    "import matplotlib.pyplot as plt\n",
    "import seaborn as sns\n",
    "\n",
    "import missingno as msno\n",
    "import plotly.express as px\n",
    "\n",
    "from skimpy import skim\n",
    "\n",
    "import warnings\n",
    "warnings.filterwarnings(\"ignore\")"
   ]
  },
  {
   "cell_type": "markdown",
   "id": "e181e802-374f-4270-b3f0-140355587b7e",
   "metadata": {},
   "source": [
    "<a id='loading-dataset'></a>\n",
    "# <font color='firebrick'> <b>Loading The Dataset</b><font color='black'> "
   ]
  },
  {
   "cell_type": "code",
   "execution_count": 2,
   "id": "836a5204-157e-4972-b774-36eecf2a369d",
   "metadata": {},
   "outputs": [],
   "source": [
    "df0 = pd.read_csv(\"movies.csv\")\n",
    "df = df0.copy()"
   ]
  },
  {
   "cell_type": "code",
   "execution_count": 3,
   "id": "ccb01142-8b59-4660-8d94-e126c36cabf1",
   "metadata": {},
   "outputs": [
    {
     "data": {
      "text/html": [
       "<div>\n",
       "<style scoped>\n",
       "    .dataframe tbody tr th:only-of-type {\n",
       "        vertical-align: middle;\n",
       "    }\n",
       "\n",
       "    .dataframe tbody tr th {\n",
       "        vertical-align: top;\n",
       "    }\n",
       "\n",
       "    .dataframe thead th {\n",
       "        text-align: right;\n",
       "    }\n",
       "</style>\n",
       "<table border=\"1\" class=\"dataframe\">\n",
       "  <thead>\n",
       "    <tr style=\"text-align: right;\">\n",
       "      <th></th>\n",
       "      <th>MOVIES</th>\n",
       "      <th>YEAR</th>\n",
       "      <th>GENRE</th>\n",
       "      <th>RATING</th>\n",
       "      <th>ONE-LINE</th>\n",
       "      <th>STARS</th>\n",
       "      <th>VOTES</th>\n",
       "      <th>RunTime</th>\n",
       "      <th>Gross</th>\n",
       "    </tr>\n",
       "  </thead>\n",
       "  <tbody>\n",
       "    <tr>\n",
       "      <th>0</th>\n",
       "      <td>Blood Red Sky</td>\n",
       "      <td>(2021)</td>\n",
       "      <td>\\r\\nAction, Horror, Thriller</td>\n",
       "      <td>6.1</td>\n",
       "      <td>\\r\\nA woman with a mysterious illness is force...</td>\n",
       "      <td>\\r\\n    Director:\\r\\nPeter Thorwarth\\r\\n| \\r\\n...</td>\n",
       "      <td>21,062</td>\n",
       "      <td>121.0</td>\n",
       "      <td>NaN</td>\n",
       "    </tr>\n",
       "    <tr>\n",
       "      <th>1</th>\n",
       "      <td>Masters of the Universe: Revelation</td>\n",
       "      <td>(2021– )</td>\n",
       "      <td>\\r\\nAnimation, Action, Adventure</td>\n",
       "      <td>5.0</td>\n",
       "      <td>\\r\\nThe war for Eternia begins again in what m...</td>\n",
       "      <td>\\r\\n            \\r\\n    Stars:\\r\\nChris Wood, ...</td>\n",
       "      <td>17,870</td>\n",
       "      <td>25.0</td>\n",
       "      <td>NaN</td>\n",
       "    </tr>\n",
       "    <tr>\n",
       "      <th>2</th>\n",
       "      <td>The Walking Dead</td>\n",
       "      <td>(2010–2022)</td>\n",
       "      <td>\\r\\nDrama, Horror, Thriller</td>\n",
       "      <td>8.2</td>\n",
       "      <td>\\r\\nSheriff Deputy Rick Grimes wakes up from a...</td>\n",
       "      <td>\\r\\n            \\r\\n    Stars:\\r\\nAndrew Linco...</td>\n",
       "      <td>885,805</td>\n",
       "      <td>44.0</td>\n",
       "      <td>NaN</td>\n",
       "    </tr>\n",
       "    <tr>\n",
       "      <th>3</th>\n",
       "      <td>Rick and Morty</td>\n",
       "      <td>(2013– )</td>\n",
       "      <td>\\r\\nAnimation, Adventure, Comedy</td>\n",
       "      <td>9.2</td>\n",
       "      <td>\\r\\nAn animated series that follows the exploi...</td>\n",
       "      <td>\\r\\n            \\r\\n    Stars:\\r\\nJustin Roila...</td>\n",
       "      <td>414,849</td>\n",
       "      <td>23.0</td>\n",
       "      <td>NaN</td>\n",
       "    </tr>\n",
       "    <tr>\n",
       "      <th>4</th>\n",
       "      <td>Army of Thieves</td>\n",
       "      <td>(2021)</td>\n",
       "      <td>\\r\\nAction, Crime, Horror</td>\n",
       "      <td>NaN</td>\n",
       "      <td>\\r\\nA prequel, set before the events of Army o...</td>\n",
       "      <td>\\r\\n    Director:\\r\\nMatthias Schweighöfer\\r\\n...</td>\n",
       "      <td>NaN</td>\n",
       "      <td>NaN</td>\n",
       "      <td>NaN</td>\n",
       "    </tr>\n",
       "  </tbody>\n",
       "</table>\n",
       "</div>"
      ],
      "text/plain": [
       "                                MOVIES         YEAR  \\\n",
       "0                        Blood Red Sky       (2021)   \n",
       "1  Masters of the Universe: Revelation     (2021– )   \n",
       "2                     The Walking Dead  (2010–2022)   \n",
       "3                       Rick and Morty     (2013– )   \n",
       "4                      Army of Thieves       (2021)   \n",
       "\n",
       "                                          GENRE  RATING  \\\n",
       "0      \\r\\nAction, Horror, Thriller                 6.1   \n",
       "1  \\r\\nAnimation, Action, Adventure                 5.0   \n",
       "2       \\r\\nDrama, Horror, Thriller                 8.2   \n",
       "3  \\r\\nAnimation, Adventure, Comedy                 9.2   \n",
       "4         \\r\\nAction, Crime, Horror                 NaN   \n",
       "\n",
       "                                            ONE-LINE  \\\n",
       "0  \\r\\nA woman with a mysterious illness is force...   \n",
       "1  \\r\\nThe war for Eternia begins again in what m...   \n",
       "2  \\r\\nSheriff Deputy Rick Grimes wakes up from a...   \n",
       "3  \\r\\nAn animated series that follows the exploi...   \n",
       "4  \\r\\nA prequel, set before the events of Army o...   \n",
       "\n",
       "                                               STARS    VOTES  RunTime Gross  \n",
       "0  \\r\\n    Director:\\r\\nPeter Thorwarth\\r\\n| \\r\\n...   21,062    121.0   NaN  \n",
       "1  \\r\\n            \\r\\n    Stars:\\r\\nChris Wood, ...   17,870     25.0   NaN  \n",
       "2  \\r\\n            \\r\\n    Stars:\\r\\nAndrew Linco...  885,805     44.0   NaN  \n",
       "3  \\r\\n            \\r\\n    Stars:\\r\\nJustin Roila...  414,849     23.0   NaN  \n",
       "4  \\r\\n    Director:\\r\\nMatthias Schweighöfer\\r\\n...      NaN      NaN   NaN  "
      ]
     },
     "execution_count": 3,
     "metadata": {},
     "output_type": "execute_result"
    }
   ],
   "source": [
    "df.head()"
   ]
  },
  {
   "cell_type": "code",
   "execution_count": 4,
   "id": "23603d03-b585-4764-8822-1cdd6ce01975",
   "metadata": {},
   "outputs": [
    {
     "data": {
      "text/html": [
       "<div>\n",
       "<style scoped>\n",
       "    .dataframe tbody tr th:only-of-type {\n",
       "        vertical-align: middle;\n",
       "    }\n",
       "\n",
       "    .dataframe tbody tr th {\n",
       "        vertical-align: top;\n",
       "    }\n",
       "\n",
       "    .dataframe thead th {\n",
       "        text-align: right;\n",
       "    }\n",
       "</style>\n",
       "<table border=\"1\" class=\"dataframe\">\n",
       "  <thead>\n",
       "    <tr style=\"text-align: right;\">\n",
       "      <th></th>\n",
       "      <th>MOVIES</th>\n",
       "      <th>YEAR</th>\n",
       "      <th>GENRE</th>\n",
       "      <th>RATING</th>\n",
       "      <th>ONE-LINE</th>\n",
       "      <th>STARS</th>\n",
       "      <th>VOTES</th>\n",
       "      <th>RunTime</th>\n",
       "      <th>Gross</th>\n",
       "    </tr>\n",
       "  </thead>\n",
       "  <tbody>\n",
       "    <tr>\n",
       "      <th>881</th>\n",
       "      <td>The One</td>\n",
       "      <td>(2021– )</td>\n",
       "      <td>\\r\\nCrime, Drama, Sci-Fi</td>\n",
       "      <td>6.6</td>\n",
       "      <td>\\r\\nLove -- and lies -- spiral when a DNA rese...</td>\n",
       "      <td>\\r\\n            \\r\\n    Stars:\\r\\nHannah Ware,...</td>\n",
       "      <td>10,810</td>\n",
       "      <td>NaN</td>\n",
       "      <td>NaN</td>\n",
       "    </tr>\n",
       "    <tr>\n",
       "      <th>4984</th>\n",
       "      <td>Pili Fantasy: War of Dragons</td>\n",
       "      <td>(2019– )</td>\n",
       "      <td>\\r\\nAnimation, Action, Fantasy</td>\n",
       "      <td>6.4</td>\n",
       "      <td>\\r\\nTurmoil looms in the Martial World, and th...</td>\n",
       "      <td>\\r\\n</td>\n",
       "      <td>29</td>\n",
       "      <td>NaN</td>\n",
       "      <td>NaN</td>\n",
       "    </tr>\n",
       "    <tr>\n",
       "      <th>3952</th>\n",
       "      <td>Finding Agnes</td>\n",
       "      <td>(2020)</td>\n",
       "      <td>\\r\\nDrama</td>\n",
       "      <td>4.6</td>\n",
       "      <td>\\r\\nOn an emotional journey in Morocco, an ent...</td>\n",
       "      <td>\\r\\n    Director:\\r\\nMarla Ancheta\\r\\n| \\r\\n  ...</td>\n",
       "      <td>122</td>\n",
       "      <td>105.0</td>\n",
       "      <td>NaN</td>\n",
       "    </tr>\n",
       "    <tr>\n",
       "      <th>8776</th>\n",
       "      <td>Colin in Black &amp; White</td>\n",
       "      <td>(2021– )</td>\n",
       "      <td>\\r\\nBiography, Drama, Sport</td>\n",
       "      <td>NaN</td>\n",
       "      <td>\\r\\nAdd a Plot\\r\\n</td>\n",
       "      <td>\\r\\n            \\r\\n    Stars:\\r\\nMace Coronel...</td>\n",
       "      <td>NaN</td>\n",
       "      <td>NaN</td>\n",
       "      <td>NaN</td>\n",
       "    </tr>\n",
       "    <tr>\n",
       "      <th>8213</th>\n",
       "      <td>Black Lightning</td>\n",
       "      <td>(2017–2021)</td>\n",
       "      <td>\\r\\nAction, Drama, Sci-Fi</td>\n",
       "      <td>7.5</td>\n",
       "      <td>\\r\\nBlack Lightning faces off against Gravedig...</td>\n",
       "      <td>\\r\\n    Director:\\r\\nSalim Akil\\r\\n| \\r\\n    S...</td>\n",
       "      <td>311</td>\n",
       "      <td>42.0</td>\n",
       "      <td>NaN</td>\n",
       "    </tr>\n",
       "  </tbody>\n",
       "</table>\n",
       "</div>"
      ],
      "text/plain": [
       "                            MOVIES         YEAR  \\\n",
       "881                        The One     (2021– )   \n",
       "4984  Pili Fantasy: War of Dragons     (2019– )   \n",
       "3952                 Finding Agnes       (2020)   \n",
       "8776        Colin in Black & White     (2021– )   \n",
       "8213               Black Lightning  (2017–2021)   \n",
       "\n",
       "                                           GENRE  RATING  \\\n",
       "881         \\r\\nCrime, Drama, Sci-Fi                 6.6   \n",
       "4984  \\r\\nAnimation, Action, Fantasy                 6.4   \n",
       "3952                       \\r\\nDrama                 4.6   \n",
       "8776     \\r\\nBiography, Drama, Sport                 NaN   \n",
       "8213       \\r\\nAction, Drama, Sci-Fi                 7.5   \n",
       "\n",
       "                                               ONE-LINE  \\\n",
       "881   \\r\\nLove -- and lies -- spiral when a DNA rese...   \n",
       "4984  \\r\\nTurmoil looms in the Martial World, and th...   \n",
       "3952  \\r\\nOn an emotional journey in Morocco, an ent...   \n",
       "8776                                 \\r\\nAdd a Plot\\r\\n   \n",
       "8213  \\r\\nBlack Lightning faces off against Gravedig...   \n",
       "\n",
       "                                                  STARS   VOTES  RunTime Gross  \n",
       "881   \\r\\n            \\r\\n    Stars:\\r\\nHannah Ware,...  10,810      NaN   NaN  \n",
       "4984                                               \\r\\n      29      NaN   NaN  \n",
       "3952  \\r\\n    Director:\\r\\nMarla Ancheta\\r\\n| \\r\\n  ...     122    105.0   NaN  \n",
       "8776  \\r\\n            \\r\\n    Stars:\\r\\nMace Coronel...     NaN      NaN   NaN  \n",
       "8213  \\r\\n    Director:\\r\\nSalim Akil\\r\\n| \\r\\n    S...     311     42.0   NaN  "
      ]
     },
     "execution_count": 4,
     "metadata": {},
     "output_type": "execute_result"
    }
   ],
   "source": [
    "df.sample(5)"
   ]
  },
  {
   "cell_type": "markdown",
   "id": "fb633969-c069-4df4-8f09-e86f5287880c",
   "metadata": {},
   "source": [
    "<a id='understanding-dataset'></a>\n",
    "# <font color='firebrick'> <b>Understanding The Dataset</b><font color='black'> "
   ]
  },
  {
   "cell_type": "code",
   "execution_count": 5,
   "id": "6de0d5fa-ab2a-4015-bdab-ca7709b5decd",
   "metadata": {},
   "outputs": [
    {
     "name": "stdout",
     "output_type": "stream",
     "text": [
      "<class 'pandas.core.frame.DataFrame'>\n",
      "RangeIndex: 9999 entries, 0 to 9998\n",
      "Data columns (total 9 columns):\n",
      " #   Column    Non-Null Count  Dtype  \n",
      "---  ------    --------------  -----  \n",
      " 0   MOVIES    9999 non-null   object \n",
      " 1   YEAR      9355 non-null   object \n",
      " 2   GENRE     9919 non-null   object \n",
      " 3   RATING    8179 non-null   float64\n",
      " 4   ONE-LINE  9999 non-null   object \n",
      " 5   STARS     9999 non-null   object \n",
      " 6   VOTES     8179 non-null   object \n",
      " 7   RunTime   7041 non-null   float64\n",
      " 8   Gross     460 non-null    object \n",
      "dtypes: float64(2), object(7)\n",
      "memory usage: 703.2+ KB\n"
     ]
    }
   ],
   "source": [
    "df.info()"
   ]
  },
  {
   "cell_type": "code",
   "execution_count": 6,
   "id": "dcd48c58-df95-409c-b910-3e6eb095e45d",
   "metadata": {},
   "outputs": [
    {
     "data": {
      "text/html": [
       "<div>\n",
       "<style scoped>\n",
       "    .dataframe tbody tr th:only-of-type {\n",
       "        vertical-align: middle;\n",
       "    }\n",
       "\n",
       "    .dataframe tbody tr th {\n",
       "        vertical-align: top;\n",
       "    }\n",
       "\n",
       "    .dataframe thead th {\n",
       "        text-align: right;\n",
       "    }\n",
       "</style>\n",
       "<table border=\"1\" class=\"dataframe\">\n",
       "  <thead>\n",
       "    <tr style=\"text-align: right;\">\n",
       "      <th></th>\n",
       "      <th>count</th>\n",
       "      <th>mean</th>\n",
       "      <th>std</th>\n",
       "      <th>min</th>\n",
       "      <th>25%</th>\n",
       "      <th>50%</th>\n",
       "      <th>75%</th>\n",
       "      <th>max</th>\n",
       "    </tr>\n",
       "  </thead>\n",
       "  <tbody>\n",
       "    <tr>\n",
       "      <th>RATING</th>\n",
       "      <td>8179.0</td>\n",
       "      <td>6.921176</td>\n",
       "      <td>1.220232</td>\n",
       "      <td>1.1</td>\n",
       "      <td>6.2</td>\n",
       "      <td>7.1</td>\n",
       "      <td>7.8</td>\n",
       "      <td>9.9</td>\n",
       "    </tr>\n",
       "    <tr>\n",
       "      <th>RunTime</th>\n",
       "      <td>7041.0</td>\n",
       "      <td>68.688539</td>\n",
       "      <td>47.258056</td>\n",
       "      <td>1.0</td>\n",
       "      <td>36.0</td>\n",
       "      <td>60.0</td>\n",
       "      <td>95.0</td>\n",
       "      <td>853.0</td>\n",
       "    </tr>\n",
       "  </tbody>\n",
       "</table>\n",
       "</div>"
      ],
      "text/plain": [
       "          count       mean        std  min   25%   50%   75%    max\n",
       "RATING   8179.0   6.921176   1.220232  1.1   6.2   7.1   7.8    9.9\n",
       "RunTime  7041.0  68.688539  47.258056  1.0  36.0  60.0  95.0  853.0"
      ]
     },
     "execution_count": 6,
     "metadata": {},
     "output_type": "execute_result"
    }
   ],
   "source": [
    "df.describe().T"
   ]
  },
  {
   "cell_type": "code",
   "execution_count": 7,
   "id": "f4488689-1c46-4a89-b0fa-a99dcb1bf9d6",
   "metadata": {},
   "outputs": [
    {
     "data": {
      "text/html": [
       "<div>\n",
       "<style scoped>\n",
       "    .dataframe tbody tr th:only-of-type {\n",
       "        vertical-align: middle;\n",
       "    }\n",
       "\n",
       "    .dataframe tbody tr th {\n",
       "        vertical-align: top;\n",
       "    }\n",
       "\n",
       "    .dataframe thead th {\n",
       "        text-align: right;\n",
       "    }\n",
       "</style>\n",
       "<table border=\"1\" class=\"dataframe\">\n",
       "  <thead>\n",
       "    <tr style=\"text-align: right;\">\n",
       "      <th></th>\n",
       "      <th>count</th>\n",
       "      <th>unique</th>\n",
       "      <th>top</th>\n",
       "      <th>freq</th>\n",
       "    </tr>\n",
       "  </thead>\n",
       "  <tbody>\n",
       "    <tr>\n",
       "      <th>MOVIES</th>\n",
       "      <td>9999</td>\n",
       "      <td>6817</td>\n",
       "      <td>Bleach: Burîchi</td>\n",
       "      <td>65</td>\n",
       "    </tr>\n",
       "    <tr>\n",
       "      <th>YEAR</th>\n",
       "      <td>9355</td>\n",
       "      <td>438</td>\n",
       "      <td>(2020– )</td>\n",
       "      <td>892</td>\n",
       "    </tr>\n",
       "    <tr>\n",
       "      <th>GENRE</th>\n",
       "      <td>9919</td>\n",
       "      <td>510</td>\n",
       "      <td>\\r\\nComedy</td>\n",
       "      <td>852</td>\n",
       "    </tr>\n",
       "    <tr>\n",
       "      <th>ONE-LINE</th>\n",
       "      <td>9999</td>\n",
       "      <td>8688</td>\n",
       "      <td>\\r\\nAdd a Plot\\r\\n</td>\n",
       "      <td>1265</td>\n",
       "    </tr>\n",
       "    <tr>\n",
       "      <th>STARS</th>\n",
       "      <td>9999</td>\n",
       "      <td>7877</td>\n",
       "      <td>\\r\\n</td>\n",
       "      <td>456</td>\n",
       "    </tr>\n",
       "    <tr>\n",
       "      <th>VOTES</th>\n",
       "      <td>8179</td>\n",
       "      <td>4129</td>\n",
       "      <td>7</td>\n",
       "      <td>35</td>\n",
       "    </tr>\n",
       "    <tr>\n",
       "      <th>Gross</th>\n",
       "      <td>460</td>\n",
       "      <td>332</td>\n",
       "      <td>$0.01M</td>\n",
       "      <td>22</td>\n",
       "    </tr>\n",
       "  </tbody>\n",
       "</table>\n",
       "</div>"
      ],
      "text/plain": [
       "         count unique                     top  freq\n",
       "MOVIES    9999   6817         Bleach: Burîchi    65\n",
       "YEAR      9355    438                (2020– )   892\n",
       "GENRE     9919    510  \\r\\nComedy               852\n",
       "ONE-LINE  9999   8688      \\r\\nAdd a Plot\\r\\n  1265\n",
       "STARS     9999   7877                    \\r\\n   456\n",
       "VOTES     8179   4129                       7    35\n",
       "Gross      460    332                  $0.01M    22"
      ]
     },
     "execution_count": 7,
     "metadata": {},
     "output_type": "execute_result"
    }
   ],
   "source": [
    "df.describe(include= \"object\").T"
   ]
  },
  {
   "cell_type": "code",
   "execution_count": 8,
   "id": "2e5efb26-fc09-4fc4-a899-4678d138ad0c",
   "metadata": {},
   "outputs": [
    {
     "data": {
      "text/plain": [
       "431"
      ]
     },
     "execution_count": 8,
     "metadata": {},
     "output_type": "execute_result"
    }
   ],
   "source": [
    "df.duplicated().sum()"
   ]
  },
  {
   "cell_type": "code",
   "execution_count": 9,
   "id": "692185ad-78f4-4b1b-a326-11120a3fbde0",
   "metadata": {},
   "outputs": [],
   "source": [
    "df.drop_duplicates(inplace=True)"
   ]
  },
  {
   "cell_type": "code",
   "execution_count": 10,
   "id": "6ef39172-19f9-4390-928b-c7d1799daeb1",
   "metadata": {},
   "outputs": [
    {
     "data": {
      "text/plain": [
       "MOVIES         0\n",
       "YEAR         542\n",
       "GENRE         78\n",
       "RATING      1400\n",
       "ONE-LINE       0\n",
       "STARS          0\n",
       "VOTES       1400\n",
       "RunTime     2560\n",
       "Gross       9108\n",
       "dtype: int64"
      ]
     },
     "execution_count": 10,
     "metadata": {},
     "output_type": "execute_result"
    }
   ],
   "source": [
    "df.isnull().sum()"
   ]
  },
  {
   "cell_type": "code",
   "execution_count": 11,
   "id": "526c672b-1359-4ee0-9b75-f6bbcc52513b",
   "metadata": {},
   "outputs": [
    {
     "data": {
      "image/png": "[encoded data removed]",
      "text/plain": [
       "<Figure size 2500x1000 with 2 Axes>"
      ]
     },
     "metadata": {},
     "output_type": "display_data"
    }
   ],
   "source": [
    "msno.matrix(df);"
   ]
  },
  {
   "cell_type": "code",
   "execution_count": 12,
   "id": "12a1ea17-190d-4515-9802-80f20d2f1274",
   "metadata": {},
   "outputs": [
    {
     "data": {
      "text/html": [
       "<pre style=\"white-space:pre;overflow-x:auto;line-height:normal;font-family:Menlo,'DejaVu Sans Mono',consolas,'Courier New',monospace\">╭──────────────────────────────────────────────── skimpy summary ─────────────────────────────────────────────────╮\n",
       "│ <span style=\"font-style: italic\">         Data Summary         </span> <span style=\"font-style: italic\">      Data Types       </span>                                                          │\n",
       "│ ┏━━━━━━━━━━━━━━━━━━━┳━━━━━━━━┓ ┏━━━━━━━━━━━━━┳━━━━━━━┓                                                          │\n",
       "│ ┃<span style=\"color: #008080; text-decoration-color: #008080; font-weight: bold\"> dataframe         </span>┃<span style=\"color: #008080; text-decoration-color: #008080; font-weight: bold\"> Values </span>┃ ┃<span style=\"color: #008080; text-decoration-color: #008080; font-weight: bold\"> Column Type </span>┃<span style=\"color: #008080; text-decoration-color: #008080; font-weight: bold\"> Count </span>┃                                                          │\n",
       "│ ┡━━━━━━━━━━━━━━━━━━━╇━━━━━━━━┩ ┡━━━━━━━━━━━━━╇━━━━━━━┩                                                          │\n",
       "│ │ Number of rows    │ 9568   │ │ string      │ 7     │                                                          │\n",
       "│ │ Number of columns │ 9      │ │ float64     │ 2     │                                                          │\n",
       "│ └───────────────────┴────────┘ └─────────────┴───────┘                                                          │\n",
       "│ <span style=\"font-style: italic\">                                                    number                                                    </span>  │\n",
       "│ ┏━━━━━━━━━━━━━━━━━━┳━━━━━━━━┳━━━━━━━━━━┳━━━━━━━━━━┳━━━━━━━━━┳━━━━━━━┳━━━━━━━┳━━━━━━━┳━━━━━━┳━━━━━━━┳━━━━━━━━━┓  │\n",
       "│ ┃<span style=\"font-weight: bold\"> column_name      </span>┃<span style=\"font-weight: bold\"> NA     </span>┃<span style=\"font-weight: bold\"> NA %     </span>┃<span style=\"font-weight: bold\"> mean     </span>┃<span style=\"font-weight: bold\"> sd      </span>┃<span style=\"font-weight: bold\"> p0    </span>┃<span style=\"font-weight: bold\"> p25   </span>┃<span style=\"font-weight: bold\"> p50   </span>┃<span style=\"font-weight: bold\"> p75  </span>┃<span style=\"font-weight: bold\"> p100  </span>┃<span style=\"font-weight: bold\"> hist    </span>┃  │\n",
       "│ ┡━━━━━━━━━━━━━━━━━━╇━━━━━━━━╇━━━━━━━━━━╇━━━━━━━━━━╇━━━━━━━━━╇━━━━━━━╇━━━━━━━╇━━━━━━━╇━━━━━━╇━━━━━━━╇━━━━━━━━━┩  │\n",
       "│ │ <span style=\"color: #af87ff; text-decoration-color: #af87ff\">RATING          </span> │ <span style=\"color: #008080; text-decoration-color: #008080\">  1400</span> │ <span style=\"color: #008080; text-decoration-color: #008080\">   14.63</span> │ <span style=\"color: #008080; text-decoration-color: #008080\">    6.92</span> │ <span style=\"color: #008080; text-decoration-color: #008080\">   1.22</span> │ <span style=\"color: #008080; text-decoration-color: #008080\">  1.1</span> │ <span style=\"color: #008080; text-decoration-color: #008080\">  6.2</span> │ <span style=\"color: #008080; text-decoration-color: #008080\">  7.1</span> │ <span style=\"color: #008080; text-decoration-color: #008080\"> 7.8</span> │ <span style=\"color: #008080; text-decoration-color: #008080\">  9.9</span> │ <span style=\"color: #008000; text-decoration-color: #008000\">  ▂▆▇▁ </span> │  │\n",
       "│ │ <span style=\"color: #af87ff; text-decoration-color: #af87ff\">RunTime         </span> │ <span style=\"color: #008080; text-decoration-color: #008080\">  2560</span> │ <span style=\"color: #008080; text-decoration-color: #008080\">   26.76</span> │ <span style=\"color: #008080; text-decoration-color: #008080\">   68.87</span> │ <span style=\"color: #008080; text-decoration-color: #008080\">  47.28</span> │ <span style=\"color: #008080; text-decoration-color: #008080\">    1</span> │ <span style=\"color: #008080; text-decoration-color: #008080\">   37</span> │ <span style=\"color: #008080; text-decoration-color: #008080\">   60</span> │ <span style=\"color: #008080; text-decoration-color: #008080\">  95</span> │ <span style=\"color: #008080; text-decoration-color: #008080\">  853</span> │ <span style=\"color: #008000; text-decoration-color: #008000\">   ▇   </span> │  │\n",
       "│ └──────────────────┴────────┴──────────┴──────────┴─────────┴───────┴───────┴───────┴──────┴───────┴─────────┘  │\n",
       "│ <span style=\"font-style: italic\">                                                    string                                                    </span>  │\n",
       "│ ┏━━━━━━━━━━━━━━━━━━━━━━━━━━┳━━━━━━━━━━━━┳━━━━━━━━━━━━━━┳━━━━━━━━━━━━━━━━━━━━━━━━━━━━┳━━━━━━━━━━━━━━━━━━━━━━━━┓  │\n",
       "│ ┃<span style=\"font-weight: bold\"> column_name              </span>┃<span style=\"font-weight: bold\"> NA         </span>┃<span style=\"font-weight: bold\"> NA %         </span>┃<span style=\"font-weight: bold\"> words per row              </span>┃<span style=\"font-weight: bold\"> total words            </span>┃  │\n",
       "│ ┡━━━━━━━━━━━━━━━━━━━━━━━━━━╇━━━━━━━━━━━━╇━━━━━━━━━━━━━━╇━━━━━━━━━━━━━━━━━━━━━━━━━━━━╇━━━━━━━━━━━━━━━━━━━━━━━━┩  │\n",
       "│ │ <span style=\"color: #af87ff; text-decoration-color: #af87ff\">MOVIES                  </span> │ <span style=\"color: #008080; text-decoration-color: #008080\">         0</span> │ <span style=\"color: #008080; text-decoration-color: #008080\">           0</span> │ <span style=\"color: #008080; text-decoration-color: #008080\">                       3.3</span> │ <span style=\"color: #008080; text-decoration-color: #008080\">                 31493</span> │  │\n",
       "│ │ <span style=\"color: #af87ff; text-decoration-color: #af87ff\">YEAR                    </span> │ <span style=\"color: #008080; text-decoration-color: #008080\">       542</span> │ <span style=\"color: #008080; text-decoration-color: #008080\">        5.66</span> │ <span style=\"color: #008080; text-decoration-color: #008080\">                       1.4</span> │ <span style=\"color: #008080; text-decoration-color: #008080\">                 13450</span> │  │\n",
       "│ │ <span style=\"color: #af87ff; text-decoration-color: #af87ff\">GENRE                   </span> │ <span style=\"color: #008080; text-decoration-color: #008080\">        78</span> │ <span style=\"color: #008080; text-decoration-color: #008080\">        0.82</span> │ <span style=\"color: #008080; text-decoration-color: #008080\">                        14</span> │ <span style=\"color: #008080; text-decoration-color: #008080\">                135144</span> │  │\n",
       "│ │ <span style=\"color: #af87ff; text-decoration-color: #af87ff\">ONE-LINE                </span> │ <span style=\"color: #008080; text-decoration-color: #008080\">         0</span> │ <span style=\"color: #008080; text-decoration-color: #008080\">           0</span> │ <span style=\"color: #008080; text-decoration-color: #008080\">                        25</span> │ <span style=\"color: #008080; text-decoration-color: #008080\">                242532</span> │  │\n",
       "│ │ <span style=\"color: #af87ff; text-decoration-color: #af87ff\">STARS                   </span> │ <span style=\"color: #008080; text-decoration-color: #008080\">         0</span> │ <span style=\"color: #008080; text-decoration-color: #008080\">           0</span> │ <span style=\"color: #008080; text-decoration-color: #008080\">                        19</span> │ <span style=\"color: #008080; text-decoration-color: #008080\">                182105</span> │  │\n",
       "│ │ <span style=\"color: #af87ff; text-decoration-color: #af87ff\">VOTES                   </span> │ <span style=\"color: #008080; text-decoration-color: #008080\">      1400</span> │ <span style=\"color: #008080; text-decoration-color: #008080\">       14.63</span> │ <span style=\"color: #008080; text-decoration-color: #008080\">                      0.85</span> │ <span style=\"color: #008080; text-decoration-color: #008080\">                  8168</span> │  │\n",
       "│ │ <span style=\"color: #af87ff; text-decoration-color: #af87ff\">Gross                   </span> │ <span style=\"color: #008080; text-decoration-color: #008080\">      9108</span> │ <span style=\"color: #008080; text-decoration-color: #008080\">       95.19</span> │ <span style=\"color: #008080; text-decoration-color: #008080\">                     0.048</span> │ <span style=\"color: #008080; text-decoration-color: #008080\">                   460</span> │  │\n",
       "│ └──────────────────────────┴────────────┴──────────────┴────────────────────────────┴────────────────────────┘  │\n",
       "╰────────────────────────────────────────────────────── End ──────────────────────────────────────────────────────╯\n",
       "</pre>\n"
      ],
      "text/plain": [
       "╭──────────────────────────────────────────────── skimpy summary ─────────────────────────────────────────────────╮\n",
       "│ \u001b[3m         Data Summary         \u001b[0m \u001b[3m      Data Types       \u001b[0m                                                          │\n",
       "│ ┏━━━━━━━━━━━━━━━━━━━┳━━━━━━━━┓ ┏━━━━━━━━━━━━━┳━━━━━━━┓                                                          │\n",
       "│ ┃\u001b[1;36m \u001b[0m\u001b[1;36mdataframe        \u001b[0m\u001b[1;36m \u001b[0m┃\u001b[1;36m \u001b[0m\u001b[1;36mValues\u001b[0m\u001b[1;36m \u001b[0m┃ ┃\u001b[1;36m \u001b[0m\u001b[1;36mColumn Type\u001b[0m\u001b[1;36m \u001b[0m┃\u001b[1;36m \u001b[0m\u001b[1;36mCount\u001b[0m\u001b[1;36m \u001b[0m┃                                                          │\n",
       "│ ┡━━━━━━━━━━━━━━━━━━━╇━━━━━━━━┩ ┡━━━━━━━━━━━━━╇━━━━━━━┩                                                          │\n",
       "│ │ Number of rows    │ 9568   │ │ string      │ 7     │                                                          │\n",
       "│ │ Number of columns │ 9      │ │ float64     │ 2     │                                                          │\n",
       "│ └───────────────────┴────────┘ └─────────────┴───────┘                                                          │\n",
       "│ \u001b[3m                                                    number                                                    \u001b[0m  │\n",
       "│ ┏━━━━━━━━━━━━━━━━━━┳━━━━━━━━┳━━━━━━━━━━┳━━━━━━━━━━┳━━━━━━━━━┳━━━━━━━┳━━━━━━━┳━━━━━━━┳━━━━━━┳━━━━━━━┳━━━━━━━━━┓  │\n",
       "│ ┃\u001b[1m \u001b[0m\u001b[1mcolumn_name     \u001b[0m\u001b[1m \u001b[0m┃\u001b[1m \u001b[0m\u001b[1mNA    \u001b[0m\u001b[1m \u001b[0m┃\u001b[1m \u001b[0m\u001b[1mNA %    \u001b[0m\u001b[1m \u001b[0m┃\u001b[1m \u001b[0m\u001b[1mmean    \u001b[0m\u001b[1m \u001b[0m┃\u001b[1m \u001b[0m\u001b[1msd     \u001b[0m\u001b[1m \u001b[0m┃\u001b[1m \u001b[0m\u001b[1mp0   \u001b[0m\u001b[1m \u001b[0m┃\u001b[1m \u001b[0m\u001b[1mp25  \u001b[0m\u001b[1m \u001b[0m┃\u001b[1m \u001b[0m\u001b[1mp50  \u001b[0m\u001b[1m \u001b[0m┃\u001b[1m \u001b[0m\u001b[1mp75 \u001b[0m\u001b[1m \u001b[0m┃\u001b[1m \u001b[0m\u001b[1mp100 \u001b[0m\u001b[1m \u001b[0m┃\u001b[1m \u001b[0m\u001b[1mhist   \u001b[0m\u001b[1m \u001b[0m┃  │\n",
       "│ ┡━━━━━━━━━━━━━━━━━━╇━━━━━━━━╇━━━━━━━━━━╇━━━━━━━━━━╇━━━━━━━━━╇━━━━━━━╇━━━━━━━╇━━━━━━━╇━━━━━━╇━━━━━━━╇━━━━━━━━━┩  │\n",
       "│ │ \u001b[38;5;141mRATING          \u001b[0m │ \u001b[36m  1400\u001b[0m │ \u001b[36m   14.63\u001b[0m │ \u001b[36m    6.92\u001b[0m │ \u001b[36m   1.22\u001b[0m │ \u001b[36m  1.1\u001b[0m │ \u001b[36m  6.2\u001b[0m │ \u001b[36m  7.1\u001b[0m │ \u001b[36m 7.8\u001b[0m │ \u001b[36m  9.9\u001b[0m │ \u001b[32m  ▂▆▇▁ \u001b[0m │  │\n",
       "│ │ \u001b[38;5;141mRunTime         \u001b[0m │ \u001b[36m  2560\u001b[0m │ \u001b[36m   26.76\u001b[0m │ \u001b[36m   68.87\u001b[0m │ \u001b[36m  47.28\u001b[0m │ \u001b[36m    1\u001b[0m │ \u001b[36m   37\u001b[0m │ \u001b[36m   60\u001b[0m │ \u001b[36m  95\u001b[0m │ \u001b[36m  853\u001b[0m │ \u001b[32m   ▇   \u001b[0m │  │\n",
       "│ └──────────────────┴────────┴──────────┴──────────┴─────────┴───────┴───────┴───────┴──────┴───────┴─────────┘  │\n",
       "│ \u001b[3m                                                    string                                                    \u001b[0m  │\n",
       "│ ┏━━━━━━━━━━━━━━━━━━━━━━━━━━┳━━━━━━━━━━━━┳━━━━━━━━━━━━━━┳━━━━━━━━━━━━━━━━━━━━━━━━━━━━┳━━━━━━━━━━━━━━━━━━━━━━━━┓  │\n",
       "│ ┃\u001b[1m \u001b[0m\u001b[1mcolumn_name             \u001b[0m\u001b[1m \u001b[0m┃\u001b[1m \u001b[0m\u001b[1mNA        \u001b[0m\u001b[1m \u001b[0m┃\u001b[1m \u001b[0m\u001b[1mNA %        \u001b[0m\u001b[1m \u001b[0m┃\u001b[1m \u001b[0m\u001b[1mwords per row             \u001b[0m\u001b[1m \u001b[0m┃\u001b[1m \u001b[0m\u001b[1mtotal words           \u001b[0m\u001b[1m \u001b[0m┃  │\n",
       "│ ┡━━━━━━━━━━━━━━━━━━━━━━━━━━╇━━━━━━━━━━━━╇━━━━━━━━━━━━━━╇━━━━━━━━━━━━━━━━━━━━━━━━━━━━╇━━━━━━━━━━━━━━━━━━━━━━━━┩  │\n",
       "│ │ \u001b[38;5;141mMOVIES                  \u001b[0m │ \u001b[36m         0\u001b[0m │ \u001b[36m           0\u001b[0m │ \u001b[36m                       3.3\u001b[0m │ \u001b[36m                 31493\u001b[0m │  │\n",
       "│ │ \u001b[38;5;141mYEAR                    \u001b[0m │ \u001b[36m       542\u001b[0m │ \u001b[36m        5.66\u001b[0m │ \u001b[36m                       1.4\u001b[0m │ \u001b[36m                 13450\u001b[0m │  │\n",
       "│ │ \u001b[38;5;141mGENRE                   \u001b[0m │ \u001b[36m        78\u001b[0m │ \u001b[36m        0.82\u001b[0m │ \u001b[36m                        14\u001b[0m │ \u001b[36m                135144\u001b[0m │  │\n",
       "│ │ \u001b[38;5;141mONE-LINE                \u001b[0m │ \u001b[36m         0\u001b[0m │ \u001b[36m           0\u001b[0m │ \u001b[36m                        25\u001b[0m │ \u001b[36m                242532\u001b[0m │  │\n",
       "│ │ \u001b[38;5;141mSTARS                   \u001b[0m │ \u001b[36m         0\u001b[0m │ \u001b[36m           0\u001b[0m │ \u001b[36m                        19\u001b[0m │ \u001b[36m                182105\u001b[0m │  │\n",
       "│ │ \u001b[38;5;141mVOTES                   \u001b[0m │ \u001b[36m      1400\u001b[0m │ \u001b[36m       14.63\u001b[0m │ \u001b[36m                      0.85\u001b[0m │ \u001b[36m                  8168\u001b[0m │  │\n",
       "│ │ \u001b[38;5;141mGross                   \u001b[0m │ \u001b[36m      9108\u001b[0m │ \u001b[36m       95.19\u001b[0m │ \u001b[36m                     0.048\u001b[0m │ \u001b[36m                   460\u001b[0m │  │\n",
       "│ └──────────────────────────┴────────────┴──────────────┴────────────────────────────┴────────────────────────┘  │\n",
       "╰────────────────────────────────────────────────────── End ──────────────────────────────────────────────────────╯\n"
      ]
     },
     "metadata": {},
     "output_type": "display_data"
    }
   ],
   "source": [
    "skim(df)"
   ]
  },
  {
   "cell_type": "markdown",
   "id": "b49a6e59-a6da-4889-a47a-f2e83d3b16e1",
   "metadata": {},
   "source": [
    "<a id='organizing-columns'></a>\n",
    "# <font color='firebrick'> <b>Organizing Columns</b><font color='black'> "
   ]
  },
  {
   "cell_type": "code",
   "execution_count": 13,
   "id": "1f8b0ed9-94c0-471e-b021-55a3c0694fe1",
   "metadata": {},
   "outputs": [
    {
     "data": {
      "text/plain": [
       "Index(['MOVIES', 'YEAR', 'GENRE', 'RATING', 'ONE-LINE', 'STARS', 'VOTES',\n",
       "       'RunTime', 'Gross'],\n",
       "      dtype='object')"
      ]
     },
     "execution_count": 13,
     "metadata": {},
     "output_type": "execute_result"
    }
   ],
   "source": [
    "df.columns"
   ]
  },
  {
   "cell_type": "code",
   "execution_count": 14,
   "id": "781116d8-d252-4630-a6dc-fa6eb4907244",
   "metadata": {},
   "outputs": [
    {
     "data": {
      "text/plain": [
       "Index(['movies', 'year', 'genre', 'rating', 'one_line', 'stars', 'votes',\n",
       "       'runtime', 'gross'],\n",
       "      dtype='object')"
      ]
     },
     "execution_count": 14,
     "metadata": {},
     "output_type": "execute_result"
    }
   ],
   "source": [
    "df.columns = df.columns.str.lower().str.replace('-', '_')\n",
    "df.columns"
   ]
  },
  {
   "cell_type": "code",
   "execution_count": 15,
   "id": "e68ec373-de47-4f86-90af-dea50528da75",
   "metadata": {},
   "outputs": [],
   "source": [
    "# for this project one_line column won't be used because of that let's drop the one_line column.\n",
    "df.drop(columns=['one_line'], inplace= True)"
   ]
  },
  {
   "cell_type": "code",
   "execution_count": 16,
   "id": "a37d7e19-d591-4a5a-9657-1999a19bbfe3",
   "metadata": {},
   "outputs": [
    {
     "name": "stdout",
     "output_type": "stream",
     "text": [
      "<class 'pandas.core.frame.DataFrame'>\n",
      "Index: 9568 entries, 0 to 9998\n",
      "Data columns (total 8 columns):\n",
      " #   Column   Non-Null Count  Dtype  \n",
      "---  ------   --------------  -----  \n",
      " 0   movies   9568 non-null   object \n",
      " 1   year     9026 non-null   object \n",
      " 2   genre    9490 non-null   object \n",
      " 3   rating   8168 non-null   float64\n",
      " 4   stars    9568 non-null   object \n",
      " 5   votes    8168 non-null   object \n",
      " 6   runtime  7008 non-null   float64\n",
      " 7   gross    460 non-null    object \n",
      "dtypes: float64(2), object(6)\n",
      "memory usage: 672.8+ KB\n"
     ]
    }
   ],
   "source": [
    "df.info()"
   ]
  },
  {
   "cell_type": "markdown",
   "id": "a46b9658-5f14-4f11-9d93-94fb639eaf0c",
   "metadata": {},
   "source": [
    "## <font color='indianred'> <b>movies Column</b><font color='black'> "
   ]
  },
  {
   "cell_type": "code",
   "execution_count": 17,
   "id": "b3986aeb-4e16-4e85-88f7-dee1d75afd03",
   "metadata": {},
   "outputs": [],
   "source": [
    "df[\"movies\"] = df[\"movies\"].str.strip()"
   ]
  },
  {
   "cell_type": "markdown",
   "id": "92a9a533-bb3a-4934-bd36-406f2a9e153e",
   "metadata": {},
   "source": [
    "## <font color='indianred'> <b>year Column</b><font color='black'> "
   ]
  },
  {
   "cell_type": "code",
   "execution_count": 18,
   "id": "18bc7e6f-6787-4599-bfe6-059416758c8f",
   "metadata": {},
   "outputs": [],
   "source": [
    "df[\"year\"] = df[\"year\"].str.strip()"
   ]
  },
  {
   "cell_type": "code",
   "execution_count": 19,
   "id": "2b0bdf39-7ee6-4e0a-b1f4-e3a489869be9",
   "metadata": {},
   "outputs": [
    {
     "data": {
      "text/plain": [
       "array(['(2021)', '(2021– )', '(2010–2022)', '(2013– )', '(2020– )',\n",
       "       '(2006–2013)', '(2019– )', '(2016–2021)', '(2011– )', '(2005– )',\n",
       "       '(2008–2013)', '(2017– )', '(2017–2021)', '(2016– )',\n",
       "       '(1994–2004)', '(2014– )', '(2013–2020)', '(2015– )',\n",
       "       '(2005–2020)', '(2013–2022)', '(2003– )', '(2009–2020)',\n",
       "       '(I) (2018– )', '(2010–2015)', '(2011–2019)', '(2015–2020)',\n",
       "       '(2005–2014)', '(2009–2015)', '(2008–2014)', '(2016–2018)',\n",
       "       '(2009–2017)', '(2020)', '(2018–2021)', '(2017–2020)',\n",
       "       '(1987–1994)', '(2018– )', '(2012– )', '(2014–2020)',\n",
       "       '(2011–2018)', '(2005–2017)', '(2017)', '(2007–2015)',\n",
       "       '(2000–2007)', '(II) (2007– )', '(1993)', '(1999–2022)',\n",
       "       '(2015–2018)', '(2014–2019)', '(2016)', '(2012–2020)',\n",
       "       '(2013–2019)', '(2007–2012)', '(2011–2020)', '(2010–2017)',\n",
       "       '(2000–2015)', '(2015–2021)', '(2001)', '(1997– )', '(2011–2017)',\n",
       "       '(1993–1999)', '(1989–1998)', '(2010–2013)', '(2010–2020)',\n",
       "       '(2003–2019)', '(I) (2019)', '(2017–2019)', '(1975)',\n",
       "       '(2005–2008)', '(1995–2001)', '(2006)', '(2015–2017)',\n",
       "       '(2008–2020)', '(1984–1996)', '(2010– )', '(2014)', '(2000)',\n",
       "       '(2013–2018)', '(2009–2016)', '(2016–2020)', '(2021 TV Special)',\n",
       "       '(2003)', '(1998–2003)', '(I) (2017)', '(1966–1969)', '(2009– )',\n",
       "       '(2019)', '(1990–1991)', '(2012)', '(1995)', '(2020–2021)',\n",
       "       '(2013–2017)', '(2015)', '(2019–2020)', '(2017–2018)',\n",
       "       '(2013–2015)', '(2012–2017)', '(I) (2013–2016)', '(2002)',\n",
       "       '(I) (2020)', '(III) (2021)', '(2018)', '(II) (2016)', '(1976)',\n",
       "       '(1978)', '(2016–2019)', '(2009–2014)', '(2022)', '(2011–2014)',\n",
       "       '(2007–2013)', '(2006–2007)', '(2002–2007)', '(2014–2017)',\n",
       "       '(2010–2019)', '(2008– )', '(2012–2019)', '(2014–2016)',\n",
       "       '(2009–2012)', '(2018–2020)', '(2001–2005)', '(2011–2015)',\n",
       "       '(2014–2018)', '(2015–2019)', '(1982–1993)', '(1998– )', '(1968)',\n",
       "       '(2010–2018)', '(2014–2021)', '(2007–2010)', '(2011)',\n",
       "       '(2013–2021)', '(1990–1996)', '(2004)', '(2007–2014)',\n",
       "       '(1996–2001)', '(2013)', '(2008)', '(1999–2000)', '(2012–2014)',\n",
       "       '(I) (2013)', '(2012–2018)', '(2018–2019)', '(2009–2013)',\n",
       "       '(1971)', '(2004– )', '(1989)', '(1998)', '(2001–2018)',\n",
       "       '(1987–1995)', '(I) (2014)', '(1998–2020)', '(I) (2015)', '(1997)',\n",
       "       '(2004–2013)', '(2002– )', '(2010)', '(I) (2016)', '(II) (2017– )',\n",
       "       '(I) (2018)', '(I) (2021)', '(2004–2012)', '(2019–2021)',\n",
       "       '(IV) (2020)', '(2006–2010)', '(2006–2012)', '(1996)',\n",
       "       '(1994–2000)', '(II) (2020)', '(1980)', '(I) (2011)',\n",
       "       '(1995–1996)', '(2016–2017)', '(1993–1996)', '(II) (2019– )',\n",
       "       '(2009)', '(1962)', '(1991)', '(2022– )', '(II) (2017)',\n",
       "       '(I) (2012)', '(1984)', '(2011–2016)', '(2009–2019)',\n",
       "       '(II) (2020– )', '(2006–2021)', '(I) (2010)', '(2012–2015)',\n",
       "       '(I) (2013–2014)', '(1960)', '(1988)', '(2007)', '(1987)',\n",
       "       '(2010–2011)', '(1969)', '(2006–2011)', '(II) (2019)', '(1961)',\n",
       "       '(1979)', '(II) (2022)', '(2014–2015)', '(1956)', '(2013–2016)',\n",
       "       '(III) (2018)', '(2005)', '(II) (2012– )', '(II) (2013)', '(1983)',\n",
       "       '(2002–2019)', '(2013 TV Movie)', '(II) (2015)', '(I) (2012–2015)',\n",
       "       '(1975–1979)', '(1990)', nan, '(II) (2018)', '(IV) (2021)',\n",
       "       '(2015–2016)', '(1995–1998)', '(1986)', '(2012–2013)', '(1966)',\n",
       "       '(2011–2012)', '(2011–2021)', '(2016 Video)', '(2017 TV Movie)',\n",
       "       '(2009–2011)', '(2004–2018)', '(1967)', '(1984– )', '(1994)',\n",
       "       '(2003–2006)', '(III) (2015)', '(1974)', '(2000–2004)',\n",
       "       '(1984–2021)', '(I)', '(II) (2021)', '(1994–1999)', '(III)',\n",
       "       '(1992)', '(1969–1974)', '(2012–2016)', '(2013–2014)',\n",
       "       '(I) (2008)', '(1958)', '(2008–2009)', '(II) (2004)',\n",
       "       '(III) (2019)', '(2006–2009)', '(2011–2013)', '(2007–2008)',\n",
       "       '(1988–1999)', '(2010–2012)', '(2010–2014)', '(II) (2012)',\n",
       "       '(1932)', '(2014 TV Movie)', '(1941)', '(2006– )', '(1992–1995)',\n",
       "       '(2016 TV Special)', '(2020 TV Movie)', '(2008–2010)', '(II)',\n",
       "       '(2020 Video)', '(1999– )', '(1950)', '(2020 TV Special)',\n",
       "       '(1992–2014)', '(2002–2005)', '(2013 TV Special)', '(I) (2021– )',\n",
       "       '(1999)', '(2016 TV Movie)', '(XII)', '(VII)', '(2021 TV Movie)',\n",
       "       '(1983– )', '(1996 Video)', '(1993 TV Movie)', '(2018 TV Movie)',\n",
       "       '(2005–2009)', '(2001–2002)', '(2015 TV Movie)', '(I) (2020– )',\n",
       "       '(2011 Video)', '(2008 Video)', '(2012 Video)', '(1946)',\n",
       "       '(II) (2014)', '(2019 Video)', '(1981–1989)', '(IV) (2016)',\n",
       "       '(III) (2016)', '(2019 TV Movie)', '(1952)', '(2007 Video)',\n",
       "       '(2000–2014)', '(1992– )', '(1957)', '(2003–2007)', '(IV)',\n",
       "       '(2008–2017)', '(2008–2019)', '(1998–2000)', '(I) (2004)',\n",
       "       '(2007–2016)', '(2017 TV Special)', '(2009 TV Movie)',\n",
       "       '(2013 Video)', '(2017 Video)', '(1994–1996)', '(IV) (2017)',\n",
       "       '(IV) (2018)', '(2007– )', '(1954)', '(2012 TV Movie)', '(1995– )',\n",
       "       '(1982)', '(1955)', '(2014 TV Short)', '(I) (2022– )',\n",
       "       '(I) (2019–2020)', '(1975 TV Movie)', '(2019 TV Special)',\n",
       "       '(2015 TV Special)', '(2015 TV Short)', '(2018 TV Special)',\n",
       "       '(1948)', '(2014 Video)', '(VI) (2014)', '(2003–2013)',\n",
       "       '(2021 Video)', '(1947)', '(2001– )', '(II) (2021– )',\n",
       "       '(1997–2000)', '(III) (2020)', '(I) (2019– )', '(1993– )',\n",
       "       '(1977)', '(I) (2009)', '(V)', '(2023)', '(I) (2000)',\n",
       "       '(TV Special)', '(II) (2011)', '(TV Movie)', '(1945)',\n",
       "       '(2015 Video)', '(III) (2010)', '(2009 Video)', '(1998–2002)',\n",
       "       '(2008 TV Movie)', '(2019 TV Short)', '(2004 Video)',\n",
       "       '(II) (1998)', '(2014 TV Special)', '(1953)', '(1985)', '(VIII)',\n",
       "       '(1973)', '(2012 TV Special)', '(V) (2016)', '(1972)',\n",
       "       '(V) (2018)', '(II) (2010)', '(2021 TV Short)', '(VI) (2019)',\n",
       "       '(I) (2005)', '(1965)', '(2010–2016)', '(V) (2010)', '(2005–2013)',\n",
       "       '(2006 TV Special)', '(2006 Video)', '(2011 TV Movie)',\n",
       "       '(1988 TV Movie)', '(XXIII)', '(2011 TV Special)',\n",
       "       '(2020 TV Short)', '(VI) (2018)', '(2008 TV Special)',\n",
       "       '(1998–1999)', '(I) (2015– )', '(III) (2012)', '(VI)',\n",
       "       '(2010 TV Special)', '(III) (2017)', '(1993 TV Special)',\n",
       "       '(2004–2005)', '(1992 Video)', '(1989 TV Special)', '(XI)',\n",
       "       '(III) (2014)', '(1966 TV Special)', '(1999 TV Movie)',\n",
       "       '(1987 TV Special)', '(1944)', '(1998 TV Special)',\n",
       "       '(2006 TV Movie)', '(2022 TV Special)', '(1989 Video)',\n",
       "       '(1991 TV Special)', '(XLI)', '(IV) (2014)', '(2005 Video)',\n",
       "       '(2007 TV Special)', '(1965 TV Special)', '(1990 TV Special)',\n",
       "       '(2001 TV Special)', '(IX)', '(II) (2016– )', '(XIV) (2017)',\n",
       "       '(2009–2010)', '(XIII)', '(II) (2012–2019)', '(1933)',\n",
       "       '(II) (2009)', '(2010 Video)', '(2009 TV Special)', '(1938)',\n",
       "       '(2003 TV Special)', '(Video)', '(2001 TV Movie)', '(VI) (2016)',\n",
       "       '(III) (2011)', '(2007 TV Movie)', '(2017 TV Short)',\n",
       "       '(2018 Video)', '(2000 Video)', '(1995 Video)', '(2003 Video)',\n",
       "       '(II) (2016 TV Movie)', '(1998 Video)', '(2005 TV Special)',\n",
       "       '(2004–2009)', '(2018 Video Game)', '(1988– )', '(1985– )'],\n",
       "      dtype=object)"
      ]
     },
     "execution_count": 19,
     "metadata": {},
     "output_type": "execute_result"
    }
   ],
   "source": [
    "df.year.unique()"
   ]
  },
  {
   "cell_type": "markdown",
   "id": "ee99f8e7-e924-4f28-8e5b-f0ce9d9b00cd",
   "metadata": {},
   "source": [
    "In this column there are some values include (), -, TV Special, TV Movie and roman numerals. Let's remove these things."
   ]
  },
  {
   "cell_type": "code",
   "execution_count": 20,
   "id": "c3222384-26fe-45af-903c-794cf5f1b6f8",
   "metadata": {},
   "outputs": [],
   "source": [
    "df[\"year\"] = df['year'].str.replace(r'[\\(\\)]', '', regex=True)"
   ]
  },
  {
   "cell_type": "code",
   "execution_count": 21,
   "id": "0226068d-6f90-4de5-b31c-db3f8c7f67ac",
   "metadata": {},
   "outputs": [],
   "source": [
    "df[\"year\"] = df['year'].str.replace('\\u2013', '-', regex=False).str.split('-').str[0]"
   ]
  },
  {
   "cell_type": "code",
   "execution_count": 22,
   "id": "7ffec598-8053-4a15-a708-b116c397456c",
   "metadata": {},
   "outputs": [],
   "source": [
    "df['year'] = df['year'].replace(to_replace=r'\\b(I|II|III|IV|V|VI|VII|VIII|IX|X|XI|XII|XIII|XXIII|XLI|XIV)\\b', value='', regex=True)"
   ]
  },
  {
   "cell_type": "code",
   "execution_count": 23,
   "id": "f4f232d5-9cdb-4854-8ea8-5b0ae953c96c",
   "metadata": {},
   "outputs": [],
   "source": [
    "df['year'] = df['year'].replace(to_replace=r'(TV Special|TV Movie|Video|TV Short|Game)', value='', regex=True).str.strip()"
   ]
  },
  {
   "cell_type": "code",
   "execution_count": 24,
   "id": "e5d8eaa1-d3ed-4e71-8242-90e9b1a7becd",
   "metadata": {},
   "outputs": [],
   "source": [
    "df['year'] = df['year'].replace(\"\", np.nan)"
   ]
  },
  {
   "cell_type": "code",
   "execution_count": 25,
   "id": "95d832d7-a234-47fe-bcf3-923114fb972e",
   "metadata": {},
   "outputs": [
    {
     "data": {
      "text/plain": [
       "array(['2021', '2010', '2013', '2020', '2006', '2019', '2016', '2011',\n",
       "       '2005', '2008', '2017', '1994', '2014', '2015', '2003', '2009',\n",
       "       '2018', '1987', '2012', '2007', '2000', '1993', '1999', '2001',\n",
       "       '1997', '1989', '1975', '1995', '1984', '1998', '1966', '1990',\n",
       "       '2002', '1976', '1978', '2022', '1982', '1968', '2004', '1996',\n",
       "       '1971', '1980', '1962', '1991', '1960', '1988', '1969', '1961',\n",
       "       '1979', '1956', '1983', nan, '1986', '1967', '1974', '1992',\n",
       "       '1958', '1932', '1941', '1950', '1946', '1981', '1952', '1957',\n",
       "       '1954', '1955', '1948', '1947', '1977', '2023', '1945', '1953',\n",
       "       '1985', '1973', '1972', '1965', '1944', '1933', '1938'],\n",
       "      dtype=object)"
      ]
     },
     "execution_count": 25,
     "metadata": {},
     "output_type": "execute_result"
    }
   ],
   "source": [
    "df.year.unique()"
   ]
  },
  {
   "cell_type": "markdown",
   "id": "47c4c919-a8cf-42d3-8b2d-190b092de97d",
   "metadata": {},
   "source": [
    "Some rows had values ​​like **2010-2015**. The reason why we separate it with a - sign and take the first value is to treat this column as **release_year**. In this way, a better visualization can be achieved."
   ]
  },
  {
   "cell_type": "code",
   "execution_count": 26,
   "id": "4acf9daf-8d5d-4bb8-a310-c66d86c48b1d",
   "metadata": {},
   "outputs": [],
   "source": [
    "df = df.rename(columns={'year': 'release_year'})"
   ]
  },
  {
   "cell_type": "markdown",
   "id": "ad1ac603-7501-49f5-b7d6-59d94ff4cb2b",
   "metadata": {},
   "source": [
    "## <font color='indianred'> <b>genre Column</b><font color='black'> "
   ]
  },
  {
   "cell_type": "code",
   "execution_count": 27,
   "id": "5885ff62-defe-4ca2-8d96-a2bb637213ea",
   "metadata": {},
   "outputs": [
    {
     "data": {
      "text/plain": [
       "array(['\\r\\nAction, Horror, Thriller            ',\n",
       "       '\\r\\nAnimation, Action, Adventure            ',\n",
       "       '\\r\\nDrama, Horror, Thriller            ',\n",
       "       '\\r\\nAnimation, Adventure, Comedy            ',\n",
       "       '\\r\\nAction, Crime, Horror            ',\n",
       "       '\\r\\nAction, Crime, Drama            ',\n",
       "       '\\r\\nDrama, Romance            ',\n",
       "       '\\r\\nCrime, Drama, Mystery            ', '\\r\\nComedy            ',\n",
       "       '\\r\\nAction, Adventure, Thriller            ',\n",
       "       '\\r\\nCrime, Drama, Fantasy            ',\n",
       "       '\\r\\nDrama, Horror, Mystery            ',\n",
       "       '\\r\\nComedy, Drama, Romance            ',\n",
       "       '\\r\\nCrime, Drama, Thriller            ', '\\r\\nDrama            ',\n",
       "       '\\r\\nComedy, Drama            ',\n",
       "       '\\r\\nDrama, Fantasy, Horror            ',\n",
       "       '\\r\\nComedy, Romance            ',\n",
       "       '\\r\\nAction, Adventure, Drama            ',\n",
       "       '\\r\\nCrime, Drama            ',\n",
       "       '\\r\\nDrama, History, Romance            ',\n",
       "       '\\r\\nHorror, Mystery            ', '\\r\\nComedy, Crime            ',\n",
       "       '\\r\\nAction, Drama, History            ',\n",
       "       '\\r\\nAction, Adventure, Crime            ',\n",
       "       '\\r\\nAction, Adventure, Fantasy            ',\n",
       "       '\\r\\nAction, Crime, Mystery            ',\n",
       "       '\\r\\nDrama, Fantasy, Romance            ',\n",
       "       '\\r\\nDrama, Sci-Fi, Thriller            ',\n",
       "       '\\r\\nBiography, Drama, History            ',\n",
       "       '\\r\\nCrime, Thriller            ',\n",
       "       '\\r\\nComedy, Crime, Drama            ',\n",
       "       '\\r\\nDrama, Mystery, Thriller            ',\n",
       "       '\\r\\nAction, Adventure, Mystery            ',\n",
       "       '\\r\\nAction, Comedy            ',\n",
       "       '\\r\\nCrime, Drama, Horror            ',\n",
       "       '\\r\\nDrama, Mystery, Sci-Fi            ',\n",
       "       '\\r\\nAction, Comedy, Crime            ',\n",
       "       '\\r\\nDrama, Family            ',\n",
       "       '\\r\\nAction, Adventure, Sci-Fi            ',\n",
       "       '\\r\\nAnimation, Comedy            ',\n",
       "       '\\r\\nAction, Comedy, Drama            ',\n",
       "       '\\r\\nCrime, Horror, Thriller            ',\n",
       "       '\\r\\nAction, Adventure, Comedy            ',\n",
       "       '\\r\\nAnimation, Comedy, Drama            ',\n",
       "       '\\r\\nAdventure, Fantasy, Romance            ',\n",
       "       '\\r\\nAction, Drama, Fantasy            ',\n",
       "       '\\r\\nAction, Adventure, Biography            ',\n",
       "       '\\r\\nComedy, Drama, Fantasy            ',\n",
       "       '\\r\\nAction, Adventure, Horror            ',\n",
       "       '\\r\\nCrime, Drama, Romance            ',\n",
       "       '\\r\\nAdventure, Thriller            ',\n",
       "       '\\r\\nBiography, Crime, Drama            ',\n",
       "       '\\r\\nDocumentary, Crime, Mystery            ',\n",
       "       '\\r\\nAction, Drama, Horror            ',\n",
       "       '\\r\\nAction, Adventure            ',\n",
       "       '\\r\\nAnimation, Action, Fantasy            ',\n",
       "       '\\r\\nComedy, Drama, Music            ',\n",
       "       '\\r\\nAction, Crime, Sport            ',\n",
       "       '\\r\\nAction, Drama            ', '\\r\\nHorror            ',\n",
       "       '\\r\\nDrama, Mystery, Romance            ',\n",
       "       '\\r\\nAnimation, Action, Comedy            ',\n",
       "       '\\r\\nAnimation, Short, Comedy            ',\n",
       "       '\\r\\nThriller            ', '\\r\\nAdventure, Fantasy            ',\n",
       "       '\\r\\nAction, Drama, Sci-Fi            ',\n",
       "       '\\r\\nGame-Show, Reality-TV, Romance            ',\n",
       "       '\\r\\nComedy, Crime, Thriller            ',\n",
       "       '\\r\\nDrama, Sci-Fi            ',\n",
       "       '\\r\\nMusical, Romance            ', '\\r\\nDocumentary            ',\n",
       "       '\\r\\nAction, Drama, Mystery            ',\n",
       "       '\\r\\nAction, Thriller            ',\n",
       "       '\\r\\nAnimation, Crime, Drama            ',\n",
       "       '\\r\\nAdventure, Drama            ',\n",
       "       '\\r\\nMystery, Thriller            ',\n",
       "       '\\r\\nReality-TV, Romance            ',\n",
       "       '\\r\\nAnimation, Adventure, Family            ',\n",
       "       '\\r\\nAnimation, Action, Horror            ',\n",
       "       '\\r\\nDrama, Fantasy            ',\n",
       "       '\\r\\nDrama, Thriller            ', '\\r\\nReality-TV            ',\n",
       "       '\\r\\nDocumentary, Biography, History            ',\n",
       "       '\\r\\nAdventure, Sci-Fi            ',\n",
       "       '\\r\\nAnimation, Drama, Romance            ',\n",
       "       '\\r\\nAdventure, Comedy, Crime            ',\n",
       "       '\\r\\nComedy, Fantasy, Romance            ',\n",
       "       '\\r\\nAdventure, Drama, Family            ',\n",
       "       '\\r\\nAction, Crime, Thriller            ',\n",
       "       '\\r\\nBiography, Drama, Sport            ',\n",
       "       '\\r\\nComedy, Family, Sci-Fi            ',\n",
       "       '\\r\\nAnimation, Comedy, Romance            ',\n",
       "       '\\r\\nAnimation, Drama, Fantasy            ',\n",
       "       '\\r\\nDrama, Fantasy, Sci-Fi            ',\n",
       "       '\\r\\nAdventure, Horror, Thriller            ',\n",
       "       '\\r\\nAction, Comedy, War            ',\n",
       "       '\\r\\nFamily, Fantasy, Musical            ',\n",
       "       '\\r\\nHorror, Sci-Fi            ', '\\r\\nComedy, Horror            ',\n",
       "       '\\r\\nAdventure, Drama, Horror            ',\n",
       "       '\\r\\nDrama, Western            ',\n",
       "       '\\r\\nDrama, History, Thriller            ',\n",
       "       '\\r\\nComedy, Drama, Western            ',\n",
       "       '\\r\\nDrama, Music, Romance            ',\n",
       "       '\\r\\nHorror, Sci-Fi, Thriller            ',\n",
       "       '\\r\\nBiography, Drama            ',\n",
       "       '\\r\\nDrama, Romance, Western            ',\n",
       "       '\\r\\nComedy, Crime, Romance            ',\n",
       "       '\\r\\nComedy, Drama, Family            ',\n",
       "       '\\r\\nDrama, Fantasy, Mystery            ',\n",
       "       '\\r\\nAction, Sci-Fi, Thriller            ',\n",
       "       '\\r\\nComedy, Drama, Sport            ',\n",
       "       '\\r\\nCrime, Drama, History            ',\n",
       "       '\\r\\nDrama, Family, Romance            ',\n",
       "       '\\r\\nAdventure, Comedy, Drama            ',\n",
       "       '\\r\\nGame-Show, Reality-TV            ',\n",
       "       '\\r\\nDocumentary, Crime, History            ',\n",
       "       '\\r\\nCrime, Mystery, Thriller            ',\n",
       "       '\\r\\nComedy, Drama, Musical            ',\n",
       "       '\\r\\nAdventure, Drama, History            ',\n",
       "       '\\r\\nAdventure, Comedy, Reality-TV            ',\n",
       "       '\\r\\nFamily, Fantasy, Mystery            ',\n",
       "       '\\r\\nBiography, Comedy            ',\n",
       "       '\\r\\nComedy, Music            ',\n",
       "       '\\r\\nAdventure, Comedy, Romance            ',\n",
       "       '\\r\\nComedy, Drama, Sci-Fi            ',\n",
       "       '\\r\\nDrama, Horror, Music            ',\n",
       "       '\\r\\nBiography, Comedy, Drama            ',\n",
       "       '\\r\\nAction, Biography, Drama            ',\n",
       "       '\\r\\nAdventure, Drama, Mystery            ',\n",
       "       '\\r\\nComedy, Musical            ',\n",
       "       '\\r\\nAnimation, Adventure, Drama            ',\n",
       "       '\\r\\nComedy, Family            ',\n",
       "       '\\r\\nAction, Horror, Sci-Fi            ',\n",
       "       '\\r\\nDrama, Horror            ',\n",
       "       '\\r\\nAction, Fantasy, Thriller            ',\n",
       "       '\\r\\nDrama, Family, Fantasy            ',\n",
       "       '\\r\\nAction, Crime, Fantasy            ',\n",
       "       '\\r\\nAnimation, Action, Drama            ',\n",
       "       '\\r\\nAction, Fantasy, Mystery            ',\n",
       "       '\\r\\nAction, Comedy, Horror            ',\n",
       "       '\\r\\nHorror, Mystery, Thriller            ',\n",
       "       '\\r\\nAdventure, Drama, Fantasy            ',\n",
       "       '\\r\\nAction, Comedy, Family            ',\n",
       "       '\\r\\nDrama, History            ',\n",
       "       '\\r\\nAction, Drama, Thriller            ',\n",
       "       '\\r\\nAction, Mystery, Thriller            ',\n",
       "       '\\r\\nShort, Family            ',\n",
       "       '\\r\\nAdventure, Comedy, Fantasy            ',\n",
       "       '\\r\\nComedy, Reality-TV            ',\n",
       "       '\\r\\nHorror, Thriller            ',\n",
       "       '\\r\\nComedy, Drama, Thriller            ',\n",
       "       '\\r\\nAction, Adventure, Family            ',\n",
       "       '\\r\\nCrime, Mystery, Sci-Fi            ',\n",
       "       '\\r\\nAction, Comedy, Romance            ',\n",
       "       '\\r\\nAdventure, Biography, Drama            ',\n",
       "       '\\r\\nComedy, Sci-Fi            ',\n",
       "       '\\r\\nDrama, Romance, War            ',\n",
       "       '\\r\\nAnimation, Family, Fantasy            ',\n",
       "       '\\r\\nAdventure, Fantasy, Sci-Fi            ',\n",
       "       '\\r\\nCrime, Horror, Mystery            ',\n",
       "       '\\r\\nDrama, Family, Sport            ',\n",
       "       '\\r\\nAnimation, Action, Crime            ',\n",
       "       '\\r\\nAnimation, Drama, Family            ',\n",
       "       '\\r\\nDrama, Horror, Sci-Fi            ',\n",
       "       '\\r\\nBiography, Drama, Romance            ',\n",
       "       '\\r\\nAction, Horror, Mystery            ',\n",
       "       '\\r\\nDrama, Family, Reality-TV            ',\n",
       "       '\\r\\nComedy, Mystery            ',\n",
       "       '\\r\\nAction, Romance, Thriller            ',\n",
       "       '\\r\\nAction, Crime, Sci-Fi            ',\n",
       "       '\\r\\nDrama, Music, Musical            ',\n",
       "       '\\r\\nDocumentary, Sport            ',\n",
       "       '\\r\\nComedy, Sport            ',\n",
       "       '\\r\\nDocumentary, Biography, Drama            ',\n",
       "       '\\r\\nComedy, Family, Romance            ',\n",
       "       '\\r\\nBiography, Drama, Family            ',\n",
       "       '\\r\\nAnimation, Drama, Music            ',\n",
       "       '\\r\\nComedy, Family, Music            ',\n",
       "       '\\r\\nAction, Comedy, Fantasy            ',\n",
       "       '\\r\\nAdventure, Family, Fantasy            ',\n",
       "       '\\r\\nAction, Crime            ',\n",
       "       '\\r\\nAdventure, Drama, War            ', '\\r\\nSci-Fi            ',\n",
       "       '\\r\\nDrama, History, Sport            ',\n",
       "       '\\r\\nDrama, Music            ',\n",
       "       '\\r\\nHorror, Mystery, Sci-Fi            ',\n",
       "       '\\r\\nDrama, Mystery            ', '\\r\\nDrama, War            ',\n",
       "       '\\r\\nDocumentary, Biography, Crime            ',\n",
       "       '\\r\\nDocumentary, Biography, Sport            ',\n",
       "       '\\r\\nDrama, History, War            ',\n",
       "       '\\r\\nAnimation, Adventure, Fantasy            ',\n",
       "       '\\r\\nAction, Western            ',\n",
       "       '\\r\\nAdventure, Comedy, Family            ',\n",
       "       '\\r\\nAction, Fantasy, Sci-Fi            ',\n",
       "       '\\r\\nCrime, Drama, Sci-Fi            ',\n",
       "       '\\r\\nComedy, Thriller            ',\n",
       "       '\\r\\nAnimation, Comedy, Family            ',\n",
       "       '\\r\\nMystery, Sci-Fi, Thriller            ',\n",
       "       '\\r\\nCrime, Sci-Fi, Thriller            ',\n",
       "       '\\r\\nAnimation, Adventure            ',\n",
       "       '\\r\\nDocumentary, Crime            ',\n",
       "       '\\r\\nBiography, Drama, Musical            ',\n",
       "       '\\r\\nAction, Biography, Crime            ',\n",
       "       '\\r\\nBiography, Drama, Music            ',\n",
       "       '\\r\\nDrama, Family, Musical            ',\n",
       "       '\\r\\nCrime, Drama, Music            ',\n",
       "       '\\r\\nDocumentary, Drama            ',\n",
       "       '\\r\\nAnimation, Drama, Mystery            ',\n",
       "       '\\r\\nCrime, Mystery, Romance            ',\n",
       "       '\\r\\nDrama, Romance, Sci-Fi            ',\n",
       "       '\\r\\nFantasy, Mystery, Romance            ',\n",
       "       '\\r\\nDrama, Fantasy, Thriller            ',\n",
       "       '\\r\\nFamily, Fantasy, Horror            ',\n",
       "       '\\r\\nComedy, Horror, Thriller            ',\n",
       "       '\\r\\nAnimation, Biography, Drama            ',\n",
       "       '\\r\\nDrama, Sport            ',\n",
       "       '\\r\\nDrama, Thriller, War            ',\n",
       "       '\\r\\nHorror, Music, Thriller            ',\n",
       "       '\\r\\nComedy, Fantasy, Musical            ',\n",
       "       '\\r\\nDocumentary, Drama, History            ',\n",
       "       '\\r\\nDocumentary, Crime, Sport            ',\n",
       "       '\\r\\nComedy, Drama, War            ',\n",
       "       '\\r\\nAction, Drama, Sport            ',\n",
       "       '\\r\\nComedy, Mystery, Romance            ',\n",
       "       '\\r\\nDocumentary, Crime, Drama            ',\n",
       "       '\\r\\nAction, Mystery, Sci-Fi            ',\n",
       "       '\\r\\nGame-Show            ',\n",
       "       '\\r\\nDocumentary, Adventure            ',\n",
       "       '\\r\\nAction, Fantasy, Horror            ',\n",
       "       '\\r\\nAction, Drama, War            ', '\\r\\nMusic            ',\n",
       "       '\\r\\nCrime, Drama, Western            ',\n",
       "       '\\r\\nAdventure, Drama, Thriller            ',\n",
       "       '\\r\\nSci-Fi, Thriller            ',\n",
       "       '\\r\\nFantasy, Horror, Romance            ',\n",
       "       '\\r\\nDrama, Romance, Thriller            ',\n",
       "       '\\r\\nCrime, Drama, Film-Noir            ',\n",
       "       '\\r\\nCrime, History, Thriller            ',\n",
       "       '\\r\\nDrama, History, Western            ',\n",
       "       '\\r\\nFamily, Fantasy            ',\n",
       "       '\\r\\nFantasy, Horror, Sci-Fi            ',\n",
       "       '\\r\\nComedy, Crime, Mystery            ',\n",
       "       '\\r\\nAdventure, Drama, Sci-Fi            ',\n",
       "       '\\r\\nFantasy, Horror, Mystery            ',\n",
       "       '\\r\\nAction, War            ',\n",
       "       '\\r\\nDocumentary, Adventure, Drama            ',\n",
       "       '\\r\\nComedy, Fantasy, Horror            ',\n",
       "       '\\r\\nAnimation, Action            ',\n",
       "       '\\r\\nShort, Drama, Sci-Fi            ',\n",
       "       '\\r\\nShort, Drama, Romance            ',\n",
       "       '\\r\\nDrama, History, Horror            ',\n",
       "       '\\r\\nDocumentary, Drama, Mystery            ',\n",
       "       '\\r\\nAnimation, Drama, Horror            ',\n",
       "       '\\r\\nShort, Action, Comedy            ',\n",
       "       '\\r\\nComedy, Family, Fantasy            ',\n",
       "       '\\r\\nHorror, Reality-TV            ',\n",
       "       '\\r\\nAdventure, Comedy, Mystery            ',\n",
       "       '\\r\\nDocumentary, Biography, Comedy            ',\n",
       "       '\\r\\nComedy, Fantasy            ',\n",
       "       '\\r\\nAdventure, Romance            ',\n",
       "       '\\r\\nAdventure, Family, Horror            ',\n",
       "       '\\r\\nCrime            ',\n",
       "       '\\r\\nAnimation, Comedy, Sport            ',\n",
       "       '\\r\\nBiography, Crime            ',\n",
       "       '\\r\\nAnimation, Adventure, Horror            ',\n",
       "       '\\r\\nDocumentary, Short, History            ',\n",
       "       '\\r\\nAction, Drama, Western            ',\n",
       "       '\\r\\nRomance, Sci-Fi            ',\n",
       "       '\\r\\nDocumentary, Comedy, History            ',\n",
       "       '\\r\\nAnimation, Short, Adventure            ',\n",
       "       '\\r\\nDocumentary, Crime, Music            ',\n",
       "       '\\r\\nRomance            ',\n",
       "       '\\r\\nAction, Fantasy, Western            ',\n",
       "       '\\r\\nDocumentary, Biography            ',\n",
       "       '\\r\\nAdventure, Drama, Romance            ',\n",
       "       '\\r\\nAction            ',\n",
       "       '\\r\\nAction, Comedy, Thriller            ',\n",
       "       '\\r\\nBiography, Drama, Thriller            ',\n",
       "       '\\r\\nDocumentary, Action, Adventure            ',\n",
       "       '\\r\\nHistory, Sport, Thriller            ',\n",
       "       '\\r\\nCrime, Fantasy, Thriller            ',\n",
       "       '\\r\\nAnimation, Family            ',\n",
       "       '\\r\\nAction, Sci-Fi            ',\n",
       "       '\\r\\nAction, Adventure, War            ',\n",
       "       '\\r\\nFamily, Game-Show            ',\n",
       "       '\\r\\nAnimation, Comedy, Fantasy            ',\n",
       "       '\\r\\nAnimation            ', '\\r\\nDrama, Musical            ',\n",
       "       '\\r\\nBiography, Drama, War            ',\n",
       "       '\\r\\nComedy, Romance, Sci-Fi            ',\n",
       "       '\\r\\nDocumentary, History, War            ',\n",
       "       '\\r\\nDocumentary, History            ',\n",
       "       '\\r\\nDocumentary, Family            ',\n",
       "       '\\r\\nComedy, Crime, Family            ',\n",
       "       '\\r\\nAction, Fantasy            ',\n",
       "       '\\r\\nAction, Comedy, History            ',\n",
       "       '\\r\\nDrama, Fantasy, Sport            ',\n",
       "       '\\r\\nDocumentary, Reality-TV            ',\n",
       "       '\\r\\nCrime, Drama, Family            ',\n",
       "       '\\r\\nDrama, Family, Music            ',\n",
       "       '\\r\\nDocumentary, Comedy            ', '\\r\\nFamily            ',\n",
       "       '\\r\\nShort, Music            ', '\\r\\nFantasy, Horror            ',\n",
       "       '\\r\\nAnimation, Short, Drama            ',\n",
       "       '\\r\\nAnimation, Action, Family            ',\n",
       "       '\\r\\nComedy, Fantasy, Mystery            ',\n",
       "       '\\r\\nAnimation, Short, Action            ',\n",
       "       '\\r\\nAction, Romance, Sci-Fi            ',\n",
       "       '\\r\\nDocumentary, Reality-TV, Romance            ',\n",
       "       '\\r\\nFantasy, Romance            ',\n",
       "       '\\r\\nComedy, Drama, Horror            ', nan,\n",
       "       '\\r\\nFilm-Noir, Thriller            ', '\\r\\nSport            ',\n",
       "       '\\r\\nDocumentary, Short, Sport            ',\n",
       "       '\\r\\nShort, Comedy, Music            ',\n",
       "       '\\r\\nComedy, Family, Musical            ',\n",
       "       '\\r\\nDocumentary, Biography, Music            ',\n",
       "       '\\r\\nDrama, Romance, Sport            ',\n",
       "       '\\r\\nAnimation, Action, Romance            ',\n",
       "       '\\r\\nComedy, Horror, Sci-Fi            ',\n",
       "       '\\r\\nFamily, Sport            ',\n",
       "       '\\r\\nBiography, Thriller            ',\n",
       "       '\\r\\nAnimation, Action, Sci-Fi            ',\n",
       "       '\\r\\nShort, Drama            ',\n",
       "       '\\r\\nComedy, Musical, Romance            ',\n",
       "       '\\r\\nDocumentary, Music            ',\n",
       "       '\\r\\nComedy, Crime, Western            ',\n",
       "       '\\r\\nDocumentary, War            ',\n",
       "       '\\r\\nComedy, Horror, Romance            ',\n",
       "       '\\r\\nAction, Romance            ',\n",
       "       '\\r\\nAction, Mystery, Romance            ',\n",
       "       '\\r\\nShort, Crime, Drama            ',\n",
       "       '\\r\\nComedy, Music, Romance            ',\n",
       "       '\\r\\nAction, Drama, Romance            ',\n",
       "       '\\r\\nComedy, Music, Musical            ',\n",
       "       '\\r\\nComedy, Mystery, Sci-Fi            ',\n",
       "       '\\r\\nShort, Action, Adventure            ',\n",
       "       '\\r\\nDocumentary, Animation, Sci-Fi            ',\n",
       "       '\\r\\nDrama, Family, Sci-Fi            ',\n",
       "       '\\r\\nBiography, Music            ',\n",
       "       '\\r\\nShort, Comedy, Crime            ',\n",
       "       '\\r\\nAdventure            ', '\\r\\nMusic, Romance            ',\n",
       "       '\\r\\nAnimation, Adventure, Sci-Fi            ',\n",
       "       '\\r\\nAnimation, Action, History            ',\n",
       "       '\\r\\nComedy, Horror, Reality-TV            ',\n",
       "       '\\r\\nTalk-Show            ',\n",
       "       '\\r\\nDocumentary, Adventure, Game-Show            ',\n",
       "       '\\r\\nWestern            ', '\\r\\nAction, Thriller, War            ',\n",
       "       '\\r\\nFamily, Sci-Fi, Thriller            ',\n",
       "       '\\r\\nFamily, Romance            ',\n",
       "       '\\r\\nFantasy, Horror, Thriller            ',\n",
       "       '\\r\\nDocumentary, Animation            ',\n",
       "       '\\r\\nComedy, Talk-Show            ',\n",
       "       '\\r\\nShort, Adventure, Comedy            ',\n",
       "       '\\r\\nDocumentary, Short, Sci-Fi            ',\n",
       "       '\\r\\nCrime, Film-Noir, Thriller            ',\n",
       "       '\\r\\nDrama, Family, Mystery            ',\n",
       "       '\\r\\nDrama, History, Music            ',\n",
       "       '\\r\\nComedy, News, Talk-Show            ',\n",
       "       '\\r\\nDrama, Musical, Romance            ',\n",
       "       '\\r\\nComedy, Drama, Mystery            ',\n",
       "       '\\r\\nCrime, Film-Noir, Mystery            ',\n",
       "       '\\r\\nAnimation, Short            ',\n",
       "       '\\r\\nAdventure, Family, Sci-Fi            ',\n",
       "       '\\r\\nGame-Show, Horror, Reality-TV            ',\n",
       "       '\\r\\nComedy, Horror, Mystery            ',\n",
       "       '\\r\\nAction, Comedy, Sci-Fi            ',\n",
       "       '\\r\\nAdventure, Fantasy, Horror            ',\n",
       "       '\\r\\nShort, Horror, Mystery            ',\n",
       "       '\\r\\nAnimation, Comedy, Thriller            ',\n",
       "       '\\r\\nDocumentary, Adventure, History            ',\n",
       "       '\\r\\nAnimation, Sport            ',\n",
       "       '\\r\\nMusic, Reality-TV            ',\n",
       "       '\\r\\nDocumentary, Game-Show            ',\n",
       "       '\\r\\nAdventure, Comedy            ',\n",
       "       '\\r\\nAnimation, Fantasy            ',\n",
       "       '\\r\\nFamily, Adventure, Comedy            ',\n",
       "       '\\r\\nAnimation, Family, Musical            ',\n",
       "       '\\r\\nDrama, Reality-TV            ',\n",
       "       '\\r\\nComedy, Romance, Sport            ',\n",
       "       '\\r\\nDocumentary, Mystery, Reality-TV            ',\n",
       "       '\\r\\nAction, Family            ',\n",
       "       '\\r\\nDocumentary, Horror            ',\n",
       "       '\\r\\nDocumentary, Biography, News            ',\n",
       "       '\\r\\nDocumentary, Short, Drama            ',\n",
       "       '\\r\\nDocumentary, Short            ',\n",
       "       '\\r\\nAction, Horror            ',\n",
       "       '\\r\\nComedy, Horror, Talk-Show            ',\n",
       "       '\\r\\nAdventure, Reality-TV            ',\n",
       "       '\\r\\nFamily, Music, Romance            ',\n",
       "       '\\r\\nHorror, Mystery, Romance            ',\n",
       "       '\\r\\nFantasy, Music            ', '\\r\\nFantasy            ',\n",
       "       '\\r\\nAnimation, Fantasy, Romance            ',\n",
       "       '\\r\\nComedy, Family, Horror            ',\n",
       "       '\\r\\nGame-Show, Music            ',\n",
       "       '\\r\\nDocumentary, Drama, Sport            ',\n",
       "       '\\r\\nDrama, Film-Noir, Mystery            ',\n",
       "       '\\r\\nDocumentary, Short, Crime            ',\n",
       "       '\\r\\nDocumentary, Reality-TV, Talk-Show            ',\n",
       "       '\\r\\nShort, Comedy            ',\n",
       "       '\\r\\nAnimation, Comedy, Sci-Fi            ',\n",
       "       '\\r\\nBiography            ', '\\r\\nRomance, Thriller            ',\n",
       "       '\\r\\nDrama, Horror, Romance            ',\n",
       "       '\\r\\nBiography, History, War            ',\n",
       "       '\\r\\nFamily, Talk-Show            ',\n",
       "       '\\r\\nDocumentary, Comedy, Musical            ',\n",
       "       '\\r\\nDrama, Thriller, Western            ',\n",
       "       '\\r\\nDocumentary, Crime, Thriller            ',\n",
       "       '\\r\\nCrime, Drama, Sport            ',\n",
       "       '\\r\\nDocumentary, Short, War            ',\n",
       "       '\\r\\nDrama, Family, History            ', '\\r\\nWar            ',\n",
       "       '\\r\\nDocumentary, Romance            ',\n",
       "       '\\r\\nMystery, Romance, Thriller            ',\n",
       "       '\\r\\nComedy, Romance, Western            ',\n",
       "       '\\r\\nDocumentary, Talk-Show            ',\n",
       "       '\\r\\nFantasy, Thriller            ',\n",
       "       '\\r\\nAction, Fantasy, History            ',\n",
       "       '\\r\\nDocumentary, Reality-TV, Sport            ',\n",
       "       '\\r\\nShort, Comedy, Talk-Show            ',\n",
       "       '\\r\\nAction, Mystery            ',\n",
       "       '\\r\\nDocumentary, Short, Biography            ',\n",
       "       '\\r\\nDocumentary, Animation, Comedy            ',\n",
       "       '\\r\\nDocumentary, Biography, Family            ',\n",
       "       '\\r\\nAction, Biography, History            ',\n",
       "       '\\r\\nDocumentary, News            ',\n",
       "       '\\r\\nAnimation, Horror            ',\n",
       "       '\\r\\nDocumentary, History, Sport            ',\n",
       "       '\\r\\nDocumentary, Mystery            ',\n",
       "       '\\r\\nAnimation, Comedy, Musical            ',\n",
       "       '\\r\\nDocumentary, Comedy, Drama            ',\n",
       "       '\\r\\nAnimation, Fantasy, Sci-Fi            ',\n",
       "       '\\r\\nDocumentary, Animation, History            ',\n",
       "       '\\r\\nComedy, Fantasy, Reality-TV            ',\n",
       "       '\\r\\nGame-Show, Reality-TV, Sport            ',\n",
       "       '\\r\\nComedy, History, Romance            ',\n",
       "       '\\r\\nBiography, Drama, Mystery            ',\n",
       "       '\\r\\nAdventure, Drama, Sport            ',\n",
       "       '\\r\\nFamily, Reality-TV            ',\n",
       "       '\\r\\nAdventure, Mystery            ',\n",
       "       '\\r\\nDocumentary, History, News            ',\n",
       "       '\\r\\nFamily, Musical            ',\n",
       "       '\\r\\nAnimation, Drama, Sport            ',\n",
       "       '\\r\\nAction, Crime, Romance            ',\n",
       "       '\\r\\nDocumentary, Horror, Mystery            ',\n",
       "       '\\r\\nDocumentary, Action, Biography            ',\n",
       "       '\\r\\nRomance, Sport            ',\n",
       "       '\\r\\nBiography, History            ', '\\r\\nNews            ',\n",
       "       '\\r\\nHorror, Romance            ',\n",
       "       '\\r\\nAdventure, Family            ',\n",
       "       '\\r\\nDrama, Sci-Fi, War            ',\n",
       "       '\\r\\nDocumentary, Action, History            ',\n",
       "       '\\r\\nShort, Horror            ',\n",
       "       '\\r\\nDocumentary, Biography, War            ',\n",
       "       '\\r\\nAdventure, Music, Sci-Fi            ',\n",
       "       '\\r\\nMystery            ',\n",
       "       '\\r\\nAnimation, Family, Sci-Fi            ',\n",
       "       '\\r\\nMusical            ',\n",
       "       '\\r\\nDocumentary, Drama, Family            ',\n",
       "       '\\r\\nShort, Mystery, Sci-Fi            ',\n",
       "       '\\r\\nComedy, Documentary            ', '\\r\\nShort            ',\n",
       "       '\\r\\nDocumentary, Western            ',\n",
       "       '\\r\\nDocumentary, Short, Family            ',\n",
       "       '\\r\\nAnimation, Short, Mystery            ',\n",
       "       '\\r\\nAnimation, Short, Family            ',\n",
       "       '\\r\\nComedy, Animation            ',\n",
       "       '\\r\\nDocumentary, Biography, Romance            ',\n",
       "       '\\r\\nDocumentary, Drama, Fantasy            ',\n",
       "       '\\r\\nShort, Documentary            ',\n",
       "       '\\r\\nDocumentary, Comedy, Music            ',\n",
       "       '\\r\\nMusic, Musical            ', '\\r\\nFamily, Music            ',\n",
       "       '\\r\\nGame-Show, Music, Reality-TV            ',\n",
       "       '\\r\\nAction, History            ',\n",
       "       '\\r\\nDocumentary, Adventure, Biography            ',\n",
       "       '\\r\\nShort, Biography, Drama            ',\n",
       "       '\\r\\nDocumentary, Adventure, News            ',\n",
       "       '\\r\\nDrama, Fantasy, History            ',\n",
       "       '\\r\\nDrama, Short            ',\n",
       "       '\\r\\nAction, Adventure, Sport            ',\n",
       "       '\\r\\nCrime, Horror            ',\n",
       "       '\\r\\nHistory, Music, Talk-Show            ',\n",
       "       '\\r\\nComedy, Drama, History            ',\n",
       "       '\\r\\nDocumentary, Crime, News            ',\n",
       "       '\\r\\nDocumentary, Music, Sport            ',\n",
       "       '\\r\\nDocumentary, History, Mystery            ',\n",
       "       '\\r\\nDocumentary, Short, Comedy            ',\n",
       "       '\\r\\nShort, Sci-Fi            ', '\\r\\nCrime, Comedy            ',\n",
       "       '\\r\\nThriller, Mystery            ',\n",
       "       '\\r\\nComedy, Mystery, Thriller            ',\n",
       "       '\\r\\nDocumentary, History, Music            ',\n",
       "       '\\r\\nDocumentary, Family, History            ',\n",
       "       '\\r\\nDocumentary, Action, Crime            ',\n",
       "       '\\r\\nShort, History            ',\n",
       "       '\\r\\nShort, Reality-TV            ',\n",
       "       '\\r\\nShort, Action            ',\n",
       "       '\\r\\nBiography, Family, News            ',\n",
       "       '\\r\\nNews, Reality-TV            ',\n",
       "       '\\r\\nTalk-Show, Sport            '], dtype=object)"
      ]
     },
     "execution_count": 27,
     "metadata": {},
     "output_type": "execute_result"
    }
   ],
   "source": [
    "df.genre.unique()"
   ]
  },
  {
   "cell_type": "code",
   "execution_count": 28,
   "id": "e122ee4a-464a-4e26-abf2-4cdd0e23b595",
   "metadata": {},
   "outputs": [],
   "source": [
    "df[\"genre\"] = df[\"genre\"].str.strip()"
   ]
  },
  {
   "cell_type": "markdown",
   "id": "a61ee401-4c9f-4399-8cc6-612d07ffc892",
   "metadata": {},
   "source": [
    "## <font color='indianred'> <b>rating Column</b><font color='black'> "
   ]
  },
  {
   "cell_type": "code",
   "execution_count": 29,
   "id": "1f2b00c1-cd8f-4ce5-95d2-b5d1deffc8dd",
   "metadata": {},
   "outputs": [
    {
     "data": {
      "text/plain": [
       "array([6.1, 5. , 8.2, 9.2, nan, 7.6, 6.8, 8.6, 7.9, 7.4, 6. , 8.1, 6.2,\n",
       "       5.4, 8. , 7.5, 9.4, 8.3, 8.7, 8.9, 8.8, 8.5, 8.4, 6.7, 7.7, 9. ,\n",
       "       5.8, 3.3, 7.8, 5.7, 6.6, 6.9, 6.5, 7.1, 5.6, 7.3, 9.1, 7.2, 6.4,\n",
       "       9.3, 7. , 6.3, 3.7, 5.5, 4.6, 4.8, 5.3, 4.7, 5.9, 5.1, 4.9, 2.7,\n",
       "       4.4, 3.1, 4.5, 4.2, 3.8, 5.2, 2.8, 3.5, 4.3, 3.2, 1.1, 3.9, 4. ,\n",
       "       3.4, 2.6, 3.6, 3. , 2.5, 2.2, 2.9, 4.1, 2.1, 2. , 2.3, 2.4, 1.8,\n",
       "       9.6, 9.5, 9.7, 9.9, 9.8])"
      ]
     },
     "execution_count": 29,
     "metadata": {},
     "output_type": "execute_result"
    }
   ],
   "source": [
    "df.rating.unique()"
   ]
  },
  {
   "cell_type": "markdown",
   "id": "b62c56f1-7fdc-4ebe-a2a8-6566b094fa51",
   "metadata": {},
   "source": [
    "**rating** column seems OK for now. Let's continue with other columns."
   ]
  },
  {
   "cell_type": "markdown",
   "id": "af2c6e52-e4d2-4ac1-a38f-f3c175fb7ef0",
   "metadata": {},
   "source": [
    "## <font color='indianred'> <b>stars Column</b><font color='black'> "
   ]
  },
  {
   "cell_type": "code",
   "execution_count": 30,
   "id": "373fc9d6-26ba-4bca-901e-01be2938baee",
   "metadata": {},
   "outputs": [
    {
     "data": {
      "text/plain": [
       "0       Director:\\r\\nPeter Thorwarth\\r\\n| \\r\\n    Star...\n",
       "1       Stars:\\r\\nChris Wood, \\r\\nSarah Michelle Gella...\n",
       "2       Stars:\\r\\nAndrew Lincoln, \\r\\nNorman Reedus, \\...\n",
       "3       Stars:\\r\\nJustin Roiland, \\r\\nChris Parnell, \\...\n",
       "4       Director:\\r\\nMatthias Schweighöfer\\r\\n| \\r\\n  ...\n",
       "                              ...                        \n",
       "9993    Director:\\r\\nNicolai Rohde\\r\\n| \\r\\n    Stars:...\n",
       "9995                                                     \n",
       "9996    Director:\\r\\nOrlando von Einsiedel\\r\\n| \\r\\n  ...\n",
       "9997    Director:\\r\\nJovanka Vuckovic\\r\\n| \\r\\n    Sta...\n",
       "9998    Director:\\r\\nJovanka Vuckovic\\r\\n| \\r\\n    Sta...\n",
       "Name: stars, Length: 9568, dtype: object"
      ]
     },
     "execution_count": 30,
     "metadata": {},
     "output_type": "execute_result"
    }
   ],
   "source": [
    "df[\"stars\"].str.strip()"
   ]
  },
  {
   "cell_type": "code",
   "execution_count": 31,
   "id": "10a585f9-2d65-44a7-be28-333b1b1722df",
   "metadata": {},
   "outputs": [],
   "source": [
    "# removing unnecessary values as \\r, \\n etc.\n",
    "df['stars'] = df['stars'].str.replace('\\r', '', regex=False).str.replace('\\n', '', regex=False).str.replace('    ', '', regex=False)"
   ]
  },
  {
   "cell_type": "code",
   "execution_count": 32,
   "id": "373cf18b-6c70-4966-9389-30f38f72d179",
   "metadata": {},
   "outputs": [],
   "source": [
    "df[['part1', 'part2']] = df['stars'].str.split('|', expand=True)"
   ]
  },
  {
   "cell_type": "code",
   "execution_count": 33,
   "id": "4f188b1a-6fff-4ba5-9b97-a6a8a198612d",
   "metadata": {},
   "outputs": [],
   "source": [
    "# Let's clear the columns to remove the 'Director:' and 'Stars:' tags\n",
    "df['director'] = df['part1'].str.replace('Director:', '', regex=False)\n",
    "df['actors'] = df['part2'].str.replace('Stars:', '', regex=False).str.strip()"
   ]
  },
  {
   "cell_type": "code",
   "execution_count": 34,
   "id": "ab5f0576-c253-4af9-8c75-366d6c07cc78",
   "metadata": {},
   "outputs": [],
   "source": [
    "# If there are values ​​starting with Stars: in the director column,\n",
    "# move that value to the actors column and replace the director column with an empty string\n",
    "df.loc[df['director'].str.startswith('Stars:'), 'actors'] = df['director'].str.replace('Stars:', '', regex=False).str.strip()\n",
    "df.loc[df['director'].str.startswith('Stars:'), 'director'] = ''"
   ]
  },
  {
   "cell_type": "code",
   "execution_count": 35,
   "id": "154200f1-1cc1-40f0-8ad9-8a588ffdff59",
   "metadata": {},
   "outputs": [],
   "source": [
    "df['actors'] = df['actors'].str.replace('Stars:', '', regex=False).str.replace('Star:', '', regex=False).str.strip()\n",
    "df['director'] = df['director'].str.replace('Directors:', '', regex=False).str.strip()\n",
    "df['director'] = df['director'].replace(\"\", np.nan)"
   ]
  },
  {
   "cell_type": "code",
   "execution_count": 36,
   "id": "7f78f6f6-f1b1-43ab-bde3-0e66c3527b47",
   "metadata": {},
   "outputs": [],
   "source": [
    "# dropping unnecessary columns\n",
    "df = df.drop(columns=['stars', 'part1', 'part2'])"
   ]
  },
  {
   "cell_type": "code",
   "execution_count": 37,
   "id": "c8286789-3ca2-4b02-ae86-6a7d81affdbc",
   "metadata": {},
   "outputs": [
    {
     "data": {
      "text/html": [
       "<div>\n",
       "<style scoped>\n",
       "    .dataframe tbody tr th:only-of-type {\n",
       "        vertical-align: middle;\n",
       "    }\n",
       "\n",
       "    .dataframe tbody tr th {\n",
       "        vertical-align: top;\n",
       "    }\n",
       "\n",
       "    .dataframe thead th {\n",
       "        text-align: right;\n",
       "    }\n",
       "</style>\n",
       "<table border=\"1\" class=\"dataframe\">\n",
       "  <thead>\n",
       "    <tr style=\"text-align: right;\">\n",
       "      <th></th>\n",
       "      <th>movies</th>\n",
       "      <th>release_year</th>\n",
       "      <th>genre</th>\n",
       "      <th>rating</th>\n",
       "      <th>votes</th>\n",
       "      <th>runtime</th>\n",
       "      <th>gross</th>\n",
       "      <th>director</th>\n",
       "      <th>actors</th>\n",
       "    </tr>\n",
       "  </thead>\n",
       "  <tbody>\n",
       "    <tr>\n",
       "      <th>597</th>\n",
       "      <td>Hell on Wheels</td>\n",
       "      <td>2011</td>\n",
       "      <td>Drama, Western</td>\n",
       "      <td>8.3</td>\n",
       "      <td>48,854</td>\n",
       "      <td>42.0</td>\n",
       "      <td>NaN</td>\n",
       "      <td>NaN</td>\n",
       "      <td>Anson Mount, Colm Meaney, Robin McLeavy, Phil ...</td>\n",
       "    </tr>\n",
       "    <tr>\n",
       "      <th>1545</th>\n",
       "      <td>Zoe</td>\n",
       "      <td>2018</td>\n",
       "      <td>Romance, Sci-Fi</td>\n",
       "      <td>6.1</td>\n",
       "      <td>8,146</td>\n",
       "      <td>104.0</td>\n",
       "      <td>NaN</td>\n",
       "      <td>Drake Doremus</td>\n",
       "      <td>Ewan McGregor, Léa Seydoux, Theo James, Rashid...</td>\n",
       "    </tr>\n",
       "    <tr>\n",
       "      <th>5332</th>\n",
       "      <td>Anitta: Made in Honório</td>\n",
       "      <td>2020</td>\n",
       "      <td>Documentary, Biography, Music</td>\n",
       "      <td>7.0</td>\n",
       "      <td>351</td>\n",
       "      <td>NaN</td>\n",
       "      <td>NaN</td>\n",
       "      <td>NaN</td>\n",
       "      <td>Anitta, Arielle Macedo, David Brazil, Felipe B...</td>\n",
       "    </tr>\n",
       "    <tr>\n",
       "      <th>1127</th>\n",
       "      <td>Dogs of Berlin</td>\n",
       "      <td>2018</td>\n",
       "      <td>Action, Crime, Drama</td>\n",
       "      <td>7.6</td>\n",
       "      <td>11,304</td>\n",
       "      <td>542.0</td>\n",
       "      <td>NaN</td>\n",
       "      <td>NaN</td>\n",
       "      <td>Felix Kramer, Fahri Yardim, Samy Abdel Fattah,...</td>\n",
       "    </tr>\n",
       "    <tr>\n",
       "      <th>5023</th>\n",
       "      <td>My Wife and I Bought A Ranch...</td>\n",
       "      <td>NaN</td>\n",
       "      <td>Horror</td>\n",
       "      <td>NaN</td>\n",
       "      <td>NaN</td>\n",
       "      <td>NaN</td>\n",
       "      <td>NaN</td>\n",
       "      <td>NaN</td>\n",
       "      <td>None</td>\n",
       "    </tr>\n",
       "  </tbody>\n",
       "</table>\n",
       "</div>"
      ],
      "text/plain": [
       "                               movies release_year  \\\n",
       "597                    Hell on Wheels         2011   \n",
       "1545                              Zoe         2018   \n",
       "5332          Anitta: Made in Honório         2020   \n",
       "1127                   Dogs of Berlin         2018   \n",
       "5023  My Wife and I Bought A Ranch...          NaN   \n",
       "\n",
       "                              genre  rating   votes  runtime gross  \\\n",
       "597                  Drama, Western     8.3  48,854     42.0   NaN   \n",
       "1545                Romance, Sci-Fi     6.1   8,146    104.0   NaN   \n",
       "5332  Documentary, Biography, Music     7.0     351      NaN   NaN   \n",
       "1127           Action, Crime, Drama     7.6  11,304    542.0   NaN   \n",
       "5023                         Horror     NaN     NaN      NaN   NaN   \n",
       "\n",
       "           director                                             actors  \n",
       "597             NaN  Anson Mount, Colm Meaney, Robin McLeavy, Phil ...  \n",
       "1545  Drake Doremus  Ewan McGregor, Léa Seydoux, Theo James, Rashid...  \n",
       "5332            NaN  Anitta, Arielle Macedo, David Brazil, Felipe B...  \n",
       "1127            NaN  Felix Kramer, Fahri Yardim, Samy Abdel Fattah,...  \n",
       "5023            NaN                                               None  "
      ]
     },
     "execution_count": 37,
     "metadata": {},
     "output_type": "execute_result"
    }
   ],
   "source": [
    "df.sample(5)"
   ]
  },
  {
   "cell_type": "markdown",
   "id": "01fd5ded-a091-43ab-90c1-f14ac7f189b2",
   "metadata": {},
   "source": [
    "## <font color='indianred'> <b>votes Column</b><font color='black'> "
   ]
  },
  {
   "cell_type": "code",
   "execution_count": 38,
   "id": "118f30ee-78f7-4013-9786-083584d397dc",
   "metadata": {},
   "outputs": [],
   "source": [
    "# Removing the thousands separator comma (,)\n",
    "df['votes'] = df['votes'].str.replace(',', '', regex=False)"
   ]
  },
  {
   "cell_type": "code",
   "execution_count": 39,
   "id": "36e15b5b-2642-4648-a87d-5220e27fe515",
   "metadata": {},
   "outputs": [],
   "source": [
    "# changing the dtype of the column\n",
    "df['votes'] = df['votes'].astype(float)"
   ]
  },
  {
   "cell_type": "markdown",
   "id": "057f9756-54e4-4ee2-a778-ec8304fa532e",
   "metadata": {},
   "source": [
    "Could not change the dtype of the column to **int** because it contains NaN values. After performing operations on NaN values, dtype can be converted to int."
   ]
  },
  {
   "cell_type": "markdown",
   "id": "ec5762b7-4ba4-4e5b-b549-16ee8be9fddd",
   "metadata": {},
   "source": [
    "## <font color='indianred'> <b>runtime Column</b><font color='black'> "
   ]
  },
  {
   "cell_type": "code",
   "execution_count": 40,
   "id": "d23bcd79-2265-40b4-801d-82ab0fb516f8",
   "metadata": {},
   "outputs": [
    {
     "data": {
      "text/plain": [
       "array([121.,  25.,  44.,  23.,  nan,  50., 110.,  53.,  30., 114.,  42.,\n",
       "       107.,  60.,  41.,  49.,  51., 109.,  22.,  43., 136.,  46.,  45.,\n",
       "        58.,  24.,  70.,  64., 148., 395., 101.,  95.,  32., 118.,  47.,\n",
       "        31., 104., 127.,  54.,  92.,  88.,  59.,  55., 178.,  16.,  48.,\n",
       "        99., 124., 151., 100.,  40., 149., 119.,  20.,  87., 111.,  91.,\n",
       "       117., 135., 129., 113.,  15.,  85., 169.,  97., 116., 138., 137.,\n",
       "       209., 201., 123.,  96., 572., 467., 140.,  56., 112., 125., 145.,\n",
       "       128., 147.,  90.,  98.,  26., 115., 156., 179., 108.,  34.,  11.,\n",
       "       152.,  94., 133., 298.,  28., 126., 102., 106., 385., 122., 452.,\n",
       "       120., 494., 240., 134.,  80.,  89.,  35., 216., 296., 143., 164.,\n",
       "       386., 363., 150., 105., 131.,  65., 103.,  86.,  52., 356., 154.,\n",
       "       130., 491., 132.,  93.,  82., 370.,  18., 228.,  84., 280.,  78.,\n",
       "       316., 264.,  83.,  81., 270., 197., 347., 267.,  37., 230., 233.,\n",
       "        21., 220., 331.,  39.,   9., 281.,  10., 557.,  33., 461., 460.,\n",
       "        27., 231., 189., 360., 498., 187.,  75., 629., 144., 542., 258.,\n",
       "       239., 312., 158., 229., 403.,  57., 142., 313., 306., 358., 139.,\n",
       "       300., 436., 374., 203., 160.,  29., 192., 191.,  62., 219.,  77.,\n",
       "        73.,  79.,  36., 236., 204., 210.,  13., 227., 163., 195.,   7.,\n",
       "       242.,  72., 284., 271., 853.,  76.,  38., 241., 162., 202., 253.,\n",
       "        74., 333.,  68., 288., 252.,  63.,   3., 351., 217., 337., 170.,\n",
       "        71., 180., 355., 172., 174.,   8., 573.,  17.,  61.,   5., 437.,\n",
       "       330., 290., 173., 249., 188.,   1., 303., 211., 205.,  69.,  67.,\n",
       "       157.,  66., 175., 161.,  14.,  12., 153., 155., 181., 418., 245.,\n",
       "         4.,  19., 171.,   6.,   2., 373., 141., 146., 165.])"
      ]
     },
     "execution_count": 40,
     "metadata": {},
     "output_type": "execute_result"
    }
   ],
   "source": [
    "df.runtime.unique()"
   ]
  },
  {
   "cell_type": "markdown",
   "id": "08707714-80ab-4009-8320-7d0bf7e17fb7",
   "metadata": {},
   "source": [
    "**runtime** column seem OK for now."
   ]
  },
  {
   "cell_type": "markdown",
   "id": "f4211667-ac47-44f7-b10a-e29404185289",
   "metadata": {},
   "source": [
    "## <font color='indianred'> <b>gross Column</b><font color='black'> "
   ]
  },
  {
   "cell_type": "code",
   "execution_count": 41,
   "id": "086f56ec-2965-4a75-8a40-3ffd6642cfe6",
   "metadata": {
    "scrolled": true
   },
   "outputs": [
    {
     "data": {
      "text/plain": [
       "array([nan, '$75.47M', '$402.45M', '$89.22M', '$315.54M', '$57.01M',\n",
       "       '$260.00M', '$132.38M', '$167.77M', '$404.52M', '$15.07M',\n",
       "       '$70.10M', '$210.61M', '$327.48M', '$390.53M', '$303.00M',\n",
       "       '$56.63M', '$58.06M', '$353.01M', '$46.89M', '$7.00M', '$377.85M',\n",
       "       '$107.83M', '$403.71M', '$316.83M', '$100.55M', '$28.26M',\n",
       "       '$188.76M', '$213.52M', '$226.01M', '$408.08M', '$10.06M',\n",
       "       '$14.84M', '$168.05M', '$183.64M', '$342.55M', '$96.52M',\n",
       "       '$140.22M', '$172.56M', '$56.95M', '$330.36M', '$17.80M', '$0.20M',\n",
       "       '$56.82M', '$66.21M', '$75.61M', '$4.56M', '$106.58M', '$5.02M',\n",
       "       '$22.68M', '$102.92M', '$110.52M', '$504.01M', '$26.86M', '$2.00M',\n",
       "       '$32.73M', '$33.80M', '$400.74M', '$19.02M', '$36.26M', '$6.67M',\n",
       "       '$45.51M', '$75.66M', '$0.33M', '$4.00M', '$20.16M', '$95.86M',\n",
       "       '$176.48M', '$126.66M', '$80.10M', '$42.34M', '$0.04M', '$4.71M',\n",
       "       '$117.72M', '$229.09M', '$33.70M', '$97.69M', '$21.15M', '$27.85M',\n",
       "       '$25.02M', '$100.92M', '$0.80M', '$31.15M', '$143.53M', '$61.74M',\n",
       "       '$33.40M', '$24.45M', '$125.10M', '$12.79M', '$2.38M', '$136.19M',\n",
       "       '$101.03M', '$187.17M', '$158.35M', '$0.01M', '$34.02M', '$57.23M',\n",
       "       '$63.69M', '$5.20M', '$1.23M', '$10.21M', '$51.69M', '$123.48M',\n",
       "       '$60.46M', '$112.72M', '$73.10M', '$0.18M', '$152.90M', '$52.42M',\n",
       "       '$77.22M', '$54.76M', '$21.36M', '$44.82M', '$37.77M', '$218.97M',\n",
       "       '$486.30M', '$97.10M', '$18.34M', '$181.17M', '$0.10M', '$58.88M',\n",
       "       '$80.04M', '$38.32M', '$29.21M', '$11.11M', '$65.08M', '$67.63M',\n",
       "       '$89.30M', '$61.43M', '$59.65M', '$3.22M', '$81.90M', '$30.00M',\n",
       "       '$1.11M', '$18.64M', '$148.73M', '$156.65M', '$103.37M', '$35.66M',\n",
       "       '$8.55M', '$167.51M', '$12.63M', '$41.73M', '$41.23M', '$145.79M',\n",
       "       '$17.61M', '$1.36M', '$51.44M', '$25.13M', '$20.05M', '$36.67M',\n",
       "       '$26.83M', '$35.59M', '$15.50M', '$18.47M', '$58.01M', '$78.75M',\n",
       "       '$93.74M', '$10.38M', '$10.51M', '$368.06M', '$234.91M', '$18.60M',\n",
       "       '$89.26M', '$11.33M', '$101.20M', '$57.74M', '$24.15M', '$33.41M',\n",
       "       '$85.02M', '$21.30M', '$4.36M', '$16.17M', '$0.23M', '$94.90M',\n",
       "       '$0.03M', '$40.44M', '$15.09M', '$21.22M', '$32.02M', '$0.02M',\n",
       "       '$47.06M', '$214.03M', '$77.04M', '$15.43M', '$28.21M', '$0.50M',\n",
       "       '$12.05M', '$2.06M', '$44.14M', '$35.09M', '$1.94M', '$27.67M',\n",
       "       '$79.37M', '$39.18M', '$139.85M', '$88.92M', '$30.58M', '$0.12M',\n",
       "       '$10.88M', '$65.33M', '$1.21M', '$54.77M', '$32.94M', '$5.78M',\n",
       "       '$17.14M', '$0.28M', '$42.87M', '$5.21M', '$4.40M', '$46.91M',\n",
       "       '$0.08M', '$48.79M', '$15.54M', '$44.43M', '$57.39M', '$0.19M',\n",
       "       '$19.70M', '$58.02M', '$66.53M', '$92.12M', '$64.94M', '$0.00M',\n",
       "       '$6.74M', '$0.15M', '$42.40M', '$19.20M', '$35.07M', '$119.79M',\n",
       "       '$27.15M', '$30.69M', '$2.24M', '$4.72M', '$90.29M', '$0.77M',\n",
       "       '$0.51M', '$2.01M', '$14.90M', '$6.17M', '$1.00M', '$31.85M',\n",
       "       '$37.66M', '$30.98M', '$13.75M', '$5.88M', '$37.71M', '$219.61M',\n",
       "       '$4.54M', '$7.15M', '$15.01M', '$0.14M', '$1.51M', '$1.60M',\n",
       "       '$1.34M', '$0.70M', '$26.18M', '$1.16M', '$5.70M', '$10.64M',\n",
       "       '$2.68M', '$0.45M', '$1.04M', '$7.92M', '$20.28M', '$0.05M',\n",
       "       '$8.06M', '$1.25M', '$45.02M', '$1.52M', '$28.35M', '$36.45M',\n",
       "       '$1.08M', '$1.33M', '$3.90M', '$6.12M', '$43.04M', '$0.44M',\n",
       "       '$16.85M', '$5.66M', '$0.81M', '$0.34M', '$4.70M', '$11.55M',\n",
       "       '$5.93M', '$11.37M', '$0.09M', '$3.09M', '$49.77M', '$19.99M',\n",
       "       '$12.41M', '$4.83M', '$0.31M', '$43.55M', '$2.47M', '$0.48M',\n",
       "       '$0.26M', '$6.11M', '$0.76M', '$0.06M', '$0.30M', '$0.16M',\n",
       "       '$0.83M', '$0.59M', '$16.00M', '$5.31M', '$11.96M', '$0.22M',\n",
       "       '$0.54M', '$0.27M', '$0.11M', '$1.54M', '$3.03M', '$0.29M',\n",
       "       '$1.01M', '$3.25M', '$0.41M', '$0.17M', '$0.62M', '$23.59M',\n",
       "       '$25.58M', '$0.13M', '$0.87M', '$1.02M', '$0.56M', '$1.12M',\n",
       "       '$0.85M', '$1.80M', '$0.21M', '$2.83M', '$32.24M', '$0.07M',\n",
       "       '$0.24M', '$10.40M'], dtype=object)"
      ]
     },
     "execution_count": 41,
     "metadata": {},
     "output_type": "execute_result"
    }
   ],
   "source": [
    "df.gross.unique()"
   ]
  },
  {
   "cell_type": "code",
   "execution_count": 42,
   "id": "e9529552-19c3-4a5d-990e-379773eaebe8",
   "metadata": {},
   "outputs": [],
   "source": [
    "df[\"gross\"] = df[\"gross\"].str.replace('$', '').str.replace('M', '')"
   ]
  },
  {
   "cell_type": "code",
   "execution_count": 43,
   "id": "50110b2c-6c64-4029-82fc-ba3c6f8e9e16",
   "metadata": {},
   "outputs": [],
   "source": [
    "df[\"gross\"] = df[\"gross\"].astype(float)"
   ]
  },
  {
   "cell_type": "markdown",
   "id": "dc23f935-72d9-4654-8a0b-0f2b15a5c643",
   "metadata": {},
   "source": [
    "<a id='nan-values'></a>\n",
    "# <font color='firebrick'> <b>NaN Values</b><font color='black'> "
   ]
  },
  {
   "cell_type": "code",
   "execution_count": 44,
   "id": "054b5bfd-d31c-4a4a-b7b8-24ca8ced7e22",
   "metadata": {},
   "outputs": [
    {
     "data": {
      "text/plain": [
       "movies             0\n",
       "release_year     635\n",
       "genre             78\n",
       "rating          1400\n",
       "votes           1400\n",
       "runtime         2560\n",
       "gross           9108\n",
       "director        3264\n",
       "actors           816\n",
       "dtype: int64"
      ]
     },
     "execution_count": 44,
     "metadata": {},
     "output_type": "execute_result"
    }
   ],
   "source": [
    "df.isnull().sum()"
   ]
  },
  {
   "cell_type": "markdown",
   "id": "c7a6b0e4-1426-46d6-b4a1-92205aadf609",
   "metadata": {},
   "source": [
    "## <font color='indianred'> <b>NaN Values in \"release_year\" Column</b><font color='black'> "
   ]
  },
  {
   "cell_type": "markdown",
   "id": "da5ac915-98a3-44e6-baae-6186c60d15ef",
   "metadata": {},
   "source": [
    "Filling Methods For **\"release_year\"** Column:\n",
    "\n",
    " - **Mode:** It may make sense to fill NaN values ​​in the release_year column with mode because year information can often have frequently recurring years within a certain range. This ensures that the year that occurs most frequently in your dataset better aligns with the rest of your dataset.\n",
    " - **Mean:** Since year information is continuous data, it is also possible to use the average. However, the average of years is often not a full year and this may not be meaningful for some years.."
   ]
  },
  {
   "cell_type": "code",
   "execution_count": 45,
   "id": "012cf259-9da7-426b-9cc0-79c23a6227c0",
   "metadata": {},
   "outputs": [
    {
     "data": {
      "text/plain": [
       "635"
      ]
     },
     "execution_count": 45,
     "metadata": {},
     "output_type": "execute_result"
    }
   ],
   "source": [
    "df.release_year.isnull().sum()"
   ]
  },
  {
   "cell_type": "code",
   "execution_count": 46,
   "id": "97e04a92-4c02-47af-8115-84fc68ad15e5",
   "metadata": {},
   "outputs": [
    {
     "data": {
      "text/plain": [
       "'2020'"
      ]
     },
     "execution_count": 46,
     "metadata": {},
     "output_type": "execute_result"
    }
   ],
   "source": [
    "df.release_year.mode()[0]"
   ]
  },
  {
   "cell_type": "code",
   "execution_count": 47,
   "id": "bd4948ba-a940-4457-b31b-46ad20bf2201",
   "metadata": {},
   "outputs": [],
   "source": [
    "df[\"release_year\"].fillna(df.release_year.mode()[0], inplace= True)"
   ]
  },
  {
   "cell_type": "code",
   "execution_count": 48,
   "id": "dd560621-f808-4f1a-8dcc-c618465fee31",
   "metadata": {},
   "outputs": [
    {
     "data": {
      "text/plain": [
       "0"
      ]
     },
     "execution_count": 48,
     "metadata": {},
     "output_type": "execute_result"
    }
   ],
   "source": [
    "df.release_year.isnull().sum()"
   ]
  },
  {
   "cell_type": "markdown",
   "id": "f1e19234-f191-42bf-90c8-a7eee73c3bbe",
   "metadata": {},
   "source": [
    "## <font color='indianred'> <b>NaN Values in \"genre\" Column</b><font color='black'> "
   ]
  },
  {
   "cell_type": "markdown",
   "id": "9d465d47-f8f8-413e-9a8a-8647b3a2aecf",
   "metadata": {},
   "source": [
    "The NaN values in genre column can be randomly filled with top 10 genres."
   ]
  },
  {
   "cell_type": "code",
   "execution_count": 49,
   "id": "9513ab3b-9d2e-4fc7-a3b2-92f73437cd9c",
   "metadata": {},
   "outputs": [
    {
     "data": {
      "text/plain": [
       "Drama          4115\n",
       "Comedy         2736\n",
       "Action         2110\n",
       "Adventure      1588\n",
       "Animation      1584\n",
       "Crime          1519\n",
       "Documentary    1221\n",
       "Thriller        895\n",
       "Mystery         840\n",
       "Romance         835\n",
       "Name: count, dtype: int64"
      ]
     },
     "execution_count": 49,
     "metadata": {},
     "output_type": "execute_result"
    }
   ],
   "source": [
    "top10_genres = df[\"genre\"].str.split(\", \", expand=True).stack().value_counts()[:10]\n",
    "top10_genres"
   ]
  },
  {
   "cell_type": "code",
   "execution_count": 50,
   "id": "79876c11-e3fe-484a-937c-fa4fb8cc8de1",
   "metadata": {},
   "outputs": [
    {
     "data": {
      "text/plain": [
       "['Drama',\n",
       " 'Comedy',\n",
       " 'Action',\n",
       " 'Adventure',\n",
       " 'Animation',\n",
       " 'Crime',\n",
       " 'Documentary',\n",
       " 'Thriller',\n",
       " 'Mystery',\n",
       " 'Romance']"
      ]
     },
     "execution_count": 50,
     "metadata": {},
     "output_type": "execute_result"
    }
   ],
   "source": [
    "top10_genre_list = top10_genres.index.tolist()\n",
    "top10_genre_list"
   ]
  },
  {
   "cell_type": "code",
   "execution_count": 51,
   "id": "95f8b7f0-3057-4933-8a97-ec6eb5f54e0e",
   "metadata": {},
   "outputs": [],
   "source": [
    "# randomly filling NaN values\n",
    "df['genre'] = df['genre'].apply(lambda x: ', '.join(np.random.choice(top10_genre_list, size=1)) if pd.isna(x) else x)"
   ]
  },
  {
   "cell_type": "code",
   "execution_count": 52,
   "id": "406e6b4d-f21c-4ad1-a6b2-4bfc77b00a0e",
   "metadata": {},
   "outputs": [
    {
     "data": {
      "text/plain": [
       "0"
      ]
     },
     "execution_count": 52,
     "metadata": {},
     "output_type": "execute_result"
    }
   ],
   "source": [
    "df.genre.isnull().sum()"
   ]
  },
  {
   "cell_type": "code",
   "execution_count": 53,
   "id": "914aa284-e398-4779-a419-729b3ad3ddc3",
   "metadata": {
    "scrolled": true
   },
   "outputs": [
    {
     "data": {
      "text/plain": [
       "Drama          4124\n",
       "Comedy         2747\n",
       "Action         2116\n",
       "Adventure      1595\n",
       "Animation      1592\n",
       "Crime          1524\n",
       "Documentary    1232\n",
       "Thriller        898\n",
       "Mystery         851\n",
       "Romance         842\n",
       "Fantasy         537\n",
       "Horror          518\n",
       "Family          442\n",
       "Reality-TV      370\n",
       "History         346\n",
       "Biography       311\n",
       "Sci-Fi          303\n",
       "Short           247\n",
       "Music           200\n",
       "Sport           192\n",
       "Game-Show        98\n",
       "Talk-Show        89\n",
       "Musical          61\n",
       "War              48\n",
       "Western          24\n",
       "News             23\n",
       "Film-Noir        12\n",
       "Name: count, dtype: int64"
      ]
     },
     "execution_count": 53,
     "metadata": {},
     "output_type": "execute_result"
    }
   ],
   "source": [
    "df[\"genre\"].str.split(\", \", expand=True).stack().value_counts()"
   ]
  },
  {
   "cell_type": "markdown",
   "id": "7e845481-07d1-4b3a-a3a3-a068e2200a44",
   "metadata": {},
   "source": [
    "Since the filling process was done **randomly using the top 10 genres**, there was no excessive variation in the number of values."
   ]
  },
  {
   "cell_type": "markdown",
   "id": "e3bbaee1-68d5-414f-a5e2-d22bebab7b9f",
   "metadata": {},
   "source": [
    "## <font color='indianred'> <b>NaN Values in \"rating\" Column</b><font color='black'> "
   ]
  },
  {
   "cell_type": "code",
   "execution_count": 54,
   "id": "95e856c9-f3f1-422c-a95e-3b52bfb434e5",
   "metadata": {},
   "outputs": [
    {
     "data": {
      "text/plain": [
       "7.2"
      ]
     },
     "execution_count": 54,
     "metadata": {},
     "output_type": "execute_result"
    }
   ],
   "source": [
    "df.rating.mode()[0]"
   ]
  },
  {
   "cell_type": "code",
   "execution_count": 55,
   "id": "083e70bf-9c51-4e8e-bf4f-3aad17358687",
   "metadata": {},
   "outputs": [],
   "source": [
    "df[\"rating\"] = df[\"rating\"].fillna(df.rating.mode()[0])"
   ]
  },
  {
   "cell_type": "code",
   "execution_count": 56,
   "id": "b51eb5d5-7886-4d58-b8cb-ff071542fb2d",
   "metadata": {},
   "outputs": [
    {
     "data": {
      "text/plain": [
       "0"
      ]
     },
     "execution_count": 56,
     "metadata": {},
     "output_type": "execute_result"
    }
   ],
   "source": [
    "df.rating.isnull().sum()"
   ]
  },
  {
   "cell_type": "markdown",
   "id": "37c846f9-30ec-4297-8c73-f00f5d6cecf5",
   "metadata": {},
   "source": [
    "## <font color='indianred'> <b>NaN Values in \"votes\" Column</b><font color='black'> "
   ]
  },
  {
   "cell_type": "markdown",
   "id": "0a4df256-e67e-43ac-9185-c8866b527474",
   "metadata": {},
   "source": [
    "Filling Methods For **\"votes\"** Column:\n",
    " - **Mean:** It usually makes more sense to fill the NaN values ​​in the vote column with the mean because, in numerical data, the mean is an effective method to reflect the central tendency of the data.\n",
    " - **Mode:** One could also consider filling with the most frequently used value, but this method is not very common for continuous data like vote because the data is usually concentrated around the mean rather than the mode.."
   ]
  },
  {
   "cell_type": "code",
   "execution_count": 57,
   "id": "c1d06d8f-ef9a-4aaf-b66e-51980336df75",
   "metadata": {},
   "outputs": [
    {
     "data": {
      "text/plain": [
       "1400"
      ]
     },
     "execution_count": 57,
     "metadata": {},
     "output_type": "execute_result"
    }
   ],
   "source": [
    "df.votes.isnull().sum()"
   ]
  },
  {
   "cell_type": "code",
   "execution_count": 58,
   "id": "1f11263d-303e-40b6-9f81-2a90e6f4ba7f",
   "metadata": {},
   "outputs": [
    {
     "data": {
      "text/plain": [
       "15144.0"
      ]
     },
     "execution_count": 58,
     "metadata": {},
     "output_type": "execute_result"
    }
   ],
   "source": [
    "# Since the number of votes will not be in decimal form, converting it to integer form using round\n",
    "df.votes.mean().round(0)"
   ]
  },
  {
   "cell_type": "code",
   "execution_count": 59,
   "id": "f0bdc7ff-3803-4083-800a-04478749a153",
   "metadata": {},
   "outputs": [],
   "source": [
    "df[\"votes\"].fillna(df.votes.mean().round(0), inplace= True)"
   ]
  },
  {
   "cell_type": "code",
   "execution_count": 60,
   "id": "66198649-2520-4328-9930-c339799bc3bc",
   "metadata": {},
   "outputs": [
    {
     "data": {
      "text/plain": [
       "0"
      ]
     },
     "execution_count": 60,
     "metadata": {},
     "output_type": "execute_result"
    }
   ],
   "source": [
    "df.votes.isnull().sum()"
   ]
  },
  {
   "cell_type": "markdown",
   "id": "00988eff-9ad4-4d02-9b44-fe5e1b98d953",
   "metadata": {},
   "source": [
    "## <font color='indianred'> <b>NaN Values in \"runtime\" Column</b><font color='black'> "
   ]
  },
  {
   "cell_type": "code",
   "execution_count": 61,
   "id": "c5c73b8b-59ca-4eff-bb7a-9e4b26b87aee",
   "metadata": {},
   "outputs": [
    {
     "data": {
      "text/plain": [
       "68.87"
      ]
     },
     "execution_count": 61,
     "metadata": {},
     "output_type": "execute_result"
    }
   ],
   "source": [
    "df.runtime.mean().round(2)"
   ]
  },
  {
   "cell_type": "code",
   "execution_count": 62,
   "id": "1cda0461-9ea1-4e3d-add6-20fe9c738e37",
   "metadata": {},
   "outputs": [],
   "source": [
    "mean_runtime_by_genre = df.groupby('genre')['runtime'].transform('mean')"
   ]
  },
  {
   "cell_type": "code",
   "execution_count": 63,
   "id": "bfeebb12-a403-4f29-9752-ab4df8b0315d",
   "metadata": {},
   "outputs": [],
   "source": [
    "df['runtime'].fillna(mean_runtime_by_genre, inplace= True)"
   ]
  },
  {
   "cell_type": "code",
   "execution_count": 64,
   "id": "a6082076-b28c-42a8-8ca9-e9b279514c5e",
   "metadata": {},
   "outputs": [
    {
     "data": {
      "text/plain": [
       "38"
      ]
     },
     "execution_count": 64,
     "metadata": {},
     "output_type": "execute_result"
    }
   ],
   "source": [
    "df.runtime.isnull().sum()"
   ]
  },
  {
   "cell_type": "code",
   "execution_count": 65,
   "id": "9bdf32e7-1797-472b-982f-887e8b03d2a8",
   "metadata": {},
   "outputs": [],
   "source": [
    "df['runtime'].fillna(df.runtime.mean().round(2), inplace= True)"
   ]
  },
  {
   "cell_type": "code",
   "execution_count": 66,
   "id": "ef26ab9e-b8b6-4bbc-8aee-ee028e3087c9",
   "metadata": {},
   "outputs": [
    {
     "data": {
      "text/plain": [
       "0"
      ]
     },
     "execution_count": 66,
     "metadata": {},
     "output_type": "execute_result"
    }
   ],
   "source": [
    "df.runtime.isnull().sum()"
   ]
  },
  {
   "cell_type": "markdown",
   "id": "3b6772e9-5f95-49d8-9d5b-8062db1ba53d",
   "metadata": {},
   "source": [
    "## <font color='indianred'> <b>NaN Values in \"gross\" Column</b><font color='black'> "
   ]
  },
  {
   "cell_type": "code",
   "execution_count": 67,
   "id": "1a3f2f7a-6a9b-47f5-9ebe-2efa781ac19b",
   "metadata": {},
   "outputs": [
    {
     "data": {
      "text/plain": [
       "9108"
      ]
     },
     "execution_count": 67,
     "metadata": {},
     "output_type": "execute_result"
    }
   ],
   "source": [
    "df.gross.isnull().sum()"
   ]
  },
  {
   "cell_type": "code",
   "execution_count": 68,
   "id": "c1b52e7c-dace-4efb-826a-6ae754414513",
   "metadata": {},
   "outputs": [
    {
     "data": {
      "text/plain": [
       "95.1923076923077"
      ]
     },
     "execution_count": 68,
     "metadata": {},
     "output_type": "execute_result"
    }
   ],
   "source": [
    "df.gross.isnull().sum() / len(df) * 100"
   ]
  },
  {
   "cell_type": "markdown",
   "id": "f94ce7e9-ad13-4f5c-862b-f41c98dfb2b8",
   "metadata": {},
   "source": [
    "**95% of the gross column consists of NaN values.**"
   ]
  },
  {
   "cell_type": "code",
   "execution_count": 69,
   "id": "eb2f643d-65b5-421e-8968-dbdb2d702f93",
   "metadata": {},
   "outputs": [
    {
     "data": {
      "image/png": "[encoded data removed]",
      "text/plain": [
       "<Figure size 640x480 with 1 Axes>"
      ]
     },
     "metadata": {},
     "output_type": "display_data"
    }
   ],
   "source": [
    "sns.histplot(df.gross, bins= 25, kde= True);"
   ]
  },
  {
   "cell_type": "markdown",
   "id": "735e4d61-3e6b-45c1-a92a-255a3012a55a",
   "metadata": {},
   "source": [
    "A column with a right-skewed distribution generally indicates that most values ​​are low but there are a few high values.\n",
    "\n",
    "The **median** is a more reliable measure of central tendency **than the mean** in **right-skewed distributions**. The median is not affected by outliers and often provides a more representative value."
   ]
  },
  {
   "cell_type": "code",
   "execution_count": 70,
   "id": "1a8ed23e-89c6-418e-8c58-012ff9a76faf",
   "metadata": {},
   "outputs": [
    {
     "data": {
      "text/plain": [
       "0.01"
      ]
     },
     "execution_count": 70,
     "metadata": {},
     "output_type": "execute_result"
    }
   ],
   "source": [
    "df.gross.mode()[0]"
   ]
  },
  {
   "cell_type": "code",
   "execution_count": 71,
   "id": "abcbcfc3-feec-45a6-8a94-05470249ec3d",
   "metadata": {},
   "outputs": [],
   "source": [
    "df.gross.fillna(df.gross.mode()[0], inplace=True)"
   ]
  },
  {
   "cell_type": "code",
   "execution_count": 72,
   "id": "407ad584-ada6-43bd-a88a-0df04910da0f",
   "metadata": {},
   "outputs": [
    {
     "data": {
      "text/plain": [
       "0"
      ]
     },
     "execution_count": 72,
     "metadata": {},
     "output_type": "execute_result"
    }
   ],
   "source": [
    "df.gross.isnull().sum()"
   ]
  },
  {
   "cell_type": "markdown",
   "id": "6825a536-c983-4244-8e1f-2e84ed543d5f",
   "metadata": {},
   "source": [
    "## <font color='indianred'> <b>NaN Values in \"director\" and \"actors\" Columns</b><font color='black'> "
   ]
  },
  {
   "cell_type": "code",
   "execution_count": 73,
   "id": "31dd39df-239c-4169-8112-c79ab11adfc6",
   "metadata": {},
   "outputs": [],
   "source": [
    "df[\"director\"].fillna(\"Unknown\", inplace= True)"
   ]
  },
  {
   "cell_type": "code",
   "execution_count": 74,
   "id": "860e84cd-9e98-44cf-a58d-81512fe10bcc",
   "metadata": {},
   "outputs": [],
   "source": [
    "df[\"actors\"].fillna(\"Unknown\", inplace= True)"
   ]
  },
  {
   "cell_type": "code",
   "execution_count": 75,
   "id": "7db73c8a-8490-4377-bb3b-4e3bb9a2c50e",
   "metadata": {},
   "outputs": [
    {
     "data": {
      "text/plain": [
       "movies          0\n",
       "release_year    0\n",
       "genre           0\n",
       "rating          0\n",
       "votes           0\n",
       "runtime         0\n",
       "gross           0\n",
       "director        0\n",
       "actors          0\n",
       "dtype: int64"
      ]
     },
     "execution_count": 75,
     "metadata": {},
     "output_type": "execute_result"
    }
   ],
   "source": [
    "df.isnull().sum()"
   ]
  },
  {
   "cell_type": "code",
   "execution_count": 76,
   "id": "bb2af158-75ab-4b8b-bcce-f162a455ccdd",
   "metadata": {},
   "outputs": [
    {
     "data": {
      "text/html": [
       "<div>\n",
       "<style scoped>\n",
       "    .dataframe tbody tr th:only-of-type {\n",
       "        vertical-align: middle;\n",
       "    }\n",
       "\n",
       "    .dataframe tbody tr th {\n",
       "        vertical-align: top;\n",
       "    }\n",
       "\n",
       "    .dataframe thead th {\n",
       "        text-align: right;\n",
       "    }\n",
       "</style>\n",
       "<table border=\"1\" class=\"dataframe\">\n",
       "  <thead>\n",
       "    <tr style=\"text-align: right;\">\n",
       "      <th></th>\n",
       "      <th>movies</th>\n",
       "      <th>release_year</th>\n",
       "      <th>genre</th>\n",
       "      <th>rating</th>\n",
       "      <th>votes</th>\n",
       "      <th>runtime</th>\n",
       "      <th>gross</th>\n",
       "      <th>director</th>\n",
       "      <th>actors</th>\n",
       "    </tr>\n",
       "  </thead>\n",
       "  <tbody>\n",
       "    <tr>\n",
       "      <th>7856</th>\n",
       "      <td>She-Ra and the Princesses of Power</td>\n",
       "      <td>2018</td>\n",
       "      <td>Animation, Action, Adventure</td>\n",
       "      <td>8.3</td>\n",
       "      <td>898.0</td>\n",
       "      <td>24.0</td>\n",
       "      <td>0.01</td>\n",
       "      <td>Christina Manrique</td>\n",
       "      <td>Aimee Carrero, Karen Fukuhara, AJ Michalka, Ma...</td>\n",
       "    </tr>\n",
       "    <tr>\n",
       "      <th>1093</th>\n",
       "      <td>Move to Heaven</td>\n",
       "      <td>2021</td>\n",
       "      <td>Drama</td>\n",
       "      <td>8.7</td>\n",
       "      <td>2598.0</td>\n",
       "      <td>60.0</td>\n",
       "      <td>0.01</td>\n",
       "      <td>Unknown</td>\n",
       "      <td>Olivia Castanho, Yang Hong-Seok, Lee Jehoon, T...</td>\n",
       "    </tr>\n",
       "    <tr>\n",
       "      <th>6749</th>\n",
       "      <td>Warrior Nun</td>\n",
       "      <td>2020</td>\n",
       "      <td>Action, Drama, Fantasy</td>\n",
       "      <td>7.6</td>\n",
       "      <td>740.0</td>\n",
       "      <td>39.0</td>\n",
       "      <td>0.01</td>\n",
       "      <td>Mathias Herndl</td>\n",
       "      <td>Alba Baptista, Toya Turner, Thekla Reuten, Lor...</td>\n",
       "    </tr>\n",
       "    <tr>\n",
       "      <th>3606</th>\n",
       "      <td>Best. Worst. Weekend. Ever.</td>\n",
       "      <td>2018</td>\n",
       "      <td>Comedy, Family</td>\n",
       "      <td>6.4</td>\n",
       "      <td>254.0</td>\n",
       "      <td>191.0</td>\n",
       "      <td>0.01</td>\n",
       "      <td>Unknown</td>\n",
       "      <td>Sam Ashe Arnold, Brittany Garms, Brianna Reed,...</td>\n",
       "    </tr>\n",
       "    <tr>\n",
       "      <th>6727</th>\n",
       "      <td>The Order</td>\n",
       "      <td>2019</td>\n",
       "      <td>Drama, Fantasy, Horror</td>\n",
       "      <td>7.3</td>\n",
       "      <td>375.0</td>\n",
       "      <td>47.0</td>\n",
       "      <td>0.01</td>\n",
       "      <td>Leslie Hope</td>\n",
       "      <td>Jake Manley, Sarah Grey, Matt Frewer, Louriza ...</td>\n",
       "    </tr>\n",
       "  </tbody>\n",
       "</table>\n",
       "</div>"
      ],
      "text/plain": [
       "                                  movies release_year  \\\n",
       "7856  She-Ra and the Princesses of Power         2018   \n",
       "1093                      Move to Heaven         2021   \n",
       "6749                         Warrior Nun         2020   \n",
       "3606         Best. Worst. Weekend. Ever.         2018   \n",
       "6727                           The Order         2019   \n",
       "\n",
       "                             genre  rating   votes  runtime  gross  \\\n",
       "7856  Animation, Action, Adventure     8.3   898.0     24.0   0.01   \n",
       "1093                         Drama     8.7  2598.0     60.0   0.01   \n",
       "6749        Action, Drama, Fantasy     7.6   740.0     39.0   0.01   \n",
       "3606                Comedy, Family     6.4   254.0    191.0   0.01   \n",
       "6727        Drama, Fantasy, Horror     7.3   375.0     47.0   0.01   \n",
       "\n",
       "                director                                             actors  \n",
       "7856  Christina Manrique  Aimee Carrero, Karen Fukuhara, AJ Michalka, Ma...  \n",
       "1093             Unknown  Olivia Castanho, Yang Hong-Seok, Lee Jehoon, T...  \n",
       "6749      Mathias Herndl  Alba Baptista, Toya Turner, Thekla Reuten, Lor...  \n",
       "3606             Unknown  Sam Ashe Arnold, Brittany Garms, Brianna Reed,...  \n",
       "6727         Leslie Hope  Jake Manley, Sarah Grey, Matt Frewer, Louriza ...  "
      ]
     },
     "execution_count": 76,
     "metadata": {},
     "output_type": "execute_result"
    }
   ],
   "source": [
    "df.sample(5)"
   ]
  },
  {
   "cell_type": "code",
   "execution_count": 77,
   "id": "3f927141-b949-4a67-b6ab-6ba31bec40bf",
   "metadata": {},
   "outputs": [],
   "source": [
    "# changing dtypes of some columns\n",
    "df[\"release_year\"] = df[\"release_year\"].astype(int)\n",
    "df[\"votes\"] = df[\"votes\"].astype(int)"
   ]
  },
  {
   "cell_type": "code",
   "execution_count": 78,
   "id": "600feed5-7aa0-4016-90de-de2e19b68e22",
   "metadata": {},
   "outputs": [
    {
     "name": "stdout",
     "output_type": "stream",
     "text": [
      "<class 'pandas.core.frame.DataFrame'>\n",
      "Index: 9568 entries, 0 to 9998\n",
      "Data columns (total 9 columns):\n",
      " #   Column        Non-Null Count  Dtype  \n",
      "---  ------        --------------  -----  \n",
      " 0   movies        9568 non-null   object \n",
      " 1   release_year  9568 non-null   int32  \n",
      " 2   genre         9568 non-null   object \n",
      " 3   rating        9568 non-null   float64\n",
      " 4   votes         9568 non-null   int32  \n",
      " 5   runtime       9568 non-null   float64\n",
      " 6   gross         9568 non-null   float64\n",
      " 7   director      9568 non-null   object \n",
      " 8   actors        9568 non-null   object \n",
      "dtypes: float64(3), int32(2), object(4)\n",
      "memory usage: 930.8+ KB\n"
     ]
    }
   ],
   "source": [
    "df.info()"
   ]
  },
  {
   "cell_type": "code",
   "execution_count": 79,
   "id": "fcf1366e-45c0-4407-a483-a4de6576b8af",
   "metadata": {},
   "outputs": [],
   "source": [
    "# Saving the final (edited) version of data set as a csv file\n",
    "# df.to_csv(\"movies_edited.csv\", index= False)"
   ]
  },
  {
   "cell_type": "markdown",
   "id": "d8f88c54-cb50-411e-8acf-df21e1f0d960",
   "metadata": {},
   "source": [
    "<a id='data-visualization'></a>\n",
    "# <font color='firebrick'> <b>Data Visualization</b><font color='black'> "
   ]
  },
  {
   "cell_type": "markdown",
   "id": "8465803d-f7b2-4ee1-876b-fe5507265159",
   "metadata": {},
   "source": [
    "## <font color='indianred'> <b>Movie Distribution by Years</b><font color='black'> "
   ]
  },
  {
   "cell_type": "code",
   "execution_count": 80,
   "id": "0ba0f02b-5c16-4f11-bd3d-77b5a493bc9d",
   "metadata": {},
   "outputs": [
    {
     "data": {
      "image/png": "[encoded data removed]",
      "text/plain": [
       "<Figure size 640x480 with 1 Axes>"
      ]
     },
     "metadata": {},
     "output_type": "display_data"
    }
   ],
   "source": [
    "df['release_year'].plot(kind='hist', bins=range(df['release_year'].min(), df['release_year'].max() + 1), edgecolor='black')\n",
    "plt.title('Movie Distribution by Years')\n",
    "plt.xlabel('Year')\n",
    "plt.ylabel('Number of Movies')\n",
    "plt.show()"
   ]
  },
  {
   "cell_type": "markdown",
   "id": "91b95368-b8d9-4f32-b94d-64ca5d078975",
   "metadata": {},
   "source": [
    "This graph shows that more films were released in the 21st century."
   ]
  },
  {
   "cell_type": "markdown",
   "id": "b622ed79-20f9-4877-9ecb-52f69d4d8723",
   "metadata": {},
   "source": [
    "## <font color='indianred'> <b>Distribution of Movie Genres</b><font color='black'> "
   ]
  },
  {
   "cell_type": "code",
   "execution_count": 81,
   "id": "9b853e9d-598d-4ab6-b052-0f92a1da8105",
   "metadata": {},
   "outputs": [
    {
     "data": {
      "image/png": "[encoded data removed]",
      "text/plain": [
       "<Figure size 1000x600 with 1 Axes>"
      ]
     },
     "metadata": {},
     "output_type": "display_data"
    }
   ],
   "source": [
    "genre_counts = df['genre'].str.split(', ', expand=True).stack().value_counts()\n",
    "\n",
    "sns.set_style(\"whitegrid\")\n",
    "plt.figure(figsize=(10,6))\n",
    "ax = sns.barplot(x=genre_counts.values, y=genre_counts.index, palette=\"magma\")\n",
    "\n",
    "for container in ax.containers:\n",
    "    ax.bar_label(container, fmt='%d', label_type='edge', fontsize=12, color='black', padding=3)\n",
    "    \n",
    "ax.set(xlabel='Number of Movies', ylabel='Genres')\n",
    "plt.title(\"Distribution of Movie Genres\")\n",
    "plt.show()"
   ]
  },
  {
   "cell_type": "code",
   "execution_count": 82,
   "id": "c3e34202-8499-4822-9495-b8d75a76668a",
   "metadata": {},
   "outputs": [
    {
     "data": {
      "text/plain": [
       "Drama          43.102007\n",
       "Comedy         28.710284\n",
       "Action         22.115385\n",
       "Adventure      16.670151\n",
       "Animation      16.638796\n",
       "Crime          15.928094\n",
       "Documentary    12.876254\n",
       "Thriller        9.385452\n",
       "Mystery         8.894231\n",
       "Romance         8.800167\n",
       "Fantasy         5.612458\n",
       "Horror          5.413880\n",
       "Family          4.619565\n",
       "Reality-TV      3.867057\n",
       "History         3.616221\n",
       "Biography       3.250418\n",
       "Sci-Fi          3.166806\n",
       "Short           2.581522\n",
       "Music           2.090301\n",
       "Sport           2.006689\n",
       "Game-Show       1.024247\n",
       "Talk-Show       0.930184\n",
       "Musical         0.637542\n",
       "War             0.501672\n",
       "Western         0.250836\n",
       "News            0.240385\n",
       "Film-Noir       0.125418\n",
       "Name: count, dtype: float64"
      ]
     },
     "execution_count": 82,
     "metadata": {},
     "output_type": "execute_result"
    }
   ],
   "source": [
    "genre_counts = df['genre'].str.split(', ', expand=True).stack().value_counts()\n",
    "genre_ratio = genre_counts / len(df) * 100\n",
    "genre_ratio"
   ]
  },
  {
   "cell_type": "code",
   "execution_count": 83,
   "id": "c6a34124-e8ba-4751-8bcf-3a4de52f294d",
   "metadata": {},
   "outputs": [
    {
     "data": {
      "image/png": "[encoded data removed]",
      "text/plain": [
       "<Figure size 1000x600 with 1 Axes>"
      ]
     },
     "metadata": {},
     "output_type": "display_data"
    }
   ],
   "source": [
    "sns.set_style(\"whitegrid\")\n",
    "plt.figure(figsize=(10,6))\n",
    "ax = sns.barplot(x=genre_ratio.index, y=genre_ratio.values, palette=\"viridis\")\n",
    "\n",
    "for container in ax.containers:\n",
    "    ax.bar_label(container, fmt='%1.1f%%', label_type='edge', fontsize=8, color='black', padding=3)\n",
    "    \n",
    "ax.set(xlabel='Number of Movies', ylabel='Genres')\n",
    "plt.title(\"Distribution of Movie Genres\")\n",
    "plt.xticks(rotation=90)\n",
    "plt.show()"
   ]
  },
  {
   "cell_type": "markdown",
   "id": "5d1a0c5a-6f13-440a-add7-452d480c36f5",
   "metadata": {},
   "source": [
    "When we look at the distribution graphs of movie genres, it is observed that **drama movies** constitute **43%** of the data set."
   ]
  },
  {
   "cell_type": "markdown",
   "id": "17a4bae7-cd26-45d9-86af-4e515b869033",
   "metadata": {},
   "source": [
    "## <font color='indianred'> <b>Distribution of the 10 Most Released Genres</b><font color='black'> "
   ]
  },
  {
   "cell_type": "code",
   "execution_count": 84,
   "id": "7ca449b6-61b1-4577-9f93-c9a15f1a95bb",
   "metadata": {},
   "outputs": [
    {
     "data": {
      "text/plain": [
       "Drama          4124\n",
       "Comedy         2747\n",
       "Action         2116\n",
       "Adventure      1595\n",
       "Animation      1592\n",
       "Crime          1524\n",
       "Documentary    1232\n",
       "Thriller        898\n",
       "Mystery         851\n",
       "Romance         842\n",
       "Name: count, dtype: int64"
      ]
     },
     "execution_count": 84,
     "metadata": {},
     "output_type": "execute_result"
    }
   ],
   "source": [
    "top10_genres = df['genre'].str.split(', ', expand=True).stack().value_counts()[:10]\n",
    "top10_genres"
   ]
  },
  {
   "cell_type": "code",
   "execution_count": 85,
   "id": "77aecabe-8e11-4d89-a4ca-9cb20e64eb87",
   "metadata": {},
   "outputs": [
    {
     "data": {
      "image/png": "[encoded data removed]",
      "text/plain": [
       "<Figure size 700x700 with 1 Axes>"
      ]
     },
     "metadata": {},
     "output_type": "display_data"
    }
   ],
   "source": [
    "fig, ax = plt.subplots(figsize=(7, 7))\n",
    "\n",
    "ax.pie(top10_genres.values, labels=top10_genres.index,\n",
    "       autopct='%1.2f%%',\n",
    "       startangle=90,\n",
    "       shadow= 0.3,\n",
    "       colors = ['#ff9999','#66b3ff','#99ff99','#ffcc99', '#c2c2f0', '#ffb3e6', '#c4e17f', '#76d7c4', '#f7b7a3', '#f1a340'],\n",
    "       explode = [0.2, 0, 0, 0, 0, 0, 0, 0, 0, 0]\n",
    "      )\n",
    "\n",
    "ax.set_title('Distribution of the 10 Most Released Genres', fontsize=16, fontweight='bold', color= 'dimgrey')\n",
    "\n",
    "plt.show()"
   ]
  },
  {
   "cell_type": "markdown",
   "id": "75f4bc5e-90be-4ffe-ae3f-be2ec8c2bd15",
   "metadata": {},
   "source": [
    "## <font color='indianred'> <b>Top 10 Directors Who Directed the Most Movies</b><font color='black'> "
   ]
  },
  {
   "cell_type": "code",
   "execution_count": 86,
   "id": "94f7de74-fc51-4aea-aa0a-7911358106fc",
   "metadata": {},
   "outputs": [
    {
     "data": {
      "text/plain": [
       "Noriyuki Abe       66\n",
       "Adam Heydt         28\n",
       "Shinji Aramaki     25\n",
       "Kenji Kamiyama     24\n",
       "Brian Smith        21\n",
       "Oliver Driver      21\n",
       "Giancarlo Volpe    19\n",
       "Roy Burdine        17\n",
       "Manolo Caro        17\n",
       "Jay Karas          17\n",
       "Name: count, dtype: int64"
      ]
     },
     "execution_count": 86,
     "metadata": {},
     "output_type": "execute_result"
    }
   ],
   "source": [
    "# top 10 directors\n",
    "director_counts = df['director'].str.split(', ', expand=True).stack().value_counts()[1:11]\n",
    "director_counts"
   ]
  },
  {
   "cell_type": "code",
   "execution_count": 87,
   "id": "46e41165-d9fc-4145-9e8f-6a7f8ffcc12d",
   "metadata": {},
   "outputs": [
    {
     "data": {
      "image/png": "[encoded data removed]",
      "text/plain": [
       "<Figure size 1000x600 with 1 Axes>"
      ]
     },
     "metadata": {},
     "output_type": "display_data"
    }
   ],
   "source": [
    "sns.set_style(\"whitegrid\")\n",
    "plt.figure(figsize=(10,6))\n",
    "ax = sns.barplot(x=director_counts.values, y=director_counts.index, palette=\"plasma\")\n",
    "\n",
    "for container in ax.containers:\n",
    "    ax.bar_label(container, fmt='%d', label_type='edge', fontsize=12, color='black', padding=3)\n",
    "    \n",
    "ax.set(xlabel='Number of Movies', ylabel='Directors')\n",
    "plt.title(\"Top 10 Directors Who Directed the Most Movies\")\n",
    "plt.show()"
   ]
  },
  {
   "cell_type": "markdown",
   "id": "0c05f806-8f2d-48ef-af63-c904e55a90c6",
   "metadata": {},
   "source": [
    "## <font color='indianred'> <b>Top 10 Actors Who Acted In The Most Movies</b><font color='black'> "
   ]
  },
  {
   "cell_type": "code",
   "execution_count": 88,
   "id": "96f8d6ba-2a8a-44fb-8b2a-857f0d24dccf",
   "metadata": {},
   "outputs": [
    {
     "data": {
      "text/plain": [
       "Noriyuki Abe       66\n",
       "Adam Heydt         28\n",
       "Shinji Aramaki     25\n",
       "Kenji Kamiyama     24\n",
       "Brian Smith        21\n",
       "Oliver Driver      21\n",
       "Giancarlo Volpe    19\n",
       "Roy Burdine        17\n",
       "Manolo Caro        17\n",
       "Jay Karas          17\n",
       "Name: count, dtype: int64"
      ]
     },
     "execution_count": 88,
     "metadata": {},
     "output_type": "execute_result"
    }
   ],
   "source": [
    "actor_counts = df['director'].str.split(', ', expand=True).stack().value_counts()[1:11]\n",
    "actor_counts"
   ]
  },
  {
   "cell_type": "code",
   "execution_count": 89,
   "id": "02681487-b913-4299-9ac5-aff435f2daa2",
   "metadata": {},
   "outputs": [
    {
     "data": {
      "image/png": "[encoded data removed]",
      "text/plain": [
       "<Figure size 1000x600 with 1 Axes>"
      ]
     },
     "metadata": {},
     "output_type": "display_data"
    }
   ],
   "source": [
    "sns.set_style(\"whitegrid\")\n",
    "plt.figure(figsize=(10,6))\n",
    "ax = sns.barplot(x=actor_counts.values, y=actor_counts.index, palette=\"cool\")\n",
    "\n",
    "for container in ax.containers:\n",
    "    ax.bar_label(container, fmt='%d', label_type='edge', fontsize=12, color='black', padding=3)\n",
    "    \n",
    "ax.set(xlabel='Number of Movies', ylabel='Actors')\n",
    "plt.title(\"Top 10 Actors Who Acted In The Most Movies\")\n",
    "plt.show()"
   ]
  },
  {
   "cell_type": "markdown",
   "id": "65e75a01-3920-4dbd-8700-a722888bae3e",
   "metadata": {},
   "source": [
    "## <font color='indianred'> <b>Relationship Between Ratings and Number of Votes</b><font color='black'> "
   ]
  },
  {
   "cell_type": "code",
   "execution_count": 90,
   "id": "23cf47c4-8e5f-43b2-bfa2-8de8558782b9",
   "metadata": {},
   "outputs": [
    {
     "data": {
      "image/png": "[encoded data removed]",
      "text/plain": [
       "<Figure size 640x480 with 1 Axes>"
      ]
     },
     "metadata": {},
     "output_type": "display_data"
    }
   ],
   "source": [
    "plt.scatter(df['rating'], df['votes'], alpha=0.5)\n",
    "plt.title('Relationship Between Ratings and Number of Votes')\n",
    "plt.xlabel('Rating')\n",
    "plt.ylabel('Votes')\n",
    "plt.show()"
   ]
  },
  {
   "cell_type": "markdown",
   "id": "8a65537b-a668-4458-975c-0694ebb5e721",
   "metadata": {},
   "source": [
    "Relationship Between Rating and Votes:\n",
    " - For movies with low ratings (between 2-4) the number of votes is usually very low.\n",
    " - As the rating increases above 6, there is a significant increase in the number of votes.\n",
    " - The movies with the highest number of votes are usually movies rated around 8.d 8.\n",
    "\n",
    "The chart shows a concentration of high ratings (8-10) and mid-range vote counts (between 100,000-500,000). This can often mean that more popular and acclaimed movies receive more votes."
   ]
  },
  {
   "cell_type": "markdown",
   "id": "c56202e5-ae6f-4a1f-aad1-2b1314ec4ea1",
   "metadata": {},
   "source": [
    "**This chart shows that popular movies generally tend to be rated better, and as a result, they tend to be rated by more people.**"
   ]
  },
  {
   "cell_type": "markdown",
   "id": "cd1794f3-184c-46d9-930b-e803cda0fb4a",
   "metadata": {},
   "source": [
    "## <font color='indianred'> <b>Movies Data Set Correlation</b><font color='black'> "
   ]
  },
  {
   "cell_type": "code",
   "execution_count": 91,
   "id": "674f6d56-8cba-4e3c-a96f-557b0bcf7c4e",
   "metadata": {},
   "outputs": [
    {
     "data": {
      "image/png": "[encoded data removed]",
      "text/plain": [
       "<Figure size 1000x800 with 2 Axes>"
      ]
     },
     "metadata": {},
     "output_type": "display_data"
    }
   ],
   "source": [
    "plt.figure(figsize=(10, 8))\n",
    "\n",
    "numeric_df = df.select_dtypes(exclude=\"object\")\n",
    "\n",
    "sns.heatmap(numeric_df.corr(), annot=True, cmap='coolwarm')\n",
    "plt.title('Movies Data Set Correlation', fontsize=18)\n",
    "plt.show()"
   ]
  },
  {
   "cell_type": "markdown",
   "id": "f8662e49-f2bc-4708-a64b-beff38cafec9",
   "metadata": {},
   "source": [
    "The correlation matrix allows analyzing the relationships between numerical columns in the data set.\n",
    " - **Positive correlation (close to +1):** Two variables increase together (e.g., when one variable increases, the other also increases).\n",
    " - **Negative correlation (close to -1)**: As one variable increases, the other decreases (inverse relationship)\n",
    " - **No correlation (around 0**): There is no significant relationship between two variables."
   ]
  },
  {
   "cell_type": "markdown",
   "id": "45c93898-9f75-4123-a053-a3de0fc1178c",
   "metadata": {},
   "source": [
    "**There is a positive correlation between the variables votes and gross (0.59). This means that movies with more ratings generally generate more revenue. Logically, popular movies receive more ratings, which can contribute to their higher revenue.**"
   ]
  },
  {
   "cell_type": "markdown",
   "id": "4fefb04f-f51a-4124-b72d-146e19870ab4",
   "metadata": {},
   "source": [
    "<p style=\"background-color:firebrick;font-family:newtimeroman;font-size:200%;color:white;text-align:center;border-radius:20px 20px;\"><b>THANK YOU!</b></p>"
   ]
  }
 ],
 "metadata": {
  "kernelspec": {
   "display_name": "Python 3 (ipykernel)",
   "language": "python",
   "name": "python3"
  },
  "language_info": {
   "codemirror_mode": {
    "name": "ipython",
    "version": 3
   },
   "file_extension": ".py",
   "mimetype": "text/x-python",
   "name": "python",
   "nbconvert_exporter": "python",
   "pygments_lexer": "ipython3",
   "version": "3.12.4"
  }
 },
 "nbformat": 4,
 "nbformat_minor": 5
}

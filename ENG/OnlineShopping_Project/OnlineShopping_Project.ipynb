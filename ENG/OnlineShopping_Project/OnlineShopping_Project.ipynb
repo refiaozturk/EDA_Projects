{
 "cells": [
  {
   "cell_type": "markdown",
   "id": "c12a5498-88ba-4e99-8b80-7e25b24e57fd",
   "metadata": {},
   "source": [
    "<p style=\"background-color:lightblue;font-family:newtimeroman;font-size:200%;color:black;text-align:center;border-radius:20px 20px;\"><b>EDA Project - Online Shopping</b></p>"
   ]
  },
  {
   "cell_type": "markdown",
   "id": "8060c39b-4167-4d07-8545-d2c780ad3079",
   "metadata": {},
   "source": [
    "<b>Contains:</b>\n",
    "<ul>\n",
    "<li><a href=\"#import-library\">Importing Libraries</a></li>\n",
    "<li><a href=\"#loading-dataset\">Loading The Dataset</a></li>\n",
    "<li><a href=\"#understanding-dataset\">Understanding The Dataset</a></li>\n",
    "<li><a href=\"#organizing-columns\">Organizing Columns</a></li>\n",
    "<li><a href=\"#nan-values\">NaN Values</a></li>\n",
    "<li><a href=\"#data-visualization\">Data Visualization</a></li>\n",
    "<li><a href=\"#conclusion\">Conclusion</a></li>\n",
    "</ul>"
   ]
  },
  {
   "cell_type": "markdown",
   "id": "f8b1370e-f85d-4452-8786-18150abff29e",
   "metadata": {},
   "source": [
    "<a id='import-library'></a>\n",
    "# <font color='navy'> <b>Importing Libraries</b><font color='black'> "
   ]
  },
  {
   "cell_type": "code",
   "execution_count": 44,
   "id": "0496b9e6-1312-4473-8642-22e6d458be77",
   "metadata": {},
   "outputs": [],
   "source": [
    "import numpy as np\n",
    "import pandas as pd\n",
    "import matplotlib.pyplot as plt\n",
    "import seaborn as sns\n",
    "\n",
    "import missingno as msno\n",
    "import plotly.express as px\n",
    "\n",
    "from skimpy import skim\n",
    "\n",
    "import warnings\n",
    "warnings.filterwarnings(\"ignore\")\n",
    "\n",
    "pd.set_option('display.max_columns', None)\n",
    "pd.set_option('display.max_rows', None)"
   ]
  },
  {
   "cell_type": "markdown",
   "id": "e181e802-374f-4270-b3f0-140355587b7e",
   "metadata": {},
   "source": [
    "<a id='loading-dataset'></a>\n",
    "# <font color='navy'> <b>Loading The Dataset</b><font color='black'> "
   ]
  },
  {
   "cell_type": "code",
   "execution_count": 46,
   "id": "836a5204-157e-4972-b774-36eecf2a369d",
   "metadata": {},
   "outputs": [],
   "source": [
    "df0 = pd.read_csv(\"dataset.csv\")\n",
    "df = df0.copy()"
   ]
  },
  {
   "cell_type": "code",
   "execution_count": 47,
   "id": "ccb01142-8b59-4660-8d94-e126c36cabf1",
   "metadata": {},
   "outputs": [
    {
     "data": {
      "text/html": [
       "<div>\n",
       "<style scoped>\n",
       "    .dataframe tbody tr th:only-of-type {\n",
       "        vertical-align: middle;\n",
       "    }\n",
       "\n",
       "    .dataframe tbody tr th {\n",
       "        vertical-align: top;\n",
       "    }\n",
       "\n",
       "    .dataframe thead th {\n",
       "        text-align: right;\n",
       "    }\n",
       "</style>\n",
       "<table border=\"1\" class=\"dataframe\">\n",
       "  <thead>\n",
       "    <tr style=\"text-align: right;\">\n",
       "      <th></th>\n",
       "      <th>User ID</th>\n",
       "      <th>Age</th>\n",
       "      <th>Gender</th>\n",
       "      <th>Country</th>\n",
       "      <th>Purchase Amount</th>\n",
       "      <th>Purchase Date</th>\n",
       "      <th>Product Category</th>\n",
       "    </tr>\n",
       "  </thead>\n",
       "  <tbody>\n",
       "    <tr>\n",
       "      <th>0</th>\n",
       "      <td>1</td>\n",
       "      <td>56.0</td>\n",
       "      <td>Female</td>\n",
       "      <td>USA</td>\n",
       "      <td>331.79</td>\n",
       "      <td>2021-11-21</td>\n",
       "      <td>Sports</td>\n",
       "    </tr>\n",
       "    <tr>\n",
       "      <th>1</th>\n",
       "      <td>2</td>\n",
       "      <td>69.0</td>\n",
       "      <td>Male</td>\n",
       "      <td>Australia</td>\n",
       "      <td>335.72</td>\n",
       "      <td>2022-03-05</td>\n",
       "      <td>Home &amp; Kitchen</td>\n",
       "    </tr>\n",
       "    <tr>\n",
       "      <th>2</th>\n",
       "      <td>3</td>\n",
       "      <td>46.0</td>\n",
       "      <td>NaN</td>\n",
       "      <td>Germany</td>\n",
       "      <td>493.18</td>\n",
       "      <td>NaN</td>\n",
       "      <td>Books</td>\n",
       "    </tr>\n",
       "    <tr>\n",
       "      <th>3</th>\n",
       "      <td>4</td>\n",
       "      <td>32.0</td>\n",
       "      <td>Male</td>\n",
       "      <td>Germany</td>\n",
       "      <td>80.97</td>\n",
       "      <td>2023-06-08</td>\n",
       "      <td>Sports</td>\n",
       "    </tr>\n",
       "    <tr>\n",
       "      <th>4</th>\n",
       "      <td>5</td>\n",
       "      <td>60.0</td>\n",
       "      <td>Female</td>\n",
       "      <td>UK</td>\n",
       "      <td>21.75</td>\n",
       "      <td>NaN</td>\n",
       "      <td>Beauty</td>\n",
       "    </tr>\n",
       "  </tbody>\n",
       "</table>\n",
       "</div>"
      ],
      "text/plain": [
       "   User ID   Age  Gender    Country  Purchase Amount Purchase Date  \\\n",
       "0        1  56.0  Female        USA           331.79    2021-11-21   \n",
       "1        2  69.0    Male  Australia           335.72    2022-03-05   \n",
       "2        3  46.0     NaN    Germany           493.18           NaN   \n",
       "3        4  32.0    Male    Germany            80.97    2023-06-08   \n",
       "4        5  60.0  Female         UK            21.75           NaN   \n",
       "\n",
       "  Product Category  \n",
       "0           Sports  \n",
       "1   Home & Kitchen  \n",
       "2            Books  \n",
       "3           Sports  \n",
       "4           Beauty  "
      ]
     },
     "execution_count": 47,
     "metadata": {},
     "output_type": "execute_result"
    }
   ],
   "source": [
    "df.head()"
   ]
  },
  {
   "cell_type": "code",
   "execution_count": 48,
   "id": "b4419e43-5566-423b-b2b4-fba2864e6f1f",
   "metadata": {},
   "outputs": [
    {
     "data": {
      "text/html": [
       "<div>\n",
       "<style scoped>\n",
       "    .dataframe tbody tr th:only-of-type {\n",
       "        vertical-align: middle;\n",
       "    }\n",
       "\n",
       "    .dataframe tbody tr th {\n",
       "        vertical-align: top;\n",
       "    }\n",
       "\n",
       "    .dataframe thead th {\n",
       "        text-align: right;\n",
       "    }\n",
       "</style>\n",
       "<table border=\"1\" class=\"dataframe\">\n",
       "  <thead>\n",
       "    <tr style=\"text-align: right;\">\n",
       "      <th></th>\n",
       "      <th>User ID</th>\n",
       "      <th>Age</th>\n",
       "      <th>Gender</th>\n",
       "      <th>Country</th>\n",
       "      <th>Purchase Amount</th>\n",
       "      <th>Purchase Date</th>\n",
       "      <th>Product Category</th>\n",
       "    </tr>\n",
       "  </thead>\n",
       "  <tbody>\n",
       "    <tr>\n",
       "      <th>2940</th>\n",
       "      <td>2941</td>\n",
       "      <td>45.0</td>\n",
       "      <td>Other</td>\n",
       "      <td>USA</td>\n",
       "      <td>NaN</td>\n",
       "      <td>2022-04-26</td>\n",
       "      <td>Home &amp; Kitchen</td>\n",
       "    </tr>\n",
       "    <tr>\n",
       "      <th>11166</th>\n",
       "      <td>11167</td>\n",
       "      <td>61.0</td>\n",
       "      <td>Male</td>\n",
       "      <td>Canada</td>\n",
       "      <td>183.26</td>\n",
       "      <td>2020-10-17</td>\n",
       "      <td>Books</td>\n",
       "    </tr>\n",
       "    <tr>\n",
       "      <th>6283</th>\n",
       "      <td>6284</td>\n",
       "      <td>23.0</td>\n",
       "      <td>Female</td>\n",
       "      <td>Germany</td>\n",
       "      <td>398.76</td>\n",
       "      <td>2020-04-11</td>\n",
       "      <td>Books</td>\n",
       "    </tr>\n",
       "    <tr>\n",
       "      <th>12530</th>\n",
       "      <td>12531</td>\n",
       "      <td>65.0</td>\n",
       "      <td>Male</td>\n",
       "      <td>Canada</td>\n",
       "      <td>246.23</td>\n",
       "      <td>NaN</td>\n",
       "      <td>Sports</td>\n",
       "    </tr>\n",
       "    <tr>\n",
       "      <th>11657</th>\n",
       "      <td>11658</td>\n",
       "      <td>NaN</td>\n",
       "      <td>Other</td>\n",
       "      <td>UK</td>\n",
       "      <td>482.82</td>\n",
       "      <td>2020-12-10</td>\n",
       "      <td>Books</td>\n",
       "    </tr>\n",
       "  </tbody>\n",
       "</table>\n",
       "</div>"
      ],
      "text/plain": [
       "       User ID   Age  Gender  Country  Purchase Amount Purchase Date  \\\n",
       "2940      2941  45.0   Other      USA              NaN    2022-04-26   \n",
       "11166    11167  61.0    Male   Canada           183.26    2020-10-17   \n",
       "6283      6284  23.0  Female  Germany           398.76    2020-04-11   \n",
       "12530    12531  65.0    Male   Canada           246.23           NaN   \n",
       "11657    11658   NaN   Other       UK           482.82    2020-12-10   \n",
       "\n",
       "      Product Category  \n",
       "2940    Home & Kitchen  \n",
       "11166            Books  \n",
       "6283             Books  \n",
       "12530           Sports  \n",
       "11657            Books  "
      ]
     },
     "execution_count": 48,
     "metadata": {},
     "output_type": "execute_result"
    }
   ],
   "source": [
    "df.sample(5)"
   ]
  },
  {
   "cell_type": "markdown",
   "id": "fb633969-c069-4df4-8f09-e86f5287880c",
   "metadata": {},
   "source": [
    "<a id='understanding-dataset'></a>\n",
    "# <font color='navy'> <b>Understanding The Dataset</b><font color='black'> "
   ]
  },
  {
   "cell_type": "code",
   "execution_count": 50,
   "id": "2e5efb26-fc09-4fc4-a899-4678d138ad0c",
   "metadata": {},
   "outputs": [
    {
     "data": {
      "text/plain": [
       "(15000, 7)"
      ]
     },
     "execution_count": 50,
     "metadata": {},
     "output_type": "execute_result"
    }
   ],
   "source": [
    "df.shape"
   ]
  },
  {
   "cell_type": "code",
   "execution_count": 51,
   "id": "b97da103-7a17-41c6-929b-c23df02d66b6",
   "metadata": {},
   "outputs": [
    {
     "name": "stdout",
     "output_type": "stream",
     "text": [
      "<class 'pandas.core.frame.DataFrame'>\n",
      "RangeIndex: 15000 entries, 0 to 14999\n",
      "Data columns (total 7 columns):\n",
      " #   Column            Non-Null Count  Dtype  \n",
      "---  ------            --------------  -----  \n",
      " 0   User ID           15000 non-null  int64  \n",
      " 1   Age               13500 non-null  float64\n",
      " 2   Gender            14250 non-null  object \n",
      " 3   Country           13800 non-null  object \n",
      " 4   Purchase Amount   13200 non-null  float64\n",
      " 5   Purchase Date     13950 non-null  object \n",
      " 6   Product Category  14100 non-null  object \n",
      "dtypes: float64(2), int64(1), object(4)\n",
      "memory usage: 820.4+ KB\n"
     ]
    }
   ],
   "source": [
    "df.info()"
   ]
  },
  {
   "cell_type": "code",
   "execution_count": 52,
   "id": "6de0d5fa-ab2a-4015-bdab-ca7709b5decd",
   "metadata": {},
   "outputs": [
    {
     "data": {
      "text/plain": [
       "User ID                0\n",
       "Age                 1500\n",
       "Gender               750\n",
       "Country             1200\n",
       "Purchase Amount     1800\n",
       "Purchase Date       1050\n",
       "Product Category     900\n",
       "dtype: int64"
      ]
     },
     "execution_count": 52,
     "metadata": {},
     "output_type": "execute_result"
    }
   ],
   "source": [
    "df.isnull().sum()"
   ]
  },
  {
   "cell_type": "code",
   "execution_count": 53,
   "id": "3257b750-4343-4168-987a-f24fa18035b6",
   "metadata": {},
   "outputs": [
    {
     "data": {
      "image/png": "[encoded data removed]",
      "text/plain": [
       "<Figure size 2500x1000 with 2 Axes>"
      ]
     },
     "metadata": {},
     "output_type": "display_data"
    }
   ],
   "source": [
    "msno.matrix(df);"
   ]
  },
  {
   "cell_type": "code",
   "execution_count": 54,
   "id": "20e8f316-ba06-47a2-8988-054265f7e298",
   "metadata": {},
   "outputs": [
    {
     "data": {
      "text/plain": [
       "User ID             15000\n",
       "Age                    52\n",
       "Gender                  3\n",
       "Country                 6\n",
       "Purchase Amount     11608\n",
       "Purchase Date        1460\n",
       "Product Category        6\n",
       "dtype: int64"
      ]
     },
     "execution_count": 54,
     "metadata": {},
     "output_type": "execute_result"
    }
   ],
   "source": [
    "df.nunique()"
   ]
  },
  {
   "cell_type": "code",
   "execution_count": 55,
   "id": "f4488689-1c46-4a89-b0fa-a99dcb1bf9d6",
   "metadata": {},
   "outputs": [
    {
     "data": {
      "text/plain": [
       "0"
      ]
     },
     "execution_count": 55,
     "metadata": {},
     "output_type": "execute_result"
    }
   ],
   "source": [
    "df.duplicated().sum()"
   ]
  },
  {
   "cell_type": "code",
   "execution_count": 56,
   "id": "692185ad-78f4-4b1b-a326-11120a3fbde0",
   "metadata": {},
   "outputs": [
    {
     "data": {
      "text/html": [
       "<div>\n",
       "<style scoped>\n",
       "    .dataframe tbody tr th:only-of-type {\n",
       "        vertical-align: middle;\n",
       "    }\n",
       "\n",
       "    .dataframe tbody tr th {\n",
       "        vertical-align: top;\n",
       "    }\n",
       "\n",
       "    .dataframe thead th {\n",
       "        text-align: right;\n",
       "    }\n",
       "</style>\n",
       "<table border=\"1\" class=\"dataframe\">\n",
       "  <thead>\n",
       "    <tr style=\"text-align: right;\">\n",
       "      <th></th>\n",
       "      <th>count</th>\n",
       "      <th>mean</th>\n",
       "      <th>std</th>\n",
       "      <th>min</th>\n",
       "      <th>25%</th>\n",
       "      <th>50%</th>\n",
       "      <th>75%</th>\n",
       "      <th>max</th>\n",
       "    </tr>\n",
       "  </thead>\n",
       "  <tbody>\n",
       "    <tr>\n",
       "      <th>User ID</th>\n",
       "      <td>15000.0</td>\n",
       "      <td>7500.50000</td>\n",
       "      <td>4330.271354</td>\n",
       "      <td>1.00</td>\n",
       "      <td>3750.750</td>\n",
       "      <td>7500.500</td>\n",
       "      <td>11250.250</td>\n",
       "      <td>15000.00</td>\n",
       "    </tr>\n",
       "    <tr>\n",
       "      <th>Age</th>\n",
       "      <td>13500.0</td>\n",
       "      <td>43.39600</td>\n",
       "      <td>14.927082</td>\n",
       "      <td>18.00</td>\n",
       "      <td>31.000</td>\n",
       "      <td>43.000</td>\n",
       "      <td>56.000</td>\n",
       "      <td>69.00</td>\n",
       "    </tr>\n",
       "    <tr>\n",
       "      <th>Purchase Amount</th>\n",
       "      <td>13200.0</td>\n",
       "      <td>253.21772</td>\n",
       "      <td>143.113919</td>\n",
       "      <td>5.05</td>\n",
       "      <td>130.335</td>\n",
       "      <td>253.645</td>\n",
       "      <td>378.585</td>\n",
       "      <td>499.95</td>\n",
       "    </tr>\n",
       "  </tbody>\n",
       "</table>\n",
       "</div>"
      ],
      "text/plain": [
       "                   count        mean          std    min       25%       50%  \\\n",
       "User ID          15000.0  7500.50000  4330.271354   1.00  3750.750  7500.500   \n",
       "Age              13500.0    43.39600    14.927082  18.00    31.000    43.000   \n",
       "Purchase Amount  13200.0   253.21772   143.113919   5.05   130.335   253.645   \n",
       "\n",
       "                       75%       max  \n",
       "User ID          11250.250  15000.00  \n",
       "Age                 56.000     69.00  \n",
       "Purchase Amount    378.585    499.95  "
      ]
     },
     "execution_count": 56,
     "metadata": {},
     "output_type": "execute_result"
    }
   ],
   "source": [
    "df.describe().T"
   ]
  },
  {
   "cell_type": "code",
   "execution_count": 57,
   "id": "6ef39172-19f9-4390-928b-c7d1799daeb1",
   "metadata": {},
   "outputs": [
    {
     "data": {
      "text/html": [
       "<div>\n",
       "<style scoped>\n",
       "    .dataframe tbody tr th:only-of-type {\n",
       "        vertical-align: middle;\n",
       "    }\n",
       "\n",
       "    .dataframe tbody tr th {\n",
       "        vertical-align: top;\n",
       "    }\n",
       "\n",
       "    .dataframe thead th {\n",
       "        text-align: right;\n",
       "    }\n",
       "</style>\n",
       "<table border=\"1\" class=\"dataframe\">\n",
       "  <thead>\n",
       "    <tr style=\"text-align: right;\">\n",
       "      <th></th>\n",
       "      <th>count</th>\n",
       "      <th>unique</th>\n",
       "      <th>top</th>\n",
       "      <th>freq</th>\n",
       "    </tr>\n",
       "  </thead>\n",
       "  <tbody>\n",
       "    <tr>\n",
       "      <th>Gender</th>\n",
       "      <td>14250</td>\n",
       "      <td>3</td>\n",
       "      <td>Female</td>\n",
       "      <td>4818</td>\n",
       "    </tr>\n",
       "    <tr>\n",
       "      <th>Country</th>\n",
       "      <td>13800</td>\n",
       "      <td>6</td>\n",
       "      <td>France</td>\n",
       "      <td>2444</td>\n",
       "    </tr>\n",
       "    <tr>\n",
       "      <th>Purchase Date</th>\n",
       "      <td>13950</td>\n",
       "      <td>1460</td>\n",
       "      <td>2022-04-28</td>\n",
       "      <td>26</td>\n",
       "    </tr>\n",
       "    <tr>\n",
       "      <th>Product Category</th>\n",
       "      <td>14100</td>\n",
       "      <td>6</td>\n",
       "      <td>Clothing</td>\n",
       "      <td>2444</td>\n",
       "    </tr>\n",
       "  </tbody>\n",
       "</table>\n",
       "</div>"
      ],
      "text/plain": [
       "                  count unique         top  freq\n",
       "Gender            14250      3      Female  4818\n",
       "Country           13800      6      France  2444\n",
       "Purchase Date     13950   1460  2022-04-28    26\n",
       "Product Category  14100      6    Clothing  2444"
      ]
     },
     "execution_count": 57,
     "metadata": {},
     "output_type": "execute_result"
    }
   ],
   "source": [
    "df.describe(include= \"object\").T"
   ]
  },
  {
   "cell_type": "code",
   "execution_count": 58,
   "id": "dcd48c58-df95-409c-b910-3e6eb095e45d",
   "metadata": {},
   "outputs": [
    {
     "data": {
      "text/html": [
       "<pre style=\"white-space:pre;overflow-x:auto;line-height:normal;font-family:Menlo,'DejaVu Sans Mono',consolas,'Courier New',monospace\">╭──────────────────────────────────────────────── skimpy summary ─────────────────────────────────────────────────╮\n",
       "│ <span style=\"font-style: italic\">         Data Summary         </span> <span style=\"font-style: italic\">      Data Types       </span>                                                          │\n",
       "│ ┏━━━━━━━━━━━━━━━━━━━┳━━━━━━━━┓ ┏━━━━━━━━━━━━━┳━━━━━━━┓                                                          │\n",
       "│ ┃<span style=\"color: #008080; text-decoration-color: #008080; font-weight: bold\"> dataframe         </span>┃<span style=\"color: #008080; text-decoration-color: #008080; font-weight: bold\"> Values </span>┃ ┃<span style=\"color: #008080; text-decoration-color: #008080; font-weight: bold\"> Column Type </span>┃<span style=\"color: #008080; text-decoration-color: #008080; font-weight: bold\"> Count </span>┃                                                          │\n",
       "│ ┡━━━━━━━━━━━━━━━━━━━╇━━━━━━━━┩ ┡━━━━━━━━━━━━━╇━━━━━━━┩                                                          │\n",
       "│ │ Number of rows    │ 15000  │ │ string      │ 4     │                                                          │\n",
       "│ │ Number of columns │ 7      │ │ float64     │ 2     │                                                          │\n",
       "│ └───────────────────┴────────┘ │ int32       │ 1     │                                                          │\n",
       "│                                └─────────────┴───────┘                                                          │\n",
       "│ <span style=\"font-style: italic\">                                                    number                                                    </span>  │\n",
       "│ ┏━━━━━━━━━━━━━━━━━━━━┳━━━━━━━┳━━━━━━━┳━━━━━━━━┳━━━━━━━━┳━━━━━━━┳━━━━━━━━┳━━━━━━━━┳━━━━━━━━┳━━━━━━━━┳━━━━━━━━━┓  │\n",
       "│ ┃<span style=\"font-weight: bold\"> column_name        </span>┃<span style=\"font-weight: bold\"> NA    </span>┃<span style=\"font-weight: bold\"> NA %  </span>┃<span style=\"font-weight: bold\"> mean   </span>┃<span style=\"font-weight: bold\"> sd     </span>┃<span style=\"font-weight: bold\"> p0    </span>┃<span style=\"font-weight: bold\"> p25    </span>┃<span style=\"font-weight: bold\"> p50    </span>┃<span style=\"font-weight: bold\"> p75    </span>┃<span style=\"font-weight: bold\"> p100   </span>┃<span style=\"font-weight: bold\"> hist    </span>┃  │\n",
       "│ ┡━━━━━━━━━━━━━━━━━━━━╇━━━━━━━╇━━━━━━━╇━━━━━━━━╇━━━━━━━━╇━━━━━━━╇━━━━━━━━╇━━━━━━━━╇━━━━━━━━╇━━━━━━━━╇━━━━━━━━━┩  │\n",
       "│ │ <span style=\"color: #af87ff; text-decoration-color: #af87ff\">User ID           </span> │ <span style=\"color: #008080; text-decoration-color: #008080\">    0</span> │ <span style=\"color: #008080; text-decoration-color: #008080\">    0</span> │ <span style=\"color: #008080; text-decoration-color: #008080\">  7500</span> │ <span style=\"color: #008080; text-decoration-color: #008080\">  4330</span> │ <span style=\"color: #008080; text-decoration-color: #008080\">    1</span> │ <span style=\"color: #008080; text-decoration-color: #008080\">  3751</span> │ <span style=\"color: #008080; text-decoration-color: #008080\">  7500</span> │ <span style=\"color: #008080; text-decoration-color: #008080\"> 11250</span> │ <span style=\"color: #008080; text-decoration-color: #008080\"> 15000</span> │ <span style=\"color: #008000; text-decoration-color: #008000\">▇▇▇▇▇▇ </span> │  │\n",
       "│ │ <span style=\"color: #af87ff; text-decoration-color: #af87ff\">Age               </span> │ <span style=\"color: #008080; text-decoration-color: #008080\"> 1500</span> │ <span style=\"color: #008080; text-decoration-color: #008080\">   10</span> │ <span style=\"color: #008080; text-decoration-color: #008080\">  43.4</span> │ <span style=\"color: #008080; text-decoration-color: #008080\"> 14.93</span> │ <span style=\"color: #008080; text-decoration-color: #008080\">   18</span> │ <span style=\"color: #008080; text-decoration-color: #008080\">    31</span> │ <span style=\"color: #008080; text-decoration-color: #008080\">    43</span> │ <span style=\"color: #008080; text-decoration-color: #008080\">    56</span> │ <span style=\"color: #008080; text-decoration-color: #008080\">    69</span> │ <span style=\"color: #008000; text-decoration-color: #008000\">▇▇▇▇▇▇ </span> │  │\n",
       "│ │ <span style=\"color: #af87ff; text-decoration-color: #af87ff\">Purchase Amount   </span> │ <span style=\"color: #008080; text-decoration-color: #008080\"> 1800</span> │ <span style=\"color: #008080; text-decoration-color: #008080\">   12</span> │ <span style=\"color: #008080; text-decoration-color: #008080\"> 253.2</span> │ <span style=\"color: #008080; text-decoration-color: #008080\"> 143.1</span> │ <span style=\"color: #008080; text-decoration-color: #008080\"> 5.05</span> │ <span style=\"color: #008080; text-decoration-color: #008080\"> 130.3</span> │ <span style=\"color: #008080; text-decoration-color: #008080\"> 253.6</span> │ <span style=\"color: #008080; text-decoration-color: #008080\"> 378.6</span> │ <span style=\"color: #008080; text-decoration-color: #008080\"> 499.9</span> │ <span style=\"color: #008000; text-decoration-color: #008000\">▇▇▇▇▇▇ </span> │  │\n",
       "│ └────────────────────┴───────┴───────┴────────┴────────┴───────┴────────┴────────┴────────┴────────┴─────────┘  │\n",
       "│ <span style=\"font-style: italic\">                                                    string                                                    </span>  │\n",
       "│ ┏━━━━━━━━━━━━━━━━━━━━━━━━━━━━━━━━━┳━━━━━━━━━━━┳━━━━━━━━━━━┳━━━━━━━━━━━━━━━━━━━━━━━━━━━┳━━━━━━━━━━━━━━━━━━━━━━┓  │\n",
       "│ ┃<span style=\"font-weight: bold\"> column_name                     </span>┃<span style=\"font-weight: bold\"> NA        </span>┃<span style=\"font-weight: bold\"> NA %      </span>┃<span style=\"font-weight: bold\"> words per row             </span>┃<span style=\"font-weight: bold\"> total words          </span>┃  │\n",
       "│ ┡━━━━━━━━━━━━━━━━━━━━━━━━━━━━━━━━━╇━━━━━━━━━━━╇━━━━━━━━━━━╇━━━━━━━━━━━━━━━━━━━━━━━━━━━╇━━━━━━━━━━━━━━━━━━━━━━┩  │\n",
       "│ │ <span style=\"color: #af87ff; text-decoration-color: #af87ff\">Gender                         </span> │ <span style=\"color: #008080; text-decoration-color: #008080\">      750</span> │ <span style=\"color: #008080; text-decoration-color: #008080\">        5</span> │ <span style=\"color: #008080; text-decoration-color: #008080\">                     0.95</span> │ <span style=\"color: #008080; text-decoration-color: #008080\">               14250</span> │  │\n",
       "│ │ <span style=\"color: #af87ff; text-decoration-color: #af87ff\">Country                        </span> │ <span style=\"color: #008080; text-decoration-color: #008080\">     1200</span> │ <span style=\"color: #008080; text-decoration-color: #008080\">        8</span> │ <span style=\"color: #008080; text-decoration-color: #008080\">                     0.92</span> │ <span style=\"color: #008080; text-decoration-color: #008080\">               13800</span> │  │\n",
       "│ │ <span style=\"color: #af87ff; text-decoration-color: #af87ff\">Purchase Date                  </span> │ <span style=\"color: #008080; text-decoration-color: #008080\">     1050</span> │ <span style=\"color: #008080; text-decoration-color: #008080\">        7</span> │ <span style=\"color: #008080; text-decoration-color: #008080\">                     0.93</span> │ <span style=\"color: #008080; text-decoration-color: #008080\">               13950</span> │  │\n",
       "│ │ <span style=\"color: #af87ff; text-decoration-color: #af87ff\">Product Category               </span> │ <span style=\"color: #008080; text-decoration-color: #008080\">      900</span> │ <span style=\"color: #008080; text-decoration-color: #008080\">        6</span> │ <span style=\"color: #008080; text-decoration-color: #008080\">                      1.3</span> │ <span style=\"color: #008080; text-decoration-color: #008080\">               18818</span> │  │\n",
       "│ └─────────────────────────────────┴───────────┴───────────┴───────────────────────────┴──────────────────────┘  │\n",
       "╰────────────────────────────────────────────────────── End ──────────────────────────────────────────────────────╯\n",
       "</pre>\n"
      ],
      "text/plain": [
       "╭──────────────────────────────────────────────── skimpy summary ─────────────────────────────────────────────────╮\n",
       "│ \u001b[3m         Data Summary         \u001b[0m \u001b[3m      Data Types       \u001b[0m                                                          │\n",
       "│ ┏━━━━━━━━━━━━━━━━━━━┳━━━━━━━━┓ ┏━━━━━━━━━━━━━┳━━━━━━━┓                                                          │\n",
       "│ ┃\u001b[1;36m \u001b[0m\u001b[1;36mdataframe        \u001b[0m\u001b[1;36m \u001b[0m┃\u001b[1;36m \u001b[0m\u001b[1;36mValues\u001b[0m\u001b[1;36m \u001b[0m┃ ┃\u001b[1;36m \u001b[0m\u001b[1;36mColumn Type\u001b[0m\u001b[1;36m \u001b[0m┃\u001b[1;36m \u001b[0m\u001b[1;36mCount\u001b[0m\u001b[1;36m \u001b[0m┃                                                          │\n",
       "│ ┡━━━━━━━━━━━━━━━━━━━╇━━━━━━━━┩ ┡━━━━━━━━━━━━━╇━━━━━━━┩                                                          │\n",
       "│ │ Number of rows    │ 15000  │ │ string      │ 4     │                                                          │\n",
       "│ │ Number of columns │ 7      │ │ float64     │ 2     │                                                          │\n",
       "│ └───────────────────┴────────┘ │ int32       │ 1     │                                                          │\n",
       "│                                └─────────────┴───────┘                                                          │\n",
       "│ \u001b[3m                                                    number                                                    \u001b[0m  │\n",
       "│ ┏━━━━━━━━━━━━━━━━━━━━┳━━━━━━━┳━━━━━━━┳━━━━━━━━┳━━━━━━━━┳━━━━━━━┳━━━━━━━━┳━━━━━━━━┳━━━━━━━━┳━━━━━━━━┳━━━━━━━━━┓  │\n",
       "│ ┃\u001b[1m \u001b[0m\u001b[1mcolumn_name       \u001b[0m\u001b[1m \u001b[0m┃\u001b[1m \u001b[0m\u001b[1mNA   \u001b[0m\u001b[1m \u001b[0m┃\u001b[1m \u001b[0m\u001b[1mNA % \u001b[0m\u001b[1m \u001b[0m┃\u001b[1m \u001b[0m\u001b[1mmean  \u001b[0m\u001b[1m \u001b[0m┃\u001b[1m \u001b[0m\u001b[1msd    \u001b[0m\u001b[1m \u001b[0m┃\u001b[1m \u001b[0m\u001b[1mp0   \u001b[0m\u001b[1m \u001b[0m┃\u001b[1m \u001b[0m\u001b[1mp25   \u001b[0m\u001b[1m \u001b[0m┃\u001b[1m \u001b[0m\u001b[1mp50   \u001b[0m\u001b[1m \u001b[0m┃\u001b[1m \u001b[0m\u001b[1mp75   \u001b[0m\u001b[1m \u001b[0m┃\u001b[1m \u001b[0m\u001b[1mp100  \u001b[0m\u001b[1m \u001b[0m┃\u001b[1m \u001b[0m\u001b[1mhist   \u001b[0m\u001b[1m \u001b[0m┃  │\n",
       "│ ┡━━━━━━━━━━━━━━━━━━━━╇━━━━━━━╇━━━━━━━╇━━━━━━━━╇━━━━━━━━╇━━━━━━━╇━━━━━━━━╇━━━━━━━━╇━━━━━━━━╇━━━━━━━━╇━━━━━━━━━┩  │\n",
       "│ │ \u001b[38;5;141mUser ID           \u001b[0m │ \u001b[36m    0\u001b[0m │ \u001b[36m    0\u001b[0m │ \u001b[36m  7500\u001b[0m │ \u001b[36m  4330\u001b[0m │ \u001b[36m    1\u001b[0m │ \u001b[36m  3751\u001b[0m │ \u001b[36m  7500\u001b[0m │ \u001b[36m 11250\u001b[0m │ \u001b[36m 15000\u001b[0m │ \u001b[32m▇▇▇▇▇▇ \u001b[0m │  │\n",
       "│ │ \u001b[38;5;141mAge               \u001b[0m │ \u001b[36m 1500\u001b[0m │ \u001b[36m   10\u001b[0m │ \u001b[36m  43.4\u001b[0m │ \u001b[36m 14.93\u001b[0m │ \u001b[36m   18\u001b[0m │ \u001b[36m    31\u001b[0m │ \u001b[36m    43\u001b[0m │ \u001b[36m    56\u001b[0m │ \u001b[36m    69\u001b[0m │ \u001b[32m▇▇▇▇▇▇ \u001b[0m │  │\n",
       "│ │ \u001b[38;5;141mPurchase Amount   \u001b[0m │ \u001b[36m 1800\u001b[0m │ \u001b[36m   12\u001b[0m │ \u001b[36m 253.2\u001b[0m │ \u001b[36m 143.1\u001b[0m │ \u001b[36m 5.05\u001b[0m │ \u001b[36m 130.3\u001b[0m │ \u001b[36m 253.6\u001b[0m │ \u001b[36m 378.6\u001b[0m │ \u001b[36m 499.9\u001b[0m │ \u001b[32m▇▇▇▇▇▇ \u001b[0m │  │\n",
       "│ └────────────────────┴───────┴───────┴────────┴────────┴───────┴────────┴────────┴────────┴────────┴─────────┘  │\n",
       "│ \u001b[3m                                                    string                                                    \u001b[0m  │\n",
       "│ ┏━━━━━━━━━━━━━━━━━━━━━━━━━━━━━━━━━┳━━━━━━━━━━━┳━━━━━━━━━━━┳━━━━━━━━━━━━━━━━━━━━━━━━━━━┳━━━━━━━━━━━━━━━━━━━━━━┓  │\n",
       "│ ┃\u001b[1m \u001b[0m\u001b[1mcolumn_name                    \u001b[0m\u001b[1m \u001b[0m┃\u001b[1m \u001b[0m\u001b[1mNA       \u001b[0m\u001b[1m \u001b[0m┃\u001b[1m \u001b[0m\u001b[1mNA %     \u001b[0m\u001b[1m \u001b[0m┃\u001b[1m \u001b[0m\u001b[1mwords per row            \u001b[0m\u001b[1m \u001b[0m┃\u001b[1m \u001b[0m\u001b[1mtotal words         \u001b[0m\u001b[1m \u001b[0m┃  │\n",
       "│ ┡━━━━━━━━━━━━━━━━━━━━━━━━━━━━━━━━━╇━━━━━━━━━━━╇━━━━━━━━━━━╇━━━━━━━━━━━━━━━━━━━━━━━━━━━╇━━━━━━━━━━━━━━━━━━━━━━┩  │\n",
       "│ │ \u001b[38;5;141mGender                         \u001b[0m │ \u001b[36m      750\u001b[0m │ \u001b[36m        5\u001b[0m │ \u001b[36m                     0.95\u001b[0m │ \u001b[36m               14250\u001b[0m │  │\n",
       "│ │ \u001b[38;5;141mCountry                        \u001b[0m │ \u001b[36m     1200\u001b[0m │ \u001b[36m        8\u001b[0m │ \u001b[36m                     0.92\u001b[0m │ \u001b[36m               13800\u001b[0m │  │\n",
       "│ │ \u001b[38;5;141mPurchase Date                  \u001b[0m │ \u001b[36m     1050\u001b[0m │ \u001b[36m        7\u001b[0m │ \u001b[36m                     0.93\u001b[0m │ \u001b[36m               13950\u001b[0m │  │\n",
       "│ │ \u001b[38;5;141mProduct Category               \u001b[0m │ \u001b[36m      900\u001b[0m │ \u001b[36m        6\u001b[0m │ \u001b[36m                      1.3\u001b[0m │ \u001b[36m               18818\u001b[0m │  │\n",
       "│ └─────────────────────────────────┴───────────┴───────────┴───────────────────────────┴──────────────────────┘  │\n",
       "╰────────────────────────────────────────────────────── End ──────────────────────────────────────────────────────╯\n"
      ]
     },
     "metadata": {},
     "output_type": "display_data"
    }
   ],
   "source": [
    "skim(df)"
   ]
  },
  {
   "cell_type": "markdown",
   "id": "b49a6e59-a6da-4889-a47a-f2e83d3b16e1",
   "metadata": {},
   "source": [
    "<a id='organizing-columns'></a>\n",
    "# <font color='navy'> <b>Organizing Columns</b><font color='black'> "
   ]
  },
  {
   "cell_type": "code",
   "execution_count": 60,
   "id": "1f8b0ed9-94c0-471e-b021-55a3c0694fe1",
   "metadata": {},
   "outputs": [
    {
     "data": {
      "text/plain": [
       "Index(['User ID', 'Age', 'Gender', 'Country', 'Purchase Amount',\n",
       "       'Purchase Date', 'Product Category'],\n",
       "      dtype='object')"
      ]
     },
     "execution_count": 60,
     "metadata": {},
     "output_type": "execute_result"
    }
   ],
   "source": [
    "df.columns"
   ]
  },
  {
   "cell_type": "code",
   "execution_count": 61,
   "id": "781116d8-d252-4630-a6dc-fa6eb4907244",
   "metadata": {},
   "outputs": [],
   "source": [
    "df.columns = df.columns.str.lower()"
   ]
  },
  {
   "cell_type": "code",
   "execution_count": 62,
   "id": "f5b3412a-6869-4ff8-bb6f-e62b9d72959d",
   "metadata": {},
   "outputs": [],
   "source": [
    "df.columns = ['user_id', 'age', 'gender', 'country', 'purchase_amount',\n",
    "       'purchase_date', 'category']"
   ]
  },
  {
   "cell_type": "code",
   "execution_count": 63,
   "id": "b3986aeb-4e16-4e85-88f7-dee1d75afd03",
   "metadata": {},
   "outputs": [
    {
     "data": {
      "text/plain": [
       "Index(['user_id', 'age', 'gender', 'country', 'purchase_amount',\n",
       "       'purchase_date', 'category'],\n",
       "      dtype='object')"
      ]
     },
     "execution_count": 63,
     "metadata": {},
     "output_type": "execute_result"
    }
   ],
   "source": [
    "df.columns"
   ]
  },
  {
   "cell_type": "markdown",
   "id": "375e753c-1975-4acc-8471-1a855b567229",
   "metadata": {},
   "source": [
    "## <font color='#40E0D0'> <b>\"age\" Column</b><font color='black'> "
   ]
  },
  {
   "cell_type": "code",
   "execution_count": 65,
   "id": "5189edf9-94b5-48d9-8849-dfa34112933f",
   "metadata": {},
   "outputs": [
    {
     "data": {
      "text/plain": [
       "array([56., 69., 46., 32., 60., nan, 38., 36., 40., 28., 41., 53., 57.,\n",
       "       20., 19., 61., 55., 50., 29., 39., 42., 66., 44., 59., 33., 64.,\n",
       "       68., 54., 26., 35., 21., 31., 67., 43., 37., 24., 25., 34., 23.,\n",
       "       51., 27., 48., 65., 62., 58., 18., 52., 22., 45., 49., 47., 30.,\n",
       "       63.])"
      ]
     },
     "execution_count": 65,
     "metadata": {},
     "output_type": "execute_result"
    }
   ],
   "source": [
    "df.age.unique()"
   ]
  },
  {
   "cell_type": "code",
   "execution_count": 66,
   "id": "d68fd557-54c7-4e24-99a8-2ec77a0144cc",
   "metadata": {},
   "outputs": [
    {
     "data": {
      "text/plain": [
       "1500"
      ]
     },
     "execution_count": 66,
     "metadata": {},
     "output_type": "execute_result"
    }
   ],
   "source": [
    "df.age.isnull().sum()"
   ]
  },
  {
   "cell_type": "code",
   "execution_count": 67,
   "id": "9f14f63c-5f52-49d8-85a8-c39d2ded5da5",
   "metadata": {},
   "outputs": [
    {
     "data": {
      "text/plain": [
       "dtype('float64')"
      ]
     },
     "execution_count": 67,
     "metadata": {},
     "output_type": "execute_result"
    }
   ],
   "source": [
    "df.age.dtype"
   ]
  },
  {
   "cell_type": "markdown",
   "id": "97a3218b-72fe-4df4-a211-a3519ccb3658",
   "metadata": {},
   "source": [
    "The dtype of the age column will be changed after filling the NaN values."
   ]
  },
  {
   "cell_type": "markdown",
   "id": "25673cc5-3643-40a3-9e04-fd0d124cc55e",
   "metadata": {},
   "source": [
    "## <font color='#40E0D0'> <b>\"gender\" Column</b><font color='black'> "
   ]
  },
  {
   "cell_type": "code",
   "execution_count": 70,
   "id": "94b8f5f2-90a0-4f70-b107-ecf5865e1d04",
   "metadata": {},
   "outputs": [
    {
     "data": {
      "text/plain": [
       "array(['Female', 'Male', nan, 'Other'], dtype=object)"
      ]
     },
     "execution_count": 70,
     "metadata": {},
     "output_type": "execute_result"
    }
   ],
   "source": [
    "df.gender.unique()"
   ]
  },
  {
   "cell_type": "code",
   "execution_count": 71,
   "id": "587dc9dd-d6cb-4852-b94f-57271767a00f",
   "metadata": {},
   "outputs": [
    {
     "data": {
      "text/plain": [
       "750"
      ]
     },
     "execution_count": 71,
     "metadata": {},
     "output_type": "execute_result"
    }
   ],
   "source": [
    "df.gender.isnull().sum()"
   ]
  },
  {
   "cell_type": "code",
   "execution_count": 72,
   "id": "e51f191f-c0d3-42a8-a8d9-dfc9d08796e9",
   "metadata": {},
   "outputs": [
    {
     "data": {
      "text/plain": [
       "dtype('O')"
      ]
     },
     "execution_count": 72,
     "metadata": {},
     "output_type": "execute_result"
    }
   ],
   "source": [
    "df.gender.dtype"
   ]
  },
  {
   "cell_type": "markdown",
   "id": "2b524c5b-2431-4a67-8930-ec037b7a96a2",
   "metadata": {},
   "source": [
    "The dtype of the gender column will be changed after filling the NaN values."
   ]
  },
  {
   "cell_type": "markdown",
   "id": "9e45d604-7d01-4529-b995-75a3a7ebed2f",
   "metadata": {},
   "source": [
    "## <font color='#40E0D0'> <b>\"country\" Column</b><font color='black'> "
   ]
  },
  {
   "cell_type": "code",
   "execution_count": 75,
   "id": "2b0bdf39-7ee6-4e0a-b1f4-e3a489869be9",
   "metadata": {},
   "outputs": [
    {
     "data": {
      "text/plain": [
       "array(['USA', 'Australia', 'Germany', 'UK', 'France', 'Canada', nan],\n",
       "      dtype=object)"
      ]
     },
     "execution_count": 75,
     "metadata": {},
     "output_type": "execute_result"
    }
   ],
   "source": [
    "df.country.unique()"
   ]
  },
  {
   "cell_type": "code",
   "execution_count": 76,
   "id": "c3222384-26fe-45af-903c-794cf5f1b6f8",
   "metadata": {},
   "outputs": [
    {
     "data": {
      "text/plain": [
       "1200"
      ]
     },
     "execution_count": 76,
     "metadata": {},
     "output_type": "execute_result"
    }
   ],
   "source": [
    "df.country.isnull().sum()"
   ]
  },
  {
   "cell_type": "code",
   "execution_count": 77,
   "id": "7144af68-a2f2-4364-99ed-cfa26e2ea0a9",
   "metadata": {},
   "outputs": [
    {
     "data": {
      "text/plain": [
       "dtype('O')"
      ]
     },
     "execution_count": 77,
     "metadata": {},
     "output_type": "execute_result"
    }
   ],
   "source": [
    "df.country.dtype"
   ]
  },
  {
   "cell_type": "markdown",
   "id": "8fc06585-8e2f-4a51-a08d-700b17f0afe1",
   "metadata": {},
   "source": [
    "The dtype of the country column will be changed after filling the NaN values."
   ]
  },
  {
   "cell_type": "markdown",
   "id": "65dbaf1e-de2a-4d3a-bdcc-9e6fb23aa724",
   "metadata": {},
   "source": [
    "## <font color='#40E0D0'> <b>\"purchase_amount\" Column</b><font color='black'> "
   ]
  },
  {
   "cell_type": "code",
   "execution_count": 80,
   "id": "02a0366b-c385-473f-af11-aa6982eacdc4",
   "metadata": {},
   "outputs": [
    {
     "data": {
      "text/plain": [
       "11608"
      ]
     },
     "execution_count": 80,
     "metadata": {},
     "output_type": "execute_result"
    }
   ],
   "source": [
    "df.purchase_amount.nunique()"
   ]
  },
  {
   "cell_type": "code",
   "execution_count": 81,
   "id": "eaa30fdf-6a4d-4e58-aa9a-3ac1bb2c69ed",
   "metadata": {},
   "outputs": [
    {
     "data": {
      "text/plain": [
       "dtype('float64')"
      ]
     },
     "execution_count": 81,
     "metadata": {},
     "output_type": "execute_result"
    }
   ],
   "source": [
    "df.purchase_amount.dtype"
   ]
  },
  {
   "cell_type": "code",
   "execution_count": 82,
   "id": "6c970585-b965-45f0-96ea-52fead965194",
   "metadata": {},
   "outputs": [
    {
     "data": {
      "text/plain": [
       "array([331.79, 335.72, 493.18, ...,  27.73, 108.57, 105.57])"
      ]
     },
     "execution_count": 82,
     "metadata": {},
     "output_type": "execute_result"
    }
   ],
   "source": [
    "df.purchase_amount.unique()"
   ]
  },
  {
   "cell_type": "markdown",
   "id": "dbda4d1b-4015-48dc-967a-d4f1e245de86",
   "metadata": {},
   "source": [
    "## <font color='#40E0D0'> <b>\"purchase_date\" Column</b><font color='black'> "
   ]
  },
  {
   "cell_type": "code",
   "execution_count": 84,
   "id": "a71ea863-41bb-4104-b777-10c06cb11c78",
   "metadata": {},
   "outputs": [
    {
     "data": {
      "text/plain": [
       "1460"
      ]
     },
     "execution_count": 84,
     "metadata": {},
     "output_type": "execute_result"
    }
   ],
   "source": [
    "df.purchase_date.nunique()"
   ]
  },
  {
   "cell_type": "code",
   "execution_count": 85,
   "id": "f6ce7270-33bb-4b8b-a67a-6e2b4eecf3c3",
   "metadata": {},
   "outputs": [
    {
     "data": {
      "text/plain": [
       "array(['2021-11-21', '2022-03-05', nan, ..., '2023-09-03', '2023-10-27',\n",
       "       '2023-01-07'], dtype=object)"
      ]
     },
     "execution_count": 85,
     "metadata": {},
     "output_type": "execute_result"
    }
   ],
   "source": [
    "df.purchase_date.unique()"
   ]
  },
  {
   "cell_type": "code",
   "execution_count": 86,
   "id": "675b2c82-f9ea-4b31-b46f-e29cb96d865b",
   "metadata": {},
   "outputs": [
    {
     "data": {
      "text/plain": [
       "dtype('O')"
      ]
     },
     "execution_count": 86,
     "metadata": {},
     "output_type": "execute_result"
    }
   ],
   "source": [
    "df.purchase_date.dtype"
   ]
  },
  {
   "cell_type": "markdown",
   "id": "9433dd6a-064c-4fee-aaea-b75ec9ccebb8",
   "metadata": {},
   "source": [
    "The dtype of the purchase_date column will be changed after filling the NaN values."
   ]
  },
  {
   "cell_type": "markdown",
   "id": "5bbd771f-d4a0-4383-964e-f86f5459b9ad",
   "metadata": {},
   "source": [
    "## <font color='#40E0D0'> <b>\"category\" Column</b><font color='black'> "
   ]
  },
  {
   "cell_type": "code",
   "execution_count": 89,
   "id": "384bebda-70ee-48d0-ad82-0a6f10ec1ee0",
   "metadata": {},
   "outputs": [
    {
     "data": {
      "text/plain": [
       "array(['Sports', 'Home & Kitchen', 'Books', 'Beauty', 'Clothing', nan,\n",
       "       'Electronics'], dtype=object)"
      ]
     },
     "execution_count": 89,
     "metadata": {},
     "output_type": "execute_result"
    }
   ],
   "source": [
    "df.category.unique()"
   ]
  },
  {
   "cell_type": "markdown",
   "id": "1f3104e0-c857-4083-9472-15281593acdf",
   "metadata": {},
   "source": [
    "The dtype of the category column will be changed after filling the NaN values."
   ]
  },
  {
   "cell_type": "markdown",
   "id": "dc23f935-72d9-4654-8a0b-0f2b15a5c643",
   "metadata": {},
   "source": [
    "<a id='nan-values'></a>\n",
    "# <font color='navy'> <b>NaN Values</b><font color='black'> "
   ]
  },
  {
   "cell_type": "markdown",
   "id": "d3feb20f-8277-47fb-8060-5cee9f3c1270",
   "metadata": {},
   "source": [
    "## <font color='#40E0D0'> <b>NaN Values In \"country\" Column</b><font color='black'> "
   ]
  },
  {
   "cell_type": "code",
   "execution_count": 93,
   "id": "56eb7002-ee18-46f9-8534-b54fbe62e0c5",
   "metadata": {},
   "outputs": [
    {
     "data": {
      "text/plain": [
       "1200"
      ]
     },
     "execution_count": 93,
     "metadata": {},
     "output_type": "execute_result"
    }
   ],
   "source": [
    "df.country.isnull().sum()"
   ]
  },
  {
   "cell_type": "code",
   "execution_count": 94,
   "id": "c96aff8c-5075-4261-8878-2402fa935300",
   "metadata": {},
   "outputs": [
    {
     "data": {
      "text/plain": [
       "country\n",
       "France       2444\n",
       "Germany      2330\n",
       "Canada       2279\n",
       "UK           2261\n",
       "Australia    2256\n",
       "USA          2230\n",
       "Name: count, dtype: int64"
      ]
     },
     "execution_count": 94,
     "metadata": {},
     "output_type": "execute_result"
    }
   ],
   "source": [
    "df.country.value_counts()"
   ]
  },
  {
   "cell_type": "code",
   "execution_count": 95,
   "id": "d171af0d-9be0-4567-a3a1-322617f708e4",
   "metadata": {},
   "outputs": [
    {
     "data": {
      "text/plain": [
       "Index(['France', 'Germany', 'Canada', 'UK', 'Australia', 'USA'], dtype='object', name='country')"
      ]
     },
     "execution_count": 95,
     "metadata": {},
     "output_type": "execute_result"
    }
   ],
   "source": [
    "countries = df.country.value_counts().index\n",
    "countries"
   ]
  },
  {
   "cell_type": "code",
   "execution_count": 96,
   "id": "f75cae59-abd6-46ac-ae14-8f280e03ba1b",
   "metadata": {},
   "outputs": [],
   "source": [
    "df['country'] = df['country'].apply(lambda x: x if pd.notna(x) else np.random.choice(countries))"
   ]
  },
  {
   "cell_type": "code",
   "execution_count": 97,
   "id": "d1000433-1edc-4c74-abb6-96bc03496fc1",
   "metadata": {},
   "outputs": [
    {
     "data": {
      "text/plain": [
       "country\n",
       "France       2639\n",
       "Germany      2537\n",
       "Canada       2477\n",
       "Australia    2459\n",
       "UK           2457\n",
       "USA          2431\n",
       "Name: count, dtype: int64"
      ]
     },
     "execution_count": 97,
     "metadata": {},
     "output_type": "execute_result"
    }
   ],
   "source": [
    "df.country.value_counts()"
   ]
  },
  {
   "cell_type": "code",
   "execution_count": 98,
   "id": "821ee53b-a971-4e45-b4f6-39eed7f53f29",
   "metadata": {},
   "outputs": [
    {
     "data": {
      "text/plain": [
       "0"
      ]
     },
     "execution_count": 98,
     "metadata": {},
     "output_type": "execute_result"
    }
   ],
   "source": [
    "df.country.isnull().sum()"
   ]
  },
  {
   "cell_type": "markdown",
   "id": "0b606caf-006a-4138-8030-d4d949114be7",
   "metadata": {},
   "source": [
    "## <font color='#40E0D0'> <b>NaN Values In \"category\" Column</b><font color='black'> "
   ]
  },
  {
   "cell_type": "code",
   "execution_count": 100,
   "id": "3ae16fc1-435a-4ed4-b051-da4be76ab205",
   "metadata": {},
   "outputs": [
    {
     "data": {
      "text/plain": [
       "900"
      ]
     },
     "execution_count": 100,
     "metadata": {},
     "output_type": "execute_result"
    }
   ],
   "source": [
    "df.category.isnull().sum()"
   ]
  },
  {
   "cell_type": "code",
   "execution_count": 101,
   "id": "794a555c-dee1-4314-ae9d-4729df00a239",
   "metadata": {},
   "outputs": [],
   "source": [
    "df['category'] = df['category'].fillna(df.groupby('country')['category'].transform(lambda x: x.mode().iloc[0] if not x.mode().empty else None))"
   ]
  },
  {
   "cell_type": "code",
   "execution_count": 102,
   "id": "7a1d0088-4acb-4c13-83a0-666d3755eee7",
   "metadata": {},
   "outputs": [
    {
     "data": {
      "text/plain": [
       "0"
      ]
     },
     "execution_count": 102,
     "metadata": {},
     "output_type": "execute_result"
    }
   ],
   "source": [
    "df.category.isnull().sum()"
   ]
  },
  {
   "cell_type": "markdown",
   "id": "7531a51a-5472-4e84-a4ba-4866a7930d37",
   "metadata": {},
   "source": [
    "## <font color='#40E0D0'> <b>NaN Values In \"gender\" Column</b><font color='black'> "
   ]
  },
  {
   "cell_type": "code",
   "execution_count": 104,
   "id": "f51e0548-0923-46d3-97c5-fba5e8e29857",
   "metadata": {},
   "outputs": [
    {
     "data": {
      "text/plain": [
       "750"
      ]
     },
     "execution_count": 104,
     "metadata": {},
     "output_type": "execute_result"
    }
   ],
   "source": [
    "df.gender.isnull().sum()"
   ]
  },
  {
   "cell_type": "code",
   "execution_count": 105,
   "id": "e5e492dc-8e3e-495c-9c52-f2c0b8ec4075",
   "metadata": {},
   "outputs": [
    {
     "data": {
      "text/plain": [
       "gender\n",
       "Female    4818\n",
       "Other     4742\n",
       "Male      4690\n",
       "Name: count, dtype: int64"
      ]
     },
     "execution_count": 105,
     "metadata": {},
     "output_type": "execute_result"
    }
   ],
   "source": [
    "df.gender.value_counts()"
   ]
  },
  {
   "cell_type": "code",
   "execution_count": 106,
   "id": "e09699cb-141f-4fdc-9b29-141572cd5131",
   "metadata": {},
   "outputs": [
    {
     "data": {
      "text/plain": [
       "category        country  \n",
       "Beauty          Australia     Other\n",
       "                Canada       Female\n",
       "                France         Male\n",
       "                Germany        Male\n",
       "                UK           Female\n",
       "                USA          Female\n",
       "Books           Australia      Male\n",
       "                Canada       Female\n",
       "                France         Male\n",
       "                Germany       Other\n",
       "                UK           Female\n",
       "                USA          Female\n",
       "Clothing        Australia      Male\n",
       "                Canada       Female\n",
       "                France       Female\n",
       "                Germany       Other\n",
       "                UK             Male\n",
       "                USA           Other\n",
       "Electronics     Australia     Other\n",
       "                Canada        Other\n",
       "                France       Female\n",
       "                Germany       Other\n",
       "                UK             Male\n",
       "                USA          Female\n",
       "Home & Kitchen  Australia    Female\n",
       "                Canada        Other\n",
       "                France       Female\n",
       "                Germany      Female\n",
       "                UK             Male\n",
       "                USA          Female\n",
       "Sports          Australia     Other\n",
       "                Canada         Male\n",
       "                France         Male\n",
       "                Germany        Male\n",
       "                UK           Female\n",
       "                USA          Female\n",
       "Name: gender, dtype: object"
      ]
     },
     "execution_count": 106,
     "metadata": {},
     "output_type": "execute_result"
    }
   ],
   "source": [
    "df.groupby([\"category\", \"country\"])[\"gender\"].apply(lambda x: x.mode().iloc[0] if not x.mode().empty else None)"
   ]
  },
  {
   "cell_type": "code",
   "execution_count": 107,
   "id": "a21525aa-012e-472e-89e5-f28c4718e0a0",
   "metadata": {},
   "outputs": [],
   "source": [
    "df['gender'] = df['gender'].fillna(df.groupby([\"category\", \"country\"])[\"gender\"].transform(lambda x: x.mode().iloc[0] if not x.mode().empty else None))"
   ]
  },
  {
   "cell_type": "code",
   "execution_count": 108,
   "id": "7b19fe92-b215-493b-b4ae-42e414d9be21",
   "metadata": {},
   "outputs": [
    {
     "data": {
      "text/plain": [
       "0"
      ]
     },
     "execution_count": 108,
     "metadata": {},
     "output_type": "execute_result"
    }
   ],
   "source": [
    "df.gender.isnull().sum()"
   ]
  },
  {
   "cell_type": "markdown",
   "id": "fb070374-aac8-40b5-81dd-240b6ef2d10d",
   "metadata": {},
   "source": [
    "## <font color='#40E0D0'> <b>NaN Values In \"age\" Column</b><font color='black'> "
   ]
  },
  {
   "cell_type": "code",
   "execution_count": 110,
   "id": "9513ab3b-9d2e-4fc7-a3b2-92f73437cd9c",
   "metadata": {},
   "outputs": [
    {
     "data": {
      "text/plain": [
       "1500"
      ]
     },
     "execution_count": 110,
     "metadata": {},
     "output_type": "execute_result"
    }
   ],
   "source": [
    "df.age.isnull().sum()"
   ]
  },
  {
   "cell_type": "code",
   "execution_count": 111,
   "id": "79876c11-e3fe-484a-937c-fa4fb8cc8de1",
   "metadata": {},
   "outputs": [
    {
     "data": {
      "text/plain": [
       "43.396"
      ]
     },
     "execution_count": 111,
     "metadata": {},
     "output_type": "execute_result"
    }
   ],
   "source": [
    "df.age.mean()"
   ]
  },
  {
   "cell_type": "code",
   "execution_count": 112,
   "id": "95f8b7f0-3057-4933-8a97-ec6eb5f54e0e",
   "metadata": {},
   "outputs": [
    {
     "data": {
      "text/plain": [
       "43.0"
      ]
     },
     "execution_count": 112,
     "metadata": {},
     "output_type": "execute_result"
    }
   ],
   "source": [
    "df.age.median()"
   ]
  },
  {
   "cell_type": "code",
   "execution_count": 113,
   "id": "406e6b4d-f21c-4ad1-a6b2-4bfc77b00a0e",
   "metadata": {},
   "outputs": [
    {
     "data": {
      "text/plain": [
       "category        gender\n",
       "Beauty          Female    44.0\n",
       "                Male      44.0\n",
       "                Other     45.0\n",
       "Books           Female    44.0\n",
       "                Male      43.0\n",
       "                Other     43.0\n",
       "Clothing        Female    43.0\n",
       "                Male      43.0\n",
       "                Other     44.0\n",
       "Electronics     Female    43.0\n",
       "                Male      44.0\n",
       "                Other     43.0\n",
       "Home & Kitchen  Female    43.0\n",
       "                Male      44.0\n",
       "                Other     43.0\n",
       "Sports          Female    43.0\n",
       "                Male      43.0\n",
       "                Other     44.0\n",
       "Name: age, dtype: float64"
      ]
     },
     "execution_count": 113,
     "metadata": {},
     "output_type": "execute_result"
    }
   ],
   "source": [
    "df.groupby(['category', 'gender'])['age'].mean().round(0)"
   ]
  },
  {
   "cell_type": "code",
   "execution_count": 114,
   "id": "dff7a720-b839-460f-b097-f6ba3b9ca3f6",
   "metadata": {},
   "outputs": [],
   "source": [
    "df['age'] = df['age'].fillna(df.groupby(['category', 'gender'])['age'].transform(\"mean\")).round(0)"
   ]
  },
  {
   "cell_type": "code",
   "execution_count": 115,
   "id": "9f50751e-a4d4-43a0-b579-592be2b498d4",
   "metadata": {},
   "outputs": [
    {
     "data": {
      "text/plain": [
       "0"
      ]
     },
     "execution_count": 115,
     "metadata": {},
     "output_type": "execute_result"
    }
   ],
   "source": [
    "df.age.isnull().sum()"
   ]
  },
  {
   "cell_type": "markdown",
   "id": "86ebdfb3-1605-47d9-abd0-7a4bab0afe50",
   "metadata": {},
   "source": [
    "## <font color='#40E0D0'> <b>NaN Values In \"purchase_amount\" Column</b><font color='black'> "
   ]
  },
  {
   "cell_type": "code",
   "execution_count": 117,
   "id": "0c3ca8a4-2da4-4516-9cbc-112881eea189",
   "metadata": {},
   "outputs": [
    {
     "data": {
      "text/plain": [
       "1050"
      ]
     },
     "execution_count": 117,
     "metadata": {},
     "output_type": "execute_result"
    }
   ],
   "source": [
    "df.purchase_date.isnull().sum()"
   ]
  },
  {
   "cell_type": "code",
   "execution_count": 118,
   "id": "499a3941-7990-4732-83fd-58b9b3176eae",
   "metadata": {},
   "outputs": [
    {
     "data": {
      "text/plain": [
       "country    category      \n",
       "Australia  Beauty            249.100631\n",
       "           Books             249.681606\n",
       "           Clothing          256.357105\n",
       "           Electronics       258.364026\n",
       "           Home & Kitchen    244.232423\n",
       "           Sports            248.999753\n",
       "Canada     Beauty            253.231268\n",
       "           Books             260.507470\n",
       "           Clothing          255.206733\n",
       "           Electronics       241.762571\n",
       "           Home & Kitchen    244.796619\n",
       "           Sports            256.744771\n",
       "France     Beauty            260.685126\n",
       "           Books             242.780862\n",
       "           Clothing          247.773446\n",
       "           Electronics       255.572143\n",
       "           Home & Kitchen    257.275890\n",
       "           Sports            246.420401\n",
       "Germany    Beauty            246.304012\n",
       "           Books             266.130872\n",
       "           Clothing          259.069682\n",
       "           Electronics       263.560314\n",
       "           Home & Kitchen    246.544380\n",
       "           Sports            248.808174\n",
       "UK         Beauty            244.322313\n",
       "           Books             234.147690\n",
       "           Clothing          265.140749\n",
       "           Electronics       259.906837\n",
       "           Home & Kitchen    252.368718\n",
       "           Sports            260.645442\n",
       "USA        Beauty            246.145123\n",
       "           Books             262.127122\n",
       "           Clothing          256.623820\n",
       "           Electronics       252.939245\n",
       "           Home & Kitchen    257.463571\n",
       "           Sports            254.343638\n",
       "Name: purchase_amount, dtype: float64"
      ]
     },
     "execution_count": 118,
     "metadata": {},
     "output_type": "execute_result"
    }
   ],
   "source": [
    "df.groupby(['country', 'category'])['purchase_amount'].mean()"
   ]
  },
  {
   "cell_type": "code",
   "execution_count": 119,
   "id": "157816eb-ddf1-48fd-bd19-c4452f580421",
   "metadata": {},
   "outputs": [],
   "source": [
    "df[\"purchase_amount\"] = df[\"purchase_amount\"].fillna(df.groupby(['country', 'category'])['purchase_amount'].transform('mean'))"
   ]
  },
  {
   "cell_type": "code",
   "execution_count": 120,
   "id": "eac6ab9f-a642-42af-9c7e-3105ec64ffcb",
   "metadata": {},
   "outputs": [
    {
     "data": {
      "text/plain": [
       "0"
      ]
     },
     "execution_count": 120,
     "metadata": {},
     "output_type": "execute_result"
    }
   ],
   "source": [
    "df.purchase_amount.isnull().sum()"
   ]
  },
  {
   "cell_type": "markdown",
   "id": "71d0540d-5ded-4ccf-b588-274a1fe02eb0",
   "metadata": {},
   "source": [
    "## <font color='#40E0D0'> <b>NaN Values In \"purchase_date\" Column</b><font color='black'> "
   ]
  },
  {
   "cell_type": "code",
   "execution_count": 122,
   "id": "bd260f57-1071-4641-b694-7bf23401afa2",
   "metadata": {},
   "outputs": [
    {
     "data": {
      "text/plain": [
       "0"
      ]
     },
     "execution_count": 122,
     "metadata": {},
     "output_type": "execute_result"
    }
   ],
   "source": [
    "df.purchase_amount.isnull().sum()"
   ]
  },
  {
   "cell_type": "code",
   "execution_count": 123,
   "id": "e5f9a998-65e8-4d5c-9d2c-c9c21359597c",
   "metadata": {},
   "outputs": [],
   "source": [
    "df['purchase_date'] = df.groupby(['country', 'category'])['purchase_date'].transform(lambda x: x.fillna(x.mode()[0] if not x.mode().empty else np.nan))"
   ]
  },
  {
   "cell_type": "code",
   "execution_count": 124,
   "id": "2df35bbf-cb4a-430d-b1be-0d3444a5b81c",
   "metadata": {},
   "outputs": [
    {
     "data": {
      "text/plain": [
       "0"
      ]
     },
     "execution_count": 124,
     "metadata": {},
     "output_type": "execute_result"
    }
   ],
   "source": [
    "df.purchase_amount.isnull().sum()"
   ]
  },
  {
   "cell_type": "code",
   "execution_count": 125,
   "id": "fcb3ca19-46a8-4a14-8d11-2089a88b6cf7",
   "metadata": {},
   "outputs": [
    {
     "data": {
      "text/plain": [
       "0"
      ]
     },
     "execution_count": 125,
     "metadata": {},
     "output_type": "execute_result"
    }
   ],
   "source": [
    "# after filling the NaN values\n",
    "df.isnull().sum().sum()"
   ]
  },
  {
   "cell_type": "code",
   "execution_count": 126,
   "id": "15a9b530-e293-4912-bc0e-bd2f63bad0b5",
   "metadata": {},
   "outputs": [
    {
     "data": {
      "image/png": "[encoded data removed]",
      "text/plain": [
       "<Figure size 2500x1000 with 2 Axes>"
      ]
     },
     "metadata": {},
     "output_type": "display_data"
    }
   ],
   "source": [
    "msno.matrix(df);"
   ]
  },
  {
   "cell_type": "markdown",
   "id": "9a527666-6d78-43b8-ad81-5408f1f8fb95",
   "metadata": {},
   "source": [
    "### <font color='#40E0D0'> <b>Changing Dtypes of Columns</b><font color='black'> "
   ]
  },
  {
   "cell_type": "code",
   "execution_count": 128,
   "id": "b9ed6525-9911-4a9b-adb5-7c0d96b7f78c",
   "metadata": {},
   "outputs": [],
   "source": [
    "df.age = df.age.astype(\"int\")"
   ]
  },
  {
   "cell_type": "code",
   "execution_count": 129,
   "id": "74d9bd40-98f0-4ff8-9aa3-5fa7e534b53b",
   "metadata": {},
   "outputs": [],
   "source": [
    "df['purchase_date'] = pd.to_datetime(df['purchase_date'])"
   ]
  },
  {
   "cell_type": "code",
   "execution_count": 130,
   "id": "cefc0c85-14cd-49dd-a9fb-f481085faa84",
   "metadata": {},
   "outputs": [],
   "source": [
    "df['category'] = df['category'].astype('category')"
   ]
  },
  {
   "cell_type": "code",
   "execution_count": 131,
   "id": "d615fd1d-49ef-43d4-af71-4c9be24b1244",
   "metadata": {},
   "outputs": [],
   "source": [
    "df['gender'] = df['gender'].astype('category')"
   ]
  },
  {
   "cell_type": "code",
   "execution_count": 132,
   "id": "989ee95b-16bc-48e1-858b-22d86d43de93",
   "metadata": {},
   "outputs": [
    {
     "name": "stdout",
     "output_type": "stream",
     "text": [
      "<class 'pandas.core.frame.DataFrame'>\n",
      "RangeIndex: 15000 entries, 0 to 14999\n",
      "Data columns (total 7 columns):\n",
      " #   Column           Non-Null Count  Dtype         \n",
      "---  ------           --------------  -----         \n",
      " 0   user_id          15000 non-null  int64         \n",
      " 1   age              15000 non-null  int32         \n",
      " 2   gender           15000 non-null  category      \n",
      " 3   country          15000 non-null  object        \n",
      " 4   purchase_amount  15000 non-null  float64       \n",
      " 5   purchase_date    15000 non-null  datetime64[ns]\n",
      " 6   category         15000 non-null  category      \n",
      "dtypes: category(2), datetime64[ns](1), float64(1), int32(1), int64(1), object(1)\n",
      "memory usage: 557.1+ KB\n"
     ]
    }
   ],
   "source": [
    "df.info()"
   ]
  },
  {
   "cell_type": "markdown",
   "id": "d8f88c54-cb50-411e-8acf-df21e1f0d960",
   "metadata": {},
   "source": [
    "<a id='data-visualization'></a>\n",
    "# <font color='navy'> <b>Data Visualization</b><font color='black'> "
   ]
  },
  {
   "cell_type": "markdown",
   "id": "82d459a5-e272-407f-9301-b040bf810dee",
   "metadata": {},
   "source": [
    "## <font color='#40E0D0'> <b>Distribution of Gender</b><font color='black'> "
   ]
  },
  {
   "cell_type": "code",
   "execution_count": 330,
   "id": "74d0a7f4-aa10-4097-8b27-b4f6aa5a0a18",
   "metadata": {},
   "outputs": [
    {
     "data": {
      "image/png": "[encoded data removed]",
      "text/plain": [
       "<Figure size 800x500 with 1 Axes>"
      ]
     },
     "metadata": {},
     "output_type": "display_data"
    }
   ],
   "source": [
    "gender_counts = df['gender'].value_counts()\n",
    "\n",
    "plt.figure(figsize=(8, 5))\n",
    "ax1 = gender_counts.plot(kind='bar', color= ['lightcoral', 'lightskyblue', 'teal'])\n",
    "\n",
    "for container in ax1.containers:\n",
    "    ax1.bar_label(container, fmt='%d', label_type='edge', fontsize=9, color='black', padding=2)\n",
    "\n",
    "plt.title('Gender Distribution')\n",
    "plt.xlabel('Gender')\n",
    "plt.ylabel('Count')\n",
    "plt.xticks(rotation=0)\n",
    "\n",
    "plt.show()"
   ]
  },
  {
   "cell_type": "markdown",
   "id": "00e6b108-bbc0-4876-b393-eb20ddb6faac",
   "metadata": {},
   "source": [
    "This graph illustrates the gender distribution within the dataset. The numbers of male and female users are nearly equal, indicating a balanced gender representation. The \"other\" category, while smaller, still represents a meaningful portion of users that should not be overlooked. The balanced gender distribution suggests that purchase behaviors or user activity may be similar across male and female groups. However, the \"other\" category, though smaller, should also be considered in future analyses to understand their specific purchasing patterns or behaviors."
   ]
  },
  {
   "cell_type": "markdown",
   "id": "93a60de4-d12d-4d20-b3d0-cd22ea5a38fe",
   "metadata": {},
   "source": [
    "## <font color='#40E0D0'> <b>Distributions of Total Purchase Amount by Country</b><font color='black'> "
   ]
  },
  {
   "cell_type": "code",
   "execution_count": 350,
   "id": "77aecabe-8e11-4d89-a4ca-9cb20e64eb87",
   "metadata": {},
   "outputs": [
    {
     "data": {
      "image/png": "[encoded data removed]",
      "text/plain": [
       "<Figure size 1000x600 with 1 Axes>"
      ]
     },
     "metadata": {},
     "output_type": "display_data"
    }
   ],
   "source": [
    "top_countries = df.groupby('country')['purchase_amount'].sum().nlargest(10)\n",
    "\n",
    "plt.figure(figsize=(10, 6))\n",
    "ax2 = top_countries.plot(kind='bar', color= [\"#001f3f\", \"#003366\", \"#004080\", \"#0059b3\", \"#0073e6\", \"#3399ff\"])\n",
    "\n",
    "for container in ax2.containers:\n",
    "    ax2.bar_label(container, fmt='%d', label_type='edge', fontsize=9, color='black', padding=2)\n",
    "\n",
    "plt.xlabel('Country')\n",
    "plt.ylabel('Total Purchase Amount')\n",
    "plt.xticks(rotation=0)\n",
    "\n",
    "plt.show()"
   ]
  },
  {
   "cell_type": "markdown",
   "id": "17ec701f-eff2-4559-93ce-d8dc329e58bc",
   "metadata": {},
   "source": [
    "This graph compares the total purchase amounts across different countries. We observe that the purchase amounts are fairly consistent across all countries, with **France, Canada, and Germany leading slightly**. This suggests a global customer base with relatively balanced spending across regions. Such an analysis indicates that businesses might not need to tailor distinct strategies for individual countries since spending behavior is relatively consistent across regions. However, small differences could still offer insights for fine-tuning marketing strategies."
   ]
  },
  {
   "cell_type": "markdown",
   "id": "98674c4b-fbdd-4cc7-a418-b10e25795d93",
   "metadata": {},
   "source": [
    "## <font color='#40E0D0'> <b>Prices by Product Category</b><font color='black'> "
   ]
  },
  {
   "cell_type": "code",
   "execution_count": 266,
   "id": "c78f99e4-4813-40b5-afc4-278311b8c2d5",
   "metadata": {},
   "outputs": [
    {
     "data": {
      "image/png": "[encoded data removed]",
      "text/plain": [
       "<Figure size 800x600 with 1 Axes>"
      ]
     },
     "metadata": {},
     "output_type": "display_data"
    }
   ],
   "source": [
    "plt.figure(figsize=(8, 6))\n",
    "sns.boxplot(x='category', y='purchase_amount', data=df, palette='tab20c')\n",
    "plt.title(\"Prices by Product Categories\")\n",
    "plt.xticks(rotation=90)\n",
    "plt.xlabel(\"Category\")\n",
    "plt.ylabel(\"Purchase Amount\")\n",
    "plt.show()"
   ]
  },
  {
   "cell_type": "markdown",
   "id": "dabe9245-96aa-48f6-9e5c-35294246c39e",
   "metadata": {},
   "source": [
    "The boxplot illustrates the price distribution across product categories. Prices are generally within a similar range, though some categories like **\"Home & Kitchen\"** and **\"Books\"** show slightly higher median prices. This could indicate that these categories contain more expensive products compared to others. The presence of outliers in several categories suggests either luxury or discounted items, providing opportunities for further segmentation or targeted promotions. Understanding these price distributions can help in aligning pricing strategies with customer expectations."
   ]
  },
  {
   "cell_type": "markdown",
   "id": "7295ad4c-1f0f-46d0-8974-ba3b9fcdd664",
   "metadata": {},
   "source": [
    "## <font color='#40E0D0'> <b>Age Distribution</b><font color='black'> "
   ]
  },
  {
   "cell_type": "code",
   "execution_count": 270,
   "id": "3eb39ef3-119d-47e7-8b87-8df2aef569b0",
   "metadata": {},
   "outputs": [
    {
     "data": {
      "image/png": "[encoded data removed]",
      "text/plain": [
       "<Figure size 640x480 with 1 Axes>"
      ]
     },
     "metadata": {},
     "output_type": "display_data"
    }
   ],
   "source": [
    "plt.hist(df['age'], bins=20, color='skyblue', edgecolor='black')\n",
    "\n",
    "plt.title('Age Distribution')\n",
    "plt.xlabel('Age')\n",
    "plt.ylabel('Frequency')\n",
    "\n",
    "plt.show()"
   ]
  },
  {
   "cell_type": "markdown",
   "id": "696bfd49-1a52-4bc6-838d-4d6d706a8099",
   "metadata": {},
   "source": [
    "The age distribution graph shows the spread of users by age, with the highest concentration around age 25. This indicates that the majority of users are younger, with a smaller peak in the 30s. The large presence of younger users suggests that they might be more active in purchasing or engaging with products. Marketing strategies targeting this age group could yield better results. However, older users should not be overlooked, as they may have greater purchasing power despite their smaller representation."
   ]
  },
  {
   "cell_type": "markdown",
   "id": "b6d77e63-fca1-4e15-9c29-ef839798850d",
   "metadata": {},
   "source": [
    "## <font color='#40E0D0'> <b>Total Purchase Amount by Gender</b><font color='black'> "
   ]
  },
  {
   "cell_type": "code",
   "execution_count": 280,
   "id": "4debd955-07f5-4991-ab89-70cd4fe596ca",
   "metadata": {},
   "outputs": [
    {
     "data": {
      "image/png": "[encoded data removed]",
      "text/plain": [
       "<Figure size 640x480 with 1 Axes>"
      ]
     },
     "metadata": {},
     "output_type": "display_data"
    }
   ],
   "source": [
    "ax3 = df.groupby('gender')['purchase_amount'].sum().plot(kind='bar', color=['lightcoral', 'lightskyblue', 'teal'])\n",
    "\n",
    "for container in ax3.containers:\n",
    "    ax3.bar_label(container, fmt='%d', label_type='edge', fontsize=9, color='black', padding=1)\n",
    "\n",
    "plt.title('Total Purchase Amount by Gender')\n",
    "plt.xlabel('Gender')\n",
    "plt.ylabel('Total Purchase Amount')\n",
    "plt.xticks(rotation=0)\n",
    "\n",
    "plt.show()"
   ]
  },
  {
   "cell_type": "markdown",
   "id": "c9ae6709-3476-4dc4-a372-465306e48a5b",
   "metadata": {},
   "source": [
    "This graph compares the total purchase amounts by gender, showing that male and female users have nearly identical spending levels. The \"other\" category has significantly lower total purchases. This suggests that purchasing behavior is similar across male and female users."
   ]
  },
  {
   "cell_type": "markdown",
   "id": "7faafba1-faae-48c8-8afe-eac01f770ff9",
   "metadata": {},
   "source": [
    "## <font color='#40E0D0'> <b>Purchase Distribution by Country</b><font color='black'> "
   ]
  },
  {
   "cell_type": "code",
   "execution_count": 300,
   "id": "163fb83b-ece9-42f5-b831-ab31ddc120f4",
   "metadata": {},
   "outputs": [
    {
     "data": {
      "image/png": "[encoded data removed]",
      "text/plain": [
       "<Figure size 640x480 with 1 Axes>"
      ]
     },
     "metadata": {},
     "output_type": "display_data"
    }
   ],
   "source": [
    "df.groupby('country')['purchase_amount'].sum().plot(kind='pie',\n",
    "                                                    autopct='%1.2f%%',\n",
    "                                                    explode= [0,0,0.15,0,0,0],\n",
    "                                                    colormap='Set3'\n",
    "                                                   )\n",
    "\n",
    "plt.title('Purchase Distribution by Country')\n",
    "plt.ylabel('')\n",
    "\n",
    "plt.show()"
   ]
  },
  {
   "cell_type": "markdown",
   "id": "ac402d09-e35e-4763-9578-779df50d6429",
   "metadata": {},
   "source": [
    "The pie chart illustrates the distribution of purchases by country, with France, Australia, and the USA contributing the most. While these countries dominate the market, other regions like Germany and the UK also make significant contributions. This distribution helps identify the strongest markets and potential areas for growth or expansion."
   ]
  },
  {
   "cell_type": "markdown",
   "id": "7792f13e-cbcf-43b8-9760-75175bbccb0e",
   "metadata": {},
   "source": [
    "## <font color='#40E0D0'> <b>Gender Distribution by Country</b><font color='black'> "
   ]
  },
  {
   "cell_type": "code",
   "execution_count": 332,
   "id": "cd7d7a11-630c-4f75-b3e6-f7dca3946b32",
   "metadata": {},
   "outputs": [
    {
     "data": {
      "image/png": "[encoded data removed]",
      "text/plain": [
       "<Figure size 640x480 with 1 Axes>"
      ]
     },
     "metadata": {},
     "output_type": "display_data"
    }
   ],
   "source": [
    "ax4 = df.groupby(['country', 'gender'])['user_id'].count().unstack().plot(kind='bar',\n",
    "                                                                          stacked=True,\n",
    "                                                                          color=['lightcoral', 'lightskyblue', 'teal']\n",
    "                                                                         )\n",
    "\n",
    "for container in ax4.containers:\n",
    "    ax4.bar_label(container, fmt='%d', label_type='center', fontsize=9, color='black', padding=2)\n",
    "\n",
    "plt.title('Gender Distribution by Country')\n",
    "plt.xlabel('Country')\n",
    "plt.ylabel('Number of Users')\n",
    "plt.xticks(rotation= 30)\n",
    "plt.legend(bbox_to_anchor= (1.23,1.07))\n",
    "\n",
    "plt.show()"
   ]
  },
  {
   "cell_type": "markdown",
   "id": "e8858492-99c3-4ad9-9afc-82b4bd9024ed",
   "metadata": {},
   "source": [
    "The stacked bar chart displays gender distribution by country, showing a balanced representation of male and female users across all regions. The \"other\" category has fewer users in every country. This data suggests that marketing strategies can be designed with gender balance in mind for each region, though specialized approaches might be necessary for the \"other\" category."
   ]
  },
  {
   "cell_type": "markdown",
   "id": "87a801bf-5d6d-44b4-ad0d-a420c31c94e1",
   "metadata": {},
   "source": [
    "<a id='conclusion'></a>\n",
    "# <font color='navy'> <b>Conclusion</b><font color='black'> "
   ]
  },
  {
   "cell_type": "markdown",
   "id": "e4ec230e-495c-4312-8e8f-c3147ab55d9e",
   "metadata": {},
   "source": [
    "In this project, several steps were taken to analyze user behavior and demographic information. Initially, the missing (NaN) values in the dataset were filled using various imputation techniques, ensuring that the dataset was complete and reliable. After addressing the NaN values, data visualization techniques were applied to understand the overall structure of the dataset.\n",
    "\n",
    "The analyses focused on examining distributions of variables such as gender, age, country, and purchase amounts, which revealed the demographic and geographic composition of the user base. For instance, the gender distribution charts indicated a balanced user base of both male and female users, while the age distribution showed that young adults, particularly those between 25-30 years old, were more active. Additionally, examining total purchase amounts by country revealed relatively balanced spending across different regions.\n",
    "\n",
    "These visualizations provided valuable insights into which demographic groups could be targeted in future business strategies and which geographic markets might require more focus. Tailored marketing strategies based on age groups and gender distributions could prove useful for identifying growth opportunities.\n",
    "\n",
    "Overall, this project has facilitated the correction of data gaps and the extraction of key user insights through visualizations. The findings can be utilized to optimize marketing strategies and gain a better understanding of customer segments, ultimately supporting improved decision-making and business performance."
   ]
  },
  {
   "cell_type": "markdown",
   "id": "4fefb04f-f51a-4124-b72d-146e19870ab4",
   "metadata": {},
   "source": [
    "<p style=\"background-color:lightblue;font-family:newtimeroman;font-size:200%;color:black;text-align:center;border-radius:20px 20px;\"><b>THANK YOU!</b></p>"
   ]
  }
 ],
 "metadata": {
  "kernelspec": {
   "display_name": "Python 3 (ipykernel)",
   "language": "python",
   "name": "python3"
  },
  "language_info": {
   "codemirror_mode": {
    "name": "ipython",
    "version": 3
   },
   "file_extension": ".py",
   "mimetype": "text/x-python",
   "name": "python",
   "nbconvert_exporter": "python",
   "pygments_lexer": "ipython3",
   "version": "3.12.4"
  }
 },
 "nbformat": 4,
 "nbformat_minor": 5
}

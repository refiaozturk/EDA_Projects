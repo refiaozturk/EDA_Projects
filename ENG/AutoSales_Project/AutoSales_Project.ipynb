{
 "cells": [
  {
   "cell_type": "markdown",
   "id": "c12a5498-88ba-4e99-8b80-7e25b24e57fd",
   "metadata": {},
   "source": [
    "<p style=\"background-color:firebrick;font-family:newtimeroman;font-size:200%;color:white;text-align:center;border-radius:20px 20px;\"><b>EDA Project - Auto Sales</b></p>"
   ]
  },
  {
   "cell_type": "markdown",
   "id": "8060c39b-4167-4d07-8545-d2c780ad3079",
   "metadata": {},
   "source": [
    "<b>Contains:</b>\n",
    "<ul>\n",
    "<li><a href=\"#import-library\">Importing Libraries</a></li>\n",
    "<li><a href=\"#loading-dataset\">Loading The Dataset</a></li>\n",
    "<li><a href=\"#understanding-dataset\">Understanding The Dataset</a></li>\n",
    "<li><a href=\"#organizing-columns\">Organizing Columns</a></li>\n",
    "<li><a href=\"#nan-values\">NaN Values</a></li>\n",
    "<li><a href=\"#data-visualization\">Data Visualization</a></li>\n",
    "</ul>"
   ]
  },
  {
   "cell_type": "markdown",
   "id": "f8b1370e-f85d-4452-8786-18150abff29e",
   "metadata": {},
   "source": [
    "<a id='import-library'></a>\n",
    "# <font color='firebrick'> <b>Importing Libraries</b><font color='black'> "
   ]
  },
  {
   "cell_type": "code",
   "execution_count": 347,
   "id": "735e1df8-5710-43f5-baf2-64fd7a72ab2c",
   "metadata": {},
   "outputs": [],
   "source": [
    "# ! pip install squarify"
   ]
  },
  {
   "cell_type": "code",
   "execution_count": 349,
   "id": "0496b9e6-1312-4473-8642-22e6d458be77",
   "metadata": {},
   "outputs": [],
   "source": [
    "import numpy as np\n",
    "import pandas as pd\n",
    "\n",
    "import matplotlib.pyplot as plt\n",
    "import matplotlib.cm as cm\n",
    "import seaborn as sns\n",
    "import squarify # for treemap\n",
    "\n",
    "import missingno as msno\n",
    "import plotly.express as px\n",
    "\n",
    "from skimpy import skim\n",
    "\n",
    "import warnings\n",
    "warnings.filterwarnings(\"ignore\")\n",
    "\n",
    "pd.set_option('display.max_columns', None)\n",
    "pd.set_option('display.max_rows', None)"
   ]
  },
  {
   "cell_type": "markdown",
   "id": "e181e802-374f-4270-b3f0-140355587b7e",
   "metadata": {},
   "source": [
    "<a id='loading-dataset'></a>\n",
    "# <font color='firebrick'> <b>Loading The Dataset</b><font color='black'> "
   ]
  },
  {
   "cell_type": "code",
   "execution_count": 11,
   "id": "836a5204-157e-4972-b774-36eecf2a369d",
   "metadata": {},
   "outputs": [],
   "source": [
    "df0 = pd.read_csv(\"Auto Sales data.csv\")\n",
    "df = df0.copy()"
   ]
  },
  {
   "cell_type": "code",
   "execution_count": 12,
   "id": "ccb01142-8b59-4660-8d94-e126c36cabf1",
   "metadata": {},
   "outputs": [
    {
     "data": {
      "text/html": [
       "<div>\n",
       "<style scoped>\n",
       "    .dataframe tbody tr th:only-of-type {\n",
       "        vertical-align: middle;\n",
       "    }\n",
       "\n",
       "    .dataframe tbody tr th {\n",
       "        vertical-align: top;\n",
       "    }\n",
       "\n",
       "    .dataframe thead th {\n",
       "        text-align: right;\n",
       "    }\n",
       "</style>\n",
       "<table border=\"1\" class=\"dataframe\">\n",
       "  <thead>\n",
       "    <tr style=\"text-align: right;\">\n",
       "      <th></th>\n",
       "      <th>ORDERNUMBER</th>\n",
       "      <th>QUANTITYORDERED</th>\n",
       "      <th>PRICEEACH</th>\n",
       "      <th>ORDERLINENUMBER</th>\n",
       "      <th>SALES</th>\n",
       "      <th>ORDERDATE</th>\n",
       "      <th>DAYS_SINCE_LASTORDER</th>\n",
       "      <th>STATUS</th>\n",
       "      <th>PRODUCTLINE</th>\n",
       "      <th>MSRP</th>\n",
       "      <th>PRODUCTCODE</th>\n",
       "      <th>CUSTOMERNAME</th>\n",
       "      <th>PHONE</th>\n",
       "      <th>ADDRESSLINE1</th>\n",
       "      <th>CITY</th>\n",
       "      <th>POSTALCODE</th>\n",
       "      <th>COUNTRY</th>\n",
       "      <th>CONTACTLASTNAME</th>\n",
       "      <th>CONTACTFIRSTNAME</th>\n",
       "      <th>DEALSIZE</th>\n",
       "    </tr>\n",
       "  </thead>\n",
       "  <tbody>\n",
       "    <tr>\n",
       "      <th>0</th>\n",
       "      <td>10107</td>\n",
       "      <td>30</td>\n",
       "      <td>95.70</td>\n",
       "      <td>2</td>\n",
       "      <td>2871.00</td>\n",
       "      <td>24/02/2018</td>\n",
       "      <td>828</td>\n",
       "      <td>Shipped</td>\n",
       "      <td>Motorcycles</td>\n",
       "      <td>95</td>\n",
       "      <td>S10_1678</td>\n",
       "      <td>Land of Toys Inc.</td>\n",
       "      <td>2125557818</td>\n",
       "      <td>897 Long Airport Avenue</td>\n",
       "      <td>NYC</td>\n",
       "      <td>10022</td>\n",
       "      <td>USA</td>\n",
       "      <td>Yu</td>\n",
       "      <td>Kwai</td>\n",
       "      <td>Small</td>\n",
       "    </tr>\n",
       "    <tr>\n",
       "      <th>1</th>\n",
       "      <td>10121</td>\n",
       "      <td>34</td>\n",
       "      <td>81.35</td>\n",
       "      <td>5</td>\n",
       "      <td>2765.90</td>\n",
       "      <td>07/05/2018</td>\n",
       "      <td>757</td>\n",
       "      <td>Shipped</td>\n",
       "      <td>Motorcycles</td>\n",
       "      <td>95</td>\n",
       "      <td>S10_1678</td>\n",
       "      <td>Reims Collectables</td>\n",
       "      <td>26.47.1555</td>\n",
       "      <td>59 rue de l'Abbaye</td>\n",
       "      <td>Reims</td>\n",
       "      <td>51100</td>\n",
       "      <td>France</td>\n",
       "      <td>Henriot</td>\n",
       "      <td>Paul</td>\n",
       "      <td>Small</td>\n",
       "    </tr>\n",
       "    <tr>\n",
       "      <th>2</th>\n",
       "      <td>10134</td>\n",
       "      <td>41</td>\n",
       "      <td>94.74</td>\n",
       "      <td>2</td>\n",
       "      <td>3884.34</td>\n",
       "      <td>01/07/2018</td>\n",
       "      <td>703</td>\n",
       "      <td>Shipped</td>\n",
       "      <td>Motorcycles</td>\n",
       "      <td>95</td>\n",
       "      <td>S10_1678</td>\n",
       "      <td>Lyon Souveniers</td>\n",
       "      <td>+33 1 46 62 7555</td>\n",
       "      <td>27 rue du Colonel Pierre Avia</td>\n",
       "      <td>Paris</td>\n",
       "      <td>75508</td>\n",
       "      <td>France</td>\n",
       "      <td>Da Cunha</td>\n",
       "      <td>Daniel</td>\n",
       "      <td>Medium</td>\n",
       "    </tr>\n",
       "    <tr>\n",
       "      <th>3</th>\n",
       "      <td>10145</td>\n",
       "      <td>45</td>\n",
       "      <td>83.26</td>\n",
       "      <td>6</td>\n",
       "      <td>3746.70</td>\n",
       "      <td>25/08/2018</td>\n",
       "      <td>649</td>\n",
       "      <td>Shipped</td>\n",
       "      <td>Motorcycles</td>\n",
       "      <td>95</td>\n",
       "      <td>S10_1678</td>\n",
       "      <td>Toys4GrownUps.com</td>\n",
       "      <td>6265557265</td>\n",
       "      <td>78934 Hillside Dr.</td>\n",
       "      <td>Pasadena</td>\n",
       "      <td>90003</td>\n",
       "      <td>USA</td>\n",
       "      <td>Young</td>\n",
       "      <td>Julie</td>\n",
       "      <td>Medium</td>\n",
       "    </tr>\n",
       "    <tr>\n",
       "      <th>4</th>\n",
       "      <td>10168</td>\n",
       "      <td>36</td>\n",
       "      <td>96.66</td>\n",
       "      <td>1</td>\n",
       "      <td>3479.76</td>\n",
       "      <td>28/10/2018</td>\n",
       "      <td>586</td>\n",
       "      <td>Shipped</td>\n",
       "      <td>Motorcycles</td>\n",
       "      <td>95</td>\n",
       "      <td>S10_1678</td>\n",
       "      <td>Technics Stores Inc.</td>\n",
       "      <td>6505556809</td>\n",
       "      <td>9408 Furth Circle</td>\n",
       "      <td>Burlingame</td>\n",
       "      <td>94217</td>\n",
       "      <td>USA</td>\n",
       "      <td>Hirano</td>\n",
       "      <td>Juri</td>\n",
       "      <td>Medium</td>\n",
       "    </tr>\n",
       "  </tbody>\n",
       "</table>\n",
       "</div>"
      ],
      "text/plain": [
       "   ORDERNUMBER  QUANTITYORDERED  PRICEEACH  ORDERLINENUMBER    SALES  \\\n",
       "0        10107               30      95.70                2  2871.00   \n",
       "1        10121               34      81.35                5  2765.90   \n",
       "2        10134               41      94.74                2  3884.34   \n",
       "3        10145               45      83.26                6  3746.70   \n",
       "4        10168               36      96.66                1  3479.76   \n",
       "\n",
       "    ORDERDATE  DAYS_SINCE_LASTORDER   STATUS  PRODUCTLINE  MSRP PRODUCTCODE  \\\n",
       "0  24/02/2018                   828  Shipped  Motorcycles    95    S10_1678   \n",
       "1  07/05/2018                   757  Shipped  Motorcycles    95    S10_1678   \n",
       "2  01/07/2018                   703  Shipped  Motorcycles    95    S10_1678   \n",
       "3  25/08/2018                   649  Shipped  Motorcycles    95    S10_1678   \n",
       "4  28/10/2018                   586  Shipped  Motorcycles    95    S10_1678   \n",
       "\n",
       "           CUSTOMERNAME             PHONE                   ADDRESSLINE1  \\\n",
       "0     Land of Toys Inc.        2125557818        897 Long Airport Avenue   \n",
       "1    Reims Collectables        26.47.1555             59 rue de l'Abbaye   \n",
       "2       Lyon Souveniers  +33 1 46 62 7555  27 rue du Colonel Pierre Avia   \n",
       "3     Toys4GrownUps.com        6265557265             78934 Hillside Dr.   \n",
       "4  Technics Stores Inc.        6505556809              9408 Furth Circle   \n",
       "\n",
       "         CITY POSTALCODE COUNTRY CONTACTLASTNAME CONTACTFIRSTNAME DEALSIZE  \n",
       "0         NYC      10022     USA              Yu             Kwai    Small  \n",
       "1       Reims      51100  France         Henriot             Paul    Small  \n",
       "2       Paris      75508  France        Da Cunha           Daniel   Medium  \n",
       "3    Pasadena      90003     USA           Young            Julie   Medium  \n",
       "4  Burlingame      94217     USA          Hirano             Juri   Medium  "
      ]
     },
     "execution_count": 12,
     "metadata": {},
     "output_type": "execute_result"
    }
   ],
   "source": [
    "df.head()"
   ]
  },
  {
   "cell_type": "code",
   "execution_count": 13,
   "id": "6a53b4f5-469c-46a0-9084-6a8d8cc713f6",
   "metadata": {},
   "outputs": [
    {
     "data": {
      "text/html": [
       "<div>\n",
       "<style scoped>\n",
       "    .dataframe tbody tr th:only-of-type {\n",
       "        vertical-align: middle;\n",
       "    }\n",
       "\n",
       "    .dataframe tbody tr th {\n",
       "        vertical-align: top;\n",
       "    }\n",
       "\n",
       "    .dataframe thead th {\n",
       "        text-align: right;\n",
       "    }\n",
       "</style>\n",
       "<table border=\"1\" class=\"dataframe\">\n",
       "  <thead>\n",
       "    <tr style=\"text-align: right;\">\n",
       "      <th></th>\n",
       "      <th>ORDERNUMBER</th>\n",
       "      <th>QUANTITYORDERED</th>\n",
       "      <th>PRICEEACH</th>\n",
       "      <th>ORDERLINENUMBER</th>\n",
       "      <th>SALES</th>\n",
       "      <th>ORDERDATE</th>\n",
       "      <th>DAYS_SINCE_LASTORDER</th>\n",
       "      <th>STATUS</th>\n",
       "      <th>PRODUCTLINE</th>\n",
       "      <th>MSRP</th>\n",
       "      <th>PRODUCTCODE</th>\n",
       "      <th>CUSTOMERNAME</th>\n",
       "      <th>PHONE</th>\n",
       "      <th>ADDRESSLINE1</th>\n",
       "      <th>CITY</th>\n",
       "      <th>POSTALCODE</th>\n",
       "      <th>COUNTRY</th>\n",
       "      <th>CONTACTLASTNAME</th>\n",
       "      <th>CONTACTFIRSTNAME</th>\n",
       "      <th>DEALSIZE</th>\n",
       "    </tr>\n",
       "  </thead>\n",
       "  <tbody>\n",
       "    <tr>\n",
       "      <th>1000</th>\n",
       "      <td>10281</td>\n",
       "      <td>25</td>\n",
       "      <td>167.65</td>\n",
       "      <td>5</td>\n",
       "      <td>4191.25</td>\n",
       "      <td>19/08/2019</td>\n",
       "      <td>1287</td>\n",
       "      <td>Shipped</td>\n",
       "      <td>Classic Cars</td>\n",
       "      <td>169</td>\n",
       "      <td>S18_3232</td>\n",
       "      <td>Diecast Classics Inc.</td>\n",
       "      <td>2155551555</td>\n",
       "      <td>7586 Pompton St.</td>\n",
       "      <td>Allentown</td>\n",
       "      <td>70267</td>\n",
       "      <td>USA</td>\n",
       "      <td>Yu</td>\n",
       "      <td>Kyung</td>\n",
       "      <td>Medium</td>\n",
       "    </tr>\n",
       "    <tr>\n",
       "      <th>1071</th>\n",
       "      <td>10103</td>\n",
       "      <td>46</td>\n",
       "      <td>104.17</td>\n",
       "      <td>16</td>\n",
       "      <td>4791.82</td>\n",
       "      <td>29/01/2018</td>\n",
       "      <td>1925</td>\n",
       "      <td>Shipped</td>\n",
       "      <td>Vintage Cars</td>\n",
       "      <td>99</td>\n",
       "      <td>S18_3320</td>\n",
       "      <td>Baane Mini Imports</td>\n",
       "      <td>07-98 9555</td>\n",
       "      <td>Erling Skakkes gate 78</td>\n",
       "      <td>Stavern</td>\n",
       "      <td>4110</td>\n",
       "      <td>Norway</td>\n",
       "      <td>Bergulfsen</td>\n",
       "      <td>Jonas</td>\n",
       "      <td>Medium</td>\n",
       "    </tr>\n",
       "    <tr>\n",
       "      <th>1743</th>\n",
       "      <td>10239</td>\n",
       "      <td>20</td>\n",
       "      <td>44.56</td>\n",
       "      <td>2</td>\n",
       "      <td>891.20</td>\n",
       "      <td>12/04/2019</td>\n",
       "      <td>2159</td>\n",
       "      <td>Shipped</td>\n",
       "      <td>Classic Cars</td>\n",
       "      <td>37</td>\n",
       "      <td>S24_2972</td>\n",
       "      <td>Oulu Toy Supplies, Inc.</td>\n",
       "      <td>981-443655</td>\n",
       "      <td>Torikatu 38</td>\n",
       "      <td>Oulu</td>\n",
       "      <td>90110</td>\n",
       "      <td>Finland</td>\n",
       "      <td>Koskitalo</td>\n",
       "      <td>Pirkko</td>\n",
       "      <td>Small</td>\n",
       "    </tr>\n",
       "    <tr>\n",
       "      <th>2659</th>\n",
       "      <td>10306</td>\n",
       "      <td>30</td>\n",
       "      <td>117.19</td>\n",
       "      <td>5</td>\n",
       "      <td>3515.70</td>\n",
       "      <td>14/10/2019</td>\n",
       "      <td>2890</td>\n",
       "      <td>Shipped</td>\n",
       "      <td>Ships</td>\n",
       "      <td>99</td>\n",
       "      <td>S700_3962</td>\n",
       "      <td>AV Stores, Co.</td>\n",
       "      <td>(171) 555-1555</td>\n",
       "      <td>Fauntleroy Circus</td>\n",
       "      <td>Manchester</td>\n",
       "      <td>EC2 5NT</td>\n",
       "      <td>UK</td>\n",
       "      <td>Ashworth</td>\n",
       "      <td>Victoria</td>\n",
       "      <td>Medium</td>\n",
       "    </tr>\n",
       "    <tr>\n",
       "      <th>1738</th>\n",
       "      <td>10181</td>\n",
       "      <td>37</td>\n",
       "      <td>42.67</td>\n",
       "      <td>8</td>\n",
       "      <td>1578.79</td>\n",
       "      <td>12/11/2018</td>\n",
       "      <td>2305</td>\n",
       "      <td>Shipped</td>\n",
       "      <td>Classic Cars</td>\n",
       "      <td>37</td>\n",
       "      <td>S24_2972</td>\n",
       "      <td>Herkku Gifts</td>\n",
       "      <td>+47 2267 3215</td>\n",
       "      <td>Drammen 121, PR 744 Sentrum</td>\n",
       "      <td>Bergen</td>\n",
       "      <td>N 5804</td>\n",
       "      <td>Norway</td>\n",
       "      <td>Oeztan</td>\n",
       "      <td>Veysel</td>\n",
       "      <td>Small</td>\n",
       "    </tr>\n",
       "  </tbody>\n",
       "</table>\n",
       "</div>"
      ],
      "text/plain": [
       "      ORDERNUMBER  QUANTITYORDERED  PRICEEACH  ORDERLINENUMBER    SALES  \\\n",
       "1000        10281               25     167.65                5  4191.25   \n",
       "1071        10103               46     104.17               16  4791.82   \n",
       "1743        10239               20      44.56                2   891.20   \n",
       "2659        10306               30     117.19                5  3515.70   \n",
       "1738        10181               37      42.67                8  1578.79   \n",
       "\n",
       "       ORDERDATE  DAYS_SINCE_LASTORDER   STATUS   PRODUCTLINE  MSRP  \\\n",
       "1000  19/08/2019                  1287  Shipped  Classic Cars   169   \n",
       "1071  29/01/2018                  1925  Shipped  Vintage Cars    99   \n",
       "1743  12/04/2019                  2159  Shipped  Classic Cars    37   \n",
       "2659  14/10/2019                  2890  Shipped         Ships    99   \n",
       "1738  12/11/2018                  2305  Shipped  Classic Cars    37   \n",
       "\n",
       "     PRODUCTCODE             CUSTOMERNAME           PHONE  \\\n",
       "1000    S18_3232    Diecast Classics Inc.      2155551555   \n",
       "1071    S18_3320       Baane Mini Imports      07-98 9555   \n",
       "1743    S24_2972  Oulu Toy Supplies, Inc.      981-443655   \n",
       "2659   S700_3962           AV Stores, Co.  (171) 555-1555   \n",
       "1738    S24_2972             Herkku Gifts   +47 2267 3215   \n",
       "\n",
       "                     ADDRESSLINE1        CITY POSTALCODE  COUNTRY  \\\n",
       "1000             7586 Pompton St.   Allentown      70267      USA   \n",
       "1071       Erling Skakkes gate 78     Stavern       4110   Norway   \n",
       "1743                  Torikatu 38        Oulu      90110  Finland   \n",
       "2659            Fauntleroy Circus  Manchester    EC2 5NT       UK   \n",
       "1738  Drammen 121, PR 744 Sentrum      Bergen     N 5804   Norway   \n",
       "\n",
       "     CONTACTLASTNAME CONTACTFIRSTNAME DEALSIZE  \n",
       "1000              Yu            Kyung   Medium  \n",
       "1071      Bergulfsen            Jonas   Medium  \n",
       "1743       Koskitalo           Pirkko    Small  \n",
       "2659        Ashworth         Victoria   Medium  \n",
       "1738          Oeztan           Veysel    Small  "
      ]
     },
     "execution_count": 13,
     "metadata": {},
     "output_type": "execute_result"
    }
   ],
   "source": [
    "df.sample(5)"
   ]
  },
  {
   "cell_type": "markdown",
   "id": "fb633969-c069-4df4-8f09-e86f5287880c",
   "metadata": {},
   "source": [
    "<a id='understanding-dataset'></a>\n",
    "# <font color='firebrick'> <b>Understanding The Dataset</b><font color='black'> "
   ]
  },
  {
   "cell_type": "markdown",
   "id": "177edb34-8bcf-4293-967d-779ff024d4a8",
   "metadata": {},
   "source": [
    "- **ORDERNUMBER:** This column represents the unique identification number assigned to each order.\n",
    "- **QUANTITYORDERED:** It indicates the number of items ordered in each order.\n",
    "- **PRICEEACH:** This column specifies the price of each item in the order.\n",
    "- **ORDERLINENUMBER:** It represents the line number of each item within an order.\n",
    "- **SALES:** This column denotes the total sales amount for each order, which is calculated by multiplying the quantity ordered by the price of each item.\n",
    "- **ORDERDATE:** It denotes the date on which the order was placed.\n",
    "- **DAYS_SINCE_LASTORDER:** This column represents the number of days that have passed since the last order for each customer. It can be used to analyze customer purchasing patterns.\n",
    "- **STATUS:** It indicates the status of the order, such as \"Shipped,\" \"In Process,\" \"Cancelled,\" \"Disputed,\" \"On Hold,\" or \"Resolved.\"\n",
    "- **PRODUCTLINE:** This column specifies the product line categories to which each item belongs.\n",
    "- **MSRP:** It stands for Manufacturer's Suggested Retail Price and represents the suggested selling price for each item.\n",
    "- **PRODUCTCODE:** This column represents the unique code assigned to each product.\n",
    "- **CUSTOMERNAME:** It denotes the name of the customer who placed the order.\n",
    "- **PHONE:** This column contains the contact phone number for the customer.\n",
    "- **ADDRESSLINE1:** It represents the first line of the customer's address.\n",
    "- **CITY:** This column specifies the city where the customer is located.\n",
    "- **POSTALCODE:** It denotes the postal code or ZIP code associated with the customer's address.\n",
    "- **COUNTRY:** This column indicates the country where the customer is located.\n",
    "- **CONTACTLASTNAME:** It represents the last name of the contact person associated with the customer.\n",
    "- **CONTACTFIRSTNAME:** This column denotes the first name of the contact person associated with the customer.\n",
    "- **DEALSIZE:** It indicates the size of the deal or order, which are the categories \"Small,\" \"Medium,\" or \"Large.\""
   ]
  },
  {
   "cell_type": "code",
   "execution_count": 17,
   "id": "37085007-ae8c-4cc5-96e8-afae1557dba1",
   "metadata": {},
   "outputs": [
    {
     "data": {
      "text/plain": [
       "(2747, 20)"
      ]
     },
     "execution_count": 17,
     "metadata": {},
     "output_type": "execute_result"
    }
   ],
   "source": [
    "df.shape"
   ]
  },
  {
   "cell_type": "code",
   "execution_count": 18,
   "id": "6de0d5fa-ab2a-4015-bdab-ca7709b5decd",
   "metadata": {},
   "outputs": [
    {
     "name": "stdout",
     "output_type": "stream",
     "text": [
      "<class 'pandas.core.frame.DataFrame'>\n",
      "RangeIndex: 2747 entries, 0 to 2746\n",
      "Data columns (total 20 columns):\n",
      " #   Column                Non-Null Count  Dtype  \n",
      "---  ------                --------------  -----  \n",
      " 0   ORDERNUMBER           2747 non-null   int64  \n",
      " 1   QUANTITYORDERED       2747 non-null   int64  \n",
      " 2   PRICEEACH             2747 non-null   float64\n",
      " 3   ORDERLINENUMBER       2747 non-null   int64  \n",
      " 4   SALES                 2747 non-null   float64\n",
      " 5   ORDERDATE             2747 non-null   object \n",
      " 6   DAYS_SINCE_LASTORDER  2747 non-null   int64  \n",
      " 7   STATUS                2747 non-null   object \n",
      " 8   PRODUCTLINE           2747 non-null   object \n",
      " 9   MSRP                  2747 non-null   int64  \n",
      " 10  PRODUCTCODE           2747 non-null   object \n",
      " 11  CUSTOMERNAME          2747 non-null   object \n",
      " 12  PHONE                 2747 non-null   object \n",
      " 13  ADDRESSLINE1          2747 non-null   object \n",
      " 14  CITY                  2747 non-null   object \n",
      " 15  POSTALCODE            2747 non-null   object \n",
      " 16  COUNTRY               2747 non-null   object \n",
      " 17  CONTACTLASTNAME       2747 non-null   object \n",
      " 18  CONTACTFIRSTNAME      2747 non-null   object \n",
      " 19  DEALSIZE              2747 non-null   object \n",
      "dtypes: float64(2), int64(5), object(13)\n",
      "memory usage: 429.3+ KB\n"
     ]
    }
   ],
   "source": [
    "df.info()"
   ]
  },
  {
   "cell_type": "code",
   "execution_count": 19,
   "id": "dcd48c58-df95-409c-b910-3e6eb095e45d",
   "metadata": {},
   "outputs": [
    {
     "data": {
      "text/html": [
       "<div>\n",
       "<style scoped>\n",
       "    .dataframe tbody tr th:only-of-type {\n",
       "        vertical-align: middle;\n",
       "    }\n",
       "\n",
       "    .dataframe tbody tr th {\n",
       "        vertical-align: top;\n",
       "    }\n",
       "\n",
       "    .dataframe thead th {\n",
       "        text-align: right;\n",
       "    }\n",
       "</style>\n",
       "<table border=\"1\" class=\"dataframe\">\n",
       "  <thead>\n",
       "    <tr style=\"text-align: right;\">\n",
       "      <th></th>\n",
       "      <th>count</th>\n",
       "      <th>mean</th>\n",
       "      <th>std</th>\n",
       "      <th>min</th>\n",
       "      <th>25%</th>\n",
       "      <th>50%</th>\n",
       "      <th>75%</th>\n",
       "      <th>max</th>\n",
       "    </tr>\n",
       "  </thead>\n",
       "  <tbody>\n",
       "    <tr>\n",
       "      <th>ORDERNUMBER</th>\n",
       "      <td>2747.0</td>\n",
       "      <td>10259.761558</td>\n",
       "      <td>91.877521</td>\n",
       "      <td>10100.00</td>\n",
       "      <td>10181.000</td>\n",
       "      <td>10264.00</td>\n",
       "      <td>10334.500</td>\n",
       "      <td>10425.00</td>\n",
       "    </tr>\n",
       "    <tr>\n",
       "      <th>QUANTITYORDERED</th>\n",
       "      <td>2747.0</td>\n",
       "      <td>35.103021</td>\n",
       "      <td>9.762135</td>\n",
       "      <td>6.00</td>\n",
       "      <td>27.000</td>\n",
       "      <td>35.00</td>\n",
       "      <td>43.000</td>\n",
       "      <td>97.00</td>\n",
       "    </tr>\n",
       "    <tr>\n",
       "      <th>PRICEEACH</th>\n",
       "      <td>2747.0</td>\n",
       "      <td>101.098952</td>\n",
       "      <td>42.042549</td>\n",
       "      <td>26.88</td>\n",
       "      <td>68.745</td>\n",
       "      <td>95.55</td>\n",
       "      <td>127.100</td>\n",
       "      <td>252.87</td>\n",
       "    </tr>\n",
       "    <tr>\n",
       "      <th>ORDERLINENUMBER</th>\n",
       "      <td>2747.0</td>\n",
       "      <td>6.491081</td>\n",
       "      <td>4.230544</td>\n",
       "      <td>1.00</td>\n",
       "      <td>3.000</td>\n",
       "      <td>6.00</td>\n",
       "      <td>9.000</td>\n",
       "      <td>18.00</td>\n",
       "    </tr>\n",
       "    <tr>\n",
       "      <th>SALES</th>\n",
       "      <td>2747.0</td>\n",
       "      <td>3553.047583</td>\n",
       "      <td>1838.953901</td>\n",
       "      <td>482.13</td>\n",
       "      <td>2204.350</td>\n",
       "      <td>3184.80</td>\n",
       "      <td>4503.095</td>\n",
       "      <td>14082.80</td>\n",
       "    </tr>\n",
       "    <tr>\n",
       "      <th>DAYS_SINCE_LASTORDER</th>\n",
       "      <td>2747.0</td>\n",
       "      <td>1757.085912</td>\n",
       "      <td>819.280576</td>\n",
       "      <td>42.00</td>\n",
       "      <td>1077.000</td>\n",
       "      <td>1761.00</td>\n",
       "      <td>2436.500</td>\n",
       "      <td>3562.00</td>\n",
       "    </tr>\n",
       "    <tr>\n",
       "      <th>MSRP</th>\n",
       "      <td>2747.0</td>\n",
       "      <td>100.691664</td>\n",
       "      <td>40.114802</td>\n",
       "      <td>33.00</td>\n",
       "      <td>68.000</td>\n",
       "      <td>99.00</td>\n",
       "      <td>124.000</td>\n",
       "      <td>214.00</td>\n",
       "    </tr>\n",
       "  </tbody>\n",
       "</table>\n",
       "</div>"
      ],
      "text/plain": [
       "                       count          mean          std       min        25%  \\\n",
       "ORDERNUMBER           2747.0  10259.761558    91.877521  10100.00  10181.000   \n",
       "QUANTITYORDERED       2747.0     35.103021     9.762135      6.00     27.000   \n",
       "PRICEEACH             2747.0    101.098952    42.042549     26.88     68.745   \n",
       "ORDERLINENUMBER       2747.0      6.491081     4.230544      1.00      3.000   \n",
       "SALES                 2747.0   3553.047583  1838.953901    482.13   2204.350   \n",
       "DAYS_SINCE_LASTORDER  2747.0   1757.085912   819.280576     42.00   1077.000   \n",
       "MSRP                  2747.0    100.691664    40.114802     33.00     68.000   \n",
       "\n",
       "                           50%        75%       max  \n",
       "ORDERNUMBER           10264.00  10334.500  10425.00  \n",
       "QUANTITYORDERED          35.00     43.000     97.00  \n",
       "PRICEEACH                95.55    127.100    252.87  \n",
       "ORDERLINENUMBER           6.00      9.000     18.00  \n",
       "SALES                  3184.80   4503.095  14082.80  \n",
       "DAYS_SINCE_LASTORDER   1761.00   2436.500   3562.00  \n",
       "MSRP                     99.00    124.000    214.00  "
      ]
     },
     "execution_count": 19,
     "metadata": {},
     "output_type": "execute_result"
    }
   ],
   "source": [
    "df.describe().T"
   ]
  },
  {
   "cell_type": "code",
   "execution_count": 20,
   "id": "f4488689-1c46-4a89-b0fa-a99dcb1bf9d6",
   "metadata": {},
   "outputs": [
    {
     "data": {
      "text/html": [
       "<div>\n",
       "<style scoped>\n",
       "    .dataframe tbody tr th:only-of-type {\n",
       "        vertical-align: middle;\n",
       "    }\n",
       "\n",
       "    .dataframe tbody tr th {\n",
       "        vertical-align: top;\n",
       "    }\n",
       "\n",
       "    .dataframe thead th {\n",
       "        text-align: right;\n",
       "    }\n",
       "</style>\n",
       "<table border=\"1\" class=\"dataframe\">\n",
       "  <thead>\n",
       "    <tr style=\"text-align: right;\">\n",
       "      <th></th>\n",
       "      <th>count</th>\n",
       "      <th>unique</th>\n",
       "      <th>top</th>\n",
       "      <th>freq</th>\n",
       "    </tr>\n",
       "  </thead>\n",
       "  <tbody>\n",
       "    <tr>\n",
       "      <th>ORDERDATE</th>\n",
       "      <td>2747</td>\n",
       "      <td>246</td>\n",
       "      <td>14/11/2018</td>\n",
       "      <td>38</td>\n",
       "    </tr>\n",
       "    <tr>\n",
       "      <th>STATUS</th>\n",
       "      <td>2747</td>\n",
       "      <td>6</td>\n",
       "      <td>Shipped</td>\n",
       "      <td>2541</td>\n",
       "    </tr>\n",
       "    <tr>\n",
       "      <th>PRODUCTLINE</th>\n",
       "      <td>2747</td>\n",
       "      <td>7</td>\n",
       "      <td>Classic Cars</td>\n",
       "      <td>949</td>\n",
       "    </tr>\n",
       "    <tr>\n",
       "      <th>PRODUCTCODE</th>\n",
       "      <td>2747</td>\n",
       "      <td>109</td>\n",
       "      <td>S18_3232</td>\n",
       "      <td>51</td>\n",
       "    </tr>\n",
       "    <tr>\n",
       "      <th>CUSTOMERNAME</th>\n",
       "      <td>2747</td>\n",
       "      <td>89</td>\n",
       "      <td>Euro Shopping Channel</td>\n",
       "      <td>259</td>\n",
       "    </tr>\n",
       "    <tr>\n",
       "      <th>PHONE</th>\n",
       "      <td>2747</td>\n",
       "      <td>88</td>\n",
       "      <td>(91) 555 94 44</td>\n",
       "      <td>259</td>\n",
       "    </tr>\n",
       "    <tr>\n",
       "      <th>ADDRESSLINE1</th>\n",
       "      <td>2747</td>\n",
       "      <td>89</td>\n",
       "      <td>C/ Moralzarzal, 86</td>\n",
       "      <td>259</td>\n",
       "    </tr>\n",
       "    <tr>\n",
       "      <th>CITY</th>\n",
       "      <td>2747</td>\n",
       "      <td>71</td>\n",
       "      <td>Madrid</td>\n",
       "      <td>304</td>\n",
       "    </tr>\n",
       "    <tr>\n",
       "      <th>POSTALCODE</th>\n",
       "      <td>2747</td>\n",
       "      <td>73</td>\n",
       "      <td>28034</td>\n",
       "      <td>259</td>\n",
       "    </tr>\n",
       "    <tr>\n",
       "      <th>COUNTRY</th>\n",
       "      <td>2747</td>\n",
       "      <td>19</td>\n",
       "      <td>USA</td>\n",
       "      <td>928</td>\n",
       "    </tr>\n",
       "    <tr>\n",
       "      <th>CONTACTLASTNAME</th>\n",
       "      <td>2747</td>\n",
       "      <td>76</td>\n",
       "      <td>Freyre</td>\n",
       "      <td>259</td>\n",
       "    </tr>\n",
       "    <tr>\n",
       "      <th>CONTACTFIRSTNAME</th>\n",
       "      <td>2747</td>\n",
       "      <td>72</td>\n",
       "      <td>Diego</td>\n",
       "      <td>259</td>\n",
       "    </tr>\n",
       "    <tr>\n",
       "      <th>DEALSIZE</th>\n",
       "      <td>2747</td>\n",
       "      <td>3</td>\n",
       "      <td>Medium</td>\n",
       "      <td>1349</td>\n",
       "    </tr>\n",
       "  </tbody>\n",
       "</table>\n",
       "</div>"
      ],
      "text/plain": [
       "                 count unique                    top  freq\n",
       "ORDERDATE         2747    246             14/11/2018    38\n",
       "STATUS            2747      6                Shipped  2541\n",
       "PRODUCTLINE       2747      7           Classic Cars   949\n",
       "PRODUCTCODE       2747    109               S18_3232    51\n",
       "CUSTOMERNAME      2747     89  Euro Shopping Channel   259\n",
       "PHONE             2747     88         (91) 555 94 44   259\n",
       "ADDRESSLINE1      2747     89     C/ Moralzarzal, 86   259\n",
       "CITY              2747     71                 Madrid   304\n",
       "POSTALCODE        2747     73                  28034   259\n",
       "COUNTRY           2747     19                    USA   928\n",
       "CONTACTLASTNAME   2747     76                 Freyre   259\n",
       "CONTACTFIRSTNAME  2747     72                  Diego   259\n",
       "DEALSIZE          2747      3                 Medium  1349"
      ]
     },
     "execution_count": 20,
     "metadata": {},
     "output_type": "execute_result"
    }
   ],
   "source": [
    "df.describe(include= 'object').T"
   ]
  },
  {
   "cell_type": "code",
   "execution_count": 21,
   "id": "2e5efb26-fc09-4fc4-a899-4678d138ad0c",
   "metadata": {},
   "outputs": [
    {
     "data": {
      "text/html": [
       "<pre style=\"white-space:pre;overflow-x:auto;line-height:normal;font-family:Menlo,'DejaVu Sans Mono',consolas,'Courier New',monospace\">╭──────────────────────────────────────────────── skimpy summary ─────────────────────────────────────────────────╮\n",
       "│ <span style=\"font-style: italic\">         Data Summary         </span> <span style=\"font-style: italic\">      Data Types       </span>                                                          │\n",
       "│ ┏━━━━━━━━━━━━━━━━━━━┳━━━━━━━━┓ ┏━━━━━━━━━━━━━┳━━━━━━━┓                                                          │\n",
       "│ ┃<span style=\"color: #008080; text-decoration-color: #008080; font-weight: bold\"> dataframe         </span>┃<span style=\"color: #008080; text-decoration-color: #008080; font-weight: bold\"> Values </span>┃ ┃<span style=\"color: #008080; text-decoration-color: #008080; font-weight: bold\"> Column Type </span>┃<span style=\"color: #008080; text-decoration-color: #008080; font-weight: bold\"> Count </span>┃                                                          │\n",
       "│ ┡━━━━━━━━━━━━━━━━━━━╇━━━━━━━━┩ ┡━━━━━━━━━━━━━╇━━━━━━━┩                                                          │\n",
       "│ │ Number of rows    │ 2747   │ │ string      │ 13    │                                                          │\n",
       "│ │ Number of columns │ 20     │ │ int32       │ 5     │                                                          │\n",
       "│ └───────────────────┴────────┘ │ float64     │ 2     │                                                          │\n",
       "│                                └─────────────┴───────┘                                                          │\n",
       "│ <span style=\"font-style: italic\">                                                    number                                                    </span>  │\n",
       "│ ┏━━━━━━━━━━━━━━━━━━━━━━━━━┳━━━━━┳━━━━━━━┳━━━━━━━━┳━━━━━━━━┳━━━━━━━━┳━━━━━━━━┳━━━━━━━┳━━━━━━━┳━━━━━━━┳━━━━━━━━┓  │\n",
       "│ ┃<span style=\"font-weight: bold\"> column_name             </span>┃<span style=\"font-weight: bold\"> NA  </span>┃<span style=\"font-weight: bold\"> NA %  </span>┃<span style=\"font-weight: bold\"> mean   </span>┃<span style=\"font-weight: bold\"> sd     </span>┃<span style=\"font-weight: bold\"> p0     </span>┃<span style=\"font-weight: bold\"> p25    </span>┃<span style=\"font-weight: bold\"> p50   </span>┃<span style=\"font-weight: bold\"> p75   </span>┃<span style=\"font-weight: bold\"> p100  </span>┃<span style=\"font-weight: bold\"> hist   </span>┃  │\n",
       "│ ┡━━━━━━━━━━━━━━━━━━━━━━━━━╇━━━━━╇━━━━━━━╇━━━━━━━━╇━━━━━━━━╇━━━━━━━━╇━━━━━━━━╇━━━━━━━╇━━━━━━━╇━━━━━━━╇━━━━━━━━┩  │\n",
       "│ │ <span style=\"color: #af87ff; text-decoration-color: #af87ff\">ORDERNUMBER            </span> │ <span style=\"color: #008080; text-decoration-color: #008080\">  0</span> │ <span style=\"color: #008080; text-decoration-color: #008080\">    0</span> │ <span style=\"color: #008080; text-decoration-color: #008080\"> 10260</span> │ <span style=\"color: #008080; text-decoration-color: #008080\"> 91.88</span> │ <span style=\"color: #008080; text-decoration-color: #008080\"> 10100</span> │ <span style=\"color: #008080; text-decoration-color: #008080\"> 10180</span> │ <span style=\"color: #008080; text-decoration-color: #008080\">10260</span> │ <span style=\"color: #008080; text-decoration-color: #008080\">10330</span> │ <span style=\"color: #008080; text-decoration-color: #008080\">10420</span> │ <span style=\"color: #008000; text-decoration-color: #008000\">▇▇▆▇▇▆</span> │  │\n",
       "│ │ <span style=\"color: #af87ff; text-decoration-color: #af87ff\">QUANTITYORDERED        </span> │ <span style=\"color: #008080; text-decoration-color: #008080\">  0</span> │ <span style=\"color: #008080; text-decoration-color: #008080\">    0</span> │ <span style=\"color: #008080; text-decoration-color: #008080\">  35.1</span> │ <span style=\"color: #008080; text-decoration-color: #008080\"> 9.762</span> │ <span style=\"color: #008080; text-decoration-color: #008080\">     6</span> │ <span style=\"color: #008080; text-decoration-color: #008080\">    27</span> │ <span style=\"color: #008080; text-decoration-color: #008080\">   35</span> │ <span style=\"color: #008080; text-decoration-color: #008080\">   43</span> │ <span style=\"color: #008080; text-decoration-color: #008080\">   97</span> │ <span style=\"color: #008000; text-decoration-color: #008000\"> ▁▇▇  </span> │  │\n",
       "│ │ <span style=\"color: #af87ff; text-decoration-color: #af87ff\">PRICEEACH              </span> │ <span style=\"color: #008080; text-decoration-color: #008080\">  0</span> │ <span style=\"color: #008080; text-decoration-color: #008080\">    0</span> │ <span style=\"color: #008080; text-decoration-color: #008080\"> 101.1</span> │ <span style=\"color: #008080; text-decoration-color: #008080\"> 42.04</span> │ <span style=\"color: #008080; text-decoration-color: #008080\"> 26.88</span> │ <span style=\"color: #008080; text-decoration-color: #008080\"> 68.75</span> │ <span style=\"color: #008080; text-decoration-color: #008080\">95.55</span> │ <span style=\"color: #008080; text-decoration-color: #008080\">127.1</span> │ <span style=\"color: #008080; text-decoration-color: #008080\">252.9</span> │ <span style=\"color: #008000; text-decoration-color: #008000\">▅▇▆▃▁ </span> │  │\n",
       "│ │ <span style=\"color: #af87ff; text-decoration-color: #af87ff\">ORDERLINENUMBER        </span> │ <span style=\"color: #008080; text-decoration-color: #008080\">  0</span> │ <span style=\"color: #008080; text-decoration-color: #008080\">    0</span> │ <span style=\"color: #008080; text-decoration-color: #008080\"> 6.491</span> │ <span style=\"color: #008080; text-decoration-color: #008080\"> 4.231</span> │ <span style=\"color: #008080; text-decoration-color: #008080\">     1</span> │ <span style=\"color: #008080; text-decoration-color: #008080\">     3</span> │ <span style=\"color: #008080; text-decoration-color: #008080\">    6</span> │ <span style=\"color: #008080; text-decoration-color: #008080\">    9</span> │ <span style=\"color: #008080; text-decoration-color: #008080\">   18</span> │ <span style=\"color: #008000; text-decoration-color: #008000\">▇▇▅▃▂▁</span> │  │\n",
       "│ │ <span style=\"color: #af87ff; text-decoration-color: #af87ff\">SALES                  </span> │ <span style=\"color: #008080; text-decoration-color: #008080\">  0</span> │ <span style=\"color: #008080; text-decoration-color: #008080\">    0</span> │ <span style=\"color: #008080; text-decoration-color: #008080\">  3553</span> │ <span style=\"color: #008080; text-decoration-color: #008080\">  1839</span> │ <span style=\"color: #008080; text-decoration-color: #008080\"> 482.1</span> │ <span style=\"color: #008080; text-decoration-color: #008080\">  2204</span> │ <span style=\"color: #008080; text-decoration-color: #008080\"> 3185</span> │ <span style=\"color: #008080; text-decoration-color: #008080\"> 4503</span> │ <span style=\"color: #008080; text-decoration-color: #008080\">14080</span> │ <span style=\"color: #008000; text-decoration-color: #008000\"> ▇▇▃▁ </span> │  │\n",
       "│ │ <span style=\"color: #af87ff; text-decoration-color: #af87ff\">DAYS_SINCE_LASTORDER   </span> │ <span style=\"color: #008080; text-decoration-color: #008080\">  0</span> │ <span style=\"color: #008080; text-decoration-color: #008080\">    0</span> │ <span style=\"color: #008080; text-decoration-color: #008080\">  1757</span> │ <span style=\"color: #008080; text-decoration-color: #008080\"> 819.3</span> │ <span style=\"color: #008080; text-decoration-color: #008080\">    42</span> │ <span style=\"color: #008080; text-decoration-color: #008080\">  1077</span> │ <span style=\"color: #008080; text-decoration-color: #008080\"> 1761</span> │ <span style=\"color: #008080; text-decoration-color: #008080\"> 2436</span> │ <span style=\"color: #008080; text-decoration-color: #008080\"> 3562</span> │ <span style=\"color: #008000; text-decoration-color: #008000\">▃▇▇▇▇▂</span> │  │\n",
       "│ │ <span style=\"color: #af87ff; text-decoration-color: #af87ff\">MSRP                   </span> │ <span style=\"color: #008080; text-decoration-color: #008080\">  0</span> │ <span style=\"color: #008080; text-decoration-color: #008080\">    0</span> │ <span style=\"color: #008080; text-decoration-color: #008080\"> 100.7</span> │ <span style=\"color: #008080; text-decoration-color: #008080\"> 40.11</span> │ <span style=\"color: #008080; text-decoration-color: #008080\">    33</span> │ <span style=\"color: #008080; text-decoration-color: #008080\">    68</span> │ <span style=\"color: #008080; text-decoration-color: #008080\">   99</span> │ <span style=\"color: #008080; text-decoration-color: #008080\">  124</span> │ <span style=\"color: #008080; text-decoration-color: #008080\">  214</span> │ <span style=\"color: #008000; text-decoration-color: #008000\">▆▇▇▅▂▁</span> │  │\n",
       "│ └─────────────────────────┴─────┴───────┴────────┴────────┴────────┴────────┴───────┴───────┴───────┴────────┘  │\n",
       "│ <span style=\"font-style: italic\">                                                    string                                                    </span>  │\n",
       "│ ┏━━━━━━━━━━━━━━━━━━━━━━━━━━━━━━━━━━┳━━━━━━━━┳━━━━━━━━━━━┳━━━━━━━━━━━━━━━━━━━━━━━━━━━━┳━━━━━━━━━━━━━━━━━━━━━━━┓  │\n",
       "│ ┃<span style=\"font-weight: bold\"> column_name                      </span>┃<span style=\"font-weight: bold\"> NA     </span>┃<span style=\"font-weight: bold\"> NA %      </span>┃<span style=\"font-weight: bold\"> words per row              </span>┃<span style=\"font-weight: bold\"> total words           </span>┃  │\n",
       "│ ┡━━━━━━━━━━━━━━━━━━━━━━━━━━━━━━━━━━╇━━━━━━━━╇━━━━━━━━━━━╇━━━━━━━━━━━━━━━━━━━━━━━━━━━━╇━━━━━━━━━━━━━━━━━━━━━━━┩  │\n",
       "│ │ <span style=\"color: #af87ff; text-decoration-color: #af87ff\">ORDERDATE                       </span> │ <span style=\"color: #008080; text-decoration-color: #008080\">     0</span> │ <span style=\"color: #008080; text-decoration-color: #008080\">        0</span> │ <span style=\"color: #008080; text-decoration-color: #008080\">                         1</span> │ <span style=\"color: #008080; text-decoration-color: #008080\">                 2747</span> │  │\n",
       "│ │ <span style=\"color: #af87ff; text-decoration-color: #af87ff\">STATUS                          </span> │ <span style=\"color: #008080; text-decoration-color: #008080\">     0</span> │ <span style=\"color: #008080; text-decoration-color: #008080\">        0</span> │ <span style=\"color: #008080; text-decoration-color: #008080\">                         1</span> │ <span style=\"color: #008080; text-decoration-color: #008080\">                 2832</span> │  │\n",
       "│ │ <span style=\"color: #af87ff; text-decoration-color: #af87ff\">PRODUCTLINE                     </span> │ <span style=\"color: #008080; text-decoration-color: #008080\">     0</span> │ <span style=\"color: #008080; text-decoration-color: #008080\">        0</span> │ <span style=\"color: #008080; text-decoration-color: #008080\">                       1.8</span> │ <span style=\"color: #008080; text-decoration-color: #008080\">                 4865</span> │  │\n",
       "│ │ <span style=\"color: #af87ff; text-decoration-color: #af87ff\">PRODUCTCODE                     </span> │ <span style=\"color: #008080; text-decoration-color: #008080\">     0</span> │ <span style=\"color: #008080; text-decoration-color: #008080\">        0</span> │ <span style=\"color: #008080; text-decoration-color: #008080\">                         1</span> │ <span style=\"color: #008080; text-decoration-color: #008080\">                 2747</span> │  │\n",
       "│ │ <span style=\"color: #af87ff; text-decoration-color: #af87ff\">CUSTOMERNAME                    </span> │ <span style=\"color: #008080; text-decoration-color: #008080\">     0</span> │ <span style=\"color: #008080; text-decoration-color: #008080\">        0</span> │ <span style=\"color: #008080; text-decoration-color: #008080\">                       3.1</span> │ <span style=\"color: #008080; text-decoration-color: #008080\">                 8496</span> │  │\n",
       "│ │ <span style=\"color: #af87ff; text-decoration-color: #af87ff\">PHONE                           </span> │ <span style=\"color: #008080; text-decoration-color: #008080\">     0</span> │ <span style=\"color: #008080; text-decoration-color: #008080\">        0</span> │ <span style=\"color: #008080; text-decoration-color: #008080\">                         2</span> │ <span style=\"color: #008080; text-decoration-color: #008080\">                 5517</span> │  │\n",
       "│ │ <span style=\"color: #af87ff; text-decoration-color: #af87ff\">ADDRESSLINE1                    </span> │ <span style=\"color: #008080; text-decoration-color: #008080\">     0</span> │ <span style=\"color: #008080; text-decoration-color: #008080\">        0</span> │ <span style=\"color: #008080; text-decoration-color: #008080\">                       3.5</span> │ <span style=\"color: #008080; text-decoration-color: #008080\">                 9478</span> │  │\n",
       "│ │ <span style=\"color: #af87ff; text-decoration-color: #af87ff\">CITY                            </span> │ <span style=\"color: #008080; text-decoration-color: #008080\">     0</span> │ <span style=\"color: #008080; text-decoration-color: #008080\">        0</span> │ <span style=\"color: #008080; text-decoration-color: #008080\">                       1.2</span> │ <span style=\"color: #008080; text-decoration-color: #008080\">                 3274</span> │  │\n",
       "│ │ <span style=\"color: #af87ff; text-decoration-color: #af87ff\">POSTALCODE                      </span> │ <span style=\"color: #008080; text-decoration-color: #008080\">     0</span> │ <span style=\"color: #008080; text-decoration-color: #008080\">        0</span> │ <span style=\"color: #008080; text-decoration-color: #008080\">                       1.1</span> │ <span style=\"color: #008080; text-decoration-color: #008080\">                 3097</span> │  │\n",
       "│ │ <span style=\"color: #af87ff; text-decoration-color: #af87ff\">COUNTRY                         </span> │ <span style=\"color: #008080; text-decoration-color: #008080\">     0</span> │ <span style=\"color: #008080; text-decoration-color: #008080\">        0</span> │ <span style=\"color: #008080; text-decoration-color: #008080\">                         1</span> │ <span style=\"color: #008080; text-decoration-color: #008080\">                 2747</span> │  │\n",
       "│ │ <span style=\"color: #af87ff; text-decoration-color: #af87ff\">CONTACTLASTNAME                 </span> │ <span style=\"color: #008080; text-decoration-color: #008080\">     0</span> │ <span style=\"color: #008080; text-decoration-color: #008080\">        0</span> │ <span style=\"color: #008080; text-decoration-color: #008080\">                         1</span> │ <span style=\"color: #008080; text-decoration-color: #008080\">                 2767</span> │  │\n",
       "│ │ <span style=\"color: #af87ff; text-decoration-color: #af87ff\">CONTACTFIRSTNAME                </span> │ <span style=\"color: #008080; text-decoration-color: #008080\">     0</span> │ <span style=\"color: #008080; text-decoration-color: #008080\">        0</span> │ <span style=\"color: #008080; text-decoration-color: #008080\">                         1</span> │ <span style=\"color: #008080; text-decoration-color: #008080\">                 2797</span> │  │\n",
       "│ │ <span style=\"color: #af87ff; text-decoration-color: #af87ff\">DEALSIZE                        </span> │ <span style=\"color: #008080; text-decoration-color: #008080\">     0</span> │ <span style=\"color: #008080; text-decoration-color: #008080\">        0</span> │ <span style=\"color: #008080; text-decoration-color: #008080\">                         1</span> │ <span style=\"color: #008080; text-decoration-color: #008080\">                 2747</span> │  │\n",
       "│ └──────────────────────────────────┴────────┴───────────┴────────────────────────────┴───────────────────────┘  │\n",
       "╰────────────────────────────────────────────────────── End ──────────────────────────────────────────────────────╯\n",
       "</pre>\n"
      ],
      "text/plain": [
       "╭──────────────────────────────────────────────── skimpy summary ─────────────────────────────────────────────────╮\n",
       "│ \u001b[3m         Data Summary         \u001b[0m \u001b[3m      Data Types       \u001b[0m                                                          │\n",
       "│ ┏━━━━━━━━━━━━━━━━━━━┳━━━━━━━━┓ ┏━━━━━━━━━━━━━┳━━━━━━━┓                                                          │\n",
       "│ ┃\u001b[1;36m \u001b[0m\u001b[1;36mdataframe        \u001b[0m\u001b[1;36m \u001b[0m┃\u001b[1;36m \u001b[0m\u001b[1;36mValues\u001b[0m\u001b[1;36m \u001b[0m┃ ┃\u001b[1;36m \u001b[0m\u001b[1;36mColumn Type\u001b[0m\u001b[1;36m \u001b[0m┃\u001b[1;36m \u001b[0m\u001b[1;36mCount\u001b[0m\u001b[1;36m \u001b[0m┃                                                          │\n",
       "│ ┡━━━━━━━━━━━━━━━━━━━╇━━━━━━━━┩ ┡━━━━━━━━━━━━━╇━━━━━━━┩                                                          │\n",
       "│ │ Number of rows    │ 2747   │ │ string      │ 13    │                                                          │\n",
       "│ │ Number of columns │ 20     │ │ int32       │ 5     │                                                          │\n",
       "│ └───────────────────┴────────┘ │ float64     │ 2     │                                                          │\n",
       "│                                └─────────────┴───────┘                                                          │\n",
       "│ \u001b[3m                                                    number                                                    \u001b[0m  │\n",
       "│ ┏━━━━━━━━━━━━━━━━━━━━━━━━━┳━━━━━┳━━━━━━━┳━━━━━━━━┳━━━━━━━━┳━━━━━━━━┳━━━━━━━━┳━━━━━━━┳━━━━━━━┳━━━━━━━┳━━━━━━━━┓  │\n",
       "│ ┃\u001b[1m \u001b[0m\u001b[1mcolumn_name            \u001b[0m\u001b[1m \u001b[0m┃\u001b[1m \u001b[0m\u001b[1mNA \u001b[0m\u001b[1m \u001b[0m┃\u001b[1m \u001b[0m\u001b[1mNA % \u001b[0m\u001b[1m \u001b[0m┃\u001b[1m \u001b[0m\u001b[1mmean  \u001b[0m\u001b[1m \u001b[0m┃\u001b[1m \u001b[0m\u001b[1msd    \u001b[0m\u001b[1m \u001b[0m┃\u001b[1m \u001b[0m\u001b[1mp0    \u001b[0m\u001b[1m \u001b[0m┃\u001b[1m \u001b[0m\u001b[1mp25   \u001b[0m\u001b[1m \u001b[0m┃\u001b[1m \u001b[0m\u001b[1mp50  \u001b[0m\u001b[1m \u001b[0m┃\u001b[1m \u001b[0m\u001b[1mp75  \u001b[0m\u001b[1m \u001b[0m┃\u001b[1m \u001b[0m\u001b[1mp100 \u001b[0m\u001b[1m \u001b[0m┃\u001b[1m \u001b[0m\u001b[1mhist  \u001b[0m\u001b[1m \u001b[0m┃  │\n",
       "│ ┡━━━━━━━━━━━━━━━━━━━━━━━━━╇━━━━━╇━━━━━━━╇━━━━━━━━╇━━━━━━━━╇━━━━━━━━╇━━━━━━━━╇━━━━━━━╇━━━━━━━╇━━━━━━━╇━━━━━━━━┩  │\n",
       "│ │ \u001b[38;5;141mORDERNUMBER            \u001b[0m │ \u001b[36m  0\u001b[0m │ \u001b[36m    0\u001b[0m │ \u001b[36m 10260\u001b[0m │ \u001b[36m 91.88\u001b[0m │ \u001b[36m 10100\u001b[0m │ \u001b[36m 10180\u001b[0m │ \u001b[36m10260\u001b[0m │ \u001b[36m10330\u001b[0m │ \u001b[36m10420\u001b[0m │ \u001b[32m▇▇▆▇▇▆\u001b[0m │  │\n",
       "│ │ \u001b[38;5;141mQUANTITYORDERED        \u001b[0m │ \u001b[36m  0\u001b[0m │ \u001b[36m    0\u001b[0m │ \u001b[36m  35.1\u001b[0m │ \u001b[36m 9.762\u001b[0m │ \u001b[36m     6\u001b[0m │ \u001b[36m    27\u001b[0m │ \u001b[36m   35\u001b[0m │ \u001b[36m   43\u001b[0m │ \u001b[36m   97\u001b[0m │ \u001b[32m ▁▇▇  \u001b[0m │  │\n",
       "│ │ \u001b[38;5;141mPRICEEACH              \u001b[0m │ \u001b[36m  0\u001b[0m │ \u001b[36m    0\u001b[0m │ \u001b[36m 101.1\u001b[0m │ \u001b[36m 42.04\u001b[0m │ \u001b[36m 26.88\u001b[0m │ \u001b[36m 68.75\u001b[0m │ \u001b[36m95.55\u001b[0m │ \u001b[36m127.1\u001b[0m │ \u001b[36m252.9\u001b[0m │ \u001b[32m▅▇▆▃▁ \u001b[0m │  │\n",
       "│ │ \u001b[38;5;141mORDERLINENUMBER        \u001b[0m │ \u001b[36m  0\u001b[0m │ \u001b[36m    0\u001b[0m │ \u001b[36m 6.491\u001b[0m │ \u001b[36m 4.231\u001b[0m │ \u001b[36m     1\u001b[0m │ \u001b[36m     3\u001b[0m │ \u001b[36m    6\u001b[0m │ \u001b[36m    9\u001b[0m │ \u001b[36m   18\u001b[0m │ \u001b[32m▇▇▅▃▂▁\u001b[0m │  │\n",
       "│ │ \u001b[38;5;141mSALES                  \u001b[0m │ \u001b[36m  0\u001b[0m │ \u001b[36m    0\u001b[0m │ \u001b[36m  3553\u001b[0m │ \u001b[36m  1839\u001b[0m │ \u001b[36m 482.1\u001b[0m │ \u001b[36m  2204\u001b[0m │ \u001b[36m 3185\u001b[0m │ \u001b[36m 4503\u001b[0m │ \u001b[36m14080\u001b[0m │ \u001b[32m ▇▇▃▁ \u001b[0m │  │\n",
       "│ │ \u001b[38;5;141mDAYS_SINCE_LASTORDER   \u001b[0m │ \u001b[36m  0\u001b[0m │ \u001b[36m    0\u001b[0m │ \u001b[36m  1757\u001b[0m │ \u001b[36m 819.3\u001b[0m │ \u001b[36m    42\u001b[0m │ \u001b[36m  1077\u001b[0m │ \u001b[36m 1761\u001b[0m │ \u001b[36m 2436\u001b[0m │ \u001b[36m 3562\u001b[0m │ \u001b[32m▃▇▇▇▇▂\u001b[0m │  │\n",
       "│ │ \u001b[38;5;141mMSRP                   \u001b[0m │ \u001b[36m  0\u001b[0m │ \u001b[36m    0\u001b[0m │ \u001b[36m 100.7\u001b[0m │ \u001b[36m 40.11\u001b[0m │ \u001b[36m    33\u001b[0m │ \u001b[36m    68\u001b[0m │ \u001b[36m   99\u001b[0m │ \u001b[36m  124\u001b[0m │ \u001b[36m  214\u001b[0m │ \u001b[32m▆▇▇▅▂▁\u001b[0m │  │\n",
       "│ └─────────────────────────┴─────┴───────┴────────┴────────┴────────┴────────┴───────┴───────┴───────┴────────┘  │\n",
       "│ \u001b[3m                                                    string                                                    \u001b[0m  │\n",
       "│ ┏━━━━━━━━━━━━━━━━━━━━━━━━━━━━━━━━━━┳━━━━━━━━┳━━━━━━━━━━━┳━━━━━━━━━━━━━━━━━━━━━━━━━━━━┳━━━━━━━━━━━━━━━━━━━━━━━┓  │\n",
       "│ ┃\u001b[1m \u001b[0m\u001b[1mcolumn_name                     \u001b[0m\u001b[1m \u001b[0m┃\u001b[1m \u001b[0m\u001b[1mNA    \u001b[0m\u001b[1m \u001b[0m┃\u001b[1m \u001b[0m\u001b[1mNA %     \u001b[0m\u001b[1m \u001b[0m┃\u001b[1m \u001b[0m\u001b[1mwords per row             \u001b[0m\u001b[1m \u001b[0m┃\u001b[1m \u001b[0m\u001b[1mtotal words          \u001b[0m\u001b[1m \u001b[0m┃  │\n",
       "│ ┡━━━━━━━━━━━━━━━━━━━━━━━━━━━━━━━━━━╇━━━━━━━━╇━━━━━━━━━━━╇━━━━━━━━━━━━━━━━━━━━━━━━━━━━╇━━━━━━━━━━━━━━━━━━━━━━━┩  │\n",
       "│ │ \u001b[38;5;141mORDERDATE                       \u001b[0m │ \u001b[36m     0\u001b[0m │ \u001b[36m        0\u001b[0m │ \u001b[36m                         1\u001b[0m │ \u001b[36m                 2747\u001b[0m │  │\n",
       "│ │ \u001b[38;5;141mSTATUS                          \u001b[0m │ \u001b[36m     0\u001b[0m │ \u001b[36m        0\u001b[0m │ \u001b[36m                         1\u001b[0m │ \u001b[36m                 2832\u001b[0m │  │\n",
       "│ │ \u001b[38;5;141mPRODUCTLINE                     \u001b[0m │ \u001b[36m     0\u001b[0m │ \u001b[36m        0\u001b[0m │ \u001b[36m                       1.8\u001b[0m │ \u001b[36m                 4865\u001b[0m │  │\n",
       "│ │ \u001b[38;5;141mPRODUCTCODE                     \u001b[0m │ \u001b[36m     0\u001b[0m │ \u001b[36m        0\u001b[0m │ \u001b[36m                         1\u001b[0m │ \u001b[36m                 2747\u001b[0m │  │\n",
       "│ │ \u001b[38;5;141mCUSTOMERNAME                    \u001b[0m │ \u001b[36m     0\u001b[0m │ \u001b[36m        0\u001b[0m │ \u001b[36m                       3.1\u001b[0m │ \u001b[36m                 8496\u001b[0m │  │\n",
       "│ │ \u001b[38;5;141mPHONE                           \u001b[0m │ \u001b[36m     0\u001b[0m │ \u001b[36m        0\u001b[0m │ \u001b[36m                         2\u001b[0m │ \u001b[36m                 5517\u001b[0m │  │\n",
       "│ │ \u001b[38;5;141mADDRESSLINE1                    \u001b[0m │ \u001b[36m     0\u001b[0m │ \u001b[36m        0\u001b[0m │ \u001b[36m                       3.5\u001b[0m │ \u001b[36m                 9478\u001b[0m │  │\n",
       "│ │ \u001b[38;5;141mCITY                            \u001b[0m │ \u001b[36m     0\u001b[0m │ \u001b[36m        0\u001b[0m │ \u001b[36m                       1.2\u001b[0m │ \u001b[36m                 3274\u001b[0m │  │\n",
       "│ │ \u001b[38;5;141mPOSTALCODE                      \u001b[0m │ \u001b[36m     0\u001b[0m │ \u001b[36m        0\u001b[0m │ \u001b[36m                       1.1\u001b[0m │ \u001b[36m                 3097\u001b[0m │  │\n",
       "│ │ \u001b[38;5;141mCOUNTRY                         \u001b[0m │ \u001b[36m     0\u001b[0m │ \u001b[36m        0\u001b[0m │ \u001b[36m                         1\u001b[0m │ \u001b[36m                 2747\u001b[0m │  │\n",
       "│ │ \u001b[38;5;141mCONTACTLASTNAME                 \u001b[0m │ \u001b[36m     0\u001b[0m │ \u001b[36m        0\u001b[0m │ \u001b[36m                         1\u001b[0m │ \u001b[36m                 2767\u001b[0m │  │\n",
       "│ │ \u001b[38;5;141mCONTACTFIRSTNAME                \u001b[0m │ \u001b[36m     0\u001b[0m │ \u001b[36m        0\u001b[0m │ \u001b[36m                         1\u001b[0m │ \u001b[36m                 2797\u001b[0m │  │\n",
       "│ │ \u001b[38;5;141mDEALSIZE                        \u001b[0m │ \u001b[36m     0\u001b[0m │ \u001b[36m        0\u001b[0m │ \u001b[36m                         1\u001b[0m │ \u001b[36m                 2747\u001b[0m │  │\n",
       "│ └──────────────────────────────────┴────────┴───────────┴────────────────────────────┴───────────────────────┘  │\n",
       "╰────────────────────────────────────────────────────── End ──────────────────────────────────────────────────────╯\n"
      ]
     },
     "metadata": {},
     "output_type": "display_data"
    }
   ],
   "source": [
    "skim(df)"
   ]
  },
  {
   "cell_type": "code",
   "execution_count": 22,
   "id": "692185ad-78f4-4b1b-a326-11120a3fbde0",
   "metadata": {},
   "outputs": [
    {
     "data": {
      "text/plain": [
       "0"
      ]
     },
     "execution_count": 22,
     "metadata": {},
     "output_type": "execute_result"
    }
   ],
   "source": [
    "df.duplicated().sum()"
   ]
  },
  {
   "cell_type": "code",
   "execution_count": 23,
   "id": "6ef39172-19f9-4390-928b-c7d1799daeb1",
   "metadata": {},
   "outputs": [
    {
     "data": {
      "text/plain": [
       "ORDERNUMBER             0\n",
       "QUANTITYORDERED         0\n",
       "PRICEEACH               0\n",
       "ORDERLINENUMBER         0\n",
       "SALES                   0\n",
       "ORDERDATE               0\n",
       "DAYS_SINCE_LASTORDER    0\n",
       "STATUS                  0\n",
       "PRODUCTLINE             0\n",
       "MSRP                    0\n",
       "PRODUCTCODE             0\n",
       "CUSTOMERNAME            0\n",
       "PHONE                   0\n",
       "ADDRESSLINE1            0\n",
       "CITY                    0\n",
       "POSTALCODE              0\n",
       "COUNTRY                 0\n",
       "CONTACTLASTNAME         0\n",
       "CONTACTFIRSTNAME        0\n",
       "DEALSIZE                0\n",
       "dtype: int64"
      ]
     },
     "execution_count": 23,
     "metadata": {},
     "output_type": "execute_result"
    }
   ],
   "source": [
    "df.isnull().sum()"
   ]
  },
  {
   "cell_type": "markdown",
   "id": "b49a6e59-a6da-4889-a47a-f2e83d3b16e1",
   "metadata": {},
   "source": [
    "<a id='organizing-columns'></a>\n",
    "# <font color='firebrick'> <b>Organizing Columns</b><font color='black'> "
   ]
  },
  {
   "cell_type": "code",
   "execution_count": 25,
   "id": "1f8b0ed9-94c0-471e-b021-55a3c0694fe1",
   "metadata": {},
   "outputs": [
    {
     "data": {
      "text/plain": [
       "Index(['ORDERNUMBER', 'QUANTITYORDERED', 'PRICEEACH', 'ORDERLINENUMBER',\n",
       "       'SALES', 'ORDERDATE', 'DAYS_SINCE_LASTORDER', 'STATUS', 'PRODUCTLINE',\n",
       "       'MSRP', 'PRODUCTCODE', 'CUSTOMERNAME', 'PHONE', 'ADDRESSLINE1', 'CITY',\n",
       "       'POSTALCODE', 'COUNTRY', 'CONTACTLASTNAME', 'CONTACTFIRSTNAME',\n",
       "       'DEALSIZE'],\n",
       "      dtype='object')"
      ]
     },
     "execution_count": 25,
     "metadata": {},
     "output_type": "execute_result"
    }
   ],
   "source": [
    "df.columns"
   ]
  },
  {
   "cell_type": "code",
   "execution_count": 26,
   "id": "781116d8-d252-4630-a6dc-fa6eb4907244",
   "metadata": {},
   "outputs": [
    {
     "data": {
      "text/plain": [
       "Index(['ordernumber', 'quantityordered', 'priceeach', 'orderlinenumber',\n",
       "       'sales', 'orderdate', 'days_since_lastorder', 'status', 'productline',\n",
       "       'msrp', 'productcode', 'customername', 'phone', 'addressline1', 'city',\n",
       "       'postalcode', 'country', 'contactlastname', 'contactfirstname',\n",
       "       'dealsize'],\n",
       "      dtype='object')"
      ]
     },
     "execution_count": 26,
     "metadata": {},
     "output_type": "execute_result"
    }
   ],
   "source": [
    "df.columns = df.columns.str.lower()\n",
    "df.columns"
   ]
  },
  {
   "cell_type": "code",
   "execution_count": 27,
   "id": "f5b3412a-6869-4ff8-bb6f-e62b9d72959d",
   "metadata": {},
   "outputs": [
    {
     "data": {
      "text/plain": [
       "Index(['order_number', 'quantity_ordered', 'price_each', 'order_line_number',\n",
       "       'total_price', 'order_date', 'days_since_lastorder', 'status',\n",
       "       'product_line', 'msrp', 'product_code', 'customer_name', 'phone',\n",
       "       'address_line1', 'city', 'postal_code', 'country', 'contact_lastname',\n",
       "       'contact_firstname', 'deal_size'],\n",
       "      dtype='object')"
      ]
     },
     "execution_count": 27,
     "metadata": {},
     "output_type": "execute_result"
    }
   ],
   "source": [
    "df.columns = ['order_number', 'quantity_ordered', 'price_each', 'order_line_number',\n",
    "       'total_price', 'order_date', 'days_since_lastorder', 'status', 'product_line',\n",
    "       'msrp', 'product_code', 'customer_name', 'phone', 'address_line1', 'city',\n",
    "       'postal_code', 'country', 'contact_lastname', 'contact_firstname',\n",
    "       'deal_size']\n",
    "df.columns"
   ]
  },
  {
   "cell_type": "markdown",
   "id": "072e41c2-4e56-403f-aa40-b019304476d5",
   "metadata": {},
   "source": [
    "## <font color='indianred'> <b>\"order_number\" Column</b><font color='black'> "
   ]
  },
  {
   "cell_type": "code",
   "execution_count": 29,
   "id": "302d3329-0de5-46cf-9585-f48fab8df527",
   "metadata": {},
   "outputs": [
    {
     "data": {
      "text/plain": [
       "298"
      ]
     },
     "execution_count": 29,
     "metadata": {},
     "output_type": "execute_result"
    }
   ],
   "source": [
    "df.order_number.nunique()"
   ]
  },
  {
   "cell_type": "code",
   "execution_count": 30,
   "id": "2b0bdf39-7ee6-4e0a-b1f4-e3a489869be9",
   "metadata": {},
   "outputs": [
    {
     "data": {
      "text/plain": [
       "array([10107, 10121, 10134, 10145, 10168, 10180, 10188, 10211, 10223,\n",
       "       10237, 10251, 10263, 10275, 10285, 10299, 10309, 10318, 10329,\n",
       "       10341, 10361, 10375, 10388, 10403, 10417, 10103, 10112, 10126,\n",
       "       10140, 10150, 10163, 10174, 10183, 10194, 10206, 10215, 10228,\n",
       "       10245, 10258, 10270, 10280, 10291, 10304, 10312, 10322, 10347,\n",
       "       10357, 10369, 10391, 10411, 10424, 10120, 10210, 10236, 10298,\n",
       "       10308, 10339, 10374, 10402, 10362, 10105, 10119, 10129, 10143,\n",
       "       10155, 10167, 10178, 10186, 10197, 10222, 10248, 10261, 10273,\n",
       "       10283, 10295, 10307, 10316, 10325, 10337, 10350, 10359, 10373,\n",
       "       10395, 10400, 10414, 10114, 10164, 10175, 10207, 10217, 10229,\n",
       "       10259, 10281, 10305, 10313, 10334, 10370, 10425, 10108, 10122,\n",
       "       10135, 10147, 10169, 10181, 10191, 10203, 10225, 10238, 10253,\n",
       "       10266, 10276, 10287, 10300, 10310, 10320, 10363, 10389, 10419,\n",
       "       10117, 10127, 10142, 10153, 10165, 10176, 10185, 10196, 10208,\n",
       "       10220, 10231, 10247, 10272, 10282, 10293, 10306, 10314, 10336,\n",
       "       10348, 10371, 10382, 10413, 10113, 10216, 10189, 10224, 10319,\n",
       "       10104, 10230, 10324, 10358, 10372, 10170, 10212, 10376, 10349,\n",
       "       10396, 10377, 10115, 10141, 10151, 10184, 10195, 10219, 10246,\n",
       "       10271, 10292, 10412, 10192, 10239, 10277, 10321, 10405, 10109,\n",
       "       10136, 10148, 10161, 10171, 10204, 10240, 10278, 10301, 10331,\n",
       "       10342, 10356, 10365, 10390, 10406, 10102, 10125, 10139, 10149,\n",
       "       10173, 10182, 10193, 10205, 10227, 10244, 10256, 10289, 10332,\n",
       "       10346, 10380, 10422, 10110, 10123, 10137, 10172, 10226, 10241,\n",
       "       10288, 10311, 10343, 10367, 10378, 10407, 10106, 10131, 10198,\n",
       "       10250, 10262, 10274, 10284, 10296, 10327, 10338, 10351, 10386,\n",
       "       10398, 10416, 10100, 10124, 10214, 10302, 10344, 10379, 10420,\n",
       "       10366, 10303, 10383, 10101, 10243, 10409, 10133, 10235, 10297,\n",
       "       10353, 10401, 10255, 10421, 10257, 10423, 10269, 10392, 10130,\n",
       "       10128, 10166, 10177, 10221, 10232, 10394, 10326, 10252, 10265,\n",
       "       10290, 10323, 10330, 10355, 10146, 10264, 10286, 10249, 10328,\n",
       "       10415, 10152, 10213, 10315, 10267, 10279, 10158, 10340, 10345,\n",
       "       10190, 10368, 10335, 10154, 10233, 10385, 10242, 10408, 10317,\n",
       "       10387, 10364, 10116, 10144, 10156, 10199, 10397, 10352, 10118,\n",
       "       10294], dtype=int64)"
      ]
     },
     "execution_count": 30,
     "metadata": {},
     "output_type": "execute_result"
    }
   ],
   "source": [
    "df.order_number.unique()"
   ]
  },
  {
   "cell_type": "markdown",
   "id": "c4fbde29-979d-410e-bc89-8f519e709b8a",
   "metadata": {},
   "source": [
    "**order_number column seems OK.**"
   ]
  },
  {
   "cell_type": "markdown",
   "id": "9cc97a4a-7f61-4699-9ab8-63b173767679",
   "metadata": {},
   "source": [
    "## <font color='indianred'> <b>\"quantity_ordered\" Column</b><font color='black'> "
   ]
  },
  {
   "cell_type": "code",
   "execution_count": 33,
   "id": "32f0f81a-553d-4223-95d5-fa1b7e862b97",
   "metadata": {},
   "outputs": [
    {
     "data": {
      "text/plain": [
       "58"
      ]
     },
     "execution_count": 33,
     "metadata": {},
     "output_type": "execute_result"
    }
   ],
   "source": [
    "df.quantity_ordered.nunique()"
   ]
  },
  {
   "cell_type": "code",
   "execution_count": 34,
   "id": "90f5fcd3-2487-4bc0-9f10-41c5920754d8",
   "metadata": {},
   "outputs": [
    {
     "data": {
      "text/plain": [
       "array([30, 34, 41, 45, 36, 29, 48, 37, 23, 28, 46, 42, 20, 21, 24, 66, 26,\n",
       "       38, 47, 35, 32, 40, 50, 39, 27, 22, 44, 31, 33, 49, 43, 56, 25, 64,\n",
       "       19, 12, 55, 10, 54, 97, 61, 51, 59, 76,  6, 15, 60, 65, 58, 16, 70,\n",
       "       13, 18, 52, 11, 62, 85, 77], dtype=int64)"
      ]
     },
     "execution_count": 34,
     "metadata": {},
     "output_type": "execute_result"
    }
   ],
   "source": [
    "df.quantity_ordered.unique()"
   ]
  },
  {
   "cell_type": "markdown",
   "id": "af7cdd14-b7bc-4c83-8dd5-696e142bdb62",
   "metadata": {},
   "source": [
    "**quantity_ordered column seems OK.**"
   ]
  },
  {
   "cell_type": "markdown",
   "id": "5d9e39a3-a32c-44d3-8a92-b1ba112f4fea",
   "metadata": {},
   "source": [
    "## <font color='indianred'> <b>\"price_each\" Column</b><font color='black'> "
   ]
  },
  {
   "cell_type": "code",
   "execution_count": 37,
   "id": "b93d1019-c268-4f86-bb3f-f6d38be7c21f",
   "metadata": {},
   "outputs": [
    {
     "data": {
      "text/plain": [
       "1843"
      ]
     },
     "execution_count": 37,
     "metadata": {},
     "output_type": "execute_result"
    }
   ],
   "source": [
    "df.price_each.nunique()"
   ]
  },
  {
   "cell_type": "code",
   "execution_count": 38,
   "id": "a1be925e-f588-400d-9555-112df3374bff",
   "metadata": {},
   "outputs": [
    {
     "data": {
      "text/plain": [
       "dtype('float64')"
      ]
     },
     "execution_count": 38,
     "metadata": {},
     "output_type": "execute_result"
    }
   ],
   "source": [
    "df.price_each.dtype"
   ]
  },
  {
   "cell_type": "markdown",
   "id": "005b1345-a6ea-4484-9c91-b198dd548269",
   "metadata": {},
   "source": [
    "**price_each column seems OK.**"
   ]
  },
  {
   "cell_type": "markdown",
   "id": "eea180be-5757-4989-83b2-f6c154f5b627",
   "metadata": {},
   "source": [
    "## <font color='indianred'> <b>\"order_line_number\" Column</b><font color='black'> "
   ]
  },
  {
   "cell_type": "code",
   "execution_count": 41,
   "id": "20cb0009-6149-417c-8368-ba05fb543a80",
   "metadata": {},
   "outputs": [
    {
     "data": {
      "text/plain": [
       "18"
      ]
     },
     "execution_count": 41,
     "metadata": {},
     "output_type": "execute_result"
    }
   ],
   "source": [
    "df.order_line_number.nunique()"
   ]
  },
  {
   "cell_type": "code",
   "execution_count": 42,
   "id": "fb96c63a-a93d-431a-a4c9-cd91d9736706",
   "metadata": {},
   "outputs": [
    {
     "data": {
      "text/plain": [
       "array([ 2,  5,  6,  1,  9, 14,  7, 13, 12,  4, 11,  8,  3, 10, 15, 17, 16,\n",
       "       18], dtype=int64)"
      ]
     },
     "execution_count": 42,
     "metadata": {},
     "output_type": "execute_result"
    }
   ],
   "source": [
    "df.order_line_number.unique()"
   ]
  },
  {
   "cell_type": "markdown",
   "id": "5e674a94-738b-43c7-9434-78054e82eade",
   "metadata": {},
   "source": [
    "**order_line_number column seems OK.**"
   ]
  },
  {
   "cell_type": "markdown",
   "id": "7685637e-a4d0-4e99-88dd-fbaf5da68368",
   "metadata": {},
   "source": [
    "## <font color='indianred'> <b>\"total_price\" Column</b><font color='black'> "
   ]
  },
  {
   "cell_type": "code",
   "execution_count": 45,
   "id": "d1a26bf7-430f-48f7-9252-b7d71ea5435d",
   "metadata": {},
   "outputs": [
    {
     "data": {
      "text/plain": [
       "2690"
      ]
     },
     "execution_count": 45,
     "metadata": {},
     "output_type": "execute_result"
    }
   ],
   "source": [
    "df.total_price.nunique()"
   ]
  },
  {
   "cell_type": "code",
   "execution_count": 46,
   "id": "924d5699-5141-4815-b600-6d9436149eb4",
   "metadata": {},
   "outputs": [
    {
     "data": {
      "text/plain": [
       "dtype('float64')"
      ]
     },
     "execution_count": 46,
     "metadata": {},
     "output_type": "execute_result"
    }
   ],
   "source": [
    "df.total_price.dtype"
   ]
  },
  {
   "cell_type": "markdown",
   "id": "31eaa26a-811a-44d4-a0b6-d75b576ac975",
   "metadata": {},
   "source": [
    "**total_price column seems OK.**"
   ]
  },
  {
   "cell_type": "markdown",
   "id": "3a5f33a2-cc11-4f3a-b9db-cc48b742ac46",
   "metadata": {},
   "source": [
    "## <font color='indianred'> <b>\"order_date\" Column</b><font color='black'> "
   ]
  },
  {
   "cell_type": "code",
   "execution_count": 49,
   "id": "6c6ab4cc-1fbe-4151-9233-3ad2f597e62f",
   "metadata": {},
   "outputs": [
    {
     "data": {
      "text/plain": [
       "246"
      ]
     },
     "execution_count": 49,
     "metadata": {},
     "output_type": "execute_result"
    }
   ],
   "source": [
    "df.order_date.nunique()"
   ]
  },
  {
   "cell_type": "code",
   "execution_count": 50,
   "id": "56f11395-532e-4de1-a440-762e09b59d5b",
   "metadata": {},
   "outputs": [
    {
     "data": {
      "text/plain": [
       "dtype('O')"
      ]
     },
     "execution_count": 50,
     "metadata": {},
     "output_type": "execute_result"
    }
   ],
   "source": [
    "df.order_date.dtype"
   ]
  },
  {
   "cell_type": "code",
   "execution_count": 51,
   "id": "c0d87625-ae8a-4259-9543-7b58a87caeb7",
   "metadata": {},
   "outputs": [],
   "source": [
    "# changing dtype of order_date column to datetime\n",
    "df['order_date'] = pd.to_datetime(df['order_date'], dayfirst=True, errors='coerce')"
   ]
  },
  {
   "cell_type": "markdown",
   "id": "6952ea24-5feb-4abe-96d4-8bd5a9ecbe1b",
   "metadata": {},
   "source": [
    "## <font color='indianred'> <b>\"days_since_lastorder\" Column</b><font color='black'> "
   ]
  },
  {
   "cell_type": "code",
   "execution_count": 53,
   "id": "29a28630-d351-4f62-be3e-1ada22154b4f",
   "metadata": {},
   "outputs": [
    {
     "data": {
      "text/plain": [
       "1832"
      ]
     },
     "execution_count": 53,
     "metadata": {},
     "output_type": "execute_result"
    }
   ],
   "source": [
    "df.days_since_lastorder.nunique()"
   ]
  },
  {
   "cell_type": "code",
   "execution_count": 54,
   "id": "ad182a1e-2fb7-4c64-ad43-a79e916dd28a",
   "metadata": {},
   "outputs": [
    {
     "data": {
      "text/plain": [
       "dtype('int64')"
      ]
     },
     "execution_count": 54,
     "metadata": {},
     "output_type": "execute_result"
    }
   ],
   "source": [
    "df.days_since_lastorder.dtype"
   ]
  },
  {
   "cell_type": "markdown",
   "id": "72bdd068-916b-4582-addf-d0a4898fe0ce",
   "metadata": {},
   "source": [
    "**days_since_lastorder column seems OK.**"
   ]
  },
  {
   "cell_type": "markdown",
   "id": "63312b98-67eb-4d06-9c58-5e3016a8aacf",
   "metadata": {},
   "source": [
    "## <font color='indianred'> <b>\"status\" Column</b><font color='black'> "
   ]
  },
  {
   "cell_type": "code",
   "execution_count": 57,
   "id": "a7a4e408-7b1b-4634-973b-14b04d5fc5a9",
   "metadata": {},
   "outputs": [
    {
     "data": {
      "text/plain": [
       "6"
      ]
     },
     "execution_count": 57,
     "metadata": {},
     "output_type": "execute_result"
    }
   ],
   "source": [
    "df.status.nunique()"
   ]
  },
  {
   "cell_type": "code",
   "execution_count": 58,
   "id": "f0eb1986-b976-47e1-b796-092723ec08ef",
   "metadata": {},
   "outputs": [
    {
     "data": {
      "text/plain": [
       "array(['Shipped', 'Disputed', 'In Process', 'Cancelled', 'On Hold',\n",
       "       'Resolved'], dtype=object)"
      ]
     },
     "execution_count": 58,
     "metadata": {},
     "output_type": "execute_result"
    }
   ],
   "source": [
    "df.status.unique()"
   ]
  },
  {
   "cell_type": "code",
   "execution_count": 59,
   "id": "4a269d47-7a82-43b6-9044-f79e16b0216a",
   "metadata": {},
   "outputs": [],
   "source": [
    "df['status'] = df['status'].str.strip()"
   ]
  },
  {
   "cell_type": "markdown",
   "id": "0ca5f382-1aee-448e-a2c4-a044ff24a05e",
   "metadata": {},
   "source": [
    "## <font color='indianred'> <b>\"product_line\" Column</b><font color='black'> "
   ]
  },
  {
   "cell_type": "code",
   "execution_count": 61,
   "id": "e8d399ba-f9f5-4f4c-9e0f-3766a72d9c32",
   "metadata": {},
   "outputs": [
    {
     "data": {
      "text/plain": [
       "7"
      ]
     },
     "execution_count": 61,
     "metadata": {},
     "output_type": "execute_result"
    }
   ],
   "source": [
    "df.product_line.nunique()"
   ]
  },
  {
   "cell_type": "code",
   "execution_count": 62,
   "id": "c1d16e00-e030-4912-a2a5-9fb85f56752b",
   "metadata": {},
   "outputs": [
    {
     "data": {
      "text/plain": [
       "array(['Motorcycles', 'Classic Cars', 'Trucks and Buses', 'Vintage Cars',\n",
       "       'Planes', 'Ships', 'Trains'], dtype=object)"
      ]
     },
     "execution_count": 62,
     "metadata": {},
     "output_type": "execute_result"
    }
   ],
   "source": [
    "df.product_line.unique()"
   ]
  },
  {
   "cell_type": "code",
   "execution_count": 63,
   "id": "4f4fde46-65a7-4cf2-883c-d68db5563b06",
   "metadata": {},
   "outputs": [],
   "source": [
    "df['product_line'] = df['product_line'].str.strip()"
   ]
  },
  {
   "cell_type": "markdown",
   "id": "bd59da53-8111-4554-9078-dbc1ae7718ee",
   "metadata": {},
   "source": [
    "## <font color='indianred'> <b>\"msrp\" Column</b><font color='black'> "
   ]
  },
  {
   "cell_type": "code",
   "execution_count": 65,
   "id": "2b94173f-97d5-445a-b90f-e205052dbc5a",
   "metadata": {},
   "outputs": [
    {
     "data": {
      "text/plain": [
       "80"
      ]
     },
     "execution_count": 65,
     "metadata": {},
     "output_type": "execute_result"
    }
   ],
   "source": [
    "df.msrp.nunique()"
   ]
  },
  {
   "cell_type": "code",
   "execution_count": 66,
   "id": "30168d67-ac7b-4ed3-9565-d299d0a27859",
   "metadata": {},
   "outputs": [
    {
     "data": {
      "text/plain": [
       "array([ 95, 214, 118, 193, 136, 147, 194, 207, 150, 151, 117, 173,  79,\n",
       "       115, 116, 141, 102,  53, 124, 157, 170,  77, 142, 163,  60, 122,\n",
       "       127,  84, 168, 132, 101,  62,  86, 104, 169, 100,  80,  99, 146,\n",
       "       105, 143,  92,  87, 121,  50, 148,  71,  73,  57, 112, 109,  33,\n",
       "        76,  44,  69,  90,  35,  68,  37,  88,  85,  61,  65, 107,  83,\n",
       "       140,  41,  97,  72,  96,  40,  54,  64,  43,  58,  81,  66,  91,\n",
       "        74,  49], dtype=int64)"
      ]
     },
     "execution_count": 66,
     "metadata": {},
     "output_type": "execute_result"
    }
   ],
   "source": [
    "df.msrp.unique()"
   ]
  },
  {
   "cell_type": "markdown",
   "id": "a73240ab-74a7-4a54-ab0d-e75bc4e88044",
   "metadata": {},
   "source": [
    "**msrp column seems OK.**"
   ]
  },
  {
   "cell_type": "markdown",
   "id": "0675cdf4-d53b-47fb-bc1a-5dc3e6b36a79",
   "metadata": {},
   "source": [
    "## <font color='indianred'> <b>\"product_code\" Column</b><font color='black'> "
   ]
  },
  {
   "cell_type": "code",
   "execution_count": 69,
   "id": "82917680-6752-4b9f-abb3-d89cca5dc28d",
   "metadata": {},
   "outputs": [
    {
     "data": {
      "text/plain": [
       "109"
      ]
     },
     "execution_count": 69,
     "metadata": {},
     "output_type": "execute_result"
    }
   ],
   "source": [
    "df.product_code.nunique()"
   ]
  },
  {
   "cell_type": "code",
   "execution_count": 70,
   "id": "2a5dc39b-4ff6-4ef6-815f-adb446b16c39",
   "metadata": {},
   "outputs": [
    {
     "data": {
      "text/plain": [
       "array(['S10_1678', 'S10_1949', 'S10_2016', 'S10_4698', 'S10_4757',\n",
       "       'S10_4962', 'S12_1099', 'S12_1108', 'S12_1666', 'S12_2823',\n",
       "       'S12_3148', 'S12_3380', 'S12_3891', 'S12_3990', 'S12_4473',\n",
       "       'S12_4675', 'S18_1097', 'S18_1129', 'S18_1342', 'S18_1367',\n",
       "       'S18_1589', 'S18_1662', 'S18_1749', 'S18_1889', 'S18_1984',\n",
       "       'S18_2238', 'S18_2248', 'S18_2319', 'S18_2325', 'S18_2432',\n",
       "       'S18_2581', 'S18_2625', 'S18_2795', 'S18_2870', 'S18_2949',\n",
       "       'S18_2957', 'S18_3029', 'S18_3136', 'S18_3140', 'S18_3232',\n",
       "       'S18_3259', 'S18_3278', 'S18_3320', 'S18_3482', 'S18_3685',\n",
       "       'S18_3782', 'S18_3856', 'S18_4027', 'S18_4409', 'S18_4522',\n",
       "       'S18_4600', 'S18_4668', 'S18_4721', 'S18_4933', 'S24_1046',\n",
       "       'S24_1444', 'S24_1578', 'S24_1628', 'S24_1785', 'S24_1937',\n",
       "       'S24_2000', 'S24_2011', 'S24_2022', 'S24_2300', 'S24_2360',\n",
       "       'S24_2766', 'S24_2840', 'S24_2841', 'S24_2887', 'S24_2972',\n",
       "       'S24_3151', 'S24_3191', 'S24_3371', 'S24_3420', 'S24_3432',\n",
       "       'S24_3816', 'S24_3856', 'S24_3949', 'S24_3969', 'S24_4048',\n",
       "       'S24_4258', 'S24_4278', 'S24_4620', 'S32_1268', 'S32_1374',\n",
       "       'S32_2206', 'S32_2509', 'S32_3207', 'S32_3522', 'S32_4289',\n",
       "       'S32_4485', 'S50_1341', 'S50_1392', 'S50_1514', 'S50_4713',\n",
       "       'S700_1138', 'S700_1691', 'S700_1938', 'S700_2047', 'S700_2466',\n",
       "       'S700_2610', 'S700_2824', 'S700_2834', 'S700_3167', 'S700_3505',\n",
       "       'S700_3962', 'S700_4002', 'S72_1253', 'S72_3212'], dtype=object)"
      ]
     },
     "execution_count": 70,
     "metadata": {},
     "output_type": "execute_result"
    }
   ],
   "source": [
    "df.product_code.unique()"
   ]
  },
  {
   "cell_type": "code",
   "execution_count": 71,
   "id": "f4ef2949-d264-42b3-b8f1-0236d90e4881",
   "metadata": {},
   "outputs": [],
   "source": [
    "df['product_code'] = df['product_code'].str.strip()"
   ]
  },
  {
   "cell_type": "markdown",
   "id": "d07ddca5-50dd-430e-9a02-e4285130025e",
   "metadata": {},
   "source": [
    "## <font color='indianred'> <b>\"customer_name\" Column</b><font color='black'> "
   ]
  },
  {
   "cell_type": "code",
   "execution_count": 73,
   "id": "00fd2000-ae54-4f6f-9b53-6053874943e6",
   "metadata": {},
   "outputs": [
    {
     "data": {
      "text/plain": [
       "89"
      ]
     },
     "execution_count": 73,
     "metadata": {},
     "output_type": "execute_result"
    }
   ],
   "source": [
    "df.customer_name.nunique()"
   ]
  },
  {
   "cell_type": "code",
   "execution_count": 74,
   "id": "506a93d2-bdf4-4486-993a-e5b1e63bb2a4",
   "metadata": {},
   "outputs": [
    {
     "data": {
      "text/plain": [
       "array(['Land of Toys Inc.', 'Reims Collectables', 'Lyon Souveniers',\n",
       "       'Toys4GrownUps.com', 'Technics Stores Inc.',\n",
       "       'Daedalus Designs Imports', 'Herkku Gifts', 'Auto Canal Petit',\n",
       "       'Australian Collectors, Co.', 'Vitachrome Inc.',\n",
       "       'Tekni Collectables Inc.', 'Gift Depot Inc.', 'La Rochelle Gifts',\n",
       "       \"Marta's Replicas Co.\", 'Toys of Finland, Co.',\n",
       "       'Baane Mini Imports', 'Diecast Classics Inc.',\n",
       "       'Salzburg Collectables', 'Souveniers And Things Co.',\n",
       "       'FunGiftIdeas.com', 'UK Collectables, Ltd.',\n",
       "       'Euro Shopping Channel', 'Volvo Model Replicas, Co',\n",
       "       'Corrida Auto Replicas, Ltd', 'Dragon Souveniers, Ltd.',\n",
       "       'Classic Legends Inc.', 'Australian Gift Network, Co',\n",
       "       'Classic Gift Ideas, Inc', 'Saveley & Henriot, Co.',\n",
       "       'Canadian Gift Exchange Network', 'West Coast Collectables Co.',\n",
       "       'Cambridge Collectables Co.', 'Super Scale Inc.',\n",
       "       'Tokyo Collectables, Ltd', 'Amica Models & Co.',\n",
       "       'Scandinavian Gift Ideas', 'Auto Assoc. & Cie.',\n",
       "       'Mini Gifts Distributors Ltd.', 'Online Diecast Creations Co.',\n",
       "       'Collectables For Less Inc.', \"Anna's Decorations, Ltd\",\n",
       "       'Quebec Home Shopping Network', 'Osaka Souveniers Co.',\n",
       "       'Motor Mint Distributors Inc.', 'Atelier graphique',\n",
       "       'Mini Classics', 'Danish Wholesale Imports',\n",
       "       'Stylish Desk Decors, Co.', 'Mini Creations Ltd.', 'Alpha Cognac',\n",
       "       'Double Decker Gift Stores, Ltd', 'Enaco Distributors',\n",
       "       'Collectable Mini Designs Co.', 'Petit Auto',\n",
       "       'Royal Canadian Collectables, Ltd.', 'Gifts4AllAges.com',\n",
       "       'giftsbymail.co.uk', 'Oulu Toy Supplies, Inc.',\n",
       "       'The Sharp Gifts Warehouse', \"La Corne D'abondance, Co.\",\n",
       "       'Mini Auto Werke', 'Diecast Collectables', 'Handji Gifts& Co',\n",
       "       'Cruz & Sons Co.', 'Marseille Mini Autos',\n",
       "       'Toms Spezialitten, Ltd', 'Vida Sport, Ltd', \"L'ordine Souveniers\",\n",
       "       'Online Mini Collectables', 'Blauer See Auto, Co.',\n",
       "       'Suominen Souveniers', 'Muscle Machine Inc',\n",
       "       'Clover Collections, Co.', 'CAF Imports', 'AV Stores, Co.',\n",
       "       'Heintze Collectables', 'Microscale Inc.', 'Boards & Toys Co.',\n",
       "       'Iberia Gift Imports, Corp.', 'Signal Collectibles Ltd.',\n",
       "       'Mini Caravy', 'Signal Gift Stores', 'Norway Gifts By Mail, Co.',\n",
       "       'Rovelli Gifts', 'Australian Collectables, Ltd',\n",
       "       'Gift Ideas Corp.', 'Bavarian Collectables Imports, Co.',\n",
       "       'Royale Belge', 'Auto-Moto Classics Inc.'], dtype=object)"
      ]
     },
     "execution_count": 74,
     "metadata": {},
     "output_type": "execute_result"
    }
   ],
   "source": [
    "df.customer_name.unique()"
   ]
  },
  {
   "cell_type": "code",
   "execution_count": 75,
   "id": "5b1aba04-ce3e-492c-a91f-94c7e6fd4230",
   "metadata": {},
   "outputs": [],
   "source": [
    "df['customer_name'] = df['customer_name'].str.strip()"
   ]
  },
  {
   "cell_type": "markdown",
   "id": "75767f88-be32-4876-9ea0-27838ba33488",
   "metadata": {},
   "source": [
    "## <font color='indianred'> <b>\"city\" Column</b><font color='black'> "
   ]
  },
  {
   "cell_type": "code",
   "execution_count": 120,
   "id": "64684167-5672-4bc5-b8f0-290f20d774cb",
   "metadata": {},
   "outputs": [
    {
     "data": {
      "text/plain": [
       "71"
      ]
     },
     "execution_count": 120,
     "metadata": {},
     "output_type": "execute_result"
    }
   ],
   "source": [
    "df.city.nunique()"
   ]
  },
  {
   "cell_type": "code",
   "execution_count": 122,
   "id": "a64bfbb0-a176-44fc-b7a7-c26c50f232e6",
   "metadata": {},
   "outputs": [
    {
     "data": {
      "text/plain": [
       "array(['NYC', 'Reims', 'Paris', 'Pasadena', 'Burlingame', 'Lille',\n",
       "       'Bergen', 'Melbourne', 'Newark', 'Bridgewater', 'Nantes',\n",
       "       'Cambridge', 'Helsinki', 'Stavern', 'Allentown', 'Salzburg',\n",
       "       'Chatswood', 'New Bedford', 'Liverpool', 'Madrid', 'Lule',\n",
       "       'Singapore', 'South Brisbane', 'Philadelphia', 'Lyon', 'Vancouver',\n",
       "       'Burbank', 'New Haven', 'Minato-ku', 'Torino', 'Boras',\n",
       "       'Versailles', 'San Rafael', 'Nashua', 'Brickhaven', 'North Sydney',\n",
       "       'Montreal', 'Osaka', 'White Plains', 'Kobenhavn', 'London',\n",
       "       'Toulouse', 'Barcelona', 'San Diego', 'Bruxelles', 'Tsawassen',\n",
       "       'Boston', 'Cowes', 'Oulu', 'San Jose', 'Graz', 'Makati City',\n",
       "       'Marseille', 'Koln', 'Gensve', 'Reggio Emilia', 'Frankfurt',\n",
       "       'Espoo', 'Dublin', 'Manchester', 'Aaarhus', 'Glendale', 'Sevilla',\n",
       "       'Brisbane', 'Strasbourg', 'Las Vegas', 'Oslo', 'Bergamo',\n",
       "       'Glen Waverly', 'Munich', 'Charleroi'], dtype=object)"
      ]
     },
     "execution_count": 122,
     "metadata": {},
     "output_type": "execute_result"
    }
   ],
   "source": [
    "df.city.unique()"
   ]
  },
  {
   "cell_type": "code",
   "execution_count": 124,
   "id": "f6e63419-6092-454c-a1b8-3b7118439954",
   "metadata": {},
   "outputs": [],
   "source": [
    "df['city'] = df['city'].str.strip()"
   ]
  },
  {
   "cell_type": "markdown",
   "id": "2fb55f7c-82eb-45ab-9119-309c099dbe50",
   "metadata": {},
   "source": [
    "## <font color='indianred'> <b>\"country\" Column</b><font color='black'> "
   ]
  },
  {
   "cell_type": "code",
   "execution_count": 126,
   "id": "29170896-bd91-484f-a328-3d78c7a0fd77",
   "metadata": {},
   "outputs": [
    {
     "data": {
      "text/plain": [
       "19"
      ]
     },
     "execution_count": 126,
     "metadata": {},
     "output_type": "execute_result"
    }
   ],
   "source": [
    "df.country.nunique()"
   ]
  },
  {
   "cell_type": "code",
   "execution_count": 128,
   "id": "0d9044ff-877a-4156-9dc8-0c017adc59d2",
   "metadata": {},
   "outputs": [
    {
     "data": {
      "text/plain": [
       "array(['USA', 'France', 'Norway', 'Australia', 'Finland', 'Austria', 'UK',\n",
       "       'Spain', 'Sweden', 'Singapore', 'Canada', 'Japan', 'Italy',\n",
       "       'Denmark', 'Belgium', 'Philippines', 'Germany', 'Switzerland',\n",
       "       'Ireland'], dtype=object)"
      ]
     },
     "execution_count": 128,
     "metadata": {},
     "output_type": "execute_result"
    }
   ],
   "source": [
    "df.country.unique()"
   ]
  },
  {
   "cell_type": "code",
   "execution_count": 130,
   "id": "0fd55650-79ca-4733-92e8-a9b10dce4aed",
   "metadata": {},
   "outputs": [],
   "source": [
    "df['country'] = df['country'].str.strip()"
   ]
  },
  {
   "cell_type": "markdown",
   "id": "24ce9eea-83b0-4fe5-bf51-0affc2a2f700",
   "metadata": {},
   "source": [
    "## <font color='indianred'> <b>\"contact_lastname & contact_firstname\" Columns</b><font color='black'> "
   ]
  },
  {
   "cell_type": "code",
   "execution_count": 132,
   "id": "e4768ef0-9e21-484f-b825-7108a2a41433",
   "metadata": {},
   "outputs": [
    {
     "data": {
      "text/plain": [
       "76"
      ]
     },
     "execution_count": 132,
     "metadata": {},
     "output_type": "execute_result"
    }
   ],
   "source": [
    "df.contact_lastname.nunique()"
   ]
  },
  {
   "cell_type": "code",
   "execution_count": 134,
   "id": "970086b1-5da9-4a0a-b4c1-d9a9badf188c",
   "metadata": {},
   "outputs": [
    {
     "data": {
      "text/plain": [
       "array(['Yu', 'Henriot', 'Da Cunha', 'Young', 'Hirano', 'Rance', 'Oeztan',\n",
       "       'Perrier', 'Ferguson', 'Frick', 'Brown', 'King', 'Labrune',\n",
       "       'Hernandez', 'Karttunen', 'Bergulfsen', 'Pipps', 'Huxley',\n",
       "       'Benitez', 'Devon', 'Freyre', 'Berglund', 'Sommer', 'Natividad',\n",
       "       'Calaghan', 'Cervantes', 'Saveley', 'Tannamuri', 'Thompson',\n",
       "       'Tseng', 'Murphy', 'Shimamura', 'Accorti', 'Larsson', 'Tonini',\n",
       "       'Nelson', \"O'Hara\", 'Fresnisre', 'Kentary', 'Schmitt', 'Petersen',\n",
       "       'Tam', 'Roulet', 'Hardy', 'Saavedra', 'Dewey', 'Lincoln',\n",
       "       'Yoshido', 'Bennett', 'Koskitalo', 'Bertrand', 'Mendel', 'Franco',\n",
       "       'Victorino', 'Cruz', 'Lebihan', 'Pfalzheim', 'Holz', 'Moroni',\n",
       "       'Barajas', 'Keitel', 'Suominen', 'Cassidy', 'Fernandez',\n",
       "       'Ashworth', 'Ibsen', 'Kuo', 'Roel', 'Taylor', 'Citeaux', 'Klaeboe',\n",
       "       'Rovelli', 'Connery', 'Lewis', 'Donnermeyer', 'Cartrain'],\n",
       "      dtype=object)"
      ]
     },
     "execution_count": 134,
     "metadata": {},
     "output_type": "execute_result"
    }
   ],
   "source": [
    "df.contact_lastname.unique()"
   ]
  },
  {
   "cell_type": "code",
   "execution_count": 136,
   "id": "7195303f-c825-4196-a967-67b404f16637",
   "metadata": {},
   "outputs": [],
   "source": [
    "df['contact_lastname'] = df['contact_lastname'].str.strip()"
   ]
  },
  {
   "cell_type": "code",
   "execution_count": 138,
   "id": "67aa47fc-c716-4365-944a-4dca962b15b7",
   "metadata": {},
   "outputs": [
    {
     "data": {
      "text/plain": [
       "72"
      ]
     },
     "execution_count": 138,
     "metadata": {},
     "output_type": "execute_result"
    }
   ],
   "source": [
    "df.contact_firstname.nunique()"
   ]
  },
  {
   "cell_type": "code",
   "execution_count": 140,
   "id": "830c20d5-ec53-48d2-ab31-aa0031192afc",
   "metadata": {},
   "outputs": [
    {
     "data": {
      "text/plain": [
       "array(['Kwai', 'Paul', 'Daniel', 'Julie', 'Juri', 'Martine', 'Veysel',\n",
       "       'Dominique', 'Peter', 'Michael', 'William', 'Janine', 'Marta',\n",
       "       'Matti', 'Jonas', 'Kyung', 'Georg', 'Adrian', 'Violeta',\n",
       "       'Elizabeth', 'Diego', 'Christina', 'Mart¡n', 'Eric', 'Maria',\n",
       "       'Tony', 'Francisca', 'Mary', 'Yoshi', 'Steve', 'Leslie', 'Akiko',\n",
       "       'Paolo', 'Valarie', 'Allen', 'Anna', 'Jean', 'Mory', 'Rosa',\n",
       "       'Carine', 'Jytte', 'Ann', 'Wing C', 'Annette', 'Thomas', 'Eduardo',\n",
       "       'Catherine', 'Helen', 'Pirkko', 'Sue', 'Marie', 'Roland', 'Wendy',\n",
       "       'Arnold', 'Laurence', 'Henriette', 'Maurizio', 'Miguel', 'Kalle',\n",
       "       'Jeff', 'Dean', 'Jesus', 'Victoria', 'Palle', 'Kee', 'Jose Pedro',\n",
       "       'Frederique', 'Jan', 'Giovanni', 'Sean', 'Dan', 'Pascale'],\n",
       "      dtype=object)"
      ]
     },
     "execution_count": 140,
     "metadata": {},
     "output_type": "execute_result"
    }
   ],
   "source": [
    "df.contact_firstname.unique()"
   ]
  },
  {
   "cell_type": "code",
   "execution_count": 142,
   "id": "ce0080dd-1e67-4cca-a146-08810a945ea2",
   "metadata": {},
   "outputs": [],
   "source": [
    "df['contact_firstname'] = df['contact_firstname'].str.strip()"
   ]
  },
  {
   "cell_type": "markdown",
   "id": "2bcd10d4-1356-4766-8e4b-7fad79037441",
   "metadata": {},
   "source": [
    "Let's combine these two columns and create a new column called **contact_fullname**."
   ]
  },
  {
   "cell_type": "code",
   "execution_count": 158,
   "id": "98270128-38ce-47af-9454-b7361d4641e3",
   "metadata": {},
   "outputs": [],
   "source": [
    "df['contact_fullname'] = df['contact_firstname'] + ' ' + df['contact_lastname']"
   ]
  },
  {
   "cell_type": "code",
   "execution_count": 162,
   "id": "861ab7f1-88a2-43fc-8446-abdf730b34f2",
   "metadata": {},
   "outputs": [],
   "source": [
    "df = df.drop(columns=['contact_firstname', 'contact_lastname'])"
   ]
  },
  {
   "cell_type": "markdown",
   "id": "dfe48923-ad27-4d6c-a812-edcc957b11e5",
   "metadata": {},
   "source": [
    "## <font color='indianred'> <b>\"deal_size\" Column</b><font color='black'> "
   ]
  },
  {
   "cell_type": "code",
   "execution_count": 144,
   "id": "a14f49b8-94cd-4c60-ab96-a319338d597d",
   "metadata": {},
   "outputs": [
    {
     "data": {
      "text/plain": [
       "3"
      ]
     },
     "execution_count": 144,
     "metadata": {},
     "output_type": "execute_result"
    }
   ],
   "source": [
    "df.deal_size.nunique()"
   ]
  },
  {
   "cell_type": "code",
   "execution_count": 146,
   "id": "d1e45956-b6b9-4a30-9af1-e64aa535da46",
   "metadata": {},
   "outputs": [
    {
     "data": {
      "text/plain": [
       "array(['Small', 'Medium', 'Large'], dtype=object)"
      ]
     },
     "execution_count": 146,
     "metadata": {},
     "output_type": "execute_result"
    }
   ],
   "source": [
    "df.deal_size.unique()"
   ]
  },
  {
   "cell_type": "code",
   "execution_count": 148,
   "id": "b9246626-0f03-45a8-8877-f9c3862b7419",
   "metadata": {},
   "outputs": [],
   "source": [
    "df['deal_size'] = df['deal_size'].str.strip()"
   ]
  },
  {
   "cell_type": "markdown",
   "id": "d089c392-037d-4499-89d1-05a8ee6c87f2",
   "metadata": {},
   "source": [
    "## <font color='indianred'> <b>Drop Unnecessary Columns</b><font color='black'> "
   ]
  },
  {
   "cell_type": "markdown",
   "id": "a26d7294-dfd6-405c-be9c-bb49fa3d2800",
   "metadata": {},
   "source": [
    "It can be edited the **phone, address_line1 and postal_code columns** if desired. However, since these columns will not be used in this project, let's remove the these columns from the data set."
   ]
  },
  {
   "cell_type": "code",
   "execution_count": 150,
   "id": "d17aa945-cb33-405a-8c9a-b88039035a90",
   "metadata": {},
   "outputs": [],
   "source": [
    "df = df.drop(columns=['phone', 'address_line1', 'postal_code'])"
   ]
  },
  {
   "cell_type": "code",
   "execution_count": 173,
   "id": "a81992f6-13b4-441e-ae0d-b046b8a81042",
   "metadata": {},
   "outputs": [
    {
     "data": {
      "text/plain": [
       "Index(['order_number', 'quantity_ordered', 'price_each', 'order_line_number',\n",
       "       'total_price', 'order_date', 'days_since_lastorder', 'status',\n",
       "       'product_line', 'msrp', 'product_code', 'customer_name', 'city',\n",
       "       'country', 'deal_size', 'contact_fullname'],\n",
       "      dtype='object')"
      ]
     },
     "execution_count": 173,
     "metadata": {},
     "output_type": "execute_result"
    }
   ],
   "source": [
    "df.columns"
   ]
  },
  {
   "cell_type": "code",
   "execution_count": 164,
   "id": "8197f96b-eea9-4e17-8af7-1a2eed54becc",
   "metadata": {},
   "outputs": [
    {
     "data": {
      "text/html": [
       "<div>\n",
       "<style scoped>\n",
       "    .dataframe tbody tr th:only-of-type {\n",
       "        vertical-align: middle;\n",
       "    }\n",
       "\n",
       "    .dataframe tbody tr th {\n",
       "        vertical-align: top;\n",
       "    }\n",
       "\n",
       "    .dataframe thead th {\n",
       "        text-align: right;\n",
       "    }\n",
       "</style>\n",
       "<table border=\"1\" class=\"dataframe\">\n",
       "  <thead>\n",
       "    <tr style=\"text-align: right;\">\n",
       "      <th></th>\n",
       "      <th>order_number</th>\n",
       "      <th>quantity_ordered</th>\n",
       "      <th>price_each</th>\n",
       "      <th>order_line_number</th>\n",
       "      <th>total_price</th>\n",
       "      <th>order_date</th>\n",
       "      <th>days_since_lastorder</th>\n",
       "      <th>status</th>\n",
       "      <th>product_line</th>\n",
       "      <th>msrp</th>\n",
       "      <th>product_code</th>\n",
       "      <th>customer_name</th>\n",
       "      <th>city</th>\n",
       "      <th>country</th>\n",
       "      <th>deal_size</th>\n",
       "      <th>contact_fullname</th>\n",
       "    </tr>\n",
       "  </thead>\n",
       "  <tbody>\n",
       "    <tr>\n",
       "      <th>2564</th>\n",
       "      <td>10411</td>\n",
       "      <td>34</td>\n",
       "      <td>105.20</td>\n",
       "      <td>4</td>\n",
       "      <td>3576.80</td>\n",
       "      <td>2020-05-01</td>\n",
       "      <td>2595</td>\n",
       "      <td>Shipped</td>\n",
       "      <td>Classic Cars</td>\n",
       "      <td>101</td>\n",
       "      <td>S700_2824</td>\n",
       "      <td>Quebec Home Shopping Network</td>\n",
       "      <td>Montreal</td>\n",
       "      <td>Canada</td>\n",
       "      <td>Medium</td>\n",
       "      <td>Jean Fresnisre</td>\n",
       "    </tr>\n",
       "    <tr>\n",
       "      <th>403</th>\n",
       "      <td>10126</td>\n",
       "      <td>38</td>\n",
       "      <td>101.50</td>\n",
       "      <td>10</td>\n",
       "      <td>3857.00</td>\n",
       "      <td>2018-05-28</td>\n",
       "      <td>1138</td>\n",
       "      <td>Shipped</td>\n",
       "      <td>Trucks and Buses</td>\n",
       "      <td>116</td>\n",
       "      <td>S18_1097</td>\n",
       "      <td>Corrida Auto Replicas, Ltd</td>\n",
       "      <td>Madrid</td>\n",
       "      <td>Spain</td>\n",
       "      <td>Medium</td>\n",
       "      <td>Mart¡n Sommer</td>\n",
       "    </tr>\n",
       "    <tr>\n",
       "      <th>1320</th>\n",
       "      <td>10122</td>\n",
       "      <td>28</td>\n",
       "      <td>127.97</td>\n",
       "      <td>15</td>\n",
       "      <td>3583.16</td>\n",
       "      <td>2018-05-08</td>\n",
       "      <td>2075</td>\n",
       "      <td>Shipped</td>\n",
       "      <td>Classic Cars</td>\n",
       "      <td>148</td>\n",
       "      <td>S18_4721</td>\n",
       "      <td>Marseille Mini Autos</td>\n",
       "      <td>Marseille</td>\n",
       "      <td>France</td>\n",
       "      <td>Medium</td>\n",
       "      <td>Laurence Lebihan</td>\n",
       "    </tr>\n",
       "    <tr>\n",
       "      <th>2016</th>\n",
       "      <td>10228</td>\n",
       "      <td>33</td>\n",
       "      <td>103.23</td>\n",
       "      <td>6</td>\n",
       "      <td>3406.59</td>\n",
       "      <td>2019-03-10</td>\n",
       "      <td>2465</td>\n",
       "      <td>Shipped</td>\n",
       "      <td>Vintage Cars</td>\n",
       "      <td>97</td>\n",
       "      <td>S24_4258</td>\n",
       "      <td>Cambridge Collectables Co.</td>\n",
       "      <td>Cambridge</td>\n",
       "      <td>USA</td>\n",
       "      <td>Medium</td>\n",
       "      <td>Kyung Tseng</td>\n",
       "    </tr>\n",
       "    <tr>\n",
       "      <th>2469</th>\n",
       "      <td>10222</td>\n",
       "      <td>26</td>\n",
       "      <td>102.29</td>\n",
       "      <td>8</td>\n",
       "      <td>2659.54</td>\n",
       "      <td>2019-02-19</td>\n",
       "      <td>2937</td>\n",
       "      <td>Shipped</td>\n",
       "      <td>Ships</td>\n",
       "      <td>90</td>\n",
       "      <td>S700_2047</td>\n",
       "      <td>Collectable Mini Designs Co.</td>\n",
       "      <td>San Diego</td>\n",
       "      <td>USA</td>\n",
       "      <td>Small</td>\n",
       "      <td>Valarie Thompson</td>\n",
       "    </tr>\n",
       "  </tbody>\n",
       "</table>\n",
       "</div>"
      ],
      "text/plain": [
       "      order_number  quantity_ordered  price_each  order_line_number  \\\n",
       "2564         10411                34      105.20                  4   \n",
       "403          10126                38      101.50                 10   \n",
       "1320         10122                28      127.97                 15   \n",
       "2016         10228                33      103.23                  6   \n",
       "2469         10222                26      102.29                  8   \n",
       "\n",
       "      total_price order_date  days_since_lastorder   status      product_line  \\\n",
       "2564      3576.80 2020-05-01                  2595  Shipped      Classic Cars   \n",
       "403       3857.00 2018-05-28                  1138  Shipped  Trucks and Buses   \n",
       "1320      3583.16 2018-05-08                  2075  Shipped      Classic Cars   \n",
       "2016      3406.59 2019-03-10                  2465  Shipped      Vintage Cars   \n",
       "2469      2659.54 2019-02-19                  2937  Shipped             Ships   \n",
       "\n",
       "      msrp product_code                 customer_name       city country  \\\n",
       "2564   101    S700_2824  Quebec Home Shopping Network   Montreal  Canada   \n",
       "403    116     S18_1097    Corrida Auto Replicas, Ltd     Madrid   Spain   \n",
       "1320   148     S18_4721          Marseille Mini Autos  Marseille  France   \n",
       "2016    97     S24_4258    Cambridge Collectables Co.  Cambridge     USA   \n",
       "2469    90    S700_2047  Collectable Mini Designs Co.  San Diego     USA   \n",
       "\n",
       "     deal_size  contact_fullname  \n",
       "2564    Medium    Jean Fresnisre  \n",
       "403     Medium     Mart¡n Sommer  \n",
       "1320    Medium  Laurence Lebihan  \n",
       "2016    Medium       Kyung Tseng  \n",
       "2469     Small  Valarie Thompson  "
      ]
     },
     "execution_count": 164,
     "metadata": {},
     "output_type": "execute_result"
    }
   ],
   "source": [
    "df.sample(5)"
   ]
  },
  {
   "cell_type": "markdown",
   "id": "dc23f935-72d9-4654-8a0b-0f2b15a5c643",
   "metadata": {},
   "source": [
    "<a id='nan-values'></a>\n",
    "# <font color='firebrick'> <b>NaN Values</b><font color='black'> "
   ]
  },
  {
   "cell_type": "code",
   "execution_count": 166,
   "id": "054b5bfd-d31c-4a4a-b7b8-24ca8ced7e22",
   "metadata": {},
   "outputs": [
    {
     "data": {
      "text/plain": [
       "order_number            0\n",
       "quantity_ordered        0\n",
       "price_each              0\n",
       "order_line_number       0\n",
       "total_price             0\n",
       "order_date              0\n",
       "days_since_lastorder    0\n",
       "status                  0\n",
       "product_line            0\n",
       "msrp                    0\n",
       "product_code            0\n",
       "customer_name           0\n",
       "city                    0\n",
       "country                 0\n",
       "deal_size               0\n",
       "contact_fullname        0\n",
       "dtype: int64"
      ]
     },
     "execution_count": 166,
     "metadata": {},
     "output_type": "execute_result"
    }
   ],
   "source": [
    "df.isnull().sum()"
   ]
  },
  {
   "cell_type": "markdown",
   "id": "6a464834-f6fd-440c-9d59-ba86c061cb4c",
   "metadata": {},
   "source": [
    "**There is no NaN values. This data set is quite clean in terms of NaN values.**"
   ]
  },
  {
   "cell_type": "code",
   "execution_count": 171,
   "id": "79876c11-e3fe-484a-937c-fa4fb8cc8de1",
   "metadata": {},
   "outputs": [
    {
     "data": {
      "image/png": "[encoded data removed]",
      "text/plain": [
       "<Figure size 2500x1000 with 2 Axes>"
      ]
     },
     "metadata": {},
     "output_type": "display_data"
    }
   ],
   "source": [
    "msno.matrix(df);"
   ]
  },
  {
   "cell_type": "code",
   "execution_count": 455,
   "id": "22c12722-3db5-40e0-83f9-b779dfcf9242",
   "metadata": {},
   "outputs": [],
   "source": [
    "# saving last version of data set as csv file\n",
    "# df.to_csv(\"edited_data.csv\", index= False)"
   ]
  },
  {
   "cell_type": "markdown",
   "id": "d8f88c54-cb50-411e-8acf-df21e1f0d960",
   "metadata": {},
   "source": [
    "<a id='data-visualization'></a>\n",
    "# <font color='firebrick'> <b>Data Visualization</b><font color='black'> "
   ]
  },
  {
   "cell_type": "markdown",
   "id": "1bfdce0a-6c91-492d-af24-dc9149bbdddb",
   "metadata": {},
   "source": [
    "## <font color='indianred'> <b>Distributions of Status</b><font color='black'> "
   ]
  },
  {
   "cell_type": "code",
   "execution_count": 269,
   "id": "512b3b1e-f1c4-4aa1-a612-7c28762ce1b9",
   "metadata": {},
   "outputs": [
    {
     "data": {
      "text/plain": [
       "status\n",
       "Shipped       92.50\n",
       "Cancelled      2.18\n",
       "Resolved       1.71\n",
       "On Hold        1.60\n",
       "In Process     1.49\n",
       "Disputed       0.51\n",
       "Name: count, dtype: float64"
      ]
     },
     "execution_count": 269,
     "metadata": {},
     "output_type": "execute_result"
    }
   ],
   "source": [
    "status_rate = df['status'].value_counts() / len(df) * 100\n",
    "status_rate = round(status_rate, 2)\n",
    "status_rate"
   ]
  },
  {
   "cell_type": "code",
   "execution_count": 345,
   "id": "d8cef846-9f29-458f-98f0-e079ad3411d9",
   "metadata": {},
   "outputs": [
    {
     "data": {
      "image/png": "[encoded data removed]",
      "text/plain": [
       "<Figure size 1000x600 with 1 Axes>"
      ]
     },
     "metadata": {},
     "output_type": "display_data"
    }
   ],
   "source": [
    "colors = [\"steelblue\", \"dodgerblue\", \"skyblue\", \"lightseagreen\", \"turquoise\", \"mediumseagreen\"]\n",
    "\n",
    "# Creating Treemap\n",
    "plt.figure(figsize=(10, 6))\n",
    "squarify.plot(sizes=status_rate, label=status_rate.index, alpha=0.8, color= colors, value=status_rate)\n",
    "\n",
    "# Adding title\n",
    "plt.title('Order Status Distribution')\n",
    "\n",
    "# Showing the graph\n",
    "plt.axis('off')\n",
    "plt.show()"
   ]
  },
  {
   "cell_type": "markdown",
   "id": "fcc3a894-74e3-4467-874a-38813dd65ac0",
   "metadata": {},
   "source": [
    "This Treemap chart shows the distribution of order statuses as percentages. Accordingly, it is observed that **approximately 92% of the orders** are **shipped**."
   ]
  },
  {
   "cell_type": "markdown",
   "id": "cf8c48a5-116f-4c08-9f46-d5155d7b791b",
   "metadata": {},
   "source": [
    "## <font color='indianred'> <b>Total Sales by Quantity Ordered</b><font color='black'> "
   ]
  },
  {
   "cell_type": "code",
   "execution_count": 451,
   "id": "7ca449b6-61b1-4577-9f93-c9a15f1a95bb",
   "metadata": {},
   "outputs": [
    {
     "data": {
      "image/png": "[encoded data removed]",
      "text/plain": [
       "<Figure size 640x480 with 1 Axes>"
      ]
     },
     "metadata": {},
     "output_type": "display_data"
    }
   ],
   "source": [
    "# Creating scatter plot\n",
    "plt.scatter(df['quantity_ordered'], df['total_price'])\n",
    "\n",
    "# Adding title and label names\n",
    "plt.title('Total Sales by Quantity Ordered')\n",
    "plt.xlabel('Quantity Ordered')\n",
    "plt.ylabel('Total Price')\n",
    "\n",
    "# Showing the graph\n",
    "plt.show()"
   ]
  },
  {
   "cell_type": "markdown",
   "id": "d43ba6d7-5b01-4ba7-a822-c0306af3434d",
   "metadata": {},
   "source": [
    "This scatter plot shows the relationship between the quantity ordered and the total price. Generally, as the quantity ordered increases, the total price tends to increase as well. However, there are some data points where similar quantities lead to varying total prices, which might reflect differences in product prices or customer choices. Overall, the plot indicates a positive correlation between quantity ordered and total price."
   ]
  },
  {
   "cell_type": "markdown",
   "id": "4f4e930e-ecb2-4a38-a897-b815321fb39d",
   "metadata": {},
   "source": [
    "## <font color='indianred'> <b>Order Distribution by Country</b><font color='black'> "
   ]
  },
  {
   "cell_type": "code",
   "execution_count": 449,
   "id": "77aecabe-8e11-4d89-a4ca-9cb20e64eb87",
   "metadata": {},
   "outputs": [
    {
     "data": {
      "image/png": "[encoded data removed]",
      "text/plain": [
       "<Figure size 1000x500 with 1 Axes>"
      ]
     },
     "metadata": {},
     "output_type": "display_data"
    }
   ],
   "source": [
    "# Creating count plot\n",
    "fig, ax = plt.subplots(figsize = (10, 5))\n",
    "sns.countplot(data = df, y = \"country\", palette = \"Set2\")\n",
    "\n",
    "# Adding title and label names\n",
    "plt.title('Order Distribution by Country')\n",
    "plt.xlabel('Number of Orders')\n",
    "plt.ylabel('Country')\n",
    "\n",
    "# Showing the graph\n",
    "plt.show()"
   ]
  },
  {
   "cell_type": "markdown",
   "id": "a46a5a5f-d688-4d7f-8893-5a5982e9996b",
   "metadata": {},
   "source": [
    "This bar plot illustrates the distribution of orders by country. It is clear that **the USA accounts for the highest number of orders**, followed by **France** and **Spain**. The graph shows a significant gap, with the USA contributing the most orders compared to other countries, while other nations have relatively fewer orders."
   ]
  },
  {
   "cell_type": "markdown",
   "id": "641675eb-e1c7-45cb-ab4a-993c84e9bbf9",
   "metadata": {},
   "source": [
    "## <font color='indianred'> <b>Total Sales by Top 10 City</b><font color='black'> "
   ]
  },
  {
   "cell_type": "code",
   "execution_count": 301,
   "id": "7c2e6cf6-004b-42b4-84cc-45ea72a11177",
   "metadata": {},
   "outputs": [],
   "source": [
    "city_sales = df.groupby('city')['total_price'].sum()\n",
    "top10_city_sales = city_sales.sort_values(ascending= False)[:10]"
   ]
  },
  {
   "cell_type": "code",
   "execution_count": 447,
   "id": "df13ef10-a03d-461d-a037-fd7493132888",
   "metadata": {},
   "outputs": [
    {
     "data": {
      "image/png": "[encoded data removed]",
      "text/plain": [
       "<Figure size 1000x600 with 1 Axes>"
      ]
     },
     "metadata": {},
     "output_type": "display_data"
    }
   ],
   "source": [
    "colors = cm.get_cmap('viridis', len(top10_city_sales))\n",
    "\n",
    "# Creating bar plot\n",
    "top10_city_sales.plot(kind='bar', figsize=(10,6), color=colors(range(len(top10_city_sales))))\n",
    "\n",
    "# Adding title and label names\n",
    "plt.title('Total Sales by City')\n",
    "plt.xlabel('City')\n",
    "plt.ylabel('Total Sales')\n",
    "plt.xticks(rotation= 45)\n",
    "\n",
    "# Showing the graph\n",
    "plt.show()"
   ]
  },
  {
   "cell_type": "markdown",
   "id": "580d2c06-4910-40a8-bf6f-db926717c372",
   "metadata": {},
   "source": [
    "This chart shows the total sales figures across different cities. **Madrid leads with nearly 1 million in sales, followed by San Rafael, New York City (NYC), and Singapore.** The other cities show significantly lower sales. Particularly, San Jose, Brickhaven, and Melbourne are at the bottom of the list with much smaller sales figures. **This suggests that Madrid is a dominant player in terms of sales volume, with a concentration of sales in a few major cities.**"
   ]
  },
  {
   "cell_type": "markdown",
   "id": "6d69f235-5543-4e04-b4dd-61cfcf407bab",
   "metadata": {},
   "source": [
    "## <font color='indianred'> <b>Sales by Product Line</b><font color='black'> "
   ]
  },
  {
   "cell_type": "code",
   "execution_count": 366,
   "id": "39bb1f0b-5c91-44de-b203-6a38d4af1edc",
   "metadata": {},
   "outputs": [
    {
     "data": {
      "text/plain": [
       "product_line\n",
       "Classic Cars        3842868.54\n",
       "Motorcycles         1103512.19\n",
       "Planes               969323.42\n",
       "Ships                700039.22\n",
       "Trains               226243.47\n",
       "Trucks and Buses    1111559.19\n",
       "Vintage Cars        1806675.68\n",
       "Name: total_price, dtype: float64"
      ]
     },
     "execution_count": 366,
     "metadata": {},
     "output_type": "execute_result"
    }
   ],
   "source": [
    "product_line_sales = df.groupby('product_line')['total_price'].sum()\n",
    "product_line_sales"
   ]
  },
  {
   "cell_type": "code",
   "execution_count": 445,
   "id": "c7d2d74c-1f20-4ea0-a1f7-dfb4dc2d8f20",
   "metadata": {},
   "outputs": [
    {
     "data": {
      "image/png": "[encoded data removed]",
      "text/plain": [
       "<Figure size 600x600 with 1 Axes>"
      ]
     },
     "metadata": {},
     "output_type": "display_data"
    }
   ],
   "source": [
    "# Creating pie chart\n",
    "plt.figure(figsize=(6, 6))\n",
    "\n",
    "plt.pie(product_line_sales,\n",
    "        labels=product_line_sales.index,\n",
    "        autopct='%1.2f%%',\n",
    "        startangle=90)\n",
    "\n",
    "# Adding title\n",
    "plt.title('Sales by Product Line', fontdict= {'fontsize': 14, 'color': 'firebrick'})\n",
    "\n",
    "# Showing the graph\n",
    "plt.show()"
   ]
  },
  {
   "cell_type": "markdown",
   "id": "2a7d0151-5b3a-4414-8fa7-81c218b9f982",
   "metadata": {},
   "source": [
    "This pie chart illustrates the distribution of sales across different product categories. As seen, **Classic Cars** holds the largest share, accounting for 39.37% of total sales. This is followed by **Vintage Cars** with 18.51% and **Trucks and Buses** with 11.39%. The lowest share is attributed to \"Trains\" with 2.32%. **This indicates that classic cars are significantly more popular than other product categories, playing a dominant role in overall sales.**"
   ]
  },
  {
   "cell_type": "markdown",
   "id": "2b698d55-8906-43f5-88e3-9be721815e2a",
   "metadata": {},
   "source": [
    "## <font color='indianred'> <b>Top 10 Sold Products</b><font color='black'> "
   ]
  },
  {
   "cell_type": "code",
   "execution_count": 393,
   "id": "c48b1176-25c5-46f8-ada1-60ad2badabcb",
   "metadata": {},
   "outputs": [
    {
     "data": {
      "text/plain": [
       "product_code\n",
       "S18_3232     1754\n",
       "S18_4600     1031\n",
       "S700_4002    1029\n",
       "S12_4473     1024\n",
       "S24_3856     1017\n",
       "S24_3949     1008\n",
       "S50_1341      999\n",
       "S24_2300      996\n",
       "S18_2319      993\n",
       "S700_2610     990\n",
       "Name: quantity_ordered, dtype: int64"
      ]
     },
     "execution_count": 393,
     "metadata": {},
     "output_type": "execute_result"
    }
   ],
   "source": [
    "top_selling_products = df.groupby('product_code')['quantity_ordered'].sum().nlargest(10)\n",
    "top_selling_products"
   ]
  },
  {
   "cell_type": "code",
   "execution_count": 443,
   "id": "e1fd29b3-232d-4364-97e1-61ee275fca3d",
   "metadata": {},
   "outputs": [
    {
     "data": {
      "image/png": "[encoded data removed]",
      "text/plain": [
       "<Figure size 1000x600 with 1 Axes>"
      ]
     },
     "metadata": {},
     "output_type": "display_data"
    }
   ],
   "source": [
    "colors = cm.get_cmap('plasma', len(top_selling_products))\n",
    "\n",
    "# Creating bar plot\n",
    "top_selling_products.plot(kind='bar', figsize=(10,6), color=colors(range(len(top_selling_products))))\n",
    "\n",
    "# Adding title and label names\n",
    "plt.title('Top 10 Sold Products')\n",
    "plt.xlabel('Product Code')\n",
    "plt.ylabel('Quantity Ordered')\n",
    "plt.xticks(rotation= 45)\n",
    "\n",
    "# Showing the graph\n",
    "plt.show()"
   ]
  },
  {
   "cell_type": "markdown",
   "id": "9be55caa-a4e9-4fa1-af3c-832c772d0e39",
   "metadata": {},
   "source": [
    "In the **Top 10 Sold Products chart**, the product with the code **S18_3232** stands out significantly compared to the others. This product leads with 1750 units sold, while the remaining 9 products are evenly distributed with 1000 units sold each. This indicates that the S18_3232 product is the clear leader in sales among the top sellers. It could imply that **this product experienced higher demand**, was **part of a promotion, or had distinct features that set it apart from the competition**. **The fact that the other products have equal sales suggests that they are relatively balanced in terms of market distribution, likely catering to a similar customer base.**"
   ]
  },
  {
   "cell_type": "markdown",
   "id": "5e613193-d44a-48d7-9768-98db0d54f277",
   "metadata": {},
   "source": [
    "## <font color='indianred'> <b>Days Since Last Order Distribution</b><font color='black'> "
   ]
  },
  {
   "cell_type": "code",
   "execution_count": 441,
   "id": "0ba0cfe1-6636-4e72-8236-26bed4916caa",
   "metadata": {},
   "outputs": [
    {
     "data": {
      "image/png": "[encoded data removed]",
      "text/plain": [
       "<Figure size 640x480 with 1 Axes>"
      ]
     },
     "metadata": {},
     "output_type": "display_data"
    }
   ],
   "source": [
    "# Creating histogram graph\n",
    "plt.hist(df['days_since_lastorder'], bins=30, edgecolor='black')\n",
    "\n",
    "# Adding title and label names\n",
    "plt.title('Days Since Last Order Distribution')\n",
    "plt.xlabel('Days')\n",
    "plt.ylabel('Frequency')\n",
    "\n",
    "# Showing the graph\n",
    "plt.show()"
   ]
  },
  {
   "cell_type": "markdown",
   "id": "9c44cd7c-40e2-4ad6-b8fd-220c5ee66f73",
   "metadata": {},
   "source": [
    "This histogram shows the distribution of days since customers placed their last order. The chart reveals a dense distribution between approximately 1000 and 2500 days, suggesting that a large portion of customers placed their last orders within this range. At the beginning and the end of the distribution, the number of customers significantly decreases. This distribution could indicate that most of the customer base remained active over time."
   ]
  },
  {
   "cell_type": "markdown",
   "id": "13f59a35-cefe-4558-ac48-963b6777eb21",
   "metadata": {},
   "source": [
    "**Overall, in this report the analyzed data uncovers notable sales trends and customer behaviors both by product and region. These insights are crucial for optimizing future sales strategies.**"
   ]
  },
  {
   "cell_type": "markdown",
   "id": "4fefb04f-f51a-4124-b72d-146e19870ab4",
   "metadata": {},
   "source": [
    "<p style=\"background-color:firebrick;font-family:newtimeroman;font-size:200%;color:white;text-align:center;border-radius:20px 20px;\"><b>THANK YOU!</b></p>"
   ]
  }
 ],
 "metadata": {
  "kernelspec": {
   "display_name": "Python 3 (ipykernel)",
   "language": "python",
   "name": "python3"
  },
  "language_info": {
   "codemirror_mode": {
    "name": "ipython",
    "version": 3
   },
   "file_extension": ".py",
   "mimetype": "text/x-python",
   "name": "python",
   "nbconvert_exporter": "python",
   "pygments_lexer": "ipython3",
   "version": "3.12.4"
  }
 },
 "nbformat": 4,
 "nbformat_minor": 5
}
